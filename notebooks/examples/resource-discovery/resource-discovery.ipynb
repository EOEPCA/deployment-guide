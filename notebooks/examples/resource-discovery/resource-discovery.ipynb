{
 "cells": [
  {
   "cell_type": "raw",
   "id": "c6a14aa9-b395-466f-8773-8258fef66891",
   "metadata": {
    "editable": true,
    "slideshow": {
     "slide_type": ""
    },
    "tags": [],
    "vscode": {
     "languageId": "raw"
    }
   },
   "source": [
    "# EOEPCA Resource Discovery Validation and Usage Notebook"
   ]
  },
  {
   "cell_type": "markdown",
   "id": "fd364dc8-1b01-4a4c-abd5-185081cb3641",
   "metadata": {},
   "source": [
    "## Setup"
   ]
  },
  {
   "cell_type": "code",
   "execution_count": 1,
   "id": "63f00541-6375-4d66-b84d-06e7b26b6efa",
   "metadata": {
    "editable": true,
    "slideshow": {
     "slide_type": ""
    },
    "tags": []
   },
   "outputs": [],
   "source": [
    "import os\n",
    "import requests\n",
    "import json\n",
    "from pathlib import Path\n",
    "\n",
    "import sys\n",
    "sys.path.append('../')\n",
    "from modules.helpers import get_access_token, load_eoepca_state, test_cell, test_results"
   ]
  },
  {
   "cell_type": "markdown",
   "id": "e8165564-bede-48ee-b81b-857dfeb85ffb",
   "metadata": {
    "editable": true,
    "slideshow": {
     "slide_type": ""
    },
    "tags": []
   },
   "source": [
    "Load `eoepca state` environment"
   ]
  },
  {
   "cell_type": "code",
   "execution_count": 2,
   "id": "9138ba4e-4103-41db-a8da-1d937036d5f3",
   "metadata": {
    "editable": true,
    "slideshow": {
     "slide_type": ""
    },
    "tags": []
   },
   "outputs": [],
   "source": [
    "load_eoepca_state()"
   ]
  },
  {
   "cell_type": "code",
   "execution_count": 3,
   "id": "398ca795-5bd2-421e-90ad-860861793329",
   "metadata": {
    "editable": true,
    "slideshow": {
     "slide_type": ""
    },
    "tags": [
     "parameters"
    ]
   },
   "outputs": [
    {
     "name": "stdout",
     "output_type": "stream",
     "text": [
      "Resource Discovery URL: https://resource-catalogue.notebook-test.develop.eoepca.org\n"
     ]
    }
   ],
   "source": [
    "platform_domain = os.environ.get(\"INGRESS_HOST\")\n",
    "resource_discovery_domain = f'{os.environ.get(\"HTTP_SCHEME\")}://resource-catalogue.{platform_domain}'\n",
    "\n",
    "print(f\"Resource Discovery URL: {resource_discovery_domain}\")"
   ]
  },
  {
   "cell_type": "markdown",
   "id": "9bfacdc4",
   "metadata": {},
   "source": [
    "## Validate Resource Discovery Endpoints"
   ]
  },
  {
   "cell_type": "code",
   "execution_count": 4,
   "id": "a6c5ba83",
   "metadata": {},
   "outputs": [
    {
     "name": "stdout",
     "output_type": "stream",
     "text": [
      "Landing Page (https://resource-catalogue.notebook-test.develop.eoepca.org): 200\n",
      "Swagger UI (https://resource-catalogue.notebook-test.develop.eoepca.org/openapi?f=html): 200\n",
      "Collections (https://resource-catalogue.notebook-test.develop.eoepca.org/collections): 200\n",
      "Conformance (https://resource-catalogue.notebook-test.develop.eoepca.org/conformance): 200\n",
      "CSW GetCapabilities (https://resource-catalogue.notebook-test.develop.eoepca.org/csw?service=CSW&version=2.0.2&request=GetCapabilities): 200\n",
      "STAC (https://resource-catalogue.notebook-test.develop.eoepca.org/stac): 200\n"
     ]
    }
   ],
   "source": [
    "endpoints = [\n",
    "    (\"Landing Page\", resource_discovery_domain),\n",
    "    (\"Swagger UI\", f\"{resource_discovery_domain}/openapi?f=html\"),\n",
    "    (\"Collections\", f\"{resource_discovery_domain}/collections\"),\n",
    "    (\"Conformance\", f\"{resource_discovery_domain}/conformance\"),\n",
    "    (\"CSW GetCapabilities\", f\"{resource_discovery_domain}/csw?service=CSW&version=2.0.2&request=GetCapabilities\"),\n",
    "    (\"STAC\", f\"{resource_discovery_domain}/stac\")\n",
    "]\n",
    "\n",
    "for name, url in endpoints:\n",
    "    response = requests.get(url)\n",
    "    print(f\"{name} ({url}): {response.status_code}\")"
   ]
  },
  {
   "cell_type": "markdown",
   "id": "29888a5f",
   "metadata": {},
   "source": [
    "## STAC Items Search"
   ]
  },
  {
   "cell_type": "code",
   "execution_count": 5,
   "id": "75b6e63f",
   "metadata": {},
   "outputs": [
    {
     "name": "stdout",
     "output_type": "stream",
     "text": [
      "STAC search status code: 200\n",
      "{\n",
      "  \"type\": \"FeatureCollection\",\n",
      "  \"features\": [],\n",
      "  \"links\": [\n",
      "    {\n",
      "      \"rel\": \"self\",\n",
      "      \"type\": \"application/geo+json\",\n",
      "      \"title\": \"This document as GeoJSON\",\n",
      "      \"href\": \"https://resource-catalogue.notebook-test.develop.eoepca.org/stac/collections/metadata:main/items?limit=3&bbox=-10%2C35%2C40%2C70&datetime=2020-01-01T00%3A00%3A00Z%2F2025-12-31T23%3A59%3A59Z&f=json\",\n",
      "      \"hreflang\": \"en-US\"\n",
      "    },\n",
      "    {\n",
      "      \"rel\": \"collection\",\n",
      "      \"type\": \"application/json\",\n",
      "      \"title\": \"Collection URL\",\n",
      "      \"href\": \"https://resource-catalogue.notebook-test.develop.eoepca.org/stac/collections/metadata:main\",\n",
      "      \"hreflang\": \"en-US\"\n",
      "    },\n",
      "    {\n",
      "      \"rel\": \"root\",\n",
      "      \"type\": \"application/json\",\n",
      "      \"href\": \"https://resource-catalogue.notebook-test.develop.eoepca.org/stac/\"\n",
      "    }\n",
      "  ],\n",
      "  \"numberMatched\": 0,\n",
      "  \"numberReturned\": 0,\n",
      "  \"distributedFeatures\": []\n",
      "}\n"
     ]
    }
   ],
   "source": [
    "search_url = f\"{resource_discovery_domain}/stac/search\"\n",
    "search_payload = {\n",
    "    \"bbox\": [-10, 35, 40, 70],\n",
    "    \"datetime\": \"2020-01-01T00:00:00Z/2025-12-31T23:59:59Z\",\n",
    "    \"limit\": 3\n",
    "}\n",
    "\n",
    "response = requests.post(search_url, json=search_payload)\n",
    "print(f\"STAC search status code: {response.status_code}\")\n",
    "print(json.dumps(response.json(), indent=2))"
   ]
  },
  {
   "cell_type": "markdown",
   "id": "e071e0ce",
   "metadata": {},
   "source": [
    "## Ingesting and Validating a Sample Record"
   ]
  },
  {
   "cell_type": "markdown",
   "id": "9de25335",
   "metadata": {},
   "source": [
    "### Load and Inspect Sample Record"
   ]
  },
  {
   "cell_type": "code",
   "execution_count": 9,
   "id": "2748e9e2",
   "metadata": {},
   "outputs": [
    {
     "name": "stdout",
     "output_type": "stream",
     "text": [
      "<?xml version=\"1.0\" encoding=\"UTF-8\"?>\n",
      "<csw:Transaction service=\"CSW\" version=\"2.0.2\"\n",
      "    xmlns:csw=\"http://www.opengis.net/cat/csw/2.0.2\"\n",
      "    xmlns:ows=\"http://www.opengis.net/ows\"\n",
      "    xmlns:dc=\"http://purl.org/dc/elements/1.1/\"\n",
      "    xmlns:dct=\"http://purl.org/dc/terms/\">\n",
      "  <csw:Insert>\n",
      "    <csw:Record>\n",
      "      <dc:identifier>urn:uuid:12345</dc:identifier>\n",
      "      <dc:type>http://purl.org/dc/dcmitype/Image</dc:type>\n",
      "      <dc:format>image/svg+xml</dc:format>\n",
      "      <dc:title>EOEPCA Sample Record From\n"
     ]
    }
   ],
   "source": [
    "sample_record_path = Path(\"sample_record.xml\") # You will see this very simple sample file locally, feel free to experiment with it.\n",
    "\n",
    "if not sample_record_path.exists():\n",
    "    sample_record_url = \"https://raw.githubusercontent.com/EOEPCA/deployment-guide/notebooks/examples/resource-discovery/sample_record.xml\"\n",
    "    response = requests.get(sample_record_url)\n",
    "    sample_record_path.write_text(response.text)\n",
    "\n",
    "print(sample_record_path.read_text()[:500])"
   ]
  },
  {
   "cell_type": "markdown",
   "id": "4880e168",
   "metadata": {},
   "source": [
    "### Ingest Sample Records"
   ]
  },
  {
   "cell_type": "code",
   "execution_count": 10,
   "id": "339b2e91",
   "metadata": {},
   "outputs": [
    {
     "name": "stdout",
     "output_type": "stream",
     "text": [
      "Ingestion status code: 200\n",
      "<?xml version=\"1.0\" encoding=\"UTF-8\" standalone=\"no\"?>\n",
      "<!-- pycsw 3.0-dev -->\n",
      "<csw:TransactionResponse xmlns:csw=\"http://www.opengis.net/cat/csw/2.0.2\" xmlns:dc=\"http://purl.org/dc/elements/1.1/\" xmlns:dct=\"http://purl.org/dc/terms/\" xmlns:gmd=\"http://www.isotc211.org/2005/gmd\" xmlns:gml=\"http://www.opengis.net/gml\" xmlns:gml32=\"http://www.opengis.net/gml/3.2\" xmlns:ows=\"http://www.opengis.net/ows\" xmlns:xs=\"http://www.w3.org/2001/XMLSchema\" xmlns:xsi=\"http://www.w3.org/2001/XMLSchema-instance\" \n"
     ]
    }
   ],
   "source": [
    "ingest_url = f\"{resource_discovery_domain}/csw\"\n",
    "ingest_headers = {'Content-Type': 'application/xml'}\n",
    "\n",
    "with open(sample_record_path, 'r') as file:\n",
    "    record_xml = file.read()\n",
    "\n",
    "response = requests.post(\n",
    "    ingest_url,\n",
    "    params={\"request\": \"Transaction\", \"service\": \"CSW\", \"version\": \"2.0.2\"},\n",
    "    data=record_xml,\n",
    "    headers=ingest_headers\n",
    ")\n",
    "\n",
    "print(f\"Ingestion status code: {response.status_code}\")\n",
    "print(response.text[:500])  # Response snippet"
   ]
  },
  {
   "cell_type": "markdown",
   "id": "ead9b0f0",
   "metadata": {},
   "source": [
    "### Verify Record Ingestion"
   ]
  },
  {
   "cell_type": "code",
   "execution_count": 12,
   "id": "822e84ae",
   "metadata": {},
   "outputs": [
    {
     "name": "stdout",
     "output_type": "stream",
     "text": [
      "[{'id': 'urn:uuid:19887a8a-f6b0-4a63-ae56-7fba0e17801j', 'type': 'Feature', 'geometry': None, 'properties': {'updated': '2025-03-21T15:21:35Z', 'type': 'http://purl.org/dc/dcmitype/Image', 'title': 'EOEPCA Sample Record', 'description': 'This is a sample abstract.', 'formats': [{'name': 'image/svg+xml'}], 'keywords': ['EOEPCA-TEST']}, 'links': [{'rel': 'self', 'type': 'application/geo+json', 'title': 'urn:uuid:19887a8a-f6b0-4a63-ae56-7fba0e17801j', 'name': 'item', 'description': 'urn:uuid:19887a8a-f6b0-4a63-ae56-7fba0e17801j', 'href': 'https://resource-catalogue.notebook-test.develop.eoepca.org/collections/metadata:main/items/urn:uuid:19887a8a-f6b0-4a63-ae56-7fba0e17801j'}, {'rel': 'collection', 'type': 'application/json', 'title': 'Collection', 'name': 'collection', 'description': 'Collection', 'href': 'https://resource-catalogue.notebook-test.develop.eoepca.org/collections/metadata:main'}], 'time': {'null': 'date'}}, {'id': 'urn:uuid:19887a8a-f6b0-4a63-ae56-7fba0e12801j', 'type': 'Feature', 'geometry': None, 'properties': {'updated': '2025-03-21T15:30:51Z', 'type': 'http://purl.org/dc/dcmitype/Image', 'title': 'EOEPCA Sample Record 2', 'description': 'This is a sample abstracDDDDt.', 'formats': [{'name': 'image/svg+xml'}], 'keywords': ['EOEPCA-TEST-2']}, 'links': [{'rel': 'self', 'type': 'application/geo+json', 'title': 'urn:uuid:19887a8a-f6b0-4a63-ae56-7fba0e12801j', 'name': 'item', 'description': 'urn:uuid:19887a8a-f6b0-4a63-ae56-7fba0e12801j', 'href': 'https://resource-catalogue.notebook-test.develop.eoepca.org/collections/metadata:main/items/urn:uuid:19887a8a-f6b0-4a63-ae56-7fba0e12801j'}, {'rel': 'collection', 'type': 'application/json', 'title': 'Collection', 'name': 'collection', 'description': 'Collection', 'href': 'https://resource-catalogue.notebook-test.develop.eoepca.org/collections/metadata:main'}], 'time': {'null': 'date'}}, {'id': 'urn:uuid:19887a8a-f6b0-4a63-ae56-1fba0e12801j', 'type': 'Feature', 'geometry': None, 'properties': {'updated': '2025-03-21T15:36:48Z', 'type': 'http://purl.org/dc/dcmitype/Image', 'title': 'EOEPCA Sample Record 3', 'description': 'This is a sample abstracDDDDt.', 'formats': [{'name': 'image/svg+xml'}], 'keywords': ['EOEPCA-TEST-3']}, 'links': [{'rel': 'self', 'type': 'application/geo+json', 'title': 'urn:uuid:19887a8a-f6b0-4a63-ae56-1fba0e12801j', 'name': 'item', 'description': 'urn:uuid:19887a8a-f6b0-4a63-ae56-1fba0e12801j', 'href': 'https://resource-catalogue.notebook-test.develop.eoepca.org/collections/metadata:main/items/urn:uuid:19887a8a-f6b0-4a63-ae56-1fba0e12801j'}, {'rel': 'collection', 'type': 'application/json', 'title': 'Collection', 'name': 'collection', 'description': 'Collection', 'href': 'https://resource-catalogue.notebook-test.develop.eoepca.org/collections/metadata:main'}], 'time': {'null': 'date'}}, {'type': 'Feature', 'id': '20201211_223832_CS2', 'bbox': [172.91173669923782, 1.3438851951615003, 172.95469614953714, 1.3690476620161975], 'geometry': {'type': 'Polygon', 'coordinates': [[[172.91173669923782, 1.3438851951615003], [172.95469614953714, 1.3438851951615003], [172.95469614953714, 1.3690476620161975], [172.91173669923782, 1.3690476620161975], [172.91173669923782, 1.3438851951615003]]]}, 'properties': {'datetime': '2020-12-11T22:38:32.125000Z'}, 'collection': 'metadata:main', 'links': [{'rel': 'collection', 'href': './collection.json', 'type': 'application/json', 'title': 'Simple Example Collection'}, {'rel': 'root', 'href': './collection.json', 'type': 'application/json', 'title': 'Simple Example Collection'}, {'rel': 'parent', 'href': './collection.json', 'type': 'application/json', 'title': 'Simple Example Collection'}, {'href': 'https://storage.googleapis.com/open-cogs/stac-examples/20201211_223832_CS2.tif', 'type': 'image/tiff; application=geotiff; profile=cloud-optimized', 'title': '3-Band Visual', 'roles': ['visual'], 'rel': 'enclosure', 'name': 'visual'}, {'href': 'https://storage.googleapis.com/open-cogs/stac-examples/20201211_223832_CS2.jpg', 'title': 'Thumbnail', 'type': 'image/jpeg', 'roles': ['thumbnail'], 'rel': 'enclosure', 'name': 'thumbnail'}]}, {'id': 'urn:uuid:12345', 'type': 'Feature', 'geometry': None, 'properties': {'updated': '2025-04-01T10:41:53Z', 'type': 'http://purl.org/dc/dcmitype/Image', 'title': 'EOEPCA Sample Record From Notebook', 'description': 'This is a record was loaded from the EOEPCA notebook.', 'formats': [{'name': 'image/svg+xml'}], 'keywords': ['EOEPCA']}, 'links': [{'rel': 'self', 'type': 'application/geo+json', 'title': 'urn:uuid:12345', 'name': 'item', 'description': 'urn:uuid:12345', 'href': 'https://resource-catalogue.notebook-test.develop.eoepca.org/collections/metadata:main/items/urn:uuid:12345'}, {'rel': 'collection', 'type': 'application/json', 'title': 'Collection', 'name': 'collection', 'description': 'Collection', 'href': 'https://resource-catalogue.notebook-test.develop.eoepca.org/collections/metadata:main'}], 'time': {'null': 'date'}}]\n",
      "✅ Sample record successfully ingested and discoverable!\n",
      "View the record in the catalogue: https://resource-catalogue.notebook-test.develop.eoepca.org/collections/metadata:main/items\n"
     ]
    }
   ],
   "source": [
    "metadata_collection_url = f\"{resource_discovery_domain}/collections/metadata:main/items\"\n",
    "response = requests.get(metadata_collection_url)\n",
    "\n",
    "items = response.json().get(\"features\", [])\n",
    "print(items)\n",
    "ingested_titles = [item[\"properties\"].get(\"title\", \"\") for item in items]\n",
    "\n",
    "if \"EOEPCA Sample Record\" in ingested_titles:\n",
    "    print(\"✅ Sample record successfully ingested and discoverable!\")\n",
    "    print('View the record in the catalogue:', f\"{resource_discovery_domain}/collections/metadata:main/items\")\n",
    "else:\n",
    "    print(\"❌ Sample record ingestion failed or record not discoverable.\")"
   ]
  }
 ],
 "metadata": {
  "kernelspec": {
   "display_name": "venv",
   "language": "python",
   "name": "python3"
  },
  "language_info": {
   "codemirror_mode": {
    "name": "ipython",
    "version": 3
   },
   "file_extension": ".py",
   "mimetype": "text/x-python",
   "name": "python",
   "nbconvert_exporter": "python",
   "pygments_lexer": "ipython3",
   "version": "3.10.12"
  }
 },
 "nbformat": 4,
 "nbformat_minor": 5
}
