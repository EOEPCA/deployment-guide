{
 "cells": [
  {
   "cell_type": "markdown",
   "id": "c6a14aa9-b395-466f-8773-8258fef66891",
   "metadata": {
    "editable": true,
    "slideshow": {
     "slide_type": ""
    },
    "tags": [],
    "vscode": {
     "languageId": "raw"
    }
   },
   "source": [
    "# EOEPCA Resource Discovery Validation and Usage Notebook"
   ]
  },
  {
   "cell_type": "markdown",
   "id": "fd364dc8-1b01-4a4c-abd5-185081cb3641",
   "metadata": {},
   "source": [
    "## Setup"
   ]
  },
  {
   "cell_type": "code",
   "execution_count": 6,
   "id": "63f00541-6375-4d66-b84d-06e7b26b6efa",
   "metadata": {
    "editable": true,
    "slideshow": {
     "slide_type": ""
    },
    "tags": []
   },
   "outputs": [],
   "source": [
    "import os\n",
    "import requests\n",
    "import json\n",
    "from pathlib import Path\n",
    "\n",
    "from owslib.csw import CatalogueServiceWeb\n",
    "from owslib.ogcapi.records import Records\n",
    "from owslib.opensearch import OpenSearch\n",
    "from owslib.fes import And, Or, PropertyIsEqualTo, PropertyIsGreaterThanOrEqualTo, PropertyIsLessThanOrEqualTo, PropertyIsLike, BBox, SortBy, SortProperty\n",
    "from geolinks import sniff_link\n",
    "import folium\n",
    "\n",
    "import sys\n",
    "sys.path.append('../')\n",
    "from modules.helpers import get_access_token, load_eoepca_state, test_cell, test_results"
   ]
  },
  {
   "cell_type": "markdown",
   "id": "e8165564-bede-48ee-b81b-857dfeb85ffb",
   "metadata": {
    "editable": true,
    "slideshow": {
     "slide_type": ""
    },
    "tags": []
   },
   "source": [
    "Load `eoepca state` environment"
   ]
  },
  {
   "cell_type": "code",
   "execution_count": 7,
   "id": "9138ba4e-4103-41db-a8da-1d937036d5f3",
   "metadata": {
    "editable": true,
    "slideshow": {
     "slide_type": ""
    },
    "tags": []
   },
   "outputs": [],
   "source": [
    "load_eoepca_state()"
   ]
  },
  {
   "cell_type": "code",
   "execution_count": 8,
   "id": "398ca795-5bd2-421e-90ad-860861793329",
   "metadata": {
    "editable": true,
    "slideshow": {
     "slide_type": ""
    },
    "tags": [
     "parameters"
    ]
   },
   "outputs": [
    {
     "name": "stdout",
     "output_type": "stream",
     "text": [
      "Resource Discovery URL: https://resource-catalogue.test.eoepca.org\n"
     ]
    }
   ],
   "source": [
    "platform_domain = os.environ.get(\"INGRESS_HOST\")\n",
    "resource_discovery_domain = f'{os.environ.get(\"HTTP_SCHEME\")}://resource-catalogue.{platform_domain}'\n",
    "\n",
    "print(f\"Resource Discovery URL: {resource_discovery_domain}\")"
   ]
  },
  {
   "cell_type": "markdown",
   "id": "9bfacdc4",
   "metadata": {},
   "source": [
    "## Validate Resource Discovery Endpoints"
   ]
  },
  {
   "cell_type": "code",
   "execution_count": 9,
   "id": "a6c5ba83",
   "metadata": {},
   "outputs": [
    {
     "name": "stdout",
     "output_type": "stream",
     "text": [
      "Landing Page (https://resource-catalogue.test.eoepca.org): 200\n",
      "Swagger UI (https://resource-catalogue.test.eoepca.org/openapi?f=html): 200\n",
      "Collections (https://resource-catalogue.test.eoepca.org/collections): 200\n",
      "Conformance (https://resource-catalogue.test.eoepca.org/conformance): 200\n",
      "CSW GetCapabilities (https://resource-catalogue.test.eoepca.org/csw?service=CSW&version=2.0.2&request=GetCapabilities): 200\n",
      "STAC (https://resource-catalogue.test.eoepca.org/stac): 200\n"
     ]
    }
   ],
   "source": [
    "endpoints = [\n",
    "    (\"Landing Page\", resource_discovery_domain),\n",
    "    (\"Swagger UI\", f\"{resource_discovery_domain}/openapi?f=html\"),\n",
    "    (\"Collections\", f\"{resource_discovery_domain}/collections\"),\n",
    "    (\"Conformance\", f\"{resource_discovery_domain}/conformance\"),\n",
    "    (\"CSW GetCapabilities\", f\"{resource_discovery_domain}/csw?service=CSW&version=2.0.2&request=GetCapabilities\"),\n",
    "    (\"STAC\", f\"{resource_discovery_domain}/stac\")\n",
    "]\n",
    "\n",
    "for name, url in endpoints:\n",
    "    response = requests.get(url)\n",
    "    print(f\"{name} ({url}): {response.status_code}\")"
   ]
  },
  {
   "cell_type": "markdown",
   "id": "e071e0ce",
   "metadata": {},
   "source": [
    "## Ingesting a Sample Record using STAC"
   ]
  },
  {
   "cell_type": "code",
   "execution_count": 23,
   "id": "339b2e91",
   "metadata": {},
   "outputs": [
    {
     "name": "stdout",
     "output_type": "stream",
     "text": [
      "POST https://resource-catalogue.test.eoepca.org/collections/metadata:main/items - 400\n"
     ]
    }
   ],
   "source": [
    "sample_record_path = Path(\"example-item.json\") # You will see this very simple sample file locally, feel free to experiment with it.\n",
    "sample_collection = 'metadata:main'\n",
    "\n",
    "ingest_url = f\"{resource_discovery_domain}/collections/{sample_collection}/items\"\n",
    "\n",
    "with open(sample_record_path, 'r') as file:\n",
    "    record = file.read()\n",
    "record_json = json.loads(record)\n",
    "record_id = record_json['id']\n",
    "headers = {\n",
    "    \"Content-Type\": \"application/geo+json\",\n",
    "    \"Accept\": \"application/json\",\n",
    "}\n",
    "response = requests.post(ingest_url, headers=headers, data=record)\n",
    "\n",
    "print(f\"POST {ingest_url} - {response.status_code}\")"
   ]
  },
  {
   "cell_type": "markdown",
   "id": "ead9b0f0",
   "metadata": {},
   "source": [
    "### Verify Record Ingestion"
   ]
  },
  {
   "cell_type": "code",
   "execution_count": 24,
   "id": "822e84ae",
   "metadata": {},
   "outputs": [
    {
     "name": "stdout",
     "output_type": "stream",
     "text": [
      "✅ Sample record successfully ingested and discoverable!\n",
      "View the item in the catalogue: https://resource-catalogue.test.eoepca.org/collections/metadata:main/items/example-item\n"
     ]
    }
   ],
   "source": [
    "metadata_collection_url = f\"{resource_discovery_domain}/collections/metadata:main/items\"\n",
    "response = requests.get(metadata_collection_url)\n",
    "\n",
    "items = response.json().get(\"features\", [])\n",
    "\n",
    "for item in items:\n",
    "    if item.get(\"id\", \"\") == record_id:\n",
    "        print(\"✅ Sample record successfully ingested and discoverable!\")\n",
    "        break\n",
    "\n",
    "print(f'View the item in the catalogue: {resource_discovery_domain}/collections/{sample_collection}/items/{record_id}')"
   ]
  },
  {
   "cell_type": "markdown",
   "id": "9168e0a1",
   "metadata": {},
   "source": [
    "# CSW"
   ]
  },
  {
   "cell_type": "code",
   "execution_count": 25,
   "id": "f4b318f7",
   "metadata": {},
   "outputs": [],
   "source": [
    "system_catalogue_endpoint = f'{resource_discovery_domain}/csw'\n",
    "csw = CatalogueServiceWeb(system_catalogue_endpoint, timeout=30)"
   ]
  },
  {
   "cell_type": "code",
   "execution_count": 26,
   "id": "00deb7b3",
   "metadata": {},
   "outputs": [
    {
     "name": "stdout",
     "output_type": "stream",
     "text": [
      "CSW GetCapabilities: EOEPCA+ Resource Catalogue\n",
      "CSW Version: 2.0.2\n",
      "CSW Service Type: CSW\n",
      "CSW Operations: ['GetCapabilities', 'DescribeRecord', 'GetDomain', 'GetRecords', 'GetRecordById', 'GetRepositoryItem', 'Transaction', 'Harvest']\n"
     ]
    }
   ],
   "source": [
    "print(f\"CSW GetCapabilities: {csw.identification.title}\")\n",
    "print(f\"CSW Version: {csw.identification.version}\")\n",
    "print(f\"CSW Service Type: {csw.identification.type}\")\n",
    "print(f\"CSW Operations: {[op.name for op in csw.operations]}\")\n"
   ]
  },
  {
   "cell_type": "code",
   "execution_count": 27,
   "id": "9e044cac",
   "metadata": {},
   "outputs": [
    {
     "name": "stdout",
     "output_type": "stream",
     "text": [
      "identifier: example-item\n",
      "type: item\n",
      "title: None\n",
      "\n",
      "identifier: example-item-2\n",
      "type: item\n",
      "title: None\n",
      "\n",
      "identifier: example-item-3\n",
      "type: item\n",
      "title: None\n",
      "\n"
     ]
    }
   ],
   "source": [
    "csw.getrecords2(maxrecords=10)\n",
    "csw.results\n",
    "\n",
    "for rec in csw.records:\n",
    "   print(f'identifier: {csw.records[rec].identifier}\\ntype: {csw.records[rec].type}\\ntitle: {csw.records[rec].title}\\n')"
   ]
  },
  {
   "cell_type": "code",
   "execution_count": 30,
   "id": "f6eeb3f6",
   "metadata": {},
   "outputs": [
    {
     "data": {
      "text/plain": [
       "{'matches': 3, 'returned': 3, 'nextrecord': 0}"
      ]
     },
     "execution_count": 30,
     "metadata": {},
     "output_type": "execute_result"
    }
   ],
   "source": [
    "bbox_query = BBox(\n",
    "    [\n",
    "        -180.0,\n",
    "        -90.0,\n",
    "        180.0,\n",
    "        90.0\n",
    "    ]\n",
    ")\n",
    "\n",
    "begin = PropertyIsGreaterThanOrEqualTo(propertyname='apiso:TempExtent_begin', literal='2012-09-10 00:00')\n",
    "\n",
    "filter_list = [\n",
    "    And(\n",
    "        [\n",
    "            bbox_query,\n",
    "            begin\n",
    "        ]\n",
    "    )\n",
    "]\n",
    "\n",
    "csw.getrecords2(constraints=filter_list, outputschema='http://www.isotc211.org/2005/gmd')\n",
    "csw.results\n"
   ]
  },
  {
   "cell_type": "code",
   "execution_count": 32,
   "id": "4e32f541",
   "metadata": {},
   "outputs": [
    {
     "data": {
      "text/plain": [
       "{'matches': 3, 'returned': 3, 'nextrecord': 0}"
      ]
     },
     "execution_count": 32,
     "metadata": {},
     "output_type": "execute_result"
    }
   ],
   "source": [
    "collection_query = PropertyIsEqualTo('apiso:ParentIdentifier', 'metadata:main')\n",
    "csw.getrecords2(constraints=[collection_query], outputschema='http://www.isotc211.org/2005/gmd')\n",
    "csw.results"
   ]
  },
  {
   "cell_type": "code",
   "execution_count": 33,
   "id": "67992218",
   "metadata": {},
   "outputs": [
    {
     "data": {
      "text/plain": [
       "{'matches': 3, 'returned': 3, 'nextrecord': 0}"
      ]
     },
     "execution_count": 33,
     "metadata": {},
     "output_type": "execute_result"
    }
   ],
   "source": [
    "csw.getrecords2(constraints=[bbox_query], outputschema='http://www.isotc211.org/2005/gmd')\n",
    "csw.results"
   ]
  },
  {
   "cell_type": "markdown",
   "id": "f0ed5fe5",
   "metadata": {},
   "source": [
    "# OpenSearch"
   ]
  },
  {
   "cell_type": "code",
   "execution_count": 35,
   "id": "978fa2a5",
   "metadata": {},
   "outputs": [],
   "source": [
    "opensearch_endpoint = f'{resource_discovery_domain}/csw?service=CSW&version=3.0.0&request=GetCapabilities&mode=opensearch'\n",
    "os = OpenSearch(opensearch_endpoint)"
   ]
  },
  {
   "cell_type": "code",
   "execution_count": 36,
   "id": "e6632b03",
   "metadata": {},
   "outputs": [
    {
     "name": "stdout",
     "output_type": "stream",
     "text": [
      "Short name: EOEPCA+ Resource\n",
      "Long name: EOEPCA+ Resource Catalogue\n",
      "Description: EOEPCA+ Resource Catalogue\n",
      "URLs: {'application/xml': {'rel': None, 'template': 'https://resource-catalogue.test.eoepca.org/csw?service=CSW&version=3.0.0&request=GetRecords&elementsetname=full&typenames=csw:Record&outputformat=application/xml&outputschema=http://www.opengis.net/cat/csw/3.0&recordids={geo:uid?}&q={searchTerms?}&bbox={geo:box?}&time={time:start?}/{time:end?}&start={time:start?}&stop={time:end?}&startposition={startIndex?}&maxrecords={count?}&eo:cloudCover={eo:cloudCover?}&eo:instrument={eo:instrument?}&eo:orbitDirection={eo:orbitDirection?}&eo:orbitNumber={eo:orbitNumber?}&eo:parentIdentifier={eo:parentIdentifier?}&eo:platform={eo:platform?}&eo:processingLevel={eo:processingLevel?}&eo:productType={eo:productType?}&eo:sensorType={eo:sensorType?}&eo:snowCover={eo:snowCover?}&eo:spectralRange={eo:spectralRange?}', 'parameters': {}}, 'application/atom+xml': {'rel': None, 'template': 'https://resource-catalogue.test.eoepca.org/csw?service=CSW&version=3.0.0&request=GetRecords&elementsetname=full&typenames=csw:Record&outputformat=application%2Fatom%2Bxml&outputschema=http://www.opengis.net/cat/csw/3.0&recordids={geo:uid?}&q={searchTerms?}&bbox={geo:box?}&time={time:start?}/{time:end?}&start={time:start?}&stop={time:end?}&startposition={startIndex?}&maxrecords={count?}&eo:cloudCover={eo:cloudCover?}&eo:instrument={eo:instrument?}&eo:orbitDirection={eo:orbitDirection?}&eo:orbitNumber={eo:orbitNumber?}&eo:parentIdentifier={eo:parentIdentifier?}&eo:platform={eo:platform?}&eo:processingLevel={eo:processingLevel?}&eo:productType={eo:productType?}&eo:sensorType={eo:sensorType?}&eo:snowCover={eo:snowCover?}&eo:spectralRange={eo:spectralRange?}&mode=opensearch', 'parameters': {}}}\n"
     ]
    }
   ],
   "source": [
    "print(f\"Short name: {os.description.shortname}\")\n",
    "print(f\"Long name: {os.description.longname}\")\n",
    "print(f\"Description: {os.description.description}\")\n",
    "print(f\"URLs: {os.description.urls}\")"
   ]
  },
  {
   "cell_type": "code",
   "execution_count": 37,
   "id": "86bd0725",
   "metadata": {},
   "outputs": [
    {
     "name": "stderr",
     "output_type": "stream",
     "text": [
      "unknown link type in Ows Context section: {'href': 'https://resource-catalogue.test.eoepca.org/csw?mode=opensearch&service=CSW&version=3.0.0&request=GetCapabilities', 'type': 'application/opensearchdescription+xml', 'length': None, 'lang': None, 'title': None, 'rel': 'search'}\n",
      "unknown link type in Ows Resource entry section: {'href': 'https://resource-catalogue.test.eoepca.org/csw?service=CSW&version=2.0.2&request=GetRepositoryItem&id=example-item', 'type': None, 'length': None, 'lang': None, 'title': None, 'rel': None}\n",
      "unknown link type in Ows Resource entry section: {'href': 'https://resource-catalogue.test.eoepca.org/csw?service=CSW&version=2.0.2&request=GetRepositoryItem&id=example-item-2', 'type': None, 'length': None, 'lang': None, 'title': None, 'rel': None}\n",
      "unknown link type in Ows Resource entry section: {'href': 'https://resource-catalogue.test.eoepca.org/csw?service=CSW&version=2.0.2&request=GetRepositoryItem&id=example-item-3', 'type': None, 'length': None, 'lang': None, 'title': None, 'rel': None}\n"
     ]
    },
    {
     "data": {
      "text/plain": [
       "5"
      ]
     },
     "execution_count": 37,
     "metadata": {},
     "output_type": "execute_result"
    }
   ],
   "source": [
    "results = os.search('application/atom+xml')\n",
    "len(results)"
   ]
  },
  {
   "cell_type": "markdown",
   "id": "8e3e5b54",
   "metadata": {},
   "source": [
    "# OGC API Records"
   ]
  },
  {
   "cell_type": "code",
   "execution_count": 38,
   "id": "303f429b",
   "metadata": {},
   "outputs": [],
   "source": [
    "w = Records(resource_discovery_domain)"
   ]
  },
  {
   "cell_type": "code",
   "execution_count": 39,
   "id": "c9eb6993",
   "metadata": {},
   "outputs": [
    {
     "name": "stdout",
     "output_type": "stream",
     "text": [
      "URLs: https://resource-catalogue.test.eoepca.org/\n",
      "Conformance: {'conformsTo': ['http://www.opengis.net/spec/ogcapi-common-1/1.0/conf/core', 'http://www.opengis.net/spec/ogcapi-common-2/1.0/conf/collections', 'http://www.opengis.net/spec/ogcapi-features-1/1.0/conf/core', 'http://www.opengis.net/spec/ogcapi-features-3/1.0/conf/queryables', 'http://www.opengis.net/spec/ogcapi-features-3/1.0/conf/queryables-query-parameters', 'http://www.opengis.net/spec/ogcapi-features-3/1.0/conf/filter', 'http://www.opengis.net/spec/ogcapi-features-3/1.0/conf/features-filter', 'http://www.opengis.net/spec/ogcapi-features-4/1.0/conf/create-replace-delete', 'http://www.opengis.net/spec/ogcapi-records-1/1.0/conf/core', 'http://www.opengis.net/spec/ogcapi-records-1/1.0/conf/sorting', 'http://www.opengis.net/spec/ogcapi-records-1/1.0/conf/json', 'http://www.opengis.net/spec/ogcapi-records-1/1.0/conf/html', 'http://www.opengis.net/spec/cql2/1.0/conf/cql2-json', 'http://www.opengis.net/spec/cql2/1.0/conf/cql2-text']}\n",
      "API Version: {'openapi': '3.0.2', 'info': {'contact': {'email': 'Email Address', 'name': 'Lastname, Firstname', 'url': 'Contact URL'}, 'version': '3.0-dev', 'title': 'EOEPCA+ Resource Catalogue', 'description': 'EOEPCA+ Resource Catalogue'}, 'components': {'parameters': {'bbox': {'name': 'bbox', 'in': 'query', 'description': 'Only records that have a geometry that intersects the bounding box are\\nselected. The bounding box is provided as four or six numbers,\\ndepending on whether the coordinate reference system includes a\\nvertical axis (height or depth):\\n\\n* Lower left corner, coordinate axis 1\\n* Lower left corner, coordinate axis 2\\n* Minimum value, coordinate axis 3 (optional)\\n* Upper right corner, coordinate axis 1\\n* Upper right corner, coordinate axis 2\\n* Maximum value, coordinate axis 3 (optional)\\n\\nThe coordinate reference system of the values is WGS 84 long/lat\\n(http://www.opengis.net/def/crs/OGC/1.3/CRS84) unless a different\\ncoordinate reference system is specified in the parameter `bbox-crs`.\\n\\nFor WGS 84 longitude/latitude the values are in most cases the sequence\\nof minimum longitude, minimum latitude, maximum longitude and maximum\\nlatitude.\\n\\nHowever, in cases where the box spans the antimeridian the first value\\n(west-most box edge) is larger than the third value (east-most box\\nedge).\\n\\nIf the vertical axis is included, the third and the sixth number are\\nthe bottom and the top of the 3-dimensional bounding box.\\n\\nIf a record has multiple spatial geometry properties, it is the\\ndecision of the server whether only a single spatial geometry property\\nis used to determine the extent or all relevant geometries.', 'required': False, 'schema': {'type': 'array', 'oneOf': [{'minItems': 4, 'maxItems': 4}, {'minItems': 6, 'maxItems': 6}], 'items': {'type': 'number'}}, 'style': 'form', 'explode': False}, 'datetime': {'name': 'datetime', 'in': 'query', 'description': 'Either a date-time or an interval, open or closed. Date and time\\nexpressions adhere to RFC 3339. Open intervals are expressed using\\ndouble-dots.\\n\\nExamples:\\n\\n* A date-time: \"2018-02-12T23:20:50Z\"\\n* A closed interval: \"2018-02-12T00:00:00Z/2018-03-18T12:31:12Z\"\\n* Open intervals: \"2018-02-12T00:00:00Z/..\" or \"../2018-03-18T12:31:12Z\"\\n\\nOnly records that have a temporal property that intersects the value of\\n`datetime` are selected.  It is left to the decision of the server\\nwhether only a single temporal property is used to determine the extent\\nor all relevant temporal properties.', 'required': False, 'schema': {'type': 'string'}, 'style': 'form', 'explode': False}, 'limit': {'name': 'limit', 'in': 'query', 'description': 'The optional limit parameter limits the number of items that are\\npresented in the response document. Only items are counted that\\nare on the first level of the collection in the response document.\\nNested objects contained within the explicitly requested items\\nshall not be counted.', 'required': False, 'schema': {'type': 'integer', 'minimum': 1, 'maximum': 10000, 'default': 10}, 'style': 'form', 'explode': False}, 'q': {'name': 'q', 'in': 'query', 'description': 'The optional q parameter supports keyword searching.  Only records\\nwhose text fields contain one or more of the specified search terms\\nare selected.  The specific set of text keys/fields/properties of a\\nrecord to which the q operator is applied is up to the description\\nof the server.   Implementations should, however, apply the q\\noperator to the title, description and keywords keys/fields/properties.', 'required': False, 'schema': {'type': 'array', 'items': {'type': 'string'}}, 'explode': False, 'style': 'form'}, 'type': {'name': 'type', 'in': 'query', 'description': 'The optional type parameter supports searching by resource type.  Only\\nrecords whose type, as indicated by the value of the type core\\nqueryable, is equal to one of the listed values shall be selected.', 'required': False, 'schema': {'type': 'array', 'items': {'type': 'string'}}, 'explode': False, 'style': 'form'}, 'externalId': {'name': 'externalId', 'in': 'query', 'description': 'The optional externalId parameter supports searching by an identifier\\nthat was not assigned by the catalogue (i.e. an external identifier).\\nOnly records with an external identifer, as indicated by the value of\\nthe externalId core queryable array, that is equal to one of the listed\\nvalues shall be selected.', 'required': False, 'schema': {'type': 'array', 'items': {'type': 'string'}}, 'explode': False, 'style': 'form'}, 'sortby': {'name': 'sortby', 'in': 'query', 'required': False, 'schema': {'type': 'array', 'minItems': 1, 'items': {'type': 'string', 'pattern': '[+|-][A-Za-z_][A-Za-z_0-9]*'}}, 'style': 'form', 'explode': False}, 'collectionId': {'name': 'collectionId', 'in': 'path', 'description': 'local identifier of a collection', 'required': True, 'schema': {'type': 'string'}}, 'recordId': {'name': 'recordId', 'in': 'path', 'description': 'local identifier of a record', 'required': True, 'schema': {'type': 'string'}}, 'f': {'name': 'f', 'in': 'query', 'description': 'Optional output formats', 'required': False, 'schema': {'type': 'string', 'enum': ['json', 'html'], 'default': 'json'}, 'style': 'form', 'explode': False}, 'offset': {'name': 'offset', 'in': 'query', 'description': 'The optional offset parameter indicates the index within the result set from which the server shall begin presenting results in the response document.  The first element has an index of 0 (default).', 'required': False, 'schema': {'type': 'integer', 'minimum': 0, 'default': 0}, 'style': 'form', 'explode': False}, 'filter': {'name': 'filter', 'in': 'query', 'description': 'The optional filter parameter specifies a CQL2 expression to be used for enhanced filtering', 'required': False, 'schema': {'type': 'object'}, 'style': 'form', 'explode': False}, 'filter-lang': {'name': 'filter-lang', 'in': 'query', 'description': 'The optional filter-lang parameter specifies the predicate language of the filter being applied', 'required': False, 'schema': {'type': 'string', 'enum': ['cql2-json', 'cql2-text'], 'default': 'cql2-text'}, 'style': 'form', 'explode': False}, 'vendorSpecificParameters': {'name': 'vendorSpecificParameters', 'in': 'query', 'description': 'Additional \"free-form\" parameters that are not explicitly defined', 'schema': {'type': 'object', 'additionalProperties': True}, 'style': 'form'}, 'facets': {'name': 'facets', 'in': 'query', 'description': 'Whether to include facets in results', 'schema': {'type': 'boolean', 'default': False}, 'style': 'form', 'explode': False}, 'distributed': {'name': 'distributed', 'in': 'query', 'description': 'Whether to invoke distributed mode', 'schema': {'type': 'boolean', 'default': False}, 'style': 'form', 'explode': False}, 'ids': {'name': 'ids', 'in': 'query', 'description': 'Comma-separated list of identifiers', 'required': False, 'schema': {'type': 'array', 'items': {'type': 'string'}}, 'style': 'form', 'explode': False}}, 'schemas': {'collectionInfo': {'type': 'object', 'required': ['id', 'links'], 'properties': {'id': {'description': 'identifier of the collection used, for example, in URIs', 'type': 'string'}, 'title': {'description': 'human readable title of the collection', 'type': 'string'}, 'description': {'description': 'a description of the records in the collection', 'type': 'string'}, 'links': {'type': 'array', 'items': {'$ref': '#/components/schemas/link'}}, 'extent': {'$ref': '#/components/schemas/extent'}, 'itemType': {'description': \"indicator about the type of the items in the collection (the\\ndefault value is 'record' for OAPIR).\", 'type': 'string', 'default': 'record'}, 'crs': {'description': 'the list of coordinate reference systems supported by the service', 'type': 'array', 'items': {'type': 'string'}, 'default': ['http://www.opengis.net/def/crs/OGC/1.3/CRS84']}}}, 'collections': {'type': 'object', 'required': ['links', 'collections'], 'properties': {'links': {'type': 'array', 'items': {'$ref': '#/components/schemas/link'}}, 'collections': {'type': 'array', 'items': {'$ref': '#/components/schemas/collectionInfo'}}}}, 'confClasses': {'type': 'object', 'required': ['conformsTo'], 'properties': {'conformsTo': {'type': 'array', 'items': {'type': 'string'}}}}, 'exception': {'type': 'object', 'description': 'information about the exception; an error code plus an optional\\ndescription.', 'required': ['code'], 'properties': {'code': {'type': 'string'}, 'description': {'type': 'string'}}}, 'extent': {'type': 'object', 'description': 'The extent of the records in the collection. In the Core only spatial\\nand temporal extents are specified. Extensions may add additional\\nmembers to represent other extents, for example, thermal or pressure\\nranges.', 'properties': {'spatial': {'description': 'The spatial extent of the records in the collection.', 'type': 'object', 'properties': {'bbox': {'description': 'One or more bounding boxes that describe the spatial extent of\\nthe dataset. In the Core only a single bounding box is\\nsupported. Extensions may support additional areas. If multiple\\nareas are provided, the union of the bounding boxes describes\\nthe spatial extent.', 'type': 'array', 'minItems': 1, 'items': {'description': 'Each bounding box is provided as four or six numbers,\\ndepending on whether the coordinate reference system\\nincludes a vertical axis (height or depth):\\n\\n* Lower left corner, coordinate axis 1\\n* Lower left corner, coordinate axis 2\\n* Minimum value, coordinate axis 3 (optional)\\n* Upper right corner, coordinate axis 1\\n* Upper right corner, coordinate axis 2\\n* Maximum value, coordinate axis 3 (optional)\\n\\nThe coordinate reference system of the values is WGS 84\\nlong/lat (http://www.opengis.net/def/crs/OGC/1.3/CRS84)\\nunless a different coordinate reference system is specified\\nin `crs`.\\n\\nFor WGS 84 longitude/latitude the values are in most cases\\nthe sequence of minimum longitude, minimum latitude, maximum\\nlongitude and maximum latitude. However, in cases where the\\nbox spans the antimeridian the first value (west-most box\\nedge) is larger than the third value (east-most box edge).\\n\\nIf the vertical axis is included, the third and the sixth\\nnumber are the bottom and the top of the 3-dimensional\\nbounding box.\\n\\nIf a record has multiple spatial geometry properties, it is\\nthe decision of the server whether only a single spatial\\ngeometry property is used to determine the extent or all\\nrelevant geometries.', 'type': 'array', 'oneOf': [{'minItems': 4, 'maxItems': 4}, {'minItems': 6, 'maxItems': 6}], 'items': {'type': 'number'}, 'example': [-180, -90, 180, 90]}}, 'crs': {'description': 'Coordinate reference system of the coordinates in the spatial\\nextent (property `bbox`). The default reference system is WGS\\n84 longitude/latitude. In the Core this is the only supported\\ncoordinate reference system. Extensions may support additional\\ncoordinate reference systems and add additional enum values.', 'type': 'string', 'enum': ['http://www.opengis.net/def/crs/OGC/1.3/CRS84'], 'default': 'http://www.opengis.net/def/crs/OGC/1.3/CRS84'}}}, 'temporal': {'description': 'The temporal extent of the records in the collection.', 'type': 'object', 'properties': {'interval': {'description': 'One or more time intervals that describe the temporal extent of\\nthe dataset. The value `null` is supported and indicates an\\nopen time interval. In the Core only a single time interval is\\nsupported. Extensions may support multiple intervals. If\\nmultiple intervals are provided, the union of the intervals\\ndescribes the temporal extent.', 'type': 'array', 'minItems': 1, 'items': {'description': 'Begin and end times of the time interval. The timestamps are\\nin the temporal coordinate reference system specified in\\n`trs`. By default this is the Gregorian calendar.', 'type': 'array', 'minItems': 2, 'maxItems': 2, 'items': {'type': 'string', 'format': 'date-time', 'nullable': True}, 'example': ['2011-11-11T12:22:11Z', None]}}, 'trs': {'description': 'Coordinate reference system of the coordinates in the temporal\\nextent (property `interval`). The default reference system is\\nthe Gregorian calendar. In the Core this is the only supported\\ntemporal coordinate reference system. Extensions may support\\nadditional temporal coordinate reference systems and add\\nadditional enum values.', 'type': 'string', 'enum': ['http://www.opengis.net/def/uom/ISO-8601/0/Gregorian'], 'default': 'http://www.opengis.net/def/uom/ISO-8601/0/Gregorian'}}}}}, 'featureCollectionGeoJSON': {'type': 'object', 'required': ['type', 'features'], 'properties': {'type': {'type': 'string', 'enum': ['FeatureCollection']}, 'features': {'type': 'array', 'items': {'$ref': '#/components/schemas/recordGeoJSON'}}, 'links': {'type': 'array', 'items': {'$ref': '#/components/schemas/link'}}, 'timeStamp': {'$ref': '#/components/schemas/timeStamp'}, 'numberMatched': {'$ref': '#/components/schemas/numberMatched'}, 'numberReturned': {'$ref': '#/components/schemas/numberReturned'}}}, 'recordGeoJSON': {'type': 'object', 'required': ['id', 'type', 'geometry', 'properties'], 'properties': {'id': {'type': 'string', 'description': 'A unique identifier of the catalogue record.', 'format': 'uri'}, 'type': {'type': 'string', 'enum': ['Feature']}, 'geometry': {'$ref': '#/components/schemas/geometryGeoJSON'}, 'properties': {'type': 'object', 'required': ['type', 'title'], 'properties': {'recordCreated': {'type': 'string', 'description': 'Date of creation of this record.', 'format': 'date-time'}, 'recordUpdated': {'type': 'string', 'description': 'The most recent date on which the record was changed.', 'format': 'date-time'}, 'type': {'type': 'string', 'description': 'The nature or genre of the resource.', 'format': 'uri'}, 'title': {'type': 'string', 'description': 'A human-readable name given to the resource.'}, 'description': {'type': 'string', 'description': 'A free-text account of the resource.'}, 'keywords': {'type': 'array', 'description': 'The topic or topics of the resource. Typically represented\\nusing keywords, tags, key phrases, or classification codes.\\nRecommended best practice is to use a controlled vocabulary.', 'items': {'type': 'string'}}, 'keywordsCodespace': {'type': 'string', 'description': 'A reference to a controlled vocabulary used for the keywords.', 'format': 'uri'}, 'language': {'type': 'string', 'description': 'The natural language used for textual values (e.g. titles,\\ndescriptions, etc.) of the resource. ISO 639-1/639-2 codes\\nshould be used.', 'default': 'en'}, 'externalId': {'type': 'array', 'description': 'An identifier for the resource assigned by an external (to\\nthe catalogue) entity.', 'items': {'type': 'string'}}, 'created': {'type': 'string', 'description': 'Date of creation of the resource.', 'format': 'date-time'}, 'updated': {'type': 'string', 'description': 'Most recent date on which the resource was changed.', 'format': 'date-time'}, 'publisher': {'type': 'string', 'description': 'Link to the entity making the resource available. Recommended\\nbest practice is to use a VCard\\n(see http://www.w3.org/TR/vcard-rdf/).', 'format': 'uri'}, 'themes': {'type': 'array', 'description': 'A knowledge organization system used to classify the resource.', 'items': {'type': 'object', 'properties': {'scheme': {'type': 'string', 'description': 'An identifier for the knowledge organization system used\\nto classify the resource.  It is recommended that the\\nidentifier by a resolvable URI.'}, 'concepts': {'type': 'array', 'description': 'One or more entity/concept identifers from this\\nknowledge system. it is recommended that a resolvable\\nURI be used for each entity/concept identifier.', 'items': {'type': 'string'}}}}}, 'formats': {'type': 'array', 'description': 'A list of available distributions of the resource.', 'items': {'type': 'string'}}, 'contactPoint': {'type': 'string', 'description': 'Link to relevant contact information.  Recommended best\\npractice is to use a VCard\\n(see http://www.w3.org/TR/vcard-rdf/).', 'format': 'uri'}, 'license': {'type': 'string', 'description': 'A legal document under which the resource is made available.', 'format': 'uri'}, 'rights': {'type': 'string', 'description': 'A statement that concerns all rights not addresses by the\\nlicense such as a copyright statement.'}, 'extent': {'$ref': '#/components/schemas/extent'}, 'associations': {'type': 'array', 'description': 'A list of links for accessing the resource (e.g. download\\nlink, access link) in one of the supported distribution\\nformats and/or links to other resources associated with\\nthis resource.', 'items': {'$ref': '#/components/schemas/link'}}}, 'additionalProperties': True}, 'links': {'type': 'array', 'description': 'A list of links for navigating the API (e.g. prev, next, etc.).', 'items': {'$ref': '#/components/schemas/link'}}}}, 'geometryGeoJSON': {'oneOf': [{'$ref': '#/components/schemas/pointGeoJSON'}, {'$ref': '#/components/schemas/multipointGeoJSON'}, {'$ref': '#/components/schemas/linestringGeoJSON'}, {'$ref': '#/components/schemas/multilinestringGeoJSON'}, {'$ref': '#/components/schemas/polygonGeoJSON'}, {'$ref': '#/components/schemas/multipolygonGeoJSON'}, {'$ref': '#/components/schemas/geometrycollectionGeoJSON'}]}, 'geometrycollectionGeoJSON': {'type': 'object', 'required': ['type', 'geometries'], 'properties': {'type': {'type': 'string', 'enum': ['GeometryCollection']}, 'geometries': {'type': 'array', 'items': {'$ref': '#/components/schemas/geometryGeoJSON'}}}}, 'landingPage': {'type': 'object', 'required': ['links'], 'properties': {'title': {'type': 'string'}, 'description': {'type': 'string'}, 'links': {'type': 'array', 'items': {'$ref': '#/components/schemas/link'}}}}, 'linestringGeoJSON': {'type': 'object', 'required': ['type', 'coordinates'], 'properties': {'type': {'type': 'string', 'enum': ['LineString']}, 'coordinates': {'type': 'array', 'minItems': 2, 'items': {'type': 'array', 'minItems': 2, 'items': {'type': 'number'}}}}}, 'link': {'type': 'object', 'required': ['href'], 'properties': {'href': {'type': 'string'}, 'rel': {'type': 'string'}, 'type': {'type': 'string'}, 'hreflang': {'type': 'string'}, 'title': {'type': 'string'}, 'length': {'type': 'integer'}}}, 'multilinestringGeoJSON': {'type': 'object', 'required': ['type', 'coordinates'], 'properties': {'type': {'type': 'string', 'enum': ['MultiLineString']}, 'coordinates': {'type': 'array', 'items': {'type': 'array', 'minItems': 2, 'items': {'type': 'array', 'minItems': 2, 'items': {'type': 'number'}}}}}}, 'multipointGeoJSON': {'type': 'object', 'required': ['type', 'coordinates'], 'properties': {'type': {'type': 'string', 'enum': ['MultiPoint']}, 'coordinates': {'type': 'array', 'items': {'type': 'array', 'minItems': 2, 'items': {'type': 'number'}}}}}, 'multipolygonGeoJSON': {'type': 'object', 'required': ['type', 'coordinates'], 'properties': {'type': {'type': 'string', 'enum': ['MultiPolygon']}, 'coordinates': {'type': 'array', 'items': {'type': 'array', 'items': {'type': 'array', 'minItems': 4, 'items': {'type': 'array', 'minItems': 2, 'items': {'type': 'number'}}}}}}}, 'numberMatched': {'description': 'The number of records of the record type that match the selection\\nparameters like `bbox`.', 'type': 'integer', 'minimum': 0}, 'numberReturned': {'description': 'The number of records in the record collection.\\n\\nA server may omit this information in a response, if the information\\nabout the number of records is not known or difficult to compute.\\n\\nIf the value is provided, the value shall be identical to the number\\nof items in the \"records\" array.', 'type': 'integer', 'minimum': 0}, 'pointGeoJSON': {'type': 'object', 'required': ['type', 'coordinates'], 'properties': {'type': {'type': 'string', 'enum': ['Point']}, 'coordinates': {'type': 'array', 'minItems': 2, 'items': {'type': 'number'}}}}, 'polygonGeoJSON': {'type': 'object', 'required': ['type', 'coordinates'], 'properties': {'type': {'type': 'string', 'enum': ['Polygon']}, 'coordinates': {'type': 'array', 'items': {'type': 'array', 'minItems': 4, 'items': {'type': 'array', 'minItems': 2, 'items': {'type': 'number'}}}}}}, 'sortable': {'type': 'object', 'required': ['id'], 'properties': {'id': {'description': 'the identifier/name for the sortable', 'type': 'string'}, 'title': {'description': 'a human readable title for the sortable', 'type': 'string'}, 'description': {'description': 'a human-readable narrative describing the sortable', 'type': 'string'}, 'language': {'description': 'the language used for the title and description', 'type': 'string'}, 'links': {'type': 'array', 'items': {'$ref': '#/components/schemas/link'}}}}, 'timeStamp': {'description': 'This property indicates the time and date when the response was\\ngenerated.', 'type': 'string', 'format': 'date-time', 'example': '2017-08-17T08:05:32Z'}, 'queryable': {'properties': {'description': {'description': 'a human-readable narrative describing the queryable', 'type': 'string'}, 'language': {'default': ['en'], 'description': 'the language used for the title and description', 'type': 'string'}, 'queryable': {'description': 'the token that may be used in a CQL predicate', 'type': 'string'}, 'title': {'description': 'a human readable title for the queryable', 'type': 'string'}, 'type': {'description': 'the data type of the queryable', 'type': 'string'}, 'type-ref': {'description': 'a reference to the formal definition of the type', 'format': 'url', 'type': 'string'}}, 'required': ['queryable', 'type'], 'type': 'object'}, 'queryables': {'properties': {'queryables': {'items': {'$ref': '#/components/schemas/queryable'}, 'type': 'array'}}, 'required': ['queryables'], 'type': 'object'}}, 'responses': {'LandingPage': {'description': 'The landing page provides links to the API definition\\n(link relations `service-desc` and `service-doc`),\\nthe Conformance declaration (path `/conformance`,\\nlink relation `conformance`), and the Record\\nCollections (path `/collections`, link relation\\n`data`).', 'content': {'application/json': {'schema': {'$ref': '#/components/schemas/landingPage'}}, 'text/html': {'schema': {'type': 'string'}}}}, 'ConformanceDeclaration': {'description': 'The URIs of all conformance classes supported by the server.\\n\\nTo support \"generic\" clients that want to access multiple\\nOGC API Records implementations - and not \"just\" a specific\\nAPI / server, the server declares the conformance\\nclasses it implements and conforms to.', 'content': {'application/json': {'schema': {'$ref': '#/components/schemas/confClasses'}}, 'text/html': {'schema': {'type': 'string'}}}}, 'Collections': {'description': \"The record collections shared by this API.\\n\\nCatalogues are organized as one or more record collections. This\\nresource provides information about and access to these collections.\\n\\nThe response contains the list of record collections (itemType=record).\\nFor each record collection, a link to the items in the collection\\n(path `/collections/{collectionId}/items`, link relation `items`) as\\nwell as key information about the collection. This information\\nincludes...\\n\\n* A local identifier for the collection that is unique for the +\\n  catalogue;\\n* A list of coordinate reference systems (CRS) in which geometries +\\n  may be returned by the server. The first CRS is the default +\\n  coordinate reference system (the default is always WGS 84 with axis +\\n  order longitude/latitude);\\n* An optional title and description for the collection;\\n* An optional extent that can be used to provide an indication of the +\\n  spatial and temporal extent of the collection - typically derived +\\n  from the data;\\n* An optional indicator about the type of the items in the collection +\\n  (the default value, if the indicator is not provided, is 'record').\", 'content': {'application/json': {'schema': {'$ref': '#/components/schemas/collections'}}, 'text/html': {'schema': {'type': 'string'}}}}, 'Collection': {'description': \"Information about the record collection with id `collectionId`.\\n\\nThe response contains a link to the items in the collection\\n(path `/collections/{collectionId}/items`, link relation `items`)\\nas well as key information about the collection. This information\\nincludes:\\n\\n* A local identifier for the collection that is unique for the +\\n  catalogue;\\n* A list of coordinate reference systems (CRS) in which geometries +\\n  may be returned by the server. The first CRS is the default +\\n  coordinate reference system (the default is always WGS 84 with +\\n  axis order longitude/latitude);\\n* An optional title and description for the collection;\\n* An optional extent that can be used to provide an indication of +\\n  the spatial and temporal extent of the collection - typically +\\n  derived from the data;\\n* An optional indicator about the type of the items in the collection +\\n  (the default value, if the indicator is not provided, is 'record').\", 'content': {'application/json': {'schema': {'$ref': '#/components/schemas/collectionInfo'}}, 'text/html': {'schema': {'type': 'string'}}}}, 'Records': {'description': 'The response is a document consisting of records in the collection.\\nThe records included in the response are determined by the server\\nbased on the query parameters of the request. To support access to\\nlarger collections without overloading the client, the API supports\\npaged access with links to the next page, if more records are selected\\nthat the page size.\\n\\nThe `bbox` and `datetime` parameter can be used to select only a\\nsubset of the records in the collection (the records that are in the\\nbounding box or time interval). The `bbox` parameter matches all records\\nin the collection that are not associated with a location, too. The\\n`datetime` parameter matches all records in the collection that are\\nnot associated with a time stamp or interval, too.\\n\\nThe `limit` parameter may be used to control the subset of the\\nselected records that should be returned in the response, the page size.\\nEach page may include information about the number of selected and\\nreturned records (`numberMatched` and `numberReturned`) as well as\\nlinks to support paging (link relation `next`).\\n\\nThe XML representation of the response document is an ATOM feed.', 'content': {'application/geo+json': {'schema': {'$ref': '#/components/schemas/featureCollectionGeoJSON'}}, 'text/html': {'schema': {'type': 'string'}}, 'application/atom+xml': {'schema': {'type': 'string'}}}}, 'Record': {'description': 'Fetch the record with id `recordId` in the record collection\\nwith id `collectionId`.  The XML representation of a record\\nis an ATOM entry.', 'content': {'application/geo+json': {'schema': {'$ref': '#/components/schemas/recordGeoJSON'}}, 'text/html': {'schema': {'type': 'string'}}, 'application/atom+xml': {'schema': {'type': 'string'}}}}, 'Sortables': {'type': 'array', 'items': {'$ref': '#/components/schemas/sortable'}}, 'OpenSearchDescriptionDocument': {'description': 'description document for OpenSearch clients', 'content': {'application/opensearchdescription+xml': {'schema': {'type': 'string'}}}}, 'InvalidParameter': {'description': 'A query parameter has an invalid value.', 'content': {'application/json': {'schema': {'$ref': '#/components/schemas/exception'}}, 'text/html': {'schema': {'type': 'string'}}}}, 'NotFound': {'description': 'The requested resource does not exist on the server. For example,\\na path parameter had an incorrect value.'}, 'NotAcceptable': {'description': 'Content negotiation failed. For example, the `Accept` header submitted\\nin the request did not support any of the media types supported by the\\nserver for the requested resource.'}, 'ServerError': {'description': 'A server error occurred.', 'content': {'application/json': {'schema': {'$ref': '#/components/schemas/exception'}}, 'text/html': {'schema': {'type': 'string'}}}}, 'Queryables': {'content': {'application/json': {'schema': {'$ref': '#/components/schemas/queryables'}}}, 'description': 'successful queryables operation'}}}, 'tags': [{'name': 'Capabilities', 'description': 'essential characteristics of this API'}, {'name': 'Metadata', 'description': 'access to metadata (records)'}], 'servers': [{'url': 'https://resource-catalogue.test.eoepca.org', 'description': 'EOEPCA+ Resource Catalogue'}], 'paths': {'/': {'get': {'tags': ['Capabilities'], 'summary': 'Landing page', 'description': 'Landing page', 'operationId': 'getLandingPage', 'parameters': [{'$ref': '#/components/parameters/f'}], 'responses': {'200': {'$ref': '#/components/responses/Queryables'}, '500': {'$ref': '#/components/responses/ServerError'}}}}, '/conformance': {'get': {'tags': ['Capabilities'], 'summary': 'Conformance page', 'description': 'Conformance page', 'operationId': 'getConformanceDeclaration', 'parameters': [{'$ref': '#/components/parameters/f'}], 'responses': {'200': {'$ref': '#/components/responses/ConformanceDeclaration'}, '500': {'$ref': '#/components/responses/ServerError'}}}}, '/collections': {'get': {'tags': ['Capabilities'], 'summary': 'Collections page', 'description': 'Collections page', 'operationId': 'getCollections', 'parameters': [{'$ref': '#/components/parameters/f'}], 'responses': {'200': {'$ref': '#/components/responses/Collections'}, '500': {'$ref': '#/components/responses/ServerError'}}}}, '/collections/{collectionId}': {'get': {'tags': ['Capabilities'], 'summary': 'Collection page', 'description': 'Collection page', 'operationId': 'getCollectionId', 'parameters': [{'$ref': '#/components/parameters/collectionId'}, {'$ref': '#/components/parameters/f'}], 'responses': {'200': {'$ref': '#/components/responses/Collection'}, '404': {'$ref': '#/components/responses/NotFound'}, '500': {'$ref': '#/components/responses/ServerError'}}}}, '/queryables': {'get': {'tags': ['Queryables'], 'summary': 'Queryables page', 'description': 'Queryables page', 'operationId': 'getQueryables', 'parameters': [{'$ref': '#/components/parameters/f'}], 'responses': {'200': {'$ref': '#/components/responses/Queryables'}, '500': {'$ref': '#/components/responses/ServerError'}}}}, '/collections/{collectionId}/queryables': {'get': {'tags': ['Queryables'], 'summary': 'Queryables page', 'description': 'Queryables page', 'operationId': 'getCollectionQueryables', 'parameters': [{'$ref': '#/components/parameters/f'}, {'$ref': '#/components/parameters/collectionId'}], 'responses': {'200': {'$ref': '#/components/responses/Queryables'}, '500': {'$ref': '#/components/responses/ServerError'}, '404': {'$ref': '#/components/responses/NotFound'}}}}, '/collections/{collectionId}/items': {'get': {'tags': ['metadata'], 'summary': 'Records search items page', 'description': 'Records search items page', 'operationId': 'getRecords', 'parameters': [{'$ref': '#/components/parameters/collectionId'}, {'$ref': '#/components/parameters/bbox'}, {'$ref': '#/components/parameters/ids'}, {'$ref': '#/components/parameters/datetime'}, {'$ref': '#/components/parameters/limit'}, {'$ref': '#/components/parameters/q'}, {'$ref': '#/components/parameters/type'}, {'$ref': '#/components/parameters/externalId'}, {'$ref': '#/components/parameters/sortby'}, {'$ref': '#/components/parameters/filter'}, {'$ref': '#/components/parameters/filter-lang'}, {'$ref': '#/components/parameters/f'}, {'$ref': '#/components/parameters/offset'}, {'$ref': '#/components/parameters/facets'}, {'$ref': '#/components/parameters/distributed'}, {'$ref': '#/components/parameters/vendorSpecificParameters'}], 'responses': {'200': {'$ref': '#/components/responses/Records'}, '400': {'$ref': '#/components/responses/InvalidParameter'}, '404': {'$ref': '#/components/responses/NotFound'}, '500': {'$ref': '#/components/responses/ServerError'}}}, 'post': {'summary': 'Adds Records items', 'description': 'Adds Records items', 'tags': ['metadata'], 'operationId': 'addRecord', 'consumes': ['application/geo+json', 'application/json', 'application/xml'], 'produces': ['application/json'], 'parameters': [{'in': 'body', 'name': 'body', 'description': 'Adds item to collection', 'required': True}], 'responses': {'201': {'description': 'Successful creation'}, '400': {'$ref': '{}#/components/responses/InvalidParameter'}, '500': {'$ref': '{}#/components/responses/ServerError'}}}}, '/collections/{collectionId}/items/{recordId}': {'get': {'tags': ['metadata'], 'summary': 'Records item page', 'description': 'Records item page', 'operationId': 'getRecord', 'parameters': [{'$ref': '#/components/parameters/collectionId'}, {'$ref': '#/components/parameters/recordId'}, {'$ref': '#/components/parameters/distributed'}, {'name': 'f', 'in': 'query', 'description': 'Optional output formats', 'required': False, 'schema': {'type': 'string', 'enum': ['json', 'html', 'xml'], 'default': 'json'}, 'style': 'form', 'explode': False}], 'responses': {'200': {'$ref': '#/components/responses/Record'}, '404': {'$ref': '#/components/responses/NotFound'}, '500': {'$ref': '#/components/responses/ServerError'}}}, 'put': {'summary': 'Updates Records items', 'description': 'Updates Records items', 'tags': ['metadata'], 'operationId': 'updateRecord', 'consumes': ['application/geo+json', 'application/json', 'application/xml'], 'produces': ['application/json'], 'parameters': [{'$ref': '#/components/parameters/collectionId'}, {'$ref': '#/components/parameters/recordId'}, {'in': 'body', 'name': 'body', 'description': 'Updates item to collection', 'required': True}], 'responses': {'204': {'description': 'Successful update'}, '400': {'$ref': '{}#/components/responses/InvalidParameter'}, '500': {'$ref': '{}#/components/responses/ServerError'}}}, 'delete': {'summary': 'Deletes Records items', 'description': 'Deletes Records items', 'tags': ['metadata'], 'operationId': 'deleteRecord', 'produces': ['application/json'], 'parameters': [{'$ref': '#/components/parameters/collectionId'}, {'$ref': '#/components/parameters/recordId'}], 'responses': {'204': {'description': 'Successful delete'}, '400': {'$ref': '{}#/components/responses/InvalidParameter'}, '500': {'$ref': '{}#/components/responses/ServerError'}}}}}}\n"
     ]
    }
   ],
   "source": [
    "print(f\"URLs: {w.url}\")\n",
    "print(f\"Conformance: {w.conformance()}\")\n",
    "print(f\"API Version: {w.api()}\")"
   ]
  },
  {
   "cell_type": "code",
   "execution_count": 40,
   "id": "4917af71",
   "metadata": {},
   "outputs": [
    {
     "name": "stdout",
     "output_type": "stream",
     "text": [
      "Records: ['metadata:main']\n"
     ]
    }
   ],
   "source": [
    "records = w.records()\n",
    "print(f\"Records: {records}\")"
   ]
  },
  {
   "cell_type": "code",
   "execution_count": 41,
   "id": "1cdb79cb",
   "metadata": {},
   "outputs": [
    {
     "name": "stdout",
     "output_type": "stream",
     "text": [
      "Catalogue: metadata:main\n",
      "Queryable: {'id': 'metadata:main', 'type': 'object', 'title': 'EOEPCA+ Resource Catalogue', 'properties': {'geometry': {'$ref': 'https://geojson.org/schema/Polygon.json', 'x-ogc-role': 'primary-geometry'}, 'identifier': {'title': 'identifier', 'x-ogc-role': 'id', 'type': 'string'}, 'typename': {'title': 'typename', 'type': 'string'}, 'type': {'title': 'type', 'type': 'string'}, 'title': {'title': 'title', 'type': 'string'}, 'edition': {'title': 'edition', 'type': 'string'}, 'keywords': {'title': 'keywords', 'type': 'string'}, 'parentidentifier': {'title': 'parentidentifier', 'type': 'string'}, 'time_begin': {'title': 'time_begin', 'type': 'string'}, 'time_end': {'title': 'time_end', 'type': 'string'}, 'date': {'title': 'date', 'type': 'string'}, 'platform': {'title': 'platform', 'type': 'string'}, 'instrument': {'title': 'instrument', 'type': 'string'}, 'sensortype': {'title': 'sensortype', 'type': 'string'}}, '$schema': 'http://json-schema.org/draft/2019-09/schema', '$id': 'https://resource-catalogue.test.eoepca.org/collections/metadata:main/queryables'}\n"
     ]
    }
   ],
   "source": [
    "my_catalogue = w.collection('metadata:main')\n",
    "print(f\"Catalogue: {my_catalogue['id']}\")\n",
    "print(f\"Queryable: {w.collection_queryables('metadata:main')}\")"
   ]
  },
  {
   "cell_type": "code",
   "execution_count": 42,
   "id": "4168db3c",
   "metadata": {},
   "outputs": [
    {
     "name": "stdout",
     "output_type": "stream",
     "text": [
      "Matched records: 3\n",
      "Metadata of first result: {'datetime': '2024-01-01T00:00:00Z'}\n"
     ]
    }
   ],
   "source": [
    "my_catalogue_query = w.collection_items('metadata:main')\n",
    "print(f\"Matched records: {my_catalogue_query['numberMatched']}\")\n",
    "print(f\"Metadata of first result: {my_catalogue_query['features'][0]['properties']}\")\n"
   ]
  },
  {
   "cell_type": "code",
   "execution_count": 43,
   "id": "c6e94f3a",
   "metadata": {},
   "outputs": [
    {
     "name": "stdout",
     "output_type": "stream",
     "text": [
      "Matched records: 3\n",
      "['example-item', 'example-item-2', 'example-item-3']\n"
     ]
    }
   ],
   "source": [
    "spatial_query = w.collection_items('metadata:main', bbox=[-180.0, -90.0, 180.0, 90.0])\n",
    "print(f\"Matched records: {spatial_query['numberMatched']}\")\n",
    "print([f['id'] for f in spatial_query['features']])"
   ]
  },
  {
   "cell_type": "code",
   "execution_count": 67,
   "id": "bdaebea8",
   "metadata": {},
   "outputs": [
    {
     "name": "stdout",
     "output_type": "stream",
     "text": [
      "Matched items: 3\n",
      "Item IDs: ['example-item', 'example-item-2', 'example-item-3']\n"
     ]
    }
   ],
   "source": [
    "my_catalogue_datetime_query = w.collection_items(\n",
    "    'metadata:main',\n",
    "    cql={\n",
    "        'op': '>',\n",
    "        'args': [\n",
    "            {'property': 'datetime'},\n",
    "            '2026-01-02T00:00:00Z'\n",
    "        ]\n",
    "    }\n",
    ")\n",
    "\n",
    "print(\"Matched items:\", my_catalogue_datetime_query['numberMatched'])\n",
    "print(\"Item IDs:\", [f['id'] for f in my_catalogue_datetime_query['features']])"
   ]
  },
  {
   "cell_type": "markdown",
   "id": "5df04e36",
   "metadata": {},
   "source": [
    "## STAC Items Search"
   ]
  },
  {
   "cell_type": "code",
   "execution_count": 68,
   "id": "7162351f",
   "metadata": {},
   "outputs": [
    {
     "name": "stdout",
     "output_type": "stream",
     "text": [
      "STAC search status code: 200\n",
      "{\n",
      "  \"type\": \"FeatureCollection\",\n",
      "  \"features\": [\n",
      "    {\n",
      "      \"type\": \"Feature\",\n",
      "      \"stac_version\": \"1.0.0\",\n",
      "      \"id\": \"example-item\",\n",
      "      \"properties\": {\n",
      "        \"datetime\": \"2024-01-01T00:00:00Z\"\n",
      "      },\n",
      "      \"geometry\": {\n",
      "        \"type\": \"Point\",\n",
      "        \"coordinates\": [\n",
      "          0.0,\n",
      "          0.0\n",
      "        ]\n",
      "      },\n",
      "      \"bbox\": [\n",
      "        0.0,\n",
      "        0.0,\n",
      "        0.0,\n",
      "        0.0\n",
      "      ],\n",
      "      \"assets\": {\n",
      "        \"example-data\": {\n",
      "          \"href\": \"http://example.com/data.tif\",\n",
      "          \"type\": \"image/tiff\"\n",
      "        }\n",
      "      },\n",
      "      \"links\": [\n",
      "        {\n",
      "          \"rel\": \"self\",\n",
      "          \"type\": \"application/geo+json\",\n",
      "          \"href\": \"https://resource-catalogue.test.eoepca.org/stac/collections/metadata:main/items/example-item\"\n",
      "        },\n",
      "        {\n",
      "          \"rel\": \"root\",\n",
      "          \"type\": \"application/json\",\n",
      "          \"href\": \"https://resource-catalogue.test.eoepca.org/stac\"\n",
      "        },\n",
      "        {\n",
      "          \"rel\": \"parent\",\n",
      "          \"type\": \"application/json\",\n",
      "          \"href\": \"https://resource-catalogue.test.eoepca.org/stac/collections/metadata:main\"\n",
      "        },\n",
      "        {\n",
      "          \"rel\": \"collection\",\n",
      "          \"type\": \"application/json\",\n",
      "          \"href\": \"https://resource-catalogue.test.eoepca.org/stac/collections/metadata:main\"\n",
      "        }\n",
      "      ],\n",
      "      \"collection\": \"metadata:main\"\n",
      "    },\n",
      "    {\n",
      "      \"type\": \"Feature\",\n",
      "      \"stac_version\": \"1.0.0\",\n",
      "      \"id\": \"example-item-2\",\n",
      "      \"properties\": {\n",
      "        \"datetime\": \"2024-01-01T00:00:00Z\"\n",
      "      },\n",
      "      \"geometry\": {\n",
      "        \"type\": \"Point\",\n",
      "        \"coordinates\": [\n",
      "          0.0,\n",
      "          0.0\n",
      "        ]\n",
      "      },\n",
      "      \"bbox\": [\n",
      "        0.0,\n",
      "        0.0,\n",
      "        0.0,\n",
      "        0.0\n",
      "      ],\n",
      "      \"assets\": {\n",
      "        \"example-data\": {\n",
      "          \"href\": \"http://example.com/data.tif\",\n",
      "          \"type\": \"image/tiff\"\n",
      "        }\n",
      "      },\n",
      "      \"links\": [\n",
      "        {\n",
      "          \"rel\": \"self\",\n",
      "          \"type\": \"application/geo+json\",\n",
      "          \"href\": \"https://resource-catalogue.test.eoepca.org/stac/collections/metadata:main/items/example-item-2\"\n",
      "        },\n",
      "        {\n",
      "          \"rel\": \"root\",\n",
      "          \"type\": \"application/json\",\n",
      "          \"href\": \"https://resource-catalogue.test.eoepca.org/stac\"\n",
      "        },\n",
      "        {\n",
      "          \"rel\": \"parent\",\n",
      "          \"type\": \"application/json\",\n",
      "          \"href\": \"https://resource-catalogue.test.eoepca.org/stac/collections/metadata:main\"\n",
      "        },\n",
      "        {\n",
      "          \"rel\": \"collection\",\n",
      "          \"type\": \"application/json\",\n",
      "          \"href\": \"https://resource-catalogue.test.eoepca.org/stac/collections/metadata:main\"\n",
      "        }\n",
      "      ],\n",
      "      \"collection\": \"metadata:main\"\n",
      "    },\n",
      "    {\n",
      "      \"type\": \"Feature\",\n",
      "      \"stac_version\": \"1.0.0\",\n",
      "      \"id\": \"example-item-3\",\n",
      "      \"properties\": {\n",
      "        \"datetime\": \"2024-01-01T00:00:00Z\"\n",
      "      },\n",
      "      \"geometry\": {\n",
      "        \"type\": \"Point\",\n",
      "        \"coordinates\": [\n",
      "          0.0,\n",
      "          0.0\n",
      "        ]\n",
      "      },\n",
      "      \"bbox\": [\n",
      "        0.0,\n",
      "        0.0,\n",
      "        0.0,\n",
      "        0.0\n",
      "      ],\n",
      "      \"assets\": {\n",
      "        \"example-data\": {\n",
      "          \"href\": \"http://example.com/data.tif\",\n",
      "          \"type\": \"image/tiff\"\n",
      "        }\n",
      "      },\n",
      "      \"links\": [\n",
      "        {\n",
      "          \"rel\": \"self\",\n",
      "          \"type\": \"application/geo+json\",\n",
      "          \"href\": \"https://resource-catalogue.test.eoepca.org/stac/collections/metadata:main/items/example-item-3\"\n",
      "        },\n",
      "        {\n",
      "          \"rel\": \"root\",\n",
      "          \"type\": \"application/json\",\n",
      "          \"href\": \"https://resource-catalogue.test.eoepca.org/stac\"\n",
      "        },\n",
      "        {\n",
      "          \"rel\": \"parent\",\n",
      "          \"type\": \"application/json\",\n",
      "          \"href\": \"https://resource-catalogue.test.eoepca.org/stac/collections/metadata:main\"\n",
      "        },\n",
      "        {\n",
      "          \"rel\": \"collection\",\n",
      "          \"type\": \"application/json\",\n",
      "          \"href\": \"https://resource-catalogue.test.eoepca.org/stac/collections/metadata:main\"\n",
      "        }\n",
      "      ],\n",
      "      \"collection\": \"metadata:main\"\n",
      "    }\n",
      "  ],\n",
      "  \"links\": [\n",
      "    {\n",
      "      \"rel\": \"self\",\n",
      "      \"type\": \"application/geo+json\",\n",
      "      \"title\": \"This document as GeoJSON\",\n",
      "      \"href\": \"https://resource-catalogue.test.eoepca.org/stac/collections/metadata:main/items?limit=3&bbox=-180.0%2C-90.0%2C180.0%2C90.0&f=json\",\n",
      "      \"hreflang\": \"en-US\"\n",
      "    },\n",
      "    {\n",
      "      \"rel\": \"collection\",\n",
      "      \"type\": \"application/json\",\n",
      "      \"title\": \"Collection URL\",\n",
      "      \"href\": \"https://resource-catalogue.test.eoepca.org/stac/collections/metadata:main\",\n",
      "      \"hreflang\": \"en-US\"\n",
      "    },\n",
      "    {\n",
      "      \"rel\": \"root\",\n",
      "      \"type\": \"application/json\",\n",
      "      \"href\": \"https://resource-catalogue.test.eoepca.org/stac/\"\n",
      "    }\n",
      "  ],\n",
      "  \"numberMatched\": 3,\n",
      "  \"numberReturned\": 3,\n",
      "  \"distributedFeatures\": []\n",
      "}\n"
     ]
    }
   ],
   "source": [
    "search_url = f\"{resource_discovery_domain}/stac/search\"\n",
    "search_payload = {\n",
    "    \"bbox\": [-180.0, -90.0, 180.0, 90.0],\n",
    "    \"limit\": 3\n",
    "}\n",
    "\n",
    "response = requests.post(search_url, json=search_payload)\n",
    "print(f\"STAC search status code: {response.status_code}\")\n",
    "print(json.dumps(response.json(), indent=2))"
   ]
  }
 ],
 "metadata": {
  "kernelspec": {
   "display_name": "Python 3",
   "language": "python",
   "name": "python3"
  },
  "language_info": {
   "codemirror_mode": {
    "name": "ipython",
    "version": 3
   },
   "file_extension": ".py",
   "mimetype": "text/x-python",
   "name": "python",
   "nbconvert_exporter": "python",
   "pygments_lexer": "ipython3",
   "version": "3.10.12"
  }
 },
 "nbformat": 4,
 "nbformat_minor": 5
}
