{
 "cells": [
  {
   "cell_type": "markdown",
   "id": "c6a14aa9-b395-466f-8773-8258fef66891",
   "metadata": {
    "editable": true,
    "slideshow": {
     "slide_type": ""
    },
    "tags": [],
    "vscode": {
     "languageId": "raw"
    }
   },
   "source": [
    "# EOEPCA Resource Discovery Validation and Usage Notebook"
   ]
  },
  {
   "cell_type": "markdown",
   "id": "fd364dc8-1b01-4a4c-abd5-185081cb3641",
   "metadata": {},
   "source": [
    "## Setup"
   ]
  },
  {
   "cell_type": "code",
   "execution_count": null,
   "id": "63f00541-6375-4d66-b84d-06e7b26b6efa",
   "metadata": {
    "editable": true,
    "slideshow": {
     "slide_type": ""
    },
    "tags": []
   },
   "outputs": [],
   "source": [
    "import os\n",
    "import requests\n",
    "import json\n",
    "from pathlib import Path\n",
    "\n",
    "from owslib.csw import CatalogueServiceWeb\n",
    "from owslib.ogcapi.records import Records\n",
    "from owslib.opensearch import OpenSearch\n",
    "from owslib.fes import And, Or, PropertyIsEqualTo, PropertyIsGreaterThanOrEqualTo, PropertyIsLessThanOrEqualTo, PropertyIsLike, BBox, SortBy, SortProperty\n",
    "from geolinks import sniff_link\n",
    "import folium\n",
    "\n",
    "import sys\n",
    "sys.path.append('../')\n",
    "from modules.helpers import get_access_token, load_eoepca_state, test_cell, test_results"
   ]
  },
  {
   "cell_type": "markdown",
   "id": "e8165564-bede-48ee-b81b-857dfeb85ffb",
   "metadata": {
    "editable": true,
    "slideshow": {
     "slide_type": ""
    },
    "tags": []
   },
   "source": [
    "Load `eoepca state` environment"
   ]
  },
  {
   "cell_type": "code",
   "execution_count": null,
   "id": "9138ba4e-4103-41db-a8da-1d937036d5f3",
   "metadata": {
    "editable": true,
    "slideshow": {
     "slide_type": ""
    },
    "tags": []
   },
   "outputs": [],
   "source": [
    "load_eoepca_state()"
   ]
  },
  {
   "cell_type": "code",
   "execution_count": null,
   "id": "398ca795-5bd2-421e-90ad-860861793329",
   "metadata": {
    "editable": true,
    "slideshow": {
     "slide_type": ""
    },
    "tags": [
     "parameters"
    ]
   },
   "outputs": [],
   "source": [
    "platform_domain = os.environ.get(\"INGRESS_HOST\")\n",
    "resource_discovery_domain = f'{os.environ.get(\"HTTP_SCHEME\")}://resource-catalogue.{platform_domain}'\n",
    "\n",
    "print(f\"Resource Discovery URL: {resource_discovery_domain}\")"
   ]
  },
  {
   "cell_type": "markdown",
   "id": "9bfacdc4",
   "metadata": {},
   "source": [
    "## Validate Resource Discovery Endpoints"
   ]
  },
  {
   "cell_type": "code",
   "execution_count": null,
   "id": "a6c5ba83",
   "metadata": {},
   "outputs": [],
   "source": [
    "endpoints = [\n",
    "    (\"Landing Page\", resource_discovery_domain),\n",
    "    (\"Swagger UI\", f\"{resource_discovery_domain}/openapi?f=html\"),\n",
    "    (\"Collections\", f\"{resource_discovery_domain}/collections\"),\n",
    "    (\"Conformance\", f\"{resource_discovery_domain}/conformance\"),\n",
    "    (\"CSW GetCapabilities\", f\"{resource_discovery_domain}/csw?service=CSW&version=2.0.2&request=GetCapabilities\"),\n",
    "    (\"STAC\", f\"{resource_discovery_domain}/stac\")\n",
    "]\n",
    "\n",
    "for name, url in endpoints:\n",
    "    response = requests.get(url)\n",
    "    print(f\"{name} ({url}): {response.status_code}\")"
   ]
  },
  {
   "cell_type": "markdown",
   "id": "e071e0ce",
   "metadata": {},
   "source": [
    "## Ingesting a Sample Record using STAC"
   ]
  },
  {
   "cell_type": "code",
   "execution_count": null,
   "id": "339b2e91",
   "metadata": {},
   "outputs": [],
   "source": [
    "sample_record_path = Path(\"example-item.json\") # You will see this very simple sample file locally, feel free to experiment with it.\n",
    "sample_collection = 'metadata:main'\n",
    "\n",
    "ingest_url = f\"{resource_discovery_domain}/collections/{sample_collection}/items\"\n",
    "\n",
    "with open(sample_record_path, 'r') as file:\n",
    "    record = file.read()\n",
    "record_json = json.loads(record)\n",
    "record_id = record_json['id']\n",
    "headers = {\n",
    "    \"Content-Type\": \"application/geo+json\",\n",
    "    \"Accept\": \"application/json\",\n",
    "}\n",
    "response = requests.post(ingest_url, headers=headers, data=record)\n",
    "\n",
    "print(f\"POST {ingest_url} - {response.status_code}\")"
   ]
  },
  {
   "cell_type": "markdown",
   "id": "ead9b0f0",
   "metadata": {},
   "source": [
    "### Verify Record Ingestion"
   ]
  },
  {
   "cell_type": "code",
   "execution_count": null,
   "id": "822e84ae",
   "metadata": {},
   "outputs": [],
   "source": [
    "metadata_collection_url = f\"{resource_discovery_domain}/collections/metadata:main/items\"\n",
    "response = requests.get(metadata_collection_url)\n",
    "\n",
    "items = response.json().get(\"features\", [])\n",
    "\n",
    "for item in items:\n",
    "    if item.get(\"id\", \"\") == record_id:\n",
    "        print(\"✅ Sample record successfully ingested and discoverable!\")\n",
    "        break\n",
    "\n",
    "print(f'View the item in the catalogue: {resource_discovery_domain}/collections/{sample_collection}/items/{record_id}')"
   ]
  },
  {
   "cell_type": "markdown",
   "id": "9168e0a1",
   "metadata": {},
   "source": [
    "# CSW"
   ]
  },
  {
   "cell_type": "code",
   "execution_count": null,
   "id": "f4b318f7",
   "metadata": {},
   "outputs": [],
   "source": [
    "system_catalogue_endpoint = f'{resource_discovery_domain}/csw'\n",
    "csw = CatalogueServiceWeb(system_catalogue_endpoint, timeout=30)"
   ]
  },
  {
   "cell_type": "code",
   "execution_count": null,
   "id": "00deb7b3",
   "metadata": {},
   "outputs": [],
   "source": [
    "print(f\"CSW GetCapabilities: {csw.identification.title}\")\n",
    "print(f\"CSW Version: {csw.identification.version}\")\n",
    "print(f\"CSW Service Type: {csw.identification.type}\")\n",
    "print(f\"CSW Operations: {[op.name for op in csw.operations]}\")\n"
   ]
  },
  {
   "cell_type": "code",
   "execution_count": null,
   "id": "9e044cac",
   "metadata": {},
   "outputs": [],
   "source": [
    "csw.getrecords2(maxrecords=10)\n",
    "csw.results\n",
    "\n",
    "for rec in csw.records:\n",
    "   print(f'identifier: {csw.records[rec].identifier}\\ntype: {csw.records[rec].type}\\ntitle: {csw.records[rec].title}\\n')"
   ]
  },
  {
   "cell_type": "code",
   "execution_count": null,
   "id": "f6eeb3f6",
   "metadata": {},
   "outputs": [],
   "source": [
    "bbox_query = BBox(\n",
    "    [\n",
    "        -180.0,\n",
    "        -90.0,\n",
    "        180.0,\n",
    "        90.0\n",
    "    ]\n",
    ")\n",
    "\n",
    "begin = PropertyIsGreaterThanOrEqualTo(propertyname='apiso:TempExtent_begin', literal='2012-09-10 00:00')\n",
    "\n",
    "filter_list = [\n",
    "    And(\n",
    "        [\n",
    "            bbox_query,\n",
    "            begin\n",
    "        ]\n",
    "    )\n",
    "]\n",
    "\n",
    "csw.getrecords2(constraints=filter_list, outputschema='http://www.isotc211.org/2005/gmd')\n",
    "csw.results\n"
   ]
  },
  {
   "cell_type": "code",
   "execution_count": null,
   "id": "4e32f541",
   "metadata": {},
   "outputs": [],
   "source": [
    "collection_query = PropertyIsEqualTo('apiso:ParentIdentifier', 'metadata:main')\n",
    "csw.getrecords2(constraints=[collection_query], outputschema='http://www.isotc211.org/2005/gmd')\n",
    "csw.results"
   ]
  },
  {
   "cell_type": "code",
   "execution_count": null,
   "id": "67992218",
   "metadata": {},
   "outputs": [],
   "source": [
    "csw.getrecords2(constraints=[bbox_query], outputschema='http://www.isotc211.org/2005/gmd')\n",
    "csw.results"
   ]
  },
  {
   "cell_type": "markdown",
   "id": "f0ed5fe5",
   "metadata": {},
   "source": [
    "# OpenSearch"
   ]
  },
  {
   "cell_type": "code",
   "execution_count": null,
   "id": "978fa2a5",
   "metadata": {},
   "outputs": [],
   "source": [
    "opensearch_endpoint = f'{resource_discovery_domain}/csw?service=CSW&version=3.0.0&request=GetCapabilities&mode=opensearch'\n",
    "os = OpenSearch(opensearch_endpoint)"
   ]
  },
  {
   "cell_type": "code",
   "execution_count": null,
   "id": "e6632b03",
   "metadata": {},
   "outputs": [],
   "source": [
    "print(f\"Short name: {os.description.shortname}\")\n",
    "print(f\"Long name: {os.description.longname}\")\n",
    "print(f\"Description: {os.description.description}\")\n",
    "print(f\"URLs: {os.description.urls}\")"
   ]
  },
  {
   "cell_type": "code",
   "execution_count": null,
   "id": "86bd0725",
   "metadata": {},
   "outputs": [],
   "source": [
    "results = os.search('application/atom+xml')\n",
    "len(results)"
   ]
  },
  {
   "cell_type": "markdown",
   "id": "8e3e5b54",
   "metadata": {},
   "source": [
    "# OGC API Records"
   ]
  },
  {
   "cell_type": "code",
   "execution_count": null,
   "id": "303f429b",
   "metadata": {},
   "outputs": [],
   "source": [
    "w = Records(resource_discovery_domain)"
   ]
  },
  {
   "cell_type": "code",
   "execution_count": null,
   "id": "c9eb6993",
   "metadata": {},
   "outputs": [],
   "source": [
    "print(f\"URLs: {w.url}\")\n",
    "print(f\"Conformance: {w.conformance()}\")\n",
    "print(f\"API Version: {w.api()}\")"
   ]
  },
  {
   "cell_type": "code",
   "execution_count": null,
   "id": "4917af71",
   "metadata": {},
   "outputs": [],
   "source": [
    "records = w.records()\n",
    "print(f\"Records: {records}\")"
   ]
  },
  {
   "cell_type": "code",
   "execution_count": null,
   "id": "1cdb79cb",
   "metadata": {},
   "outputs": [],
   "source": [
    "my_catalogue = w.collection('metadata:main')\n",
    "print(f\"Catalogue: {my_catalogue['id']}\")\n",
    "print(f\"Queryable: {w.collection_queryables('metadata:main')}\")"
   ]
  },
  {
   "cell_type": "code",
   "execution_count": null,
   "id": "4168db3c",
   "metadata": {},
   "outputs": [],
   "source": [
    "my_catalogue_query = w.collection_items('metadata:main')\n",
    "print(f\"Matched records: {my_catalogue_query['numberMatched']}\")\n",
    "print(f\"Metadata of first result: {my_catalogue_query['features'][0]['properties']}\")\n"
   ]
  },
  {
   "cell_type": "code",
   "execution_count": null,
   "id": "c6e94f3a",
   "metadata": {},
   "outputs": [],
   "source": [
    "spatial_query = w.collection_items('metadata:main', bbox=[-180.0, -90.0, 180.0, 90.0])\n",
    "print(f\"Matched records: {spatial_query['numberMatched']}\")\n",
    "print([f['id'] for f in spatial_query['features']])"
   ]
  },
  {
   "cell_type": "code",
   "execution_count": null,
   "id": "bdaebea8",
   "metadata": {},
   "outputs": [],
   "source": [
    "my_catalogue_datetime_query = w.collection_items(\n",
    "    'metadata:main',\n",
    "    cql={\n",
    "        'op': '>',\n",
    "        'args': [\n",
    "            {'property': 'datetime'},\n",
    "            '2026-01-02T00:00:00Z'\n",
    "        ]\n",
    "    }\n",
    ")\n",
    "\n",
    "print(\"Matched items:\", my_catalogue_datetime_query['numberMatched'])\n",
    "print(\"Item IDs:\", [f['id'] for f in my_catalogue_datetime_query['features']])"
   ]
  },
  {
   "cell_type": "markdown",
   "id": "5df04e36",
   "metadata": {},
   "source": [
    "## STAC Items Search"
   ]
  },
  {
   "cell_type": "code",
   "execution_count": null,
   "id": "7162351f",
   "metadata": {},
   "outputs": [],
   "source": [
    "search_url = f\"{resource_discovery_domain}/stac/search\"\n",
    "search_payload = {\n",
    "    \"bbox\": [-180.0, -90.0, 180.0, 90.0],\n",
    "    \"limit\": 3\n",
    "}\n",
    "\n",
    "response = requests.post(search_url, json=search_payload)\n",
    "print(f\"STAC search status code: {response.status_code}\")\n",
    "print(json.dumps(response.json(), indent=2))"
   ]
  }
 ],
 "metadata": {
  "kernelspec": {
   "display_name": "Python 3 (ipykernel)",
   "language": "python",
   "name": "python3"
  },
  "language_info": {
   "codemirror_mode": {
    "name": "ipython",
    "version": 3
   },
   "file_extension": ".py",
   "mimetype": "text/x-python",
   "name": "python",
   "nbconvert_exporter": "python",
   "pygments_lexer": "ipython3",
   "version": "3.12.9"
  }
 },
 "nbformat": 4,
 "nbformat_minor": 5
}
