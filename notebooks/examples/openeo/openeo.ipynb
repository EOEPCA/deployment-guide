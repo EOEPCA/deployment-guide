{
 "cells": [
  {
   "cell_type": "markdown",
   "id": "24313300-0027-4d0d-8635-a1d67f3bc0ea",
   "metadata": {
    "editable": true,
    "slideshow": {
     "slide_type": ""
    },
    "tags": []
   },
   "source": [
    "# openEO Demonstration"
   ]
  },
  {
   "cell_type": "markdown",
   "id": "fd364dc8-1b01-4a4c-abd5-185081cb3641",
   "metadata": {},
   "source": [
    "## Setup"
   ]
  },
  {
   "cell_type": "code",
   "execution_count": null,
   "id": "63f00541-6375-4d66-b84d-06e7b26b6efa",
   "metadata": {
    "editable": true,
    "slideshow": {
     "slide_type": ""
    },
    "tags": []
   },
   "outputs": [],
   "source": [
    "import os\n",
    "import openeo\n",
    "import json\n",
    "import xarray\n",
    "import matplotlib.pyplot as pyplot\n",
    "\n",
    "import sys\n",
    "sys.path.append('../')\n",
    "from modules.helpers import get_access_token, load_eoepca_state, test_cell, test_results"
   ]
  },
  {
   "cell_type": "markdown",
   "id": "e8165564-bede-48ee-b81b-857dfeb85ffb",
   "metadata": {
    "editable": true,
    "slideshow": {
     "slide_type": ""
    },
    "tags": []
   },
   "source": [
    "Load `eoepca state` environment"
   ]
  },
  {
   "cell_type": "code",
   "execution_count": null,
   "id": "9138ba4e-4103-41db-a8da-1d937036d5f3",
   "metadata": {
    "editable": true,
    "slideshow": {
     "slide_type": ""
    },
    "tags": []
   },
   "outputs": [],
   "source": [
    "load_eoepca_state()"
   ]
  },
  {
   "cell_type": "code",
   "execution_count": null,
   "id": "398ca795-5bd2-421e-90ad-860861793329",
   "metadata": {
    "editable": true,
    "slideshow": {
     "slide_type": ""
    },
    "tags": [
     "parameters"
    ]
   },
   "outputs": [],
   "source": [
    "platform_domain = os.environ.get(\"INGRESS_HOST\")\n",
    "\n",
    "openeo_backend = f\"openeo.{platform_domain}\"\n",
    "authentication_method = \"device-code-flow\" # or authorization-code\n",
    "\n",
    "username = os.environ.get(\"KEYCLOAK_TEST_USER\")\n",
    "password = os.environ.get(\"KEYCLOAK_TEST_PASSWORD\")\n",
    "client_id = os.environ.get(\"OPENEO_CLIENT_ID\")\n",
    "\n",
    "collection_id = \"TestCollection-LonLat16x16\"\n",
    "temporal_extent = \"2024-09\"\n",
    "spatial_extent = {\"west\": 3, \"south\": 51, \"east\": 5, \"north\": 53}\n",
    "\n",
    "log_output_file = \"openeo_log.json\""
   ]
  },
  {
   "cell_type": "code",
   "execution_count": null,
   "id": "110d8c8c",
   "metadata": {},
   "outputs": [],
   "source": [
    "print(f\"Parameters:\\n\"\n",
    "f\"Platform domain: {platform_domain}\\n\"\n",
    "f\"OpenEO backend: {openeo_backend}\\n\"\n",
    "f\"Authentication method: {authentication_method}\\n\"\n",
    "f\"Collection ID: {collection_id}\\n\"\n",
    "f\"Temporal extent: {temporal_extent}\\n\"\n",
    "f\"Spatial extent: {spatial_extent}\")"
   ]
  },
  {
   "cell_type": "markdown",
   "id": "d6517a3f-8a72-423f-a7ed-15647de94f0e",
   "metadata": {
    "editable": true,
    "slideshow": {
     "slide_type": ""
    },
    "tags": []
   },
   "source": [
    "## Connect to the openEO backend"
   ]
  },
  {
   "cell_type": "code",
   "execution_count": null,
   "id": "c99b8a38-c528-41b8-9174-03ff01ba0491",
   "metadata": {},
   "outputs": [],
   "source": [
    "connection = openeo.connect(url=openeo_backend)\n",
    "if authentication_method == \"device-code-flow\":\n",
    "    connection.authenticate_oidc()\n",
    "    print(\"Visit this backend through Web Editor:\\n\" + connection.web_editor(anonymous=True))\n",
    "elif authentication_method == \"authorization-code\":\n",
    "    access_token = get_access_token(username, password, client_id)\n",
    "    auth_token = f\"oidc/eoepca/{access_token}\"\n",
    "    connection.session.headers.update({\"Authorization\": f\"Bearer {auth_token}\"})"
   ]
  },
  {
   "cell_type": "markdown",
   "id": "bf9a32e4-99ab-4acc-a778-6f669c562ef3",
   "metadata": {},
   "source": [
    "## Exploration"
   ]
  },
  {
   "cell_type": "markdown",
   "id": "ae46f93d-9002-44c6-ad75-4ffa56be1e14",
   "metadata": {},
   "source": [
    "Available collections:"
   ]
  },
  {
   "cell_type": "code",
   "execution_count": null,
   "id": "93778fb8-c167-446a-b58f-7c29260a5475",
   "metadata": {},
   "outputs": [],
   "source": [
    "# collection_exists\n",
    "available_collections = connection.list_collection_ids()\n",
    "assert collection_id in available_collections"
   ]
  },
  {
   "cell_type": "markdown",
   "id": "2418b3e2-c796-4c16-92db-36ed034df5a3",
   "metadata": {},
   "source": [
    "Available processes:"
   ]
  },
  {
   "cell_type": "code",
   "execution_count": null,
   "id": "026f8eb1-4cad-4b3c-a594-eae993bd4ea9",
   "metadata": {},
   "outputs": [],
   "source": [
    "# list_processes\n",
    "[p[\"id\"] for p in connection.list_processes()[:10]]"
   ]
  },
  {
   "cell_type": "markdown",
   "id": "fa748b72-ceee-466a-9656-f6a1c8242931",
   "metadata": {},
   "source": [
    "## Simple processing"
   ]
  },
  {
   "cell_type": "code",
   "execution_count": null,
   "id": "dff7a964-8f84-42eb-ae28-76bbd4ba858c",
   "metadata": {},
   "outputs": [],
   "source": [
    "# process_execution\n",
    "process_graph = {\n",
    "    \"add\": {\n",
    "        \"process_id\": \"add\",\n",
    "        \"arguments\": {\"x\": 3, \"y\": 5},\n",
    "        \"result\": True,\n",
    "    },\n",
    "}\n",
    "\n",
    "result = connection.execute(process_graph)\n",
    "result"
   ]
  },
  {
   "cell_type": "markdown",
   "id": "aa585244-0ea0-457a-84d3-aa8bf3617a17",
   "metadata": {},
   "source": [
    "## Raster processing"
   ]
  },
  {
   "cell_type": "markdown",
   "id": "5a3ae39e-211d-4f59-ba7e-b9ff034fd488",
   "metadata": {},
   "source": [
    "Raster processing with built-in dummy collection (which does not require direct access to actual EO data)."
   ]
  },
  {
   "cell_type": "code",
   "execution_count": null,
   "id": "1159098e-d7d4-4e34-893b-f2bdb1fb4687",
   "metadata": {},
   "outputs": [],
   "source": [
    "# data_loading\n",
    "cube = connection.load_collection(\n",
    "    collection_id=collection_id,\n",
    "    temporal_extent=temporal_extent,\n",
    "    spatial_extent=spatial_extent,\n",
    "    bands=[\"Longitude\", \"Latitude\", \"Day\"],\n",
    ")"
   ]
  },
  {
   "cell_type": "code",
   "execution_count": null,
   "id": "3a63fd41-10bc-4f42-975c-163b29354681",
   "metadata": {},
   "outputs": [],
   "source": [
    "%%time\n",
    "cube.download(\"openeo-lonlat1616.nc\")"
   ]
  },
  {
   "cell_type": "markdown",
   "id": "080b9069-9edd-49ea-bba5-56e04dd7f6b5",
   "metadata": {},
   "source": [
    "Inspect downloaded results:"
   ]
  },
  {
   "cell_type": "code",
   "execution_count": null,
   "id": "b1a7ab23-793f-4402-91b3-f0f0ffc0e8b4",
   "metadata": {},
   "outputs": [],
   "source": [
    "# raster_download\n",
    "ds = xarray.load_dataset(\"openeo-lonlat1616.nc\")\n",
    "ds"
   ]
  },
  {
   "cell_type": "code",
   "execution_count": null,
   "id": "03d4e1c0-455b-402e-a065-aa83dc4c2a96",
   "metadata": {},
   "outputs": [],
   "source": [
    "fig, axes = pyplot.subplots(ncols=2, figsize=(7, 3), dpi=72, sharey=True)\n",
    "\n",
    "ds[\"Longitude\"].isel(t=0).plot.imshow(ax=axes[0])\n",
    "ds[\"Latitude\"].isel(t=0).plot.imshow(ax=axes[1]);"
   ]
  },
  {
   "cell_type": "markdown",
   "id": "4cbe2d04-0f0b-495f-812c-63d311e19365",
   "metadata": {},
   "source": [
    "## Real raster processing with `load_stac`"
   ]
  },
  {
   "cell_type": "markdown",
   "id": "e80c5de6-e4a3-4c46-a62b-6c197e53b0e5",
   "metadata": {},
   "source": [
    "`load_stac` is an standard openEO process that allows to load EO data that is hosted externally through the STAC standard."
   ]
  },
  {
   "cell_type": "code",
   "execution_count": null,
   "id": "59d86a19-d795-49fd-8d04-9d8fdab3bc6d",
   "metadata": {},
   "outputs": [],
   "source": [
    "# raster_open\n",
    "stac_url = \"https://raw.githubusercontent.com/Open-EO/openeo-geopyspark-driver/refs/heads/master/docker/local_batch_job/example_stac_catalog/collection.json\"\n",
    "\n",
    "cube = connection.load_stac(\n",
    "    url=stac_url,\n",
    "    temporal_extent=[\"2023-06-01\", \"2023-06-09\"],\n",
    "    spatial_extent={\"west\": 5.07, \"south\": 51.215, \"east\": 5.08, \"north\": 51.22},\n",
    "    bands=[\"B04\", \"B03\", \"B02\"],\n",
    ")\n",
    "cube"
   ]
  },
  {
   "cell_type": "markdown",
   "id": "b640b513-71f2-4abb-834c-1737a43fe649",
   "metadata": {},
   "source": [
    "Simple \"band math\" based processing, to calculate some NDVI-like index:"
   ]
  },
  {
   "cell_type": "code",
   "execution_count": null,
   "id": "b2f0f69a-5642-485d-905a-9e0dd7eea3e5",
   "metadata": {},
   "outputs": [],
   "source": [
    "# band_math\n",
    "b04 = cube.band(\"B04\")\n",
    "b02 = cube.band(\"B02\")\n",
    "n42 = (b04 - b02) / (b04 + b02)"
   ]
  },
  {
   "cell_type": "markdown",
   "id": "282c18dc-4714-417c-96f7-8f1fef7430d4",
   "metadata": {},
   "source": [
    "Trigger processing and download result synchronously:"
   ]
  },
  {
   "cell_type": "code",
   "execution_count": null,
   "id": "b98d3891-1dfb-4ca0-b37c-90c437ed1bfb",
   "metadata": {},
   "outputs": [],
   "source": [
    "# nc_download\n",
    "n42.download(\"openeo-load_stac-n42-sync.nc\")"
   ]
  },
  {
   "cell_type": "markdown",
   "id": "42e08bc6-449d-4c6a-b373-dfaa043c7192",
   "metadata": {},
   "source": [
    "Inspect result:"
   ]
  },
  {
   "cell_type": "code",
   "execution_count": null,
   "id": "df7d83d7-ee4f-434e-a993-fd5c3759a5b8",
   "metadata": {},
   "outputs": [],
   "source": [
    "# xarray_load_dataset\n",
    "ds = xarray.load_dataset(\"openeo-load_stac-n42-sync.nc\")\n",
    "ds"
   ]
  },
  {
   "cell_type": "code",
   "execution_count": null,
   "id": "b93d9b22-844c-456b-90c3-c71a8bc0954e",
   "metadata": {},
   "outputs": [],
   "source": [
    "# plot_figure\n",
    "fig, ax = pyplot.subplots(dpi=75, figsize=(5, 5))\n",
    "\n",
    "ds[\"var\"].isel(t=0).plot.imshow(ax=ax, cmap=\"viridis\");"
   ]
  },
  {
   "cell_type": "code",
   "execution_count": null,
   "id": "ef7d669d-0d56-4b09-9aed-11ff8f462d74",
   "metadata": {},
   "outputs": [],
   "source": [
    "if test_results:\n",
    "    for test, result in test_results.items():\n",
    "        print(f\"{test}: {result['status']} - {result['message']}\")\n",
    "    json.dump(test_results, open(log_output_file, \"w\"), indent=2)"
   ]
  }
 ],
 "metadata": {
  "kernelspec": {
   "display_name": "Python 3 (ipykernel)",
   "language": "python",
   "name": "python3"
  },
  "language_info": {
   "codemirror_mode": {
    "name": "ipython",
    "version": 3
   },
   "file_extension": ".py",
   "mimetype": "text/x-python",
   "name": "python",
   "nbconvert_exporter": "python",
   "pygments_lexer": "ipython3",
   "version": "3.12.9"
  }
 },
 "nbformat": 4,
 "nbformat_minor": 5
}
