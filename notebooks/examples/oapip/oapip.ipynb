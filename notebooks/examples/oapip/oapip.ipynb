{
 "cells": [
  {
   "cell_type": "raw",
   "id": "c6a14aa9-b395-466f-8773-8258fef66891",
   "metadata": {
    "editable": true,
    "slideshow": {
     "slide_type": ""
    },
    "tags": [],
    "vscode": {
     "languageId": "raw"
    }
   },
   "source": [
    "# EOEPCA OGC API Processes (OAPIP) Validation and Usage Notebook"
   ]
  },
  {
   "cell_type": "markdown",
   "id": "fd364dc8-1b01-4a4c-abd5-185081cb3641",
   "metadata": {},
   "source": [
    "## Setup"
   ]
  },
  {
   "cell_type": "code",
   "execution_count": 1,
   "id": "63f00541-6375-4d66-b84d-06e7b26b6efa",
   "metadata": {
    "editable": true,
    "slideshow": {
     "slide_type": ""
    },
    "tags": []
   },
   "outputs": [],
   "source": [
    "import os\n",
    "import requests\n",
    "import json\n",
    "from pathlib import Path\n",
    "\n",
    "import sys\n",
    "sys.path.append('../')\n",
    "from modules.helpers import get_access_token, load_eoepca_state, test_cell, test_results"
   ]
  },
  {
   "cell_type": "markdown",
   "id": "e8165564-bede-48ee-b81b-857dfeb85ffb",
   "metadata": {
    "editable": true,
    "slideshow": {
     "slide_type": ""
    },
    "tags": []
   },
   "source": [
    "Load `eoepca state` environment"
   ]
  },
  {
   "cell_type": "code",
   "execution_count": 2,
   "id": "9138ba4e-4103-41db-a8da-1d937036d5f3",
   "metadata": {
    "editable": true,
    "slideshow": {
     "slide_type": ""
    },
    "tags": []
   },
   "outputs": [],
   "source": [
    "load_eoepca_state()"
   ]
  },
  {
   "cell_type": "code",
   "execution_count": 3,
   "id": "398ca795-5bd2-421e-90ad-860861793329",
   "metadata": {
    "editable": true,
    "slideshow": {
     "slide_type": ""
    },
    "tags": [
     "parameters"
    ]
   },
   "outputs": [],
   "source": [
    "platform_domain = os.environ.get(\"INGRESS_HOST\")\n",
    "use_oidc = os.environ.get(\"OIDC_OAPIP_ENABLED\", \"true\") == \"true\"\n",
    "oapip_user = os.environ.get(\"KEYCLOAK_TEST_USER\", \"eoepcauser\")\n",
    "oapip_domain = f'https://zoo.{platform_domain}'\n",
    "\n",
    "# oidc only\n",
    "oapip_client_id = os.environ.get(\"OAPIP_CLIENT_ID\", \"oapip\")\n",
    "oapip_client_secret = os.environ.get(\"OAPIP_CLIENT_SECRET\")\n",
    "username = os.environ.get(\"KEYCLOAK_TEST_USER\")\n",
    "password = os.environ.get(\"KEYCLOAK_TEST_PASSWORD\")"
   ]
  },
  {
   "cell_type": "markdown",
   "id": "27c7a42d",
   "metadata": {},
   "source": [
    "## Authentication Setup (Conditional)"
   ]
  },
  {
   "cell_type": "code",
   "execution_count": 4,
   "id": "0bb284a3",
   "metadata": {},
   "outputs": [
    {
     "name": "stdout",
     "output_type": "stream",
     "text": [
      "⚠️ OIDC Authentication not enabled; proceeding without authentication.\n"
     ]
    }
   ],
   "source": [
    "if use_oidc:\n",
    "    # Fetch OIDC Token via Keycloak\n",
    "    from modules.helpers import get_access_token\n",
    "\n",
    "\n",
    "    access_token = get_access_token(username, password, oapip_client_id, oapip_client_secret)\n",
    "    headers = {\"Authorization\": f\"Bearer {access_token}\"}\n",
    "    print(\"✅ OIDC Authentication setup complete.\")\n",
    "else:\n",
    "    headers = {}\n",
    "    print(\"⚠️ OIDC Authentication not enabled; proceeding without authentication.\")\n"
   ]
  },
  {
   "cell_type": "markdown",
   "id": "b8d950e4",
   "metadata": {},
   "source": [
    "## Validate API Endpoints"
   ]
  },
  {
   "cell_type": "code",
   "execution_count": 5,
   "id": "250c27d6",
   "metadata": {},
   "outputs": [
    {
     "name": "stdout",
     "output_type": "stream",
     "text": [
      "Swagger UI (https://zoo.test.eoepca.org/swagger-ui/oapip/): 200\n",
      "OGC API Processes Landing (https://zoo.test.eoepca.org/ogc-api/processes/): 200\n"
     ]
    }
   ],
   "source": [
    "endpoints = [\n",
    "    (\"Swagger UI\", f\"{oapip_domain}/swagger-ui/oapip/\"),\n",
    "    (\"OGC API Processes Landing\", f\"{oapip_domain}/ogc-api/processes/\")\n",
    "]\n",
    "\n",
    "for name, url in endpoints:\n",
    "    response = requests.get(url, headers=headers)\n",
    "    print(f\"{name} ({url}): {response.status_code}\")"
   ]
  },
  {
   "cell_type": "markdown",
   "id": "b8785eca",
   "metadata": {},
   "source": [
    "## List Available Processes"
   ]
  },
  {
   "cell_type": "code",
   "execution_count": 6,
   "id": "f3afb355",
   "metadata": {},
   "outputs": [
    {
     "name": "stdout",
     "output_type": "stream",
     "text": [
      "✅ Available processes:\n",
      "{\n",
      "  \"processes\": [\n",
      "    {\n",
      "      \"id\": \"echo\",\n",
      "      \"title\": \"Echo input\",\n",
      "      \"description\": \"Simply echo the value provided as input\",\n",
      "      \"mutable\": false,\n",
      "      \"version\": \"2.0.0\",\n",
      "      \"metadata\": [\n",
      "        {\n",
      "          \"title\": \"Demo\"\n",
      "        }\n",
      "      ],\n",
      "      \"jobControlOptions\": [\n",
      "        \"sync-execute\",\n",
      "        \"async-execute\",\n",
      "        \"dismiss\"\n",
      "      ],\n",
      "      \"outputTransmission\": [\n",
      "        \"value\",\n",
      "        \"reference\"\n",
      "      ],\n",
      "      \"links\": [\n",
      "        {\n",
      "          \"rel\": \"self\",\n",
      "          \"type\": \"application/json\",\n",
      "          \"title\": \"Process Description\",\n",
      "          \"href\": \"https://zoo.test.eoepca.org/eoepcauser/ogc-api/processes/echo\"\n",
      "        }\n",
      "      ]\n",
      "    }\n",
      "  ],\n",
      "  \"links\": [\n",
      "    {\n",
      "      \"rel\": \"self\",\n",
      "      \"type\": \"application/json\",\n",
      "      \"href\": \"https://zoo.test.eoepca.org/eoepcauser/ogc-api/processes\"\n",
      "    }\n",
      "  ],\n",
      "  \"numberTotal\": 1\n",
      "}\n"
     ]
    }
   ],
   "source": [
    "processes_url = f\"{oapip_domain}/{oapip_user}/ogc-api/processes\"\n",
    "response = requests.get(processes_url, headers=headers)\n",
    "\n",
    "if response.status_code == 200:\n",
    "    processes = response.json()\n",
    "    print(f\"✅ Available processes:\")\n",
    "    print(json.dumps(processes, indent=2))\n",
    "else:\n",
    "    print(f\"❌ Failed to retrieve processes. Status code: {response.status_code}\")"
   ]
  },
  {
   "cell_type": "markdown",
   "id": "2a5f2e6a",
   "metadata": {},
   "source": [
    "## Deploy a Sample Process (`convert-url`)"
   ]
  },
  {
   "cell_type": "code",
   "execution_count": 7,
   "id": "27607b21",
   "metadata": {},
   "outputs": [
    {
     "name": "stdout",
     "output_type": "stream",
     "text": [
      "✅ Successfully deployed 'convert-url' process.\n",
      "{\n",
      "  \"id\": \"convert-url\",\n",
      "  \"title\": \"convert url app\",\n",
      "  \"description\": \"Convert URL\",\n",
      "  \"mutable\": true,\n",
      "  \"version\": \"0.1.2\",\n",
      "  \"metadata\": [\n",
      "    {\n",
      "      \"role\": \"https://schema.org/softwareVersion\",\n",
      "      \"value\": \"0.1.2\"\n",
      "    }\n",
      "  ],\n",
      "  \"outputTransmission\": [\n",
      "    \"value\",\n",
      "    \"reference\"\n",
      "  ],\n",
      "  \"jobControlOptions\": [\n",
      "    \"async-execute\",\n",
      "    \"dismiss\"\n",
      "  ],\n",
      "  \"links\": [\n",
      "    {\n",
      "      \"rel\": \"http://www.opengis.net/def/rel/ogc/1.0/execute\",\n",
      "      \"type\": \"application/json\",\n",
      "      \"title\": \"Execute End Point\",\n",
      "      \"href\": \"https://zoo.test.eoepca.org/eoepcauser/ogc-api/processes/convert-url/execution\"\n",
      "    }\n",
      "  ]\n",
      "}\n"
     ]
    }
   ],
   "source": [
    "deploy_url = processes_url\n",
    "deploy_payload = {\n",
    "    \"executionUnit\": {\n",
    "        \"href\": \"https://raw.githubusercontent.com/EOEPCA/deployment-guide/refs/heads/main/scripts/processing/oapip/examples/convert-url-app.cwl\",\n",
    "        \"type\": \"application/cwl\"\n",
    "    }\n",
    "}\n",
    "\n",
    "response = requests.post(deploy_url, headers={**headers, \"Content-Type\": \"application/json\"}, json=deploy_payload)\n",
    "\n",
    "if response.status_code in [200, 201]:\n",
    "    print(f\"✅ Successfully deployed 'convert-url' process.\")\n",
    "    deployed_process = response.json()\n",
    "    print(json.dumps(deployed_process, indent=2))\n",
    "else:\n",
    "    print(f\"❌ Failed to deploy 'convert-url'. Status code: {response.status_code}, Response: {response.text}\")"
   ]
  },
  {
   "cell_type": "markdown",
   "id": "e0a13862",
   "metadata": {},
   "source": [
    "## Execute the `convert-url` Process"
   ]
  },
  {
   "cell_type": "code",
   "execution_count": 8,
   "id": "f2430e65",
   "metadata": {},
   "outputs": [
    {
     "name": "stdout",
     "output_type": "stream",
     "text": [
      "✅ Execution started successfully. Job ID: 10924fda-3174-11f0-8181-46173226aeca\n",
      "Job monitoring URL: https://zoo.test.eoepca.org/eoepcauser/ogc-api/jobs/10924fda-3174-11f0-8181-46173226aeca\n"
     ]
    }
   ],
   "source": [
    "execute_url = f\"{processes_url}/convert-url/execution\"\n",
    "execute_payload = {\n",
    "    \"inputs\": {\n",
    "        \"fn\": \"resize\",\n",
    "        \"url\": \"https://eoepca.org/media_portal/images/logo6_med.original.png\",\n",
    "        \"size\": \"50%\"\n",
    "    }\n",
    "}\n",
    "\n",
    "response = requests.post(\n",
    "    execute_url,\n",
    "    headers={\n",
    "        **headers,\n",
    "        \"Content-Type\": \"application/json\",\n",
    "        \"Prefer\": \"respond-async\"\n",
    "    },\n",
    "    json=execute_payload\n",
    ")\n",
    "\n",
    "if response.status_code in [200, 201]:\n",
    "    job_location = response.headers[\"Location\"]\n",
    "    job_id = response.json().get(\"jobID\")\n",
    "    print(f\"✅ Execution started successfully. Job ID: {job_id}\")\n",
    "    print(f\"Job monitoring URL: {job_location}\")\n",
    "else:\n",
    "    print(f\"❌ Failed to start execution. Status code: {response.status_code}, Response: {response.text}\")"
   ]
  },
  {
   "cell_type": "markdown",
   "id": "ff62a035",
   "metadata": {},
   "source": [
    "## Monitor Execution Status"
   ]
  },
  {
   "cell_type": "code",
   "execution_count": 9,
   "id": "601e7617",
   "metadata": {},
   "outputs": [
    {
     "name": "stdout",
     "output_type": "stream",
     "text": [
      "Monitoring job execution...\n",
      "Checking job status...\n",
      "Status: running\n",
      "Checking job status...\n",
      "Status: running\n",
      "Checking job status...\n",
      "Status: running\n",
      "Checking job status...\n",
      "Status: running\n",
      "Checking job status...\n",
      "Status: running\n",
      "Checking job status...\n",
      "Status: running\n",
      "Checking job status...\n",
      "Status: running\n",
      "Checking job status...\n",
      "Status: running\n",
      "Checking job status...\n",
      "Status: running\n",
      "Checking job status...\n",
      "Status: running\n",
      "Checking job status...\n",
      "Status: running\n",
      "Checking job status...\n",
      "Status: successful\n",
      "Final job status: successful\n"
     ]
    }
   ],
   "source": [
    "status_url = f\"{oapip_domain}/{oapip_user}/ogc-api/jobs/{job_id}\"\n",
    "status = \"running\"\n",
    "import time\n",
    "print(\"Monitoring job execution...\")\n",
    "while status.lower() == \"running\":\n",
    "    time.sleep(5)\n",
    "    print(\"Checking job status...\")\n",
    "    response = requests.get(status_url, headers=headers)\n",
    "    if response.status_code == 200:\n",
    "        job_status = response.json()\n",
    "        status = job_status.get(\"status\")\n",
    "        print(f\"Status: {status}\")\n",
    "        if status.lower() == \"running\":\n",
    "            time.sleep(5)  # wait before rechecking\n",
    "    else:\n",
    "        print(f\"❌ Failed to get job status. Status code: {response.status_code}\")\n",
    "        break\n",
    "\n",
    "print(\"Final job status:\", status)\n"
   ]
  },
  {
   "cell_type": "markdown",
   "id": "36f55c93",
   "metadata": {},
   "source": [
    "## Retrieve Execution Result"
   ]
  },
  {
   "cell_type": "code",
   "execution_count": 10,
   "id": "43b130bd",
   "metadata": {},
   "outputs": [
    {
     "name": "stdout",
     "output_type": "stream",
     "text": [
      "✅ Job results retrieved successfully:\n",
      "{\n",
      "  \"type\": \"Collection\",\n",
      "  \"id\": \"10924fda-3174-11f0-8181-46173226aeca\",\n",
      "  \"stac_version\": \"1.0.0\",\n",
      "  \"description\": \"description\",\n",
      "  \"links\": [\n",
      "    {\n",
      "      \"rel\": \"root\",\n",
      "      \"href\": \"s3://eoepca/processing-results/10924fda-3174-11f0-8181-46173226aeca/catalog.json\",\n",
      "      \"type\": \"application/json\"\n",
      "    },\n",
      "    {\n",
      "      \"rel\": \"item\",\n",
      "      \"href\": \"s3://eoepca/processing-results/10924fda-3174-11f0-8181-46173226aeca/processing-results/10924fda-3174-11f0-8181-46173226aeca/logo6_med.original-resize-1747303572.747070150/logo6_med.original-resize-1747303572.747070150.json\",\n",
      "      \"type\": \"application/json\"\n",
      "    },\n",
      "    {\n",
      "      \"rel\": \"self\",\n",
      "      \"href\": \"s3://eoepca/processing-results/10924fda-3174-11f0-8181-46173226aeca/processing-results/10924fda-3174-11f0-8181-46173226aeca/collection.json\",\n",
      "      \"type\": \"application/json\"\n",
      "    },\n",
      "    {\n",
      "      \"rel\": \"parent\",\n",
      "      \"href\": \"s3://eoepca/processing-results/10924fda-3174-11f0-8181-46173226aeca/catalog.json\",\n",
      "      \"type\": \"application/json\"\n",
      "    }\n",
      "  ],\n",
      "  \"title\": \"Processing results\",\n",
      "  \"extent\": {\n",
      "    \"spatial\": {\n",
      "      \"bbox\": [\n",
      "        [\n",
      "          -180,\n",
      "          -90,\n",
      "          180,\n",
      "          90\n",
      "        ]\n",
      "      ]\n",
      "    },\n",
      "    \"temporal\": {\n",
      "      \"interval\": [\n",
      "        [\n",
      "          \"2025-05-15T10:06:12.747000Z\",\n",
      "          \"2025-05-15T10:06:12.747000Z\"\n",
      "        ]\n",
      "      ]\n",
      "    }\n",
      "  },\n",
      "  \"license\": \"proprietary\",\n",
      "  \"keywords\": [\n",
      "    \"eoepca\"\n",
      "  ]\n",
      "}\n"
     ]
    }
   ],
   "source": [
    "results_url = f\"{status_url}/results\"\n",
    "response = requests.get(results_url, headers=headers)\n",
    "\n",
    "if response.status_code == 200:\n",
    "    results = response.json()\n",
    "    print(f\"✅ Job results retrieved successfully:\")\n",
    "    print(json.dumps(results, indent=2))\n",
    "else:\n",
    "    print(f\"❌ Failed to retrieve results. Status code: {response.status_code}, Response: {response.text}\")"
   ]
  },
  {
   "cell_type": "markdown",
   "id": "b7675028",
   "metadata": {},
   "source": [
    "## Undeploy the `convert-url` Process"
   ]
  },
  {
   "cell_type": "code",
   "execution_count": 11,
   "id": "15d461dc",
   "metadata": {},
   "outputs": [
    {
     "name": "stdout",
     "output_type": "stream",
     "text": [
      "✅ Successfully undeployed 'convert-url' process.\n"
     ]
    }
   ],
   "source": [
    "undeploy_url = f\"{processes_url}/convert-url\"\n",
    "response = requests.delete(undeploy_url, headers=headers)\n",
    "\n",
    "if response.status_code in [200, 204]:\n",
    "    print(f\"✅ Successfully undeployed 'convert-url' process.\")\n",
    "else:\n",
    "    print(f\"❌ Failed to undeploy 'convert-url'. Status code: {response.status_code}, Response: {response.text}\")"
   ]
  }
 ],
 "metadata": {
  "kernelspec": {
   "display_name": "Python 3",
   "language": "python",
   "name": "python3"
  },
  "language_info": {
   "codemirror_mode": {
    "name": "ipython",
    "version": 3
   },
   "file_extension": ".py",
   "mimetype": "text/x-python",
   "name": "python",
   "nbconvert_exporter": "python",
   "pygments_lexer": "ipython3",
   "version": "3.10.12"
  }
 },
 "nbformat": 4,
 "nbformat_minor": 5
}
