{
 "cells": [
  {
   "cell_type": "markdown",
   "id": "c6a14aa9-b395-466f-8773-8258fef66891",
   "metadata": {
    "editable": true,
    "slideshow": {
     "slide_type": ""
    },
    "tags": [],
    "vscode": {
     "languageId": "raw"
    }
   },
   "source": [
    "# EOEPCA MLOps Validation and Usage Notebook"
   ]
  },
  {
   "cell_type": "markdown",
   "id": "fd364dc8-1b01-4a4c-abd5-185081cb3641",
   "metadata": {},
   "source": [
    "## Setup"
   ]
  },
  {
   "cell_type": "code",
   "execution_count": 1,
   "id": "63f00541-6375-4d66-b84d-06e7b26b6efa",
   "metadata": {
    "editable": true,
    "slideshow": {
     "slide_type": ""
    },
    "tags": []
   },
   "outputs": [],
   "source": [
    "import os\n",
    "import requests\n",
    "import json\n",
    "from pathlib import Path\n",
    "\n",
    "import sys\n",
    "sys.path.append('../')\n",
    "from modules.helpers import get_access_token, load_eoepca_state, test_cell, test_results"
   ]
  },
  {
   "cell_type": "markdown",
   "id": "e8165564-bede-48ee-b81b-857dfeb85ffb",
   "metadata": {
    "editable": true,
    "slideshow": {
     "slide_type": ""
    },
    "tags": []
   },
   "source": [
    "Load `eoepca state` environment"
   ]
  },
  {
   "cell_type": "code",
   "execution_count": 2,
   "id": "9138ba4e-4103-41db-a8da-1d937036d5f3",
   "metadata": {
    "editable": true,
    "slideshow": {
     "slide_type": ""
    },
    "tags": []
   },
   "outputs": [],
   "source": [
    "load_eoepca_state()"
   ]
  },
  {
   "cell_type": "code",
   "execution_count": 8,
   "id": "041ea5c5",
   "metadata": {},
   "outputs": [],
   "source": [
    "platform_domain = os.environ.get(\"INGRESS_HOST\")\n",
    "use_oidc = os.environ.get(\"USE_CERT_MANAGER\", \"yes\") == \"yes\"\n",
    "project_name = \"mlops-test-project\"\n",
    "gitlab_domain = f'https://gitlab.{platform_domain}'\n",
    "sharinghub_domain = f'https://sharinghub.{platform_domain}'\n",
    "mlflow_base_url = f'{sharinghub_domain}/mlflow'"
   ]
  },
  {
   "cell_type": "code",
   "execution_count": 9,
   "id": "25a438de",
   "metadata": {},
   "outputs": [
    {
     "name": "stdout",
     "output_type": "stream",
     "text": [
      "GitLab (https://gitlab.test.eoepca.org): 200\n",
      "SharingHub (https://sharinghub.test.eoepca.org): 200\n",
      "MLflow (https://sharinghub.test.eoepca.org/mlflow): 401\n"
     ]
    }
   ],
   "source": [
    "services = {\n",
    "    \"GitLab\": gitlab_domain,\n",
    "    \"SharingHub\": sharinghub_domain,\n",
    "    \"MLflow\": mlflow_base_url\n",
    "}\n",
    "\n",
    "for service, url in services.items():\n",
    "    response = requests.get(url)\n",
    "    print(f\"{service} ({url}): {response.status_code}\")"
   ]
  },
  {
   "cell_type": "markdown",
   "id": "560ae346",
   "metadata": {},
   "source": [
    "## GitLab Project Validation"
   ]
  },
  {
   "cell_type": "code",
   "execution_count": 10,
   "id": "796fac4e",
   "metadata": {},
   "outputs": [
    {
     "name": "stdout",
     "output_type": "stream",
     "text": [
      "✅ GitLab Project 'mlops-test-project' exists.\n"
     ]
    }
   ],
   "source": [
    "project_api_url = f\"{gitlab_domain}/api/v4/projects/1\"\n",
    "\n",
    "project_response = requests.get(project_api_url)\n",
    "if project_response.status_code == 200:\n",
    "    project_data = project_response.json()\n",
    "    print(f\"✅ GitLab Project '{project_name}' exists.\")\n",
    "else:\n",
    "    print(f\"❌ GitLab Project '{project_name}' not found or inaccessible.\")"
   ]
  },
  {
   "cell_type": "markdown",
   "id": "04452b36",
   "metadata": {},
   "source": [
    "## SharingHub Project Validation"
   ]
  },
  {
   "cell_type": "code",
   "execution_count": 11,
   "id": "a53f5453",
   "metadata": {},
   "outputs": [
    {
     "name": "stdout",
     "output_type": "stream",
     "text": [
      "SharingHub Project URL: https://sharinghub.test.eoepca.org/api/stac/collections/ai-model/items/root/mlops-test-project\n",
      "✅ Project 'mlops-test-project' is discoverable in SharingHub.\n",
      "{\n",
      "  \"stac_version\": \"1.0.0\",\n",
      "  \"stac_extensions\": [],\n",
      "  \"type\": \"Feature\",\n",
      "  \"id\": \"root/mlops-test-project\",\n",
      "  \"geometry\": null,\n",
      "  \"collection\": \"ai-model\",\n",
      "  \"properties\": {\n",
      "    \"title\": \"mlops-test-project\",\n",
      "    \"description\": \"# mlops-test-project\\n\\n## Getting started\\n\\nTo make it easy for you to get started with GitLab, here's a list of recommended next steps.\\n\\nAlready a pro? Just edit this README.md and make it your own. Want to make it easy? [Use the template at the bottom](#editing-this-readme)!\\n\\n## Add your files\\n\\n- [ ] [Create](https://docs.gitlab.com/ee/user/project/repository/web_editor.html#create-a-file) or [upload](https://docs.gitlab.com/ee/user/project/repository/web_editor.html#upload-a-file) files\\n- [ ] [Add files using the command line](https://docs.gitlab.com/ee/gitlab-basics/add-file.html#add-a-file-using-the-command-line) or push an existing Git repository with the following command:\\n\\n```\\ncd existing_repo\\ngit remote add origin https://gitlab.test.eoepca.org/root/mlops-test-project.git\\ngit branch -M main\\ngit push -uf origin main\\n```\\n\\n## Integrate with your tools\\n\\n- [ ] [Set up project integrations](https://gitlab.test.eoepca.org/root/mlops-test-project/-/settings/integrations)\\n\\n## Collaborate with your team\\n\\n- [ ] [Invite team members and collaborators](https://docs.gitlab.com/ee/user/project/members/)\\n- [ ] [Create a new merge request](https://docs.gitlab.com/ee/user/project/merge_requests/creating_merge_requests.html)\\n- [ ] [Automatically close issues from merge requests](https://docs.gitlab.com/ee/user/project/issues/managing_issues.html#closing-issues-automatically)\\n- [ ] [Enable merge request approvals](https://docs.gitlab.com/ee/user/project/merge_requests/approvals/)\\n- [ ] [Set auto-merge](https://docs.gitlab.com/ee/user/project/merge_requests/merge_when_pipeline_succeeds.html)\\n\\n## Test and Deploy\\n\\nUse the built-in continuous integration in GitLab.\\n\\n- [ ] [Get started with GitLab CI/CD](https://docs.gitlab.com/ee/ci/quick_start/index.html)\\n- [ ] [Analyze your code for known vulnerabilities with Static Application Security Testing (SAST)](https://docs.gitlab.com/ee/user/application_security/sast/)\\n- [ ] [Deploy to Kubernetes, Amazon EC2, or Amazon ECS using Auto Deploy](https://docs.gitlab.com/ee/topics/autodevops/requirements.html)\\n- [ ] [Use pull-based deployments for improved Kubernetes management](https://docs.gitlab.com/ee/user/clusters/agent/)\\n- [ ] [Set up protected environments](https://docs.gitlab.com/ee/ci/environments/protected_environments.html)\\n\\n***\\n\\n# Editing this README\\n\\nWhen you're ready to make this README your own, just edit this file and use the handy template below (or feel free to structure it however you want - this is just a starting point!). Thanks to [makeareadme.com](https://www.makeareadme.com/) for this template.\\n\\n## Suggestions for a good README\\n\\nEvery project is different, so consider which of these sections apply to yours. The sections used in the template are suggestions for most open source projects. Also keep in mind that while a README can be too long and detailed, too long is better than too short. If you think your README is too long, consider utilizing another form of documentation rather than cutting out information.\\n\\n## Name\\nChoose a self-explaining name for your project.\\n\\n## Description\\nLet people know what your project can do specifically. Provide context and add a link to any reference visitors might be unfamiliar with. A list of Features or a Background subsection can also be added here. If there are alternatives to your project, this is a good place to list differentiating factors.\\n\\n## Badges\\nOn some READMEs, you may see small images that convey metadata, such as whether or not all the tests are passing for the project. You can use Shields to add some to your README. Many services also have instructions for adding a badge.\\n\\n## Visuals\\nDepending on what you are making, it can be a good idea to include screenshots or even a video (you'll frequently see GIFs rather than actual videos). Tools like ttygif can help, but check out Asciinema for a more sophisticated method.\\n\\n## Installation\\nWithin a particular ecosystem, there may be a common way of installing things, such as using Yarn, NuGet, or Homebrew. However, consider the possibility that whoever is reading your README is a novice and would like more guidance. Listing specific steps helps remove ambiguity and gets people to using your project as quickly as possible. If it only runs in a specific context like a particular programming language version or operating system or has dependencies that have to be installed manually, also add a Requirements subsection.\\n\\n## Usage\\nUse examples liberally, and show the expected output if you can. It's helpful to have inline the smallest example of usage that you can demonstrate, while providing links to more sophisticated examples if they are too long to reasonably include in the README.\\n\\n## Support\\nTell people where they can go to for help. It can be any combination of an issue tracker, a chat room, an email address, etc.\\n\\n## Roadmap\\nIf you have ideas for releases in the future, it is a good idea to list them in the README.\\n\\n## Contributing\\nState if you are open to contributions and what your requirements are for accepting them.\\n\\nFor people who want to make changes to your project, it's helpful to have some documentation on how to get started. Perhaps there is a script that they should run or some environment variables that they need to set. Make these steps explicit. These instructions could also be useful to your future self.\\n\\nYou can also document commands to lint the code or run tests. These steps help to ensure high code quality and reduce the likelihood that the changes inadvertently break something. Having instructions for running tests is especially helpful if it requires external setup, such as starting a Selenium server for testing in a browser.\\n\\n## Authors and acknowledgment\\nShow your appreciation to those who have contributed to the project.\\n\\n## License\\nFor open source projects, say how it is licensed.\\n\\n## Project status\\nIf you have run out of energy or time for your project, put a note at the top of the README saying that development has slowed down or stopped completely. Someone may choose to fork your project or volunteer to step in as a maintainer or owner, allowing your project to keep going. You can also make an explicit request for maintainers.\",\n",
      "    \"datetime\": \"2025-05-15T12:54:32Z\",\n",
      "    \"start_datetime\": \"2025-05-15T12:54:17Z\",\n",
      "    \"end_datetime\": \"2025-05-15T12:54:32Z\",\n",
      "    \"created\": \"2025-05-15T12:54:17Z\",\n",
      "    \"updated\": \"2025-05-15T12:54:32Z\",\n",
      "    \"keywords\": [],\n",
      "    \"providers\": [\n",
      "      {\n",
      "        \"name\": \"GitLab (https://gitlab.test.eoepca.org)\",\n",
      "        \"roles\": [\n",
      "          \"host\"\n",
      "        ],\n",
      "        \"url\": \"https://gitlab.test.eoepca.org/root/mlops-test-project\"\n",
      "      },\n",
      "      {\n",
      "        \"name\": \"Administrator\",\n",
      "        \"roles\": [\n",
      "          \"producer\"\n",
      "        ],\n",
      "        \"url\": \"https://gitlab.test.eoepca.org/root\"\n",
      "      }\n",
      "    ],\n",
      "    \"sharinghub:id\": 1,\n",
      "    \"sharinghub:name\": \"Administrator / mlops-test-project\",\n",
      "    \"sharinghub:path\": \"root/mlops-test-project\",\n",
      "    \"sharinghub:stars\": 0,\n",
      "    \"sharinghub:default-branch\": \"main\",\n",
      "    \"sharinghub:access-level\": 2,\n",
      "    \"sharinghub:dvc-init\": \"disable\",\n",
      "    \"sharinghub:map-viewer\": \"enable\",\n",
      "    \"sharinghub:store-s3\": \"enable\",\n",
      "    \"sharinghub:mlflow\": \"enable\",\n",
      "    \"sharinghub:jupyter\": \"enable\"\n",
      "  },\n",
      "  \"links\": [\n",
      "    {\n",
      "      \"rel\": \"self\",\n",
      "      \"type\": \"application/geo+json\",\n",
      "      \"href\": \"https://sharinghub.test.eoepca.org/api/stac/collections/ai-model/items/root/mlops-test-project\"\n",
      "    },\n",
      "    {\n",
      "      \"rel\": \"parent\",\n",
      "      \"type\": \"application/json\",\n",
      "      \"href\": \"https://sharinghub.test.eoepca.org/api/stac/collections/ai-model\"\n",
      "    },\n",
      "    {\n",
      "      \"rel\": \"root\",\n",
      "      \"type\": \"application/json\",\n",
      "      \"href\": \"https://sharinghub.test.eoepca.org/api/stac/\"\n",
      "    },\n",
      "    {\n",
      "      \"rel\": \"collection\",\n",
      "      \"type\": \"application/json\",\n",
      "      \"href\": \"https://sharinghub.test.eoepca.org/api/stac/collections/ai-model\"\n",
      "    },\n",
      "    {\n",
      "      \"rel\": \"bug_tracker\",\n",
      "      \"type\": \"text/html\",\n",
      "      \"href\": \"https://gitlab.test.eoepca.org/root/mlops-test-project/issues\",\n",
      "      \"title\": \"Bug Tracker\"\n",
      "    },\n",
      "    {\n",
      "      \"rel\": \"mlflow:tracking-uri\",\n",
      "      \"href\": \"https://sharinghub.test.eoepca.org/mlflow/root/mlops-test-project/tracking/\",\n",
      "      \"title\": \"MLflow - Tracking URI\"\n",
      "    }\n",
      "  ],\n",
      "  \"assets\": {}\n",
      "}\n"
     ]
    }
   ],
   "source": [
    "sharinghub_project_url = f\"{sharinghub_domain}/api/stac/collections/ai-model/items/root/{project_name}\"\n",
    "print(f\"SharingHub Project URL: {sharinghub_project_url}\")\n",
    "sharinghub_response = requests.get(sharinghub_project_url)\n",
    "\n",
    "if sharinghub_response.status_code == 200:\n",
    "    print(f\"✅ Project '{project_name}' is discoverable in SharingHub.\")\n",
    "    print(json.dumps(sharinghub_response.json(), indent=2))\n",
    "else:\n",
    "    print(f\"❌ Project '{project_name}' not found in SharingHub.\")"
   ]
  },
  {
   "cell_type": "markdown",
   "id": "112aa7b0",
   "metadata": {},
   "source": [
    "## MLflow Project Setup Validation"
   ]
  },
  {
   "cell_type": "code",
   "execution_count": 12,
   "id": "630bb44b",
   "metadata": {},
   "outputs": [
    {
     "name": "stdout",
     "output_type": "stream",
     "text": [
      "Defaulting to user installation because normal site-packages is not writeable\n",
      "Collecting mlflow\n",
      "  Downloading mlflow-2.22.0-py3-none-any.whl (29.0 MB)\n",
      "\u001b[2K     \u001b[90m━━━━━━━━━━━━━━━━━━━━━━━━━━━━━━━━━━━━━━━━\u001b[0m \u001b[32m29.0/29.0 MB\u001b[0m \u001b[31m57.1 MB/s\u001b[0m eta \u001b[36m0:00:00\u001b[0m00:01\u001b[0m00:01\u001b[0m\n",
      "\u001b[?25hCollecting scikit-learn\n",
      "  Downloading scikit_learn-1.6.1-cp310-cp310-manylinux_2_17_x86_64.manylinux2014_x86_64.whl (13.5 MB)\n",
      "\u001b[2K     \u001b[90m━━━━━━━━━━━━━━━━━━━━━━━━━━━━━━━━━━━━━━━━\u001b[0m \u001b[32m13.5/13.5 MB\u001b[0m \u001b[31m78.7 MB/s\u001b[0m eta \u001b[36m0:00:00\u001b[0m00:01\u001b[0m00:01\u001b[0m\n",
      "\u001b[?25hRequirement already satisfied: pandas<3 in /home/eouser/.local/lib/python3.10/site-packages (from mlflow) (2.2.3)\n",
      "Collecting sqlalchemy<3,>=1.4.0\n",
      "  Downloading sqlalchemy-2.0.41-cp310-cp310-manylinux_2_17_x86_64.manylinux2014_x86_64.whl (3.2 MB)\n",
      "\u001b[2K     \u001b[90m━━━━━━━━━━━━━━━━━━━━━━━━━━━━━━━━━━━━━━━━\u001b[0m \u001b[32m3.2/3.2 MB\u001b[0m \u001b[31m74.6 MB/s\u001b[0m eta \u001b[36m0:00:00\u001b[0m:00:01\u001b[0m\n",
      "\u001b[?25hCollecting scipy<2\n",
      "  Downloading scipy-1.15.3-cp310-cp310-manylinux_2_17_x86_64.manylinux2014_x86_64.whl (37.7 MB)\n",
      "\u001b[2K     \u001b[90m━━━━━━━━━━━━━━━━━━━━━━━━━━━━━━━━━━━━━━━━\u001b[0m \u001b[32m37.7/37.7 MB\u001b[0m \u001b[31m43.5 MB/s\u001b[0m eta \u001b[36m0:00:00\u001b[0m00:01\u001b[0m00:01\u001b[0m\n",
      "\u001b[?25hCollecting gunicorn<24\n",
      "  Downloading gunicorn-23.0.0-py3-none-any.whl (85 kB)\n",
      "\u001b[2K     \u001b[90m━━━━━━━━━━━━━━━━━━━━━━━━━━━━━━━━━━━━━━━━\u001b[0m \u001b[32m85.0/85.0 KB\u001b[0m \u001b[31m14.5 MB/s\u001b[0m eta \u001b[36m0:00:00\u001b[0m\n",
      "\u001b[?25hRequirement already satisfied: numpy<3 in /home/eouser/.local/lib/python3.10/site-packages (from mlflow) (2.2.5)\n",
      "Collecting alembic!=1.10.0,<2\n",
      "  Downloading alembic-1.15.2-py3-none-any.whl (231 kB)\n",
      "\u001b[2K     \u001b[90m━━━━━━━━━━━━━━━━━━━━━━━━━━━━━━━━━━━━━━\u001b[0m \u001b[32m231.9/231.9 KB\u001b[0m \u001b[31m33.1 MB/s\u001b[0m eta \u001b[36m0:00:00\u001b[0m\n",
      "\u001b[?25hCollecting Flask<4\n",
      "  Downloading flask-3.1.1-py3-none-any.whl (103 kB)\n",
      "\u001b[2K     \u001b[90m━━━━━━━━━━━━━━━━━━━━━━━━━━━━━━━━━━━━━━\u001b[0m \u001b[32m103.3/103.3 KB\u001b[0m \u001b[31m19.5 MB/s\u001b[0m eta \u001b[36m0:00:00\u001b[0m\n",
      "\u001b[?25hCollecting graphene<4\n",
      "  Downloading graphene-3.4.3-py2.py3-none-any.whl (114 kB)\n",
      "\u001b[2K     \u001b[90m━━━━━━━━━━━━━━━━━━━━━━━━━━━━━━━━━━━━━━\u001b[0m \u001b[32m114.9/114.9 KB\u001b[0m \u001b[31m18.6 MB/s\u001b[0m eta \u001b[36m0:00:00\u001b[0m\n",
      "\u001b[?25hRequirement already satisfied: Jinja2<4,>=2.11 in /usr/lib/python3/dist-packages (from mlflow) (3.0.3)\n",
      "Collecting mlflow-skinny==2.22.0\n",
      "  Downloading mlflow_skinny-2.22.0-py3-none-any.whl (6.3 MB)\n",
      "\u001b[2K     \u001b[90m━━━━━━━━━━━━━━━━━━━━━━━━━━━━━━━━━━━━━━━━\u001b[0m \u001b[32m6.3/6.3 MB\u001b[0m \u001b[31m89.7 MB/s\u001b[0m eta \u001b[36m0:00:00\u001b[0m:00:01\u001b[0m00:01\u001b[0m\n",
      "\u001b[?25hCollecting docker<8,>=4.0.0\n",
      "  Downloading docker-7.1.0-py3-none-any.whl (147 kB)\n",
      "\u001b[2K     \u001b[90m━━━━━━━━━━━━━━━━━━━━━━━━━━━━━━━━━━━━━━\u001b[0m \u001b[32m147.8/147.8 KB\u001b[0m \u001b[31m23.1 MB/s\u001b[0m eta \u001b[36m0:00:00\u001b[0m\n",
      "\u001b[?25hCollecting pyarrow<20,>=4.0.0\n",
      "  Downloading pyarrow-19.0.1-cp310-cp310-manylinux_2_28_x86_64.whl (42.1 MB)\n",
      "\u001b[2K     \u001b[90m━━━━━━━━━━━━━━━━━━━━━━━━━━━━━━━━━━━━━━━━\u001b[0m \u001b[32m42.1/42.1 MB\u001b[0m \u001b[31m42.8 MB/s\u001b[0m eta \u001b[36m0:00:00\u001b[0m00:01\u001b[0m00:01\u001b[0m\n",
      "\u001b[?25hRequirement already satisfied: matplotlib<4 in /home/eouser/.local/lib/python3.10/site-packages (from mlflow) (3.10.1)\n",
      "Collecting markdown<4,>=3.3\n",
      "  Downloading markdown-3.8-py3-none-any.whl (106 kB)\n",
      "\u001b[2K     \u001b[90m━━━━━━━━━━━━━━━━━━━━━━━━━━━━━━━━━━━━━━\u001b[0m \u001b[32m106.2/106.2 KB\u001b[0m \u001b[31m20.5 MB/s\u001b[0m eta \u001b[36m0:00:00\u001b[0m\n",
      "\u001b[?25hCollecting databricks-sdk<1,>=0.20.0\n",
      "  Downloading databricks_sdk-0.53.0-py3-none-any.whl (700 kB)\n",
      "\u001b[2K     \u001b[90m━━━━━━━━━━━━━━━━━━━━━━━━━━━━━━━━━━━━━━\u001b[0m \u001b[32m700.2/700.2 KB\u001b[0m \u001b[31m50.6 MB/s\u001b[0m eta \u001b[36m0:00:00\u001b[0m\n",
      "\u001b[?25hCollecting packaging<25\n",
      "  Downloading packaging-24.2-py3-none-any.whl (65 kB)\n",
      "\u001b[2K     \u001b[90m━━━━━━━━━━━━━━━━━━━━━━━━━━━━━━━━━━━━━━━━\u001b[0m \u001b[32m65.5/65.5 KB\u001b[0m \u001b[31m4.8 MB/s\u001b[0m eta \u001b[36m0:00:00\u001b[0m\n",
      "\u001b[?25hCollecting protobuf<7,>=3.12.0\n",
      "  Downloading protobuf-6.31.0-cp39-abi3-manylinux2014_x86_64.whl (320 kB)\n",
      "\u001b[2K     \u001b[90m━━━━━━━━━━━━━━━━━━━━━━━━━━━━━━━━━━━━━━\u001b[0m \u001b[32m320.9/320.9 KB\u001b[0m \u001b[31m41.4 MB/s\u001b[0m eta \u001b[36m0:00:00\u001b[0m\n",
      "\u001b[?25hCollecting pydantic<3,>=1.10.8\n",
      "  Downloading pydantic-2.11.4-py3-none-any.whl (443 kB)\n",
      "\u001b[2K     \u001b[90m━━━━━━━━━━━━━━━━━━━━━━━━━━━━━━━━━━━━━━\u001b[0m \u001b[32m443.9/443.9 KB\u001b[0m \u001b[31m47.2 MB/s\u001b[0m eta \u001b[36m0:00:00\u001b[0m\n",
      "\u001b[?25hRequirement already satisfied: pyyaml<7,>=5.1 in /usr/lib/python3/dist-packages (from mlflow-skinny==2.22.0->mlflow) (5.4.1)\n",
      "Collecting sqlparse<1,>=0.4.0\n",
      "  Downloading sqlparse-0.5.3-py3-none-any.whl (44 kB)\n",
      "\u001b[2K     \u001b[90m━━━━━━━━━━━━━━━━━━━━━━━━━━━━━━━━━━━━━━━━\u001b[0m \u001b[32m44.4/44.4 KB\u001b[0m \u001b[31m7.6 MB/s\u001b[0m eta \u001b[36m0:00:00\u001b[0m\n",
      "\u001b[?25hCollecting cachetools<6,>=5.0.0\n",
      "  Downloading cachetools-5.5.2-py3-none-any.whl (10 kB)\n",
      "Collecting opentelemetry-sdk<3,>=1.9.0\n",
      "  Downloading opentelemetry_sdk-1.33.0-py3-none-any.whl (118 kB)\n",
      "\u001b[2K     \u001b[90m━━━━━━━━━━━━━━━━━━━━━━━━━━━━━━━━━━━━━━\u001b[0m \u001b[32m118.9/118.9 KB\u001b[0m \u001b[31m22.4 MB/s\u001b[0m eta \u001b[36m0:00:00\u001b[0m\n",
      "\u001b[?25hRequirement already satisfied: requests<3,>=2.17.3 in /home/eouser/.local/lib/python3.10/site-packages (from mlflow-skinny==2.22.0->mlflow) (2.32.3)\n",
      "Requirement already satisfied: click<9,>=7.0 in /home/eouser/.local/lib/python3.10/site-packages (from mlflow-skinny==2.22.0->mlflow) (8.1.8)\n",
      "Requirement already satisfied: typing-extensions<5,>=4.0.0 in /home/eouser/.local/lib/python3.10/site-packages (from mlflow-skinny==2.22.0->mlflow) (4.13.2)\n",
      "Collecting uvicorn<1\n",
      "  Downloading uvicorn-0.34.2-py3-none-any.whl (62 kB)\n",
      "\u001b[2K     \u001b[90m━━━━━━━━━━━━━━━━━━━━━━━━━━━━━━━━━━━━━━━━\u001b[0m \u001b[32m62.5/62.5 KB\u001b[0m \u001b[31m9.3 MB/s\u001b[0m eta \u001b[36m0:00:00\u001b[0m\n",
      "\u001b[?25hRequirement already satisfied: importlib_metadata!=4.7.0,<9,>=3.7.0 in /usr/lib/python3/dist-packages (from mlflow-skinny==2.22.0->mlflow) (4.6.4)\n",
      "Collecting gitpython<4,>=3.1.9\n",
      "  Downloading GitPython-3.1.44-py3-none-any.whl (207 kB)\n",
      "\u001b[2K     \u001b[90m━━━━━━━━━━━━━━━━━━━━━━━━━━━━━━━━━━━━━━\u001b[0m \u001b[32m207.6/207.6 KB\u001b[0m \u001b[31m34.4 MB/s\u001b[0m eta \u001b[36m0:00:00\u001b[0m\n",
      "\u001b[?25hCollecting cloudpickle<4\n",
      "  Downloading cloudpickle-3.1.1-py3-none-any.whl (20 kB)\n",
      "Collecting fastapi<1\n",
      "  Downloading fastapi-0.115.12-py3-none-any.whl (95 kB)\n",
      "\u001b[2K     \u001b[90m━━━━━━━━━━━━━━━━━━━━━━━━━━━━━━━━━━━━━━━━\u001b[0m \u001b[32m95.2/95.2 KB\u001b[0m \u001b[31m15.0 MB/s\u001b[0m eta \u001b[36m0:00:00\u001b[0m\n",
      "\u001b[?25hCollecting opentelemetry-api<3,>=1.9.0\n",
      "  Downloading opentelemetry_api-1.33.0-py3-none-any.whl (65 kB)\n",
      "\u001b[2K     \u001b[90m━━━━━━━━━━━━━━━━━━━━━━━━━━━━━━━━━━━━━━━━\u001b[0m \u001b[32m65.8/65.8 KB\u001b[0m \u001b[31m11.7 MB/s\u001b[0m eta \u001b[36m0:00:00\u001b[0m\n",
      "\u001b[?25hCollecting joblib>=1.2.0\n",
      "  Downloading joblib-1.5.0-py3-none-any.whl (307 kB)\n",
      "\u001b[2K     \u001b[90m━━━━━━━━━━━━━━━━━━━━━━━━━━━━━━━━━━━━━━\u001b[0m \u001b[32m307.7/307.7 KB\u001b[0m \u001b[31m35.7 MB/s\u001b[0m eta \u001b[36m0:00:00\u001b[0m\n",
      "\u001b[?25hCollecting threadpoolctl>=3.1.0\n",
      "  Downloading threadpoolctl-3.6.0-py3-none-any.whl (18 kB)\n",
      "Collecting Mako\n",
      "  Downloading mako-1.3.10-py3-none-any.whl (78 kB)\n",
      "\u001b[2K     \u001b[90m━━━━━━━━━━━━━━━━━━━━━━━━━━━━━━━━━━━━━━━━\u001b[0m \u001b[32m78.5/78.5 KB\u001b[0m \u001b[31m12.0 MB/s\u001b[0m eta \u001b[36m0:00:00\u001b[0m\n",
      "\u001b[?25hRequirement already satisfied: urllib3>=1.26.0 in /usr/lib/python3/dist-packages (from docker<8,>=4.0.0->mlflow) (1.26.5)\n",
      "Collecting Jinja2<4,>=2.11\n",
      "  Downloading jinja2-3.1.6-py3-none-any.whl (134 kB)\n",
      "\u001b[2K     \u001b[90m━━━━━━━━━━━━━━━━━━━━━━━━━━━━━━━━━━━━━━\u001b[0m \u001b[32m134.9/134.9 KB\u001b[0m \u001b[31m12.0 MB/s\u001b[0m eta \u001b[36m0:00:00\u001b[0m\n",
      "\u001b[?25hCollecting itsdangerous>=2.2.0\n",
      "  Downloading itsdangerous-2.2.0-py3-none-any.whl (16 kB)\n",
      "Collecting blinker>=1.9.0\n",
      "  Downloading blinker-1.9.0-py3-none-any.whl (8.5 kB)\n",
      "Collecting werkzeug>=3.1.0\n",
      "  Downloading werkzeug-3.1.3-py3-none-any.whl (224 kB)\n",
      "\u001b[2K     \u001b[90m━━━━━━━━━━━━━━━━━━━━━━━━━━━━━━━━━━━━━━\u001b[0m \u001b[32m224.5/224.5 KB\u001b[0m \u001b[31m36.2 MB/s\u001b[0m eta \u001b[36m0:00:00\u001b[0m\n",
      "\u001b[?25hCollecting markupsafe>=2.1.1\n",
      "  Downloading MarkupSafe-3.0.2-cp310-cp310-manylinux_2_17_x86_64.manylinux2014_x86_64.whl (20 kB)\n",
      "Collecting graphql-relay<3.3,>=3.1\n",
      "  Downloading graphql_relay-3.2.0-py3-none-any.whl (16 kB)\n",
      "Collecting graphql-core<3.3,>=3.1\n",
      "  Downloading graphql_core-3.2.6-py3-none-any.whl (203 kB)\n",
      "\u001b[2K     \u001b[90m━━━━━━━━━━━━━━━━━━━━━━━━━━━━━━━━━━━━━━\u001b[0m \u001b[32m203.4/203.4 KB\u001b[0m \u001b[31m33.0 MB/s\u001b[0m eta \u001b[36m0:00:00\u001b[0m\n",
      "\u001b[?25hRequirement already satisfied: python-dateutil<3,>=2.7.0 in /home/eouser/.local/lib/python3.10/site-packages (from graphene<4->mlflow) (2.9.0.post0)\n",
      "Requirement already satisfied: pillow>=8 in /home/eouser/.local/lib/python3.10/site-packages (from matplotlib<4->mlflow) (11.2.1)\n",
      "Requirement already satisfied: pyparsing>=2.3.1 in /usr/lib/python3/dist-packages (from matplotlib<4->mlflow) (2.4.7)\n",
      "Requirement already satisfied: cycler>=0.10 in /home/eouser/.local/lib/python3.10/site-packages (from matplotlib<4->mlflow) (0.12.1)\n",
      "Requirement already satisfied: kiwisolver>=1.3.1 in /home/eouser/.local/lib/python3.10/site-packages (from matplotlib<4->mlflow) (1.4.8)\n",
      "Requirement already satisfied: fonttools>=4.22.0 in /home/eouser/.local/lib/python3.10/site-packages (from matplotlib<4->mlflow) (4.57.0)\n",
      "Requirement already satisfied: contourpy>=1.0.1 in /home/eouser/.local/lib/python3.10/site-packages (from matplotlib<4->mlflow) (1.3.2)\n",
      "Requirement already satisfied: tzdata>=2022.7 in /home/eouser/.local/lib/python3.10/site-packages (from pandas<3->mlflow) (2025.2)\n",
      "Requirement already satisfied: pytz>=2020.1 in /usr/lib/python3/dist-packages (from pandas<3->mlflow) (2022.1)\n",
      "Collecting greenlet>=1\n",
      "  Downloading greenlet-3.2.2-cp310-cp310-manylinux_2_24_x86_64.manylinux_2_28_x86_64.whl (580 kB)\n",
      "\u001b[2K     \u001b[90m━━━━━━━━━━━━━━━━━━━━━━━━━━━━━━━━━━━━━━\u001b[0m \u001b[32m580.6/580.6 KB\u001b[0m \u001b[31m50.7 MB/s\u001b[0m eta \u001b[36m0:00:00\u001b[0m\n",
      "\u001b[?25hCollecting google-auth~=2.0\n",
      "  Downloading google_auth-2.40.1-py2.py3-none-any.whl (216 kB)\n",
      "\u001b[2K     \u001b[90m━━━━━━━━━━━━━━━━━━━━━━━━━━━━━━━━━━━━━━\u001b[0m \u001b[32m216.1/216.1 KB\u001b[0m \u001b[31m20.1 MB/s\u001b[0m eta \u001b[36m0:00:00\u001b[0m\n",
      "\u001b[?25hCollecting starlette<0.47.0,>=0.40.0\n",
      "  Downloading starlette-0.46.2-py3-none-any.whl (72 kB)\n",
      "\u001b[2K     \u001b[90m━━━━━━━━━━━━━━━━━━━━━━━━━━━━━━━━━━━━━━━━\u001b[0m \u001b[32m72.0/72.0 KB\u001b[0m \u001b[31m11.2 MB/s\u001b[0m eta \u001b[36m0:00:00\u001b[0m\n",
      "\u001b[?25hCollecting gitdb<5,>=4.0.1\n",
      "  Downloading gitdb-4.0.12-py3-none-any.whl (62 kB)\n",
      "\u001b[2K     \u001b[90m━━━━━━━━━━━━━━━━━━━━━━━━━━━━━━━━━━━━━━━\u001b[0m \u001b[32m62.8/62.8 KB\u001b[0m \u001b[31m749.2 kB/s\u001b[0m eta \u001b[36m0:00:00\u001b[0m00:01\u001b[0m\n",
      "\u001b[?25hRequirement already satisfied: deprecated>=1.2.6 in /home/eouser/.local/lib/python3.10/site-packages (from opentelemetry-api<3,>=1.9.0->mlflow-skinny==2.22.0->mlflow) (1.2.18)\n",
      "Collecting importlib_metadata!=4.7.0,<9,>=3.7.0\n",
      "  Downloading importlib_metadata-8.6.1-py3-none-any.whl (26 kB)\n",
      "Collecting zipp>=3.20\n",
      "  Downloading zipp-3.21.0-py3-none-any.whl (9.6 kB)\n",
      "Collecting opentelemetry-semantic-conventions==0.54b0\n",
      "  Downloading opentelemetry_semantic_conventions-0.54b0-py3-none-any.whl (194 kB)\n",
      "\u001b[2K     \u001b[90m━━━━━━━━━━━━━━━━━━━━━━━━━━━━━━━━━━━━━━\u001b[0m \u001b[32m194.9/194.9 KB\u001b[0m \u001b[31m11.2 MB/s\u001b[0m eta \u001b[36m0:00:00\u001b[0m\n",
      "\u001b[?25hCollecting annotated-types>=0.6.0\n",
      "  Downloading annotated_types-0.7.0-py3-none-any.whl (13 kB)\n",
      "Collecting pydantic-core==2.33.2\n",
      "  Downloading pydantic_core-2.33.2-cp310-cp310-manylinux_2_17_x86_64.manylinux2014_x86_64.whl (2.0 MB)\n",
      "\u001b[2K     \u001b[90m━━━━━━━━━━━━━━━━━━━━━━━━━━━━━━━━━━━━━━━━\u001b[0m \u001b[32m2.0/2.0 MB\u001b[0m \u001b[31m84.7 MB/s\u001b[0m eta \u001b[36m0:00:00\u001b[0m\n",
      "\u001b[?25hCollecting typing-inspection>=0.4.0\n",
      "  Downloading typing_inspection-0.4.0-py3-none-any.whl (14 kB)\n",
      "Requirement already satisfied: six>=1.5 in /usr/lib/python3/dist-packages (from python-dateutil<3,>=2.7.0->graphene<4->mlflow) (1.16.0)\n",
      "Requirement already satisfied: certifi>=2017.4.17 in /usr/lib/python3/dist-packages (from requests<3,>=2.17.3->mlflow-skinny==2.22.0->mlflow) (2020.6.20)\n",
      "Requirement already satisfied: charset-normalizer<4,>=2 in /home/eouser/.local/lib/python3.10/site-packages (from requests<3,>=2.17.3->mlflow-skinny==2.22.0->mlflow) (3.4.1)\n",
      "Requirement already satisfied: idna<4,>=2.5 in /usr/lib/python3/dist-packages (from requests<3,>=2.17.3->mlflow-skinny==2.22.0->mlflow) (3.3)\n",
      "Collecting h11>=0.8\n",
      "  Downloading h11-0.16.0-py3-none-any.whl (37 kB)\n",
      "Requirement already satisfied: wrapt<2,>=1.10 in /home/eouser/.local/lib/python3.10/site-packages (from deprecated>=1.2.6->opentelemetry-api<3,>=1.9.0->mlflow-skinny==2.22.0->mlflow) (1.17.2)\n",
      "Collecting smmap<6,>=3.0.1\n",
      "  Downloading smmap-5.0.2-py3-none-any.whl (24 kB)\n",
      "Collecting rsa<5,>=3.1.4\n",
      "  Downloading rsa-4.9.1-py3-none-any.whl (34 kB)\n",
      "Collecting pyasn1-modules>=0.2.1\n",
      "  Downloading pyasn1_modules-0.4.2-py3-none-any.whl (181 kB)\n",
      "\u001b[2K     \u001b[90m━━━━━━━━━━━━━━━━━━━━━━━━━━━━━━━━━━━━━━\u001b[0m \u001b[32m181.3/181.3 KB\u001b[0m \u001b[31m31.6 MB/s\u001b[0m eta \u001b[36m0:00:00\u001b[0m\n",
      "\u001b[?25hCollecting anyio<5,>=3.6.2\n",
      "  Downloading anyio-4.9.0-py3-none-any.whl (100 kB)\n",
      "\u001b[2K     \u001b[90m━━━━━━━━━━━━━━━━━━━━━━━━━━━━━━━━━━━━━━\u001b[0m \u001b[32m100.9/100.9 KB\u001b[0m \u001b[31m17.2 MB/s\u001b[0m eta \u001b[36m0:00:00\u001b[0m\n",
      "\u001b[?25hRequirement already satisfied: exceptiongroup>=1.0.2 in /home/eouser/.local/lib/python3.10/site-packages (from anyio<5,>=3.6.2->starlette<0.47.0,>=0.40.0->fastapi<1->mlflow-skinny==2.22.0->mlflow) (1.2.2)\n",
      "Collecting sniffio>=1.1\n",
      "  Downloading sniffio-1.3.1-py3-none-any.whl (10 kB)\n",
      "Collecting pyasn1<0.7.0,>=0.6.1\n",
      "  Downloading pyasn1-0.6.1-py3-none-any.whl (83 kB)\n",
      "\u001b[2K     \u001b[90m━━━━━━━━━━━━━━━━━━━━━━━━━━━━━━━━━━━━━━━━\u001b[0m \u001b[32m83.1/83.1 KB\u001b[0m \u001b[31m6.5 MB/s\u001b[0m eta \u001b[36m0:00:00\u001b[0m\n",
      "\u001b[?25hInstalling collected packages: zipp, typing-inspection, threadpoolctl, sqlparse, sniffio, smmap, scipy, pydantic-core, pyasn1, pyarrow, protobuf, packaging, markupsafe, markdown, joblib, itsdangerous, h11, greenlet, graphql-core, cloudpickle, cachetools, blinker, annotated-types, werkzeug, uvicorn, sqlalchemy, scikit-learn, rsa, pydantic, pyasn1-modules, Mako, Jinja2, importlib_metadata, gunicorn, graphql-relay, gitdb, docker, anyio, starlette, opentelemetry-api, graphene, google-auth, gitpython, Flask, alembic, opentelemetry-semantic-conventions, fastapi, databricks-sdk, opentelemetry-sdk, mlflow-skinny, mlflow\n",
      "  Attempting uninstall: packaging\n",
      "    Found existing installation: packaging 25.0\n",
      "    Uninstalling packaging-25.0:\n",
      "      Successfully uninstalled packaging-25.0\n",
      "Successfully installed Flask-3.1.1 Jinja2-3.1.6 Mako-1.3.10 alembic-1.15.2 annotated-types-0.7.0 anyio-4.9.0 blinker-1.9.0 cachetools-5.5.2 cloudpickle-3.1.1 databricks-sdk-0.53.0 docker-7.1.0 fastapi-0.115.12 gitdb-4.0.12 gitpython-3.1.44 google-auth-2.40.1 graphene-3.4.3 graphql-core-3.2.6 graphql-relay-3.2.0 greenlet-3.2.2 gunicorn-23.0.0 h11-0.16.0 importlib_metadata-8.6.1 itsdangerous-2.2.0 joblib-1.5.0 markdown-3.8 markupsafe-3.0.2 mlflow-2.22.0 mlflow-skinny-2.22.0 opentelemetry-api-1.33.0 opentelemetry-sdk-1.33.0 opentelemetry-semantic-conventions-0.54b0 packaging-24.2 protobuf-6.31.0 pyarrow-19.0.1 pyasn1-0.6.1 pyasn1-modules-0.4.2 pydantic-2.11.4 pydantic-core-2.33.2 rsa-4.9.1 scikit-learn-1.6.1 scipy-1.15.3 smmap-5.0.2 sniffio-1.3.1 sqlalchemy-2.0.41 sqlparse-0.5.3 starlette-0.46.2 threadpoolctl-3.6.0 typing-inspection-0.4.0 uvicorn-0.34.2 werkzeug-3.1.3 zipp-3.21.0\n"
     ]
    }
   ],
   "source": [
    "!pip install mlflow scikit-learn"
   ]
  },
  {
   "cell_type": "markdown",
   "id": "1762a745",
   "metadata": {},
   "source": [
    "### Retrieve a GitLab Token\n",
    "\n",
    "Navigate to `https://gitlab.${INGRESS_HOST}/root/mlops-test-project/-/settings/access_tokens`"
   ]
  },
  {
   "cell_type": "code",
   "execution_count": null,
   "id": "5f7a839b",
   "metadata": {},
   "outputs": [
    {
     "name": "stdout",
     "output_type": "stream",
     "text": [
      "✅ Connected to MLflow. Available experiments:\n"
     ]
    }
   ],
   "source": [
    "os.environ[\"MLFLOW_TRACKING_URI\"] = f'https://sharinghub.{platform_domain}/mlflow/root/mlops-test-project/tracking/'\n",
    "os.environ[\"MLFLOW_TRACKING_TOKEN\"] = 'glpat-xxxxxxxxxxxx'\n",
    "\n",
    "import mlflow\n",
    "import mlflow.sklearn\n",
    "\n",
    "client = mlflow.tracking.MlflowClient(tracking_uri=os.environ[\"MLFLOW_TRACKING_URI\"])\n",
    "experiments = client.search_experiments()\n",
    "print(f\"✅ Connected to MLflow. Available experiments:\")\n",
    "for exp in experiments:\n",
    "    print(f\"- {exp.name} (ID: {exp.experiment_id})\")"
   ]
  },
  {
   "cell_type": "markdown",
   "id": "90ed6e6f",
   "metadata": {},
   "source": [
    "## Running a Sample MLflow Experiment"
   ]
  },
  {
   "cell_type": "code",
   "execution_count": null,
   "id": "82097e53",
   "metadata": {},
   "outputs": [
    {
     "name": "stderr",
     "output_type": "stream",
     "text": [
      "2025/05/15 14:42:47 INFO mlflow.tracking.fluent: Experiment with name 'example (1)' does not exist. Creating a new experiment.\n",
      "2025/05/15 14:42:47 INFO mlflow.tracking.fluent: Autologging successfully enabled for sklearn.\n"
     ]
    },
    {
     "name": "stdout",
     "output_type": "stream",
     "text": [
      "Run ID: 26a457a75dbe4acfa3383f20c61288d4\n"
     ]
    },
    {
     "name": "stderr",
     "output_type": "stream",
     "text": [
      "\u001b[31m2025/05/15 14:42:55 WARNING mlflow.models.model: Model logged without a signature and input example. Please set `input_example` parameter when logging the model to auto infer the model signature.\u001b[0m\n"
     ]
    },
    {
     "name": "stdout",
     "output_type": "stream",
     "text": [
      "Model training complete.\n",
      "Mean Squared Error: 0.5690247717229262\n",
      "R^2 Score: 0.2652750042179145\n",
      "🏃 View run selective-conch-507 at: https://sharinghub.test.eoepca.org/mlflow/root/mlops-test-project/tracking/#/experiments/1/runs/26a457a75dbe4acfa3383f20c61288d4\n",
      "🧪 View experiment at: https://sharinghub.test.eoepca.org/mlflow/root/mlops-test-project/tracking/#/experiments/1\n"
     ]
    }
   ],
   "source": [
    "import os\n",
    "import pandas as pd\n",
    "from sklearn.model_selection import train_test_split\n",
    "from sklearn.linear_model import LinearRegression\n",
    "from sklearn.metrics import mean_squared_error, r2_score\n",
    "import mlflow\n",
    "import mlflow.sklearn\n",
    "\n",
    "\n",
    "experiment_name = \"example (1)\"\n",
    "mlflow.set_tracking_uri(\"https://sharinghub.test.eoepca.org/mlflow/root/mlops-test-project/tracking/\")\n",
    "mlflow.set_experiment(experiment_name)\n",
    "mlflow.autolog()\n",
    "\n",
    "data_path = \"wine-quality.csv\"\n",
    "data = pd.read_csv(data_path)\n",
    "\n",
    "data = data.dropna()\n",
    "X = data.drop(\"quality\", axis=1)\n",
    "y = data[\"quality\"]\n",
    "\n",
    "# split the data into training and testing sets\n",
    "X_train, X_test, y_train, y_test = train_test_split(\n",
    "    X, y, test_size=0.2, random_state=42\n",
    ")\n",
    "\n",
    "# Start an MLflow run\n",
    "with mlflow.start_run():\n",
    "    run_id = mlflow.active_run().info.run_id\n",
    "    print(f\"Run ID: {run_id}\")\n",
    "\n",
    "    mlflow.log_param(\"model_type\", \"LinearRegression\")\n",
    "    mlflow.log_param(\"test_size\", 0.2)\n",
    "    mlflow.log_param(\"random_state\", 42)\n",
    "\n",
    "    model = LinearRegression()\n",
    "    model.fit(X_train, y_train)\n",
    "\n",
    "    predictions = model.predict(X_test)\n",
    "\n",
    "    mse = mean_squared_error(y_test, predictions)\n",
    "    r2 = r2_score(y_test, predictions)\n",
    "\n",
    "    mlflow.log_metric(\"mse\", mse)\n",
    "    mlflow.log_metric(\"r2\", r2)\n",
    "\n",
    "    mlflow.sklearn.log_model(model, \"model\")\n",
    "\n",
    "    print(\"Model training complete.\")\n",
    "    print(f\"Mean Squared Error: {mse}\")\n",
    "    print(f\"R^2 Score: {r2}\")\n",
    "\n"
   ]
  },
  {
   "cell_type": "markdown",
   "id": "f003a7f1",
   "metadata": {},
   "source": [
    "## Validate Experiment Logging in MLflow"
   ]
  },
  {
   "cell_type": "code",
   "execution_count": 38,
   "id": "37dd1eb3",
   "metadata": {},
   "outputs": [
    {
     "name": "stdout",
     "output_type": "stream",
     "text": [
      "✅ Run details from MLflow:\n",
      "{\n",
      "  \"metrics\": {\n",
      "    \"training_mean_squared_error\": 0.5628259699588581,\n",
      "    \"training_mean_absolute_error\": 0.5826467714644642,\n",
      "    \"training_r2_score\": 0.2843126626389435,\n",
      "    \"training_root_mean_squared_error\": 0.7502172818316425,\n",
      "    \"training_score\": 0.2843126626389435,\n",
      "    \"mean_squared_error_X_test\": 0.5690247717229262,\n",
      "    \"r2_score_X_test\": 0.2652750042179145,\n",
      "    \"mse\": 0.5690247717229262,\n",
      "    \"r2\": 0.2652750042179145\n",
      "  },\n",
      "  \"params\": {\n",
      "    \"model_type\": \"LinearRegression\",\n",
      "    \"test_size\": \"0.2\",\n",
      "    \"random_state\": \"42\",\n",
      "    \"copy_X\": \"True\",\n",
      "    \"fit_intercept\": \"True\",\n",
      "    \"n_jobs\": \"None\",\n",
      "    \"positive\": \"False\"\n",
      "  },\n",
      "  \"tags\": {\n",
      "    \"mlflow.user\": \"eouser\",\n",
      "    \"mlflow.source.name\": \"/home/eouser/.local/lib/python3.10/site-packages/ipykernel_launcher.py\",\n",
      "    \"mlflow.source.type\": \"LOCAL\",\n",
      "    \"mlflow.runName\": \"selective-conch-507\",\n",
      "    \"estimator_name\": \"LinearRegression\",\n",
      "    \"estimator_class\": \"sklearn.linear_model._base.LinearRegression\",\n",
      "    \"mlflow.log-model.history\": \"[{\\\"run_id\\\": \\\"26a457a75dbe4acfa3383f20c61288d4\\\", \\\"artifact_path\\\": \\\"model\\\", \\\"utc_time_created\\\": \\\"2025-05-15 14:42:48.153568\\\", \\\"flavors\\\": {\\\"python_function\\\": {\\\"model_path\\\": \\\"model.pkl\\\", \\\"predict_fn\\\": \\\"predict\\\", \\\"loader_module\\\": \\\"mlflow.sklearn\\\", \\\"python_version\\\": \\\"3.10.12\\\", \\\"env\\\": {\\\"conda\\\": \\\"conda.yaml\\\", \\\"virtualenv\\\": \\\"python_env.yaml\\\"}}, \\\"sklearn\\\": {\\\"pickled_model\\\": \\\"model.pkl\\\", \\\"sklearn_version\\\": \\\"1.6.1\\\", \\\"serialization_format\\\": \\\"cloudpickle\\\", \\\"code\\\": null}}, \\\"model_uuid\\\": \\\"d369177c811a4f99b4e976dee79da75e\\\"}, {\\\"run_id\\\": \\\"26a457a75dbe4acfa3383f20c61288d4\\\", \\\"artifact_path\\\": \\\"model\\\", \\\"utc_time_created\\\": \\\"2025-05-15 14:42:52.340192\\\", \\\"flavors\\\": {\\\"python_function\\\": {\\\"model_path\\\": \\\"model.pkl\\\", \\\"predict_fn\\\": \\\"predict\\\", \\\"loader_module\\\": \\\"mlflow.sklearn\\\", \\\"python_version\\\": \\\"3.10.12\\\", \\\"env\\\": {\\\"conda\\\": \\\"conda.yaml\\\", \\\"virtualenv\\\": \\\"python_env.yaml\\\"}}, \\\"sklearn\\\": {\\\"pickled_model\\\": \\\"model.pkl\\\", \\\"sklearn_version\\\": \\\"1.6.1\\\", \\\"serialization_format\\\": \\\"cloudpickle\\\", \\\"code\\\": null}}, \\\"model_uuid\\\": \\\"67bd46c8d92f4850974fbe8c6c72dfdc\\\"}]\"\n",
      "  }\n",
      "}\n"
     ]
    }
   ],
   "source": [
    "run_info = client.get_run(run_id) # run.info.run_id\n",
    "if run_info:\n",
    "    print(f\"✅ Run details from MLflow:\")\n",
    "    print(json.dumps(run_info.data.to_dictionary(), indent=2))\n",
    "else:\n",
    "    print(\"❌ Failed to retrieve run details from MLflow.\")"
   ]
  },
  {
   "cell_type": "markdown",
   "id": "5b895982",
   "metadata": {},
   "source": [
    "## Validate Artifact Storage in S3 (MinIO)"
   ]
  },
  {
   "cell_type": "code",
   "execution_count": 39,
   "id": "007696f3",
   "metadata": {},
   "outputs": [
    {
     "name": "stdout",
     "output_type": "stream",
     "text": [
      "Defaulting to user installation because normal site-packages is not writeable\n",
      "Collecting minio\n",
      "  Downloading minio-7.2.15-py3-none-any.whl (95 kB)\n",
      "\u001b[2K     \u001b[90m━━━━━━━━━━━━━━━━━━━━━━━━━━━━━━━━━━━━━━━━\u001b[0m \u001b[32m95.1/95.1 KB\u001b[0m \u001b[31m2.1 MB/s\u001b[0m eta \u001b[36m0:00:00\u001b[0ma \u001b[36m0:00:01\u001b[0m\n",
      "\u001b[?25hCollecting argon2-cffi\n",
      "  Downloading argon2_cffi-23.1.0-py3-none-any.whl (15 kB)\n",
      "Requirement already satisfied: typing-extensions in /home/eouser/.local/lib/python3.10/site-packages (from minio) (4.13.2)\n",
      "Requirement already satisfied: urllib3 in /usr/lib/python3/dist-packages (from minio) (1.26.5)\n",
      "Collecting pycryptodome\n",
      "  Downloading pycryptodome-3.22.0-cp37-abi3-manylinux_2_17_x86_64.manylinux2014_x86_64.whl (2.3 MB)\n",
      "\u001b[2K     \u001b[90m━━━━━━━━━━━━━━━━━━━━━━━━━━━━━━━━━━━━━━━━\u001b[0m \u001b[32m2.3/2.3 MB\u001b[0m \u001b[31m25.9 MB/s\u001b[0m eta \u001b[36m0:00:00\u001b[0ma \u001b[36m0:00:01\u001b[0m\n",
      "\u001b[?25hRequirement already satisfied: certifi in /usr/lib/python3/dist-packages (from minio) (2020.6.20)\n",
      "Collecting argon2-cffi-bindings\n",
      "  Downloading argon2_cffi_bindings-21.2.0-cp36-abi3-manylinux_2_17_x86_64.manylinux2014_x86_64.whl (86 kB)\n",
      "\u001b[2K     \u001b[90m━━━━━━━━━━━━━━━━━━━━━━━━━━━━━━━━━━━━━━━\u001b[0m \u001b[32m86.2/86.2 KB\u001b[0m \u001b[31m171.9 kB/s\u001b[0m eta \u001b[36m0:00:00\u001b[0ma \u001b[36m0:00:01\u001b[0m\n",
      "\u001b[?25hRequirement already satisfied: cffi>=1.0.1 in /usr/local/lib/python3.10/dist-packages (from argon2-cffi-bindings->argon2-cffi->minio) (1.17.1)\n",
      "Requirement already satisfied: pycparser in /usr/local/lib/python3.10/dist-packages (from cffi>=1.0.1->argon2-cffi-bindings->argon2-cffi->minio) (2.22)\n",
      "Installing collected packages: pycryptodome, argon2-cffi-bindings, argon2-cffi, minio\n",
      "Successfully installed argon2-cffi-23.1.0 argon2-cffi-bindings-21.2.0 minio-7.2.15 pycryptodome-3.22.0\n"
     ]
    }
   ],
   "source": [
    "!pip install minio"
   ]
  },
  {
   "cell_type": "code",
   "execution_count": 40,
   "id": "be700899",
   "metadata": {},
   "outputs": [
    {
     "name": "stdout",
     "output_type": "stream",
     "text": [
      "✅ Artifacts stored in bucket 'mlopbb-mlflow-sharinghub':\n",
      "- 1/26a457a75dbe4acfa3383f20c61288d4/artifacts/estimator.html\n",
      "- 1/26a457a75dbe4acfa3383f20c61288d4/artifacts/metric_info.json\n",
      "- 1/26a457a75dbe4acfa3383f20c61288d4/artifacts/model/MLmodel\n",
      "- 1/26a457a75dbe4acfa3383f20c61288d4/artifacts/model/conda.yaml\n",
      "- 1/26a457a75dbe4acfa3383f20c61288d4/artifacts/model/model.pkl\n",
      "- 1/26a457a75dbe4acfa3383f20c61288d4/artifacts/model/python_env.yaml\n",
      "- 1/26a457a75dbe4acfa3383f20c61288d4/artifacts/model/requirements.txt\n",
      "- 1/e98469b4819c4a7eb39cc078d2989267/artifacts/estimator.html\n",
      "- 1/e98469b4819c4a7eb39cc078d2989267/artifacts/model/MLmodel\n",
      "- 1/e98469b4819c4a7eb39cc078d2989267/artifacts/model/conda.yaml\n",
      "- 1/e98469b4819c4a7eb39cc078d2989267/artifacts/model/model.pkl\n",
      "- 1/e98469b4819c4a7eb39cc078d2989267/artifacts/model/python_env.yaml\n",
      "- 1/e98469b4819c4a7eb39cc078d2989267/artifacts/model/requirements.txt\n"
     ]
    }
   ],
   "source": [
    "from minio import Minio\n",
    "from minio.error import S3Error\n",
    "\n",
    "minio_endpoint = os.environ.get(\"S3_ENDPOINT\").replace('https://', '').replace('http://', '')\n",
    "minio_access_key = os.environ.get(\"S3_ACCESS_KEY\")\n",
    "minio_secret_key = os.environ.get(\"S3_SECRET_KEY\")\n",
    "bucket_mlflow = os.environ.get(\"S3_BUCKET_MLFLOW\")\n",
    "\n",
    "minio_client = Minio(minio_endpoint,\n",
    "                     access_key=minio_access_key,\n",
    "                     secret_key=minio_secret_key,\n",
    "                     secure=True)\n",
    "\n",
    "try:\n",
    "    artifacts = minio_client.list_objects(bucket_mlflow, recursive=True)\n",
    "    artifacts_list = [obj.object_name for obj in artifacts]\n",
    "    if artifacts_list:\n",
    "        print(f\"✅ Artifacts stored in bucket '{bucket_mlflow}':\")\n",
    "        for artifact in artifacts_list:\n",
    "            print(f\"- {artifact}\")\n",
    "    else:\n",
    "        print(f\"⚠️ No artifacts found in bucket '{bucket_mlflow}'.\")\n",
    "except S3Error as exc:\n",
    "    print(f\"❌ MinIO access error: {exc}\")"
   ]
  }
 ],
 "metadata": {
  "kernelspec": {
   "display_name": "Python 3",
   "language": "python",
   "name": "python3"
  },
  "language_info": {
   "codemirror_mode": {
    "name": "ipython",
    "version": 3
   },
   "file_extension": ".py",
   "mimetype": "text/x-python",
   "name": "python",
   "nbconvert_exporter": "python",
   "pygments_lexer": "ipython3",
   "version": "3.10.12"
  }
 },
 "nbformat": 4,
 "nbformat_minor": 5
}
