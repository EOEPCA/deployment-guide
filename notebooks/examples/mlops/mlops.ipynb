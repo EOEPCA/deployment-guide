{
 "cells": [
  {
   "cell_type": "raw",
   "id": "c6a14aa9-b395-466f-8773-8258fef66891",
   "metadata": {
    "editable": true,
    "slideshow": {
     "slide_type": ""
    },
    "tags": [],
    "vscode": {
     "languageId": "raw"
    }
   },
   "source": [
    "# EOEPCA MLOps Validation and Usage Notebook"
   ]
  },
  {
   "cell_type": "markdown",
   "id": "fd364dc8-1b01-4a4c-abd5-185081cb3641",
   "metadata": {},
   "source": [
    "## Setup"
   ]
  },
  {
   "cell_type": "code",
   "execution_count": 2,
   "id": "63f00541-6375-4d66-b84d-06e7b26b6efa",
   "metadata": {
    "editable": true,
    "slideshow": {
     "slide_type": ""
    },
    "tags": []
   },
   "outputs": [],
   "source": [
    "import os\n",
    "import requests\n",
    "import json\n",
    "from pathlib import Path\n",
    "\n",
    "import sys\n",
    "sys.path.append('../')\n",
    "from modules.helpers import get_access_token, load_eoepca_state, test_cell, test_results"
   ]
  },
  {
   "cell_type": "markdown",
   "id": "e8165564-bede-48ee-b81b-857dfeb85ffb",
   "metadata": {
    "editable": true,
    "slideshow": {
     "slide_type": ""
    },
    "tags": []
   },
   "source": [
    "Load `eoepca state` environment"
   ]
  },
  {
   "cell_type": "code",
   "execution_count": 3,
   "id": "9138ba4e-4103-41db-a8da-1d937036d5f3",
   "metadata": {
    "editable": true,
    "slideshow": {
     "slide_type": ""
    },
    "tags": []
   },
   "outputs": [],
   "source": [
    "load_eoepca_state()"
   ]
  },
  {
   "cell_type": "code",
   "execution_count": null,
   "id": "041ea5c5",
   "metadata": {},
   "outputs": [
    {
     "name": "stdout",
     "output_type": "stream",
     "text": [
      "GitLab URL: https://gitlab.notebook-test.develop.eoepca.org\n",
      "SharingHub URL: https://sharinghub.notebook-test.develop.eoepca.org\n",
      "MLflow URL: https://sharinghub.notebook-test.develop.eoepca.org/mlflow\n"
     ]
    }
   ],
   "source": [
    "platform_domain = os.environ.get(\"INGRESS_HOST\")\n",
    "use_oidc = os.environ.get(\"USE_CERT_MANAGER\", \"yes\") == \"yes\"\n",
    "project_name = \"mlops-test-project\"\n",
    "gitlab_domain = f'https://gitlab.{platform_domain}'\n",
    "sharinghub_domain = f'https://sharinghub.{platform_domain}'\n",
    "mlflow_base_url = f'{sharinghub_domain}/mlflow'"
   ]
  },
  {
   "cell_type": "code",
   "execution_count": 5,
   "id": "25a438de",
   "metadata": {},
   "outputs": [
    {
     "name": "stdout",
     "output_type": "stream",
     "text": [
      "GitLab (https://gitlab.notebook-test.develop.eoepca.org): 200\n",
      "SharingHub (https://sharinghub.notebook-test.develop.eoepca.org): 200\n",
      "MLflow (https://sharinghub.notebook-test.develop.eoepca.org/mlflow): 401\n"
     ]
    }
   ],
   "source": [
    "services = {\n",
    "    \"GitLab\": gitlab_domain,\n",
    "    \"SharingHub\": sharinghub_domain,\n",
    "    \"MLflow\": mlflow_base_url\n",
    "}\n",
    "\n",
    "for service, url in services.items():\n",
    "    response = requests.get(url)\n",
    "    print(f\"{service} ({url}): {response.status_code}\")"
   ]
  },
  {
   "cell_type": "markdown",
   "id": "560ae346",
   "metadata": {},
   "source": [
    "## GitLab Project Validation"
   ]
  },
  {
   "cell_type": "code",
   "execution_count": null,
   "id": "796fac4e",
   "metadata": {},
   "outputs": [
    {
     "name": "stdout",
     "output_type": "stream",
     "text": [
      "✅ GitLab Project 'mlops-test-project' exists.\n"
     ]
    }
   ],
   "source": [
    "project_api_url = f\"{gitlab_domain}/api/v4/projects/1\"\n",
    "\n",
    "project_response = requests.get(project_api_url)\n",
    "if project_response.status_code == 200:\n",
    "    project_data = project_response.json()\n",
    "    print(f\"✅ GitLab Project '{project_name}' exists.\")\n",
    "else:\n",
    "    print(f\"❌ GitLab Project '{project_name}' not found or inaccessible.\")"
   ]
  },
  {
   "cell_type": "markdown",
   "id": "04452b36",
   "metadata": {},
   "source": [
    "## SharingHub Project Validation"
   ]
  },
  {
   "cell_type": "code",
   "execution_count": 19,
   "id": "a53f5453",
   "metadata": {},
   "outputs": [
    {
     "name": "stdout",
     "output_type": "stream",
     "text": [
      "SharingHub Project URL: https://sharinghub.notebook-test.develop.eoepca.org/api/stac/collections/ai-model/items/root/mlops-test-project\n",
      "✅ Project 'mlops-test-project' is discoverable in SharingHub.\n",
      "{\n",
      "  \"stac_version\": \"1.0.0\",\n",
      "  \"stac_extensions\": [],\n",
      "  \"type\": \"Feature\",\n",
      "  \"id\": \"root/mlops-test-project\",\n",
      "  \"geometry\": null,\n",
      "  \"collection\": \"ai-model\",\n",
      "  \"properties\": {\n",
      "    \"title\": \"mlops-test-project\",\n",
      "    \"description\": \"# mlops-test-project\\n\\n## Getting started\\n\\nTo make it easy for you to get started with GitLab, here's a list of recommended next steps.\\n\\nAlready a pro? Just edit this README.md and make it your own. Want to make it easy? [Use the template at the bottom](#editing-this-readme)!\\n\\n## Add your files\\n\\n- [ ] [Create](https://docs.gitlab.com/ee/user/project/repository/web_editor.html#create-a-file) or [upload](https://docs.gitlab.com/ee/user/project/repository/web_editor.html#upload-a-file) files\\n- [ ] [Add files using the command line](https://docs.gitlab.com/ee/gitlab-basics/add-file.html#add-a-file-using-the-command-line) or push an existing Git repository with the following command:\\n\\n```\\ncd existing_repo\\ngit remote add origin https://gitlab.notebook-test.develop.eoepca.org/root/mlops-test-project.git\\ngit branch -M main\\ngit push -uf origin main\\n```\\n\\n## Integrate with your tools\\n\\n- [ ] [Set up project integrations](https://gitlab.notebook-test.develop.eoepca.org/root/mlops-test-project/-/settings/integrations)\\n\\n## Collaborate with your team\\n\\n- [ ] [Invite team members and collaborators](https://docs.gitlab.com/ee/user/project/members/)\\n- [ ] [Create a new merge request](https://docs.gitlab.com/ee/user/project/merge_requests/creating_merge_requests.html)\\n- [ ] [Automatically close issues from merge requests](https://docs.gitlab.com/ee/user/project/issues/managing_issues.html#closing-issues-automatically)\\n- [ ] [Enable merge request approvals](https://docs.gitlab.com/ee/user/project/merge_requests/approvals/)\\n- [ ] [Set auto-merge](https://docs.gitlab.com/ee/user/project/merge_requests/merge_when_pipeline_succeeds.html)\\n\\n## Test and Deploy\\n\\nUse the built-in continuous integration in GitLab.\\n\\n- [ ] [Get started with GitLab CI/CD](https://docs.gitlab.com/ee/ci/quick_start/index.html)\\n- [ ] [Analyze your code for known vulnerabilities with Static Application Security Testing (SAST)](https://docs.gitlab.com/ee/user/application_security/sast/)\\n- [ ] [Deploy to Kubernetes, Amazon EC2, or Amazon ECS using Auto Deploy](https://docs.gitlab.com/ee/topics/autodevops/requirements.html)\\n- [ ] [Use pull-based deployments for improved Kubernetes management](https://docs.gitlab.com/ee/user/clusters/agent/)\\n- [ ] [Set up protected environments](https://docs.gitlab.com/ee/ci/environments/protected_environments.html)\\n\\n***\\n\\n# Editing this README\\n\\nWhen you're ready to make this README your own, just edit this file and use the handy template below (or feel free to structure it however you want - this is just a starting point!). Thanks to [makeareadme.com](https://www.makeareadme.com/) for this template.\\n\\n## Suggestions for a good README\\n\\nEvery project is different, so consider which of these sections apply to yours. The sections used in the template are suggestions for most open source projects. Also keep in mind that while a README can be too long and detailed, too long is better than too short. If you think your README is too long, consider utilizing another form of documentation rather than cutting out information.\\n\\n## Name\\nChoose a self-explaining name for your project.\\n\\n## Description\\nLet people know what your project can do specifically. Provide context and add a link to any reference visitors might be unfamiliar with. A list of Features or a Background subsection can also be added here. If there are alternatives to your project, this is a good place to list differentiating factors.\\n\\n## Badges\\nOn some READMEs, you may see small images that convey metadata, such as whether or not all the tests are passing for the project. You can use Shields to add some to your README. Many services also have instructions for adding a badge.\\n\\n## Visuals\\nDepending on what you are making, it can be a good idea to include screenshots or even a video (you'll frequently see GIFs rather than actual videos). Tools like ttygif can help, but check out Asciinema for a more sophisticated method.\\n\\n## Installation\\nWithin a particular ecosystem, there may be a common way of installing things, such as using Yarn, NuGet, or Homebrew. However, consider the possibility that whoever is reading your README is a novice and would like more guidance. Listing specific steps helps remove ambiguity and gets people to using your project as quickly as possible. If it only runs in a specific context like a particular programming language version or operating system or has dependencies that have to be installed manually, also add a Requirements subsection.\\n\\n## Usage\\nUse examples liberally, and show the expected output if you can. It's helpful to have inline the smallest example of usage that you can demonstrate, while providing links to more sophisticated examples if they are too long to reasonably include in the README.\\n\\n## Support\\nTell people where they can go to for help. It can be any combination of an issue tracker, a chat room, an email address, etc.\\n\\n## Roadmap\\nIf you have ideas for releases in the future, it is a good idea to list them in the README.\\n\\n## Contributing\\nState if you are open to contributions and what your requirements are for accepting them.\\n\\nFor people who want to make changes to your project, it's helpful to have some documentation on how to get started. Perhaps there is a script that they should run or some environment variables that they need to set. Make these steps explicit. These instructions could also be useful to your future self.\\n\\nYou can also document commands to lint the code or run tests. These steps help to ensure high code quality and reduce the likelihood that the changes inadvertently break something. Having instructions for running tests is especially helpful if it requires external setup, such as starting a Selenium server for testing in a browser.\\n\\n## Authors and acknowledgment\\nShow your appreciation to those who have contributed to the project.\\n\\n## License\\nFor open source projects, say how it is licensed.\\n\\n## Project status\\nIf you have run out of energy or time for your project, put a note at the top of the README saying that development has slowed down or stopped completely. Someone may choose to fork your project or volunteer to step in as a maintainer or owner, allowing your project to keep going. You can also make an explicit request for maintainers.\",\n",
      "    \"datetime\": \"2025-03-24T16:14:33Z\",\n",
      "    \"start_datetime\": \"2025-03-24T16:14:17Z\",\n",
      "    \"end_datetime\": \"2025-03-24T16:14:33Z\",\n",
      "    \"created\": \"2025-03-24T16:14:17Z\",\n",
      "    \"updated\": \"2025-03-24T16:14:33Z\",\n",
      "    \"keywords\": [],\n",
      "    \"providers\": [\n",
      "      {\n",
      "        \"name\": \"GitLab (https://gitlab.notebook-test.develop.eoepca.org)\",\n",
      "        \"roles\": [\n",
      "          \"host\"\n",
      "        ],\n",
      "        \"url\": \"https://gitlab.notebook-test.develop.eoepca.org/root/mlops-test-project\"\n",
      "      },\n",
      "      {\n",
      "        \"name\": \"Administrator\",\n",
      "        \"roles\": [\n",
      "          \"producer\"\n",
      "        ],\n",
      "        \"url\": \"https://gitlab.notebook-test.develop.eoepca.org/root\"\n",
      "      }\n",
      "    ],\n",
      "    \"sharinghub:id\": 1,\n",
      "    \"sharinghub:name\": \"Administrator / mlops-test-project\",\n",
      "    \"sharinghub:path\": \"root/mlops-test-project\",\n",
      "    \"sharinghub:stars\": 0,\n",
      "    \"sharinghub:default-branch\": \"main\",\n",
      "    \"sharinghub:access-level\": 0,\n",
      "    \"sharinghub:dvc-init\": \"disable\",\n",
      "    \"sharinghub:map-viewer\": \"enable\",\n",
      "    \"sharinghub:store-s3\": \"enable\",\n",
      "    \"sharinghub:mlflow\": \"enable\",\n",
      "    \"sharinghub:jupyter\": \"enable\"\n",
      "  },\n",
      "  \"links\": [\n",
      "    {\n",
      "      \"rel\": \"self\",\n",
      "      \"type\": \"application/geo+json\",\n",
      "      \"href\": \"https://sharinghub.notebook-test.develop.eoepca.org/api/stac/collections/ai-model/items/root/mlops-test-project\"\n",
      "    },\n",
      "    {\n",
      "      \"rel\": \"parent\",\n",
      "      \"type\": \"application/json\",\n",
      "      \"href\": \"https://sharinghub.notebook-test.develop.eoepca.org/api/stac/collections/ai-model\"\n",
      "    },\n",
      "    {\n",
      "      \"rel\": \"root\",\n",
      "      \"type\": \"application/json\",\n",
      "      \"href\": \"https://sharinghub.notebook-test.develop.eoepca.org/api/stac/\"\n",
      "    },\n",
      "    {\n",
      "      \"rel\": \"collection\",\n",
      "      \"type\": \"application/json\",\n",
      "      \"href\": \"https://sharinghub.notebook-test.develop.eoepca.org/api/stac/collections/ai-model\"\n",
      "    },\n",
      "    {\n",
      "      \"rel\": \"bug_tracker\",\n",
      "      \"type\": \"text/html\",\n",
      "      \"href\": \"https://gitlab.notebook-test.develop.eoepca.org/root/mlops-test-project/issues\",\n",
      "      \"title\": \"Bug Tracker\"\n",
      "    },\n",
      "    {\n",
      "      \"rel\": \"mlflow:tracking-uri\",\n",
      "      \"href\": \"https://sharinghub.notebook-test.develop.eoepca.org/mlflow/root/mlops-test-project/tracking/\",\n",
      "      \"title\": \"MLflow - Tracking URI\"\n",
      "    }\n",
      "  ],\n",
      "  \"assets\": {}\n",
      "}\n"
     ]
    }
   ],
   "source": [
    "sharinghub_project_url = f\"{sharinghub_domain}/api/stac/collections/ai-model/items/root/{project_name}\"\n",
    "print(f\"SharingHub Project URL: {sharinghub_project_url}\")\n",
    "sharinghub_response = requests.get(sharinghub_project_url)\n",
    "\n",
    "if sharinghub_response.status_code == 200:\n",
    "    print(f\"✅ Project '{project_name}' is discoverable in SharingHub.\")\n",
    "    print(json.dumps(sharinghub_response.json(), indent=2))\n",
    "else:\n",
    "    print(f\"❌ Project '{project_name}' not found in SharingHub.\")"
   ]
  },
  {
   "cell_type": "markdown",
   "id": "112aa7b0",
   "metadata": {},
   "source": [
    "## MLflow Project Setup Validation"
   ]
  },
  {
   "cell_type": "code",
   "execution_count": 9,
   "id": "630bb44b",
   "metadata": {},
   "outputs": [
    {
     "name": "stdout",
     "output_type": "stream",
     "text": [
      "Collecting mlflow\n",
      "  Downloading mlflow-2.21.0-py3-none-any.whl.metadata (30 kB)\n",
      "Collecting scikit-learn\n",
      "  Downloading scikit_learn-1.6.1-cp312-cp312-manylinux_2_17_x86_64.manylinux2014_x86_64.whl.metadata (18 kB)\n",
      "Collecting mlflow-skinny==2.21.0 (from mlflow)\n",
      "  Downloading mlflow_skinny-2.21.0-py3-none-any.whl.metadata (31 kB)\n",
      "Collecting Flask<4 (from mlflow)\n",
      "  Downloading flask-3.1.0-py3-none-any.whl.metadata (2.7 kB)\n",
      "Requirement already satisfied: Jinja2<4,>=2.11 in /opt/conda/lib/python3.12/site-packages (from mlflow) (3.1.6)\n",
      "Requirement already satisfied: alembic!=1.10.0,<2 in /opt/conda/lib/python3.12/site-packages (from mlflow) (1.15.1)\n",
      "Collecting docker<8,>=4.0.0 (from mlflow)\n",
      "  Downloading docker-7.1.0-py3-none-any.whl.metadata (3.8 kB)\n",
      "Collecting graphene<4 (from mlflow)\n",
      "  Downloading graphene-3.4.3-py2.py3-none-any.whl.metadata (6.9 kB)\n",
      "Collecting gunicorn<24 (from mlflow)\n",
      "  Downloading gunicorn-23.0.0-py3-none-any.whl.metadata (4.4 kB)\n",
      "Collecting markdown<4,>=3.3 (from mlflow)\n",
      "  Downloading Markdown-3.7-py3-none-any.whl.metadata (7.0 kB)\n",
      "Requirement already satisfied: matplotlib<4 in /opt/conda/lib/python3.12/site-packages (from mlflow) (3.10.1)\n",
      "Requirement already satisfied: numpy<3 in /opt/conda/lib/python3.12/site-packages (from mlflow) (2.2.4)\n",
      "Requirement already satisfied: pandas<3 in /opt/conda/lib/python3.12/site-packages (from mlflow) (2.2.3)\n",
      "Collecting pyarrow<20,>=4.0.0 (from mlflow)\n",
      "  Downloading pyarrow-19.0.1-cp312-cp312-manylinux_2_28_x86_64.whl.metadata (3.3 kB)\n",
      "Collecting scipy<2 (from mlflow)\n",
      "  Downloading scipy-1.15.2-cp312-cp312-manylinux_2_17_x86_64.manylinux2014_x86_64.whl.metadata (61 kB)\n",
      "Requirement already satisfied: sqlalchemy<3,>=1.4.0 in /opt/conda/lib/python3.12/site-packages (from mlflow) (2.0.39)\n",
      "Collecting cachetools<6,>=5.0.0 (from mlflow-skinny==2.21.0->mlflow)\n",
      "  Downloading cachetools-5.5.2-py3-none-any.whl.metadata (5.4 kB)\n",
      "Collecting click<9,>=7.0 (from mlflow-skinny==2.21.0->mlflow)\n",
      "  Downloading click-8.1.8-py3-none-any.whl.metadata (2.3 kB)\n",
      "Collecting cloudpickle<4 (from mlflow-skinny==2.21.0->mlflow)\n",
      "  Downloading cloudpickle-3.1.1-py3-none-any.whl.metadata (7.1 kB)\n",
      "Collecting databricks-sdk<1,>=0.20.0 (from mlflow-skinny==2.21.0->mlflow)\n",
      "  Downloading databricks_sdk-0.47.0-py3-none-any.whl.metadata (38 kB)\n",
      "Collecting fastapi<1 (from mlflow-skinny==2.21.0->mlflow)\n",
      "  Downloading fastapi-0.115.12-py3-none-any.whl.metadata (27 kB)\n",
      "Collecting gitpython<4,>=3.1.9 (from mlflow-skinny==2.21.0->mlflow)\n",
      "  Downloading GitPython-3.1.44-py3-none-any.whl.metadata (13 kB)\n",
      "Requirement already satisfied: importlib_metadata!=4.7.0,<9,>=3.7.0 in /opt/conda/lib/python3.12/site-packages (from mlflow-skinny==2.21.0->mlflow) (8.6.1)\n",
      "Collecting opentelemetry-api<3,>=1.9.0 (from mlflow-skinny==2.21.0->mlflow)\n",
      "  Downloading opentelemetry_api-1.31.1-py3-none-any.whl.metadata (1.6 kB)\n",
      "Collecting opentelemetry-sdk<3,>=1.9.0 (from mlflow-skinny==2.21.0->mlflow)\n",
      "  Downloading opentelemetry_sdk-1.31.1-py3-none-any.whl.metadata (1.6 kB)\n",
      "Requirement already satisfied: packaging<25 in /opt/conda/lib/python3.12/site-packages (from mlflow-skinny==2.21.0->mlflow) (24.2)\n",
      "Collecting protobuf<6,>=3.12.0 (from mlflow-skinny==2.21.0->mlflow)\n",
      "  Downloading protobuf-5.29.4-cp38-abi3-manylinux2014_x86_64.whl.metadata (592 bytes)\n",
      "Requirement already satisfied: pydantic<3,>=1.10.8 in /opt/conda/lib/python3.12/site-packages (from mlflow-skinny==2.21.0->mlflow) (2.10.6)\n",
      "Requirement already satisfied: pyyaml<7,>=5.1 in /opt/conda/lib/python3.12/site-packages (from mlflow-skinny==2.21.0->mlflow) (6.0.2)\n",
      "Requirement already satisfied: requests<3,>=2.17.3 in /opt/conda/lib/python3.12/site-packages (from mlflow-skinny==2.21.0->mlflow) (2.32.3)\n",
      "Collecting sqlparse<1,>=0.4.0 (from mlflow-skinny==2.21.0->mlflow)\n",
      "  Downloading sqlparse-0.5.3-py3-none-any.whl.metadata (3.9 kB)\n",
      "Requirement already satisfied: typing-extensions<5,>=4.0.0 in /opt/conda/lib/python3.12/site-packages (from mlflow-skinny==2.21.0->mlflow) (4.12.2)\n",
      "Collecting uvicorn<1 (from mlflow-skinny==2.21.0->mlflow)\n",
      "  Downloading uvicorn-0.34.0-py3-none-any.whl.metadata (6.5 kB)\n",
      "Collecting joblib>=1.2.0 (from scikit-learn)\n",
      "  Downloading joblib-1.4.2-py3-none-any.whl.metadata (5.4 kB)\n",
      "Collecting threadpoolctl>=3.1.0 (from scikit-learn)\n",
      "  Downloading threadpoolctl-3.6.0-py3-none-any.whl.metadata (13 kB)\n",
      "Requirement already satisfied: Mako in /opt/conda/lib/python3.12/site-packages (from alembic!=1.10.0,<2->mlflow) (1.3.9)\n",
      "Requirement already satisfied: urllib3>=1.26.0 in /opt/conda/lib/python3.12/site-packages (from docker<8,>=4.0.0->mlflow) (2.3.0)\n",
      "Collecting Werkzeug>=3.1 (from Flask<4->mlflow)\n",
      "  Downloading werkzeug-3.1.3-py3-none-any.whl.metadata (3.7 kB)\n",
      "Collecting itsdangerous>=2.2 (from Flask<4->mlflow)\n",
      "  Downloading itsdangerous-2.2.0-py3-none-any.whl.metadata (1.9 kB)\n",
      "Requirement already satisfied: blinker>=1.9 in /opt/conda/lib/python3.12/site-packages (from Flask<4->mlflow) (1.9.0)\n",
      "Collecting graphql-core<3.3,>=3.1 (from graphene<4->mlflow)\n",
      "  Downloading graphql_core-3.2.6-py3-none-any.whl.metadata (11 kB)\n",
      "Collecting graphql-relay<3.3,>=3.1 (from graphene<4->mlflow)\n",
      "  Downloading graphql_relay-3.2.0-py3-none-any.whl.metadata (12 kB)\n",
      "Requirement already satisfied: python-dateutil<3,>=2.7.0 in /opt/conda/lib/python3.12/site-packages (from graphene<4->mlflow) (2.9.0.post0)\n",
      "Requirement already satisfied: MarkupSafe>=2.0 in /opt/conda/lib/python3.12/site-packages (from Jinja2<4,>=2.11->mlflow) (3.0.2)\n",
      "Requirement already satisfied: contourpy>=1.0.1 in /opt/conda/lib/python3.12/site-packages (from matplotlib<4->mlflow) (1.3.1)\n",
      "Requirement already satisfied: cycler>=0.10 in /opt/conda/lib/python3.12/site-packages (from matplotlib<4->mlflow) (0.12.1)\n",
      "Requirement already satisfied: fonttools>=4.22.0 in /opt/conda/lib/python3.12/site-packages (from matplotlib<4->mlflow) (4.56.0)\n",
      "Requirement already satisfied: kiwisolver>=1.3.1 in /opt/conda/lib/python3.12/site-packages (from matplotlib<4->mlflow) (1.4.8)\n",
      "Requirement already satisfied: pillow>=8 in /opt/conda/lib/python3.12/site-packages (from matplotlib<4->mlflow) (11.1.0)\n",
      "Requirement already satisfied: pyparsing>=2.3.1 in /opt/conda/lib/python3.12/site-packages (from matplotlib<4->mlflow) (3.2.1)\n",
      "Requirement already satisfied: pytz>=2020.1 in /opt/conda/lib/python3.12/site-packages (from pandas<3->mlflow) (2025.1)\n",
      "Requirement already satisfied: tzdata>=2022.7 in /opt/conda/lib/python3.12/site-packages (from pandas<3->mlflow) (2025.1)\n",
      "Requirement already satisfied: greenlet!=0.4.17 in /opt/conda/lib/python3.12/site-packages (from sqlalchemy<3,>=1.4.0->mlflow) (3.1.1)\n",
      "Collecting google-auth~=2.0 (from databricks-sdk<1,>=0.20.0->mlflow-skinny==2.21.0->mlflow)\n",
      "  Downloading google_auth-2.38.0-py2.py3-none-any.whl.metadata (4.8 kB)\n",
      "Collecting starlette<0.47.0,>=0.40.0 (from fastapi<1->mlflow-skinny==2.21.0->mlflow)\n",
      "  Downloading starlette-0.46.1-py3-none-any.whl.metadata (6.2 kB)\n",
      "Collecting gitdb<5,>=4.0.1 (from gitpython<4,>=3.1.9->mlflow-skinny==2.21.0->mlflow)\n",
      "  Downloading gitdb-4.0.12-py3-none-any.whl.metadata (1.2 kB)\n",
      "Requirement already satisfied: zipp>=3.20 in /opt/conda/lib/python3.12/site-packages (from importlib_metadata!=4.7.0,<9,>=3.7.0->mlflow-skinny==2.21.0->mlflow) (3.21.0)\n",
      "Requirement already satisfied: deprecated>=1.2.6 in /opt/conda/lib/python3.12/site-packages (from opentelemetry-api<3,>=1.9.0->mlflow-skinny==2.21.0->mlflow) (1.2.18)\n",
      "Collecting opentelemetry-semantic-conventions==0.52b1 (from opentelemetry-sdk<3,>=1.9.0->mlflow-skinny==2.21.0->mlflow)\n",
      "  Downloading opentelemetry_semantic_conventions-0.52b1-py3-none-any.whl.metadata (2.5 kB)\n",
      "Requirement already satisfied: annotated-types>=0.6.0 in /opt/conda/lib/python3.12/site-packages (from pydantic<3,>=1.10.8->mlflow-skinny==2.21.0->mlflow) (0.7.0)\n",
      "Requirement already satisfied: pydantic-core==2.27.2 in /opt/conda/lib/python3.12/site-packages (from pydantic<3,>=1.10.8->mlflow-skinny==2.21.0->mlflow) (2.27.2)\n",
      "Requirement already satisfied: six>=1.5 in /opt/conda/lib/python3.12/site-packages (from python-dateutil<3,>=2.7.0->graphene<4->mlflow) (1.17.0)\n",
      "Requirement already satisfied: charset_normalizer<4,>=2 in /opt/conda/lib/python3.12/site-packages (from requests<3,>=2.17.3->mlflow-skinny==2.21.0->mlflow) (3.4.1)\n",
      "Requirement already satisfied: idna<4,>=2.5 in /opt/conda/lib/python3.12/site-packages (from requests<3,>=2.17.3->mlflow-skinny==2.21.0->mlflow) (3.10)\n",
      "Requirement already satisfied: certifi>=2017.4.17 in /opt/conda/lib/python3.12/site-packages (from requests<3,>=2.17.3->mlflow-skinny==2.21.0->mlflow) (2025.1.31)\n",
      "Requirement already satisfied: h11>=0.8 in /opt/conda/lib/python3.12/site-packages (from uvicorn<1->mlflow-skinny==2.21.0->mlflow) (0.14.0)\n",
      "Requirement already satisfied: wrapt<2,>=1.10 in /opt/conda/lib/python3.12/site-packages (from deprecated>=1.2.6->opentelemetry-api<3,>=1.9.0->mlflow-skinny==2.21.0->mlflow) (1.17.2)\n",
      "Collecting smmap<6,>=3.0.1 (from gitdb<5,>=4.0.1->gitpython<4,>=3.1.9->mlflow-skinny==2.21.0->mlflow)\n",
      "  Downloading smmap-5.0.2-py3-none-any.whl.metadata (4.3 kB)\n",
      "Collecting pyasn1-modules>=0.2.1 (from google-auth~=2.0->databricks-sdk<1,>=0.20.0->mlflow-skinny==2.21.0->mlflow)\n",
      "  Downloading pyasn1_modules-0.4.1-py3-none-any.whl.metadata (3.5 kB)\n",
      "Collecting rsa<5,>=3.1.4 (from google-auth~=2.0->databricks-sdk<1,>=0.20.0->mlflow-skinny==2.21.0->mlflow)\n",
      "  Downloading rsa-4.9-py3-none-any.whl.metadata (4.2 kB)\n",
      "Requirement already satisfied: anyio<5,>=3.6.2 in /opt/conda/lib/python3.12/site-packages (from starlette<0.47.0,>=0.40.0->fastapi<1->mlflow-skinny==2.21.0->mlflow) (4.8.0)\n",
      "Requirement already satisfied: sniffio>=1.1 in /opt/conda/lib/python3.12/site-packages (from anyio<5,>=3.6.2->starlette<0.47.0,>=0.40.0->fastapi<1->mlflow-skinny==2.21.0->mlflow) (1.3.1)\n",
      "Collecting pyasn1<0.7.0,>=0.4.6 (from pyasn1-modules>=0.2.1->google-auth~=2.0->databricks-sdk<1,>=0.20.0->mlflow-skinny==2.21.0->mlflow)\n",
      "  Downloading pyasn1-0.6.1-py3-none-any.whl.metadata (8.4 kB)\n",
      "Downloading mlflow-2.21.0-py3-none-any.whl (28.2 MB)\n",
      "\u001b[2K   \u001b[90m━━━━━━━━━━━━━━━━━━━━━━━━━━━━━━━━━━━━━━━━\u001b[0m \u001b[32m28.2/28.2 MB\u001b[0m \u001b[31m57.1 MB/s\u001b[0m eta \u001b[36m0:00:00\u001b[0m:00:01\u001b[0m00:01\u001b[0m\n",
      "\u001b[?25hDownloading mlflow_skinny-2.21.0-py3-none-any.whl (6.1 MB)\n",
      "\u001b[2K   \u001b[90m━━━━━━━━━━━━━━━━━━━━━━━━━━━━━━━━━━━━━━━━\u001b[0m \u001b[32m6.1/6.1 MB\u001b[0m \u001b[31m33.5 MB/s\u001b[0m eta \u001b[36m0:00:00\u001b[0m\n",
      "\u001b[?25hDownloading scikit_learn-1.6.1-cp312-cp312-manylinux_2_17_x86_64.manylinux2014_x86_64.whl (13.1 MB)\n",
      "\u001b[2K   \u001b[90m━━━━━━━━━━━━━━━━━━━━━━━━━━━━━━━━━━━━━━━━\u001b[0m \u001b[32m13.1/13.1 MB\u001b[0m \u001b[31m38.2 MB/s\u001b[0m eta \u001b[36m0:00:00\u001b[0m:00:01\u001b[0m\n",
      "\u001b[?25hDownloading docker-7.1.0-py3-none-any.whl (147 kB)\n",
      "Downloading flask-3.1.0-py3-none-any.whl (102 kB)\n",
      "Downloading graphene-3.4.3-py2.py3-none-any.whl (114 kB)\n",
      "Downloading gunicorn-23.0.0-py3-none-any.whl (85 kB)\n",
      "Downloading joblib-1.4.2-py3-none-any.whl (301 kB)\n",
      "Downloading Markdown-3.7-py3-none-any.whl (106 kB)\n",
      "Downloading pyarrow-19.0.1-cp312-cp312-manylinux_2_28_x86_64.whl (42.1 MB)\n",
      "\u001b[2K   \u001b[90m━━━━━━━━━━━━━━━━━━━━━━━━━━━━━━━━━━━━━━━━\u001b[0m \u001b[32m42.1/42.1 MB\u001b[0m \u001b[31m46.4 MB/s\u001b[0m eta \u001b[36m0:00:00\u001b[0m:00:01\u001b[0m00:01\u001b[0m\n",
      "Downloading scipy-1.15.2-cp312-cp312-manylinux_2_17_x86_64.manylinux2014_x86_64.whl (37.3 MB)\n",
      "\u001b[2K   \u001b[90m━━━━━━━━━━━━━━━━━━━━━━━━━━━━━━━━━━━━━━━━\u001b[0m \u001b[32m37.3/37.3 MB\u001b[0m \u001b[31m40.7 MB/s\u001b[0m eta \u001b[36m0:00:00\u001b[0m:00:01\u001b[0m\n",
      "\u001b[?25hDownloading threadpoolctl-3.6.0-py3-none-any.whl (18 kB)\n",
      "Downloading cachetools-5.5.2-py3-none-any.whl (10 kB)\n",
      "Downloading click-8.1.8-py3-none-any.whl (98 kB)\n",
      "Downloading cloudpickle-3.1.1-py3-none-any.whl (20 kB)\n",
      "Downloading databricks_sdk-0.47.0-py3-none-any.whl (681 kB)\n",
      "\u001b[2K   \u001b[90m━━━━━━━━━━━━━━━━━━━━━━━━━━━━━━━━━━━━━━━━\u001b[0m \u001b[32m681.0/681.0 kB\u001b[0m \u001b[31m6.1 MB/s\u001b[0m eta \u001b[36m0:00:00\u001b[0m\n",
      "Downloading fastapi-0.115.12-py3-none-any.whl (95 kB)\n",
      "Downloading GitPython-3.1.44-py3-none-any.whl (207 kB)\n",
      "Downloading graphql_core-3.2.6-py3-none-any.whl (203 kB)\n",
      "Downloading graphql_relay-3.2.0-py3-none-any.whl (16 kB)\n",
      "Downloading itsdangerous-2.2.0-py3-none-any.whl (16 kB)\n",
      "Downloading opentelemetry_api-1.31.1-py3-none-any.whl (65 kB)\n",
      "Downloading opentelemetry_sdk-1.31.1-py3-none-any.whl (118 kB)\n",
      "Downloading opentelemetry_semantic_conventions-0.52b1-py3-none-any.whl (183 kB)\n",
      "Downloading protobuf-5.29.4-cp38-abi3-manylinux2014_x86_64.whl (319 kB)\n",
      "Downloading sqlparse-0.5.3-py3-none-any.whl (44 kB)\n",
      "Downloading uvicorn-0.34.0-py3-none-any.whl (62 kB)\n",
      "Downloading werkzeug-3.1.3-py3-none-any.whl (224 kB)\n",
      "Downloading gitdb-4.0.12-py3-none-any.whl (62 kB)\n",
      "Downloading google_auth-2.38.0-py2.py3-none-any.whl (210 kB)\n",
      "Downloading starlette-0.46.1-py3-none-any.whl (71 kB)\n",
      "Downloading pyasn1_modules-0.4.1-py3-none-any.whl (181 kB)\n",
      "Downloading rsa-4.9-py3-none-any.whl (34 kB)\n",
      "Downloading smmap-5.0.2-py3-none-any.whl (24 kB)\n",
      "Downloading pyasn1-0.6.1-py3-none-any.whl (83 kB)\n",
      "Installing collected packages: Werkzeug, threadpoolctl, sqlparse, smmap, scipy, pyasn1, pyarrow, protobuf, markdown, joblib, itsdangerous, gunicorn, graphql-core, cloudpickle, click, cachetools, uvicorn, starlette, scikit-learn, rsa, pyasn1-modules, opentelemetry-api, graphql-relay, gitdb, Flask, docker, opentelemetry-semantic-conventions, graphene, google-auth, gitpython, fastapi, opentelemetry-sdk, databricks-sdk, mlflow-skinny, mlflow\n",
      "Successfully installed Flask-3.1.0 Werkzeug-3.1.3 cachetools-5.5.2 click-8.1.8 cloudpickle-3.1.1 databricks-sdk-0.47.0 docker-7.1.0 fastapi-0.115.12 gitdb-4.0.12 gitpython-3.1.44 google-auth-2.38.0 graphene-3.4.3 graphql-core-3.2.6 graphql-relay-3.2.0 gunicorn-23.0.0 itsdangerous-2.2.0 joblib-1.4.2 markdown-3.7 mlflow-2.21.0 mlflow-skinny-2.21.0 opentelemetry-api-1.31.1 opentelemetry-sdk-1.31.1 opentelemetry-semantic-conventions-0.52b1 protobuf-5.29.4 pyarrow-19.0.1 pyasn1-0.6.1 pyasn1-modules-0.4.1 rsa-4.9 scikit-learn-1.6.1 scipy-1.15.2 smmap-5.0.2 sqlparse-0.5.3 starlette-0.46.1 threadpoolctl-3.6.0 uvicorn-0.34.0\n"
     ]
    }
   ],
   "source": [
    "!pip install mlflow scikit-learn"
   ]
  },
  {
   "cell_type": "markdown",
   "id": "1762a745",
   "metadata": {},
   "source": [
    "### Retrieve a GitLab Token\n",
    "\n",
    "Navigate to `https://gitlab.${INGRESS_HOST}/root/mlops-test-project/-/settings/access_tokens`"
   ]
  },
  {
   "cell_type": "code",
   "execution_count": null,
   "id": "5f7a839b",
   "metadata": {},
   "outputs": [
    {
     "name": "stdout",
     "output_type": "stream",
     "text": [
      "✅ Connected to MLflow. Available experiments:\n",
      "- example (1) (ID: 1)\n"
     ]
    }
   ],
   "source": [
    "os.environ[\"MLFLOW_TRACKING_URI\"] = f'https://sharinghub.{platform_domain}/mlflow/root/mlops-test-project/tracking/'\n",
    "os.environ[\"MLFLOW_TRACKING_TOKEN\"] = 'glpat-XXXXXXXXXXX'\n",
    "\n",
    "import mlflow\n",
    "import mlflow.sklearn\n",
    "\n",
    "try:\n",
    "    client = mlflow.tracking.MlflowClient(tracking_uri=os.environ[\"MLFLOW_TRACKING_URI\"])\n",
    "    experiments = client.search_experiments()\n",
    "    print(f\"✅ Connected to MLflow. Available experiments:\")\n",
    "    for exp in experiments:\n",
    "        print(f\"- {exp.name} (ID: {exp.experiment_id})\")\n",
    "except Exception as e:\n",
    "    print(f\"❌ MLflow connection failed: {e}\")"
   ]
  },
  {
   "cell_type": "markdown",
   "id": "90ed6e6f",
   "metadata": {},
   "source": [
    "## Running a Sample MLflow Experiment"
   ]
  },
  {
   "cell_type": "code",
   "execution_count": 37,
   "id": "82097e53",
   "metadata": {},
   "outputs": [
    {
     "name": "stderr",
     "output_type": "stream",
     "text": [
      "2025/03/24 16:34:53 INFO mlflow.tracking.fluent: Autologging successfully enabled for sklearn.\n",
      "\u001b[31m2025/03/24 16:35:27 WARNING mlflow.models.model: Model logged without a signature and input example. Please set `input_example` parameter when logging the model to auto infer the model signature.\u001b[0m\n"
     ]
    },
    {
     "name": "stdout",
     "output_type": "stream",
     "text": [
      "Model training complete.\n",
      "Mean Squared Error: 0.5690247717229262\n",
      "R^2 Score: 0.2652750042179145\n",
      "🏃 View run thoughtful-ant-796 at: https://sharinghub.notebook-test.develop.eoepca.org/mlflow/root/mlops-test-project/tracking/#/experiments/1/runs/7582887ee18a4c11b6ebc4656f35ec59\n",
      "🧪 View experiment at: https://sharinghub.notebook-test.develop.eoepca.org/mlflow/root/mlops-test-project/tracking/#/experiments/1\n"
     ]
    }
   ],
   "source": [
    "import os\n",
    "import pandas as pd\n",
    "from sklearn.model_selection import train_test_split\n",
    "from sklearn.linear_model import LinearRegression\n",
    "from sklearn.metrics import mean_squared_error, r2_score\n",
    "import mlflow\n",
    "import mlflow.sklearn\n",
    "\n",
    "\n",
    "experiment_name = \"example (1)\"\n",
    "mlflow.set_experiment(experiment_name)\n",
    "mlflow.autolog()\n",
    "\n",
    "data_path = \"wine-quality.csv\"\n",
    "data = pd.read_csv(data_path)\n",
    "\n",
    "data = data.dropna()\n",
    "X = data.drop(\"quality\", axis=1)\n",
    "y = data[\"quality\"]\n",
    "\n",
    "# split the data into training and testing sets\n",
    "X_train, X_test, y_train, y_test = train_test_split(\n",
    "    X, y, test_size=0.2, random_state=42\n",
    ")\n",
    "\n",
    "# Start an MLflow run\n",
    "with mlflow.start_run():\n",
    "    mlflow.log_param(\"model_type\", \"LinearRegression\")\n",
    "    mlflow.log_param(\"test_size\", 0.2)\n",
    "    mlflow.log_param(\"random_state\", 42)\n",
    "\n",
    "    model = LinearRegression()\n",
    "    model.fit(X_train, y_train)\n",
    "\n",
    "    predictions = model.predict(X_test)\n",
    "\n",
    "    mse = mean_squared_error(y_test, predictions)\n",
    "    r2 = r2_score(y_test, predictions)\n",
    "\n",
    "    mlflow.log_metric(\"mse\", mse)\n",
    "    mlflow.log_metric(\"r2\", r2)\n",
    "\n",
    "    mlflow.sklearn.log_model(model, \"model\")\n",
    "\n",
    "    print(\"Model training complete.\")\n",
    "    print(f\"Mean Squared Error: {mse}\")\n",
    "    print(f\"R^2 Score: {r2}\")\n"
   ]
  },
  {
   "cell_type": "markdown",
   "id": "f003a7f1",
   "metadata": {},
   "source": [
    "## Validate Experiment Logging in MLflow"
   ]
  },
  {
   "cell_type": "code",
   "execution_count": null,
   "id": "37dd1eb3",
   "metadata": {},
   "outputs": [
    {
     "name": "stdout",
     "output_type": "stream",
     "text": [
      "✅ Run details from MLflow:\n",
      "{\n",
      "  \"metrics\": {\n",
      "    \"training_mean_squared_error\": 0.5628259699588581,\n",
      "    \"training_mean_absolute_error\": 0.5826467714644642,\n",
      "    \"training_r2_score\": 0.2843126626389435,\n",
      "    \"training_root_mean_squared_error\": 0.7502172818316425,\n",
      "    \"training_score\": 0.2843126626389435,\n",
      "    \"mse\": 0.5690247717229262,\n",
      "    \"r2\": 0.2652750042179145\n",
      "  },\n",
      "  \"params\": {\n",
      "    \"model_type\": \"LinearRegression\",\n",
      "    \"test_size\": \"0.2\",\n",
      "    \"random_state\": \"42\",\n",
      "    \"copy_X\": \"True\",\n",
      "    \"fit_intercept\": \"True\",\n",
      "    \"n_jobs\": \"None\",\n",
      "    \"positive\": \"False\"\n",
      "  },\n",
      "  \"tags\": {\n",
      "    \"mlflow.user\": \"eouser\",\n",
      "    \"mlflow.source.name\": \"/home/eouser/code/deployment-guide/venv/lib/python3.10/site-packages/ipykernel_launcher.py\",\n",
      "    \"mlflow.source.type\": \"LOCAL\",\n",
      "    \"mlflow.runName\": \"merciful-crow-830\",\n",
      "    \"estimator_name\": \"LinearRegression\",\n",
      "    \"estimator_class\": \"sklearn.linear_model._base.LinearRegression\",\n",
      "    \"mlflow.log-model.history\": \"[{\\\"run_id\\\": \\\"549a655f1bdc43b990fe4f39debcfaa6\\\", \\\"artifact_path\\\": \\\"model\\\", \\\"utc_time_created\\\": \\\"2025-03-24 16:29:01.324690\\\", \\\"flavors\\\": {\\\"python_function\\\": {\\\"model_path\\\": \\\"model.pkl\\\", \\\"predict_fn\\\": \\\"predict\\\", \\\"loader_module\\\": \\\"mlflow.sklearn\\\", \\\"python_version\\\": \\\"3.10.12\\\", \\\"env\\\": {\\\"conda\\\": \\\"conda.yaml\\\", \\\"virtualenv\\\": \\\"python_env.yaml\\\"}}, \\\"sklearn\\\": {\\\"pickled_model\\\": \\\"model.pkl\\\", \\\"sklearn_version\\\": \\\"1.6.1\\\", \\\"serialization_format\\\": \\\"cloudpickle\\\", \\\"code\\\": null}}, \\\"model_uuid\\\": \\\"6828d7b9dca444cea522e200b30c39aa\\\"}, {\\\"run_id\\\": \\\"549a655f1bdc43b990fe4f39debcfaa6\\\", \\\"artifact_path\\\": \\\"model\\\", \\\"utc_time_created\\\": \\\"2025-03-24 16:29:05.789864\\\", \\\"flavors\\\": {\\\"python_function\\\": {\\\"model_path\\\": \\\"model.pkl\\\", \\\"predict_fn\\\": \\\"predict\\\", \\\"loader_module\\\": \\\"mlflow.sklearn\\\", \\\"python_version\\\": \\\"3.10.12\\\", \\\"env\\\": {\\\"conda\\\": \\\"conda.yaml\\\", \\\"virtualenv\\\": \\\"python_env.yaml\\\"}}, \\\"sklearn\\\": {\\\"pickled_model\\\": \\\"model.pkl\\\", \\\"sklearn_version\\\": \\\"1.6.1\\\", \\\"serialization_format\\\": \\\"cloudpickle\\\", \\\"code\\\": null}}, \\\"model_uuid\\\": \\\"4fb7369b42b34806a35c67134bd83cee\\\"}]\"\n",
      "  }\n",
      "}\n"
     ]
    }
   ],
   "source": [
    "run_id = 'XXXXXXXXXXXXXXXXXXXXXXX'\n",
    "\n",
    "run_info = client.get_run(run_id) # run.info.run_id\n",
    "if run_info:\n",
    "    print(f\"✅ Run details from MLflow:\")\n",
    "    print(json.dumps(run_info.data.to_dictionary(), indent=2))\n",
    "else:\n",
    "    print(\"❌ Failed to retrieve run details from MLflow.\")"
   ]
  },
  {
   "cell_type": "markdown",
   "id": "5b895982",
   "metadata": {},
   "source": [
    "## Validate Artifact Storage in S3 (MinIO)"
   ]
  },
  {
   "cell_type": "code",
   "execution_count": 30,
   "id": "007696f3",
   "metadata": {},
   "outputs": [
    {
     "name": "stdout",
     "output_type": "stream",
     "text": [
      "Collecting minio\n",
      "  Downloading minio-7.2.15-py3-none-any.whl (95 kB)\n",
      "\u001b[2K     \u001b[90m━━━━━━━━━━━━━━━━━━━━━━━━━━━━━━━━━━━━━━━━\u001b[0m \u001b[32m95.1/95.1 KB\u001b[0m \u001b[31m1.5 MB/s\u001b[0m eta \u001b[36m0:00:00\u001b[0ma \u001b[36m0:00:01\u001b[0m\n",
      "\u001b[?25hRequirement already satisfied: argon2-cffi in /home/eouser/code/deployment-guide/venv/lib/python3.10/site-packages (from minio) (23.1.0)\n",
      "Collecting pycryptodome\n",
      "  Downloading pycryptodome-3.22.0-cp37-abi3-manylinux_2_17_x86_64.manylinux2014_x86_64.whl (2.3 MB)\n",
      "\u001b[2K     \u001b[90m━━━━━━━━━━━━━━━━━━━━━━━━━━━━━━━━━━━━━━━━\u001b[0m \u001b[32m2.3/2.3 MB\u001b[0m \u001b[31m14.7 MB/s\u001b[0m eta \u001b[36m0:00:00\u001b[0m00:01\u001b[0m00:01\u001b[0m\n",
      "\u001b[?25hRequirement already satisfied: urllib3 in /home/eouser/code/deployment-guide/venv/lib/python3.10/site-packages (from minio) (2.3.0)\n",
      "Requirement already satisfied: typing-extensions in /home/eouser/code/deployment-guide/venv/lib/python3.10/site-packages (from minio) (4.12.2)\n",
      "Requirement already satisfied: certifi in /home/eouser/code/deployment-guide/venv/lib/python3.10/site-packages (from minio) (2025.1.31)\n",
      "Requirement already satisfied: argon2-cffi-bindings in /home/eouser/code/deployment-guide/venv/lib/python3.10/site-packages (from argon2-cffi->minio) (21.2.0)\n",
      "Requirement already satisfied: cffi>=1.0.1 in /home/eouser/code/deployment-guide/venv/lib/python3.10/site-packages (from argon2-cffi-bindings->argon2-cffi->minio) (1.17.1)\n",
      "Requirement already satisfied: pycparser in /home/eouser/code/deployment-guide/venv/lib/python3.10/site-packages (from cffi>=1.0.1->argon2-cffi-bindings->argon2-cffi->minio) (2.22)\n",
      "Installing collected packages: pycryptodome, minio\n",
      "Successfully installed minio-7.2.15 pycryptodome-3.22.0\n"
     ]
    }
   ],
   "source": [
    "!pip install minio"
   ]
  },
  {
   "cell_type": "code",
   "execution_count": 31,
   "id": "be700899",
   "metadata": {},
   "outputs": [
    {
     "name": "stdout",
     "output_type": "stream",
     "text": [
      "✅ Artifacts stored in bucket 'mlopbb-mlflow-sharinghub':\n",
      "- 1/549a655f1bdc43b990fe4f39debcfaa6/artifacts/estimator.html\n",
      "- 1/549a655f1bdc43b990fe4f39debcfaa6/artifacts/model/MLmodel\n",
      "- 1/549a655f1bdc43b990fe4f39debcfaa6/artifacts/model/conda.yaml\n",
      "- 1/549a655f1bdc43b990fe4f39debcfaa6/artifacts/model/model.pkl\n",
      "- 1/549a655f1bdc43b990fe4f39debcfaa6/artifacts/model/python_env.yaml\n",
      "- 1/549a655f1bdc43b990fe4f39debcfaa6/artifacts/model/requirements.txt\n",
      "- 1/585e9fa6aea347c081482197779e180a/artifacts/estimator.html\n",
      "- 1/585e9fa6aea347c081482197779e180a/artifacts/model/MLmodel\n",
      "- 1/585e9fa6aea347c081482197779e180a/artifacts/model/conda.yaml\n",
      "- 1/585e9fa6aea347c081482197779e180a/artifacts/model/model.pkl\n",
      "- 1/585e9fa6aea347c081482197779e180a/artifacts/model/python_env.yaml\n",
      "- 1/585e9fa6aea347c081482197779e180a/artifacts/model/requirements.txt\n"
     ]
    }
   ],
   "source": [
    "from minio import Minio\n",
    "from minio.error import S3Error\n",
    "\n",
    "minio_endpoint = os.environ.get(\"S3_ENDPOINT\").replace('https://', '').replace('http://', '')\n",
    "minio_access_key = os.environ.get(\"S3_ACCESS_KEY\")\n",
    "minio_secret_key = os.environ.get(\"S3_SECRET_KEY\")\n",
    "bucket_mlflow = os.environ.get(\"S3_BUCKET_MLFLOW\")\n",
    "\n",
    "minio_client = Minio(minio_endpoint,\n",
    "                     access_key=minio_access_key,\n",
    "                     secret_key=minio_secret_key,\n",
    "                     secure=True)\n",
    "\n",
    "try:\n",
    "    artifacts = minio_client.list_objects(bucket_mlflow, recursive=True)\n",
    "    artifacts_list = [obj.object_name for obj in artifacts]\n",
    "    if artifacts_list:\n",
    "        print(f\"✅ Artifacts stored in bucket '{bucket_mlflow}':\")\n",
    "        for artifact in artifacts_list:\n",
    "            print(f\"- {artifact}\")\n",
    "    else:\n",
    "        print(f\"⚠️ No artifacts found in bucket '{bucket_mlflow}'.\")\n",
    "except S3Error as exc:\n",
    "    print(f\"❌ MinIO access error: {exc}\")"
   ]
  }
 ],
 "metadata": {
  "kernelspec": {
   "display_name": "venv",
   "language": "python",
   "name": "python3"
  },
  "language_info": {
   "codemirror_mode": {
    "name": "ipython",
    "version": 3
   },
   "file_extension": ".py",
   "mimetype": "text/x-python",
   "name": "python",
   "nbconvert_exporter": "python",
   "pygments_lexer": "ipython3",
   "version": "3.10.12"
  }
 },
 "nbformat": 4,
 "nbformat_minor": 5
}
