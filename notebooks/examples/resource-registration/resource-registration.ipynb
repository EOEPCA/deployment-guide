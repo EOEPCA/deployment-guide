{
 "cells": [
  {
   "cell_type": "markdown",
   "id": "c6a14aa9-b395-466f-8773-8258fef66891",
   "metadata": {
    "editable": true,
    "slideshow": {
     "slide_type": ""
    },
    "tags": [],
    "vscode": {
     "languageId": "raw"
    }
   },
   "source": [
    "# EOEPCA Resource Registration Validation and Usage Notebook"
   ]
  },
  {
   "cell_type": "markdown",
   "id": "fd364dc8-1b01-4a4c-abd5-185081cb3641",
   "metadata": {},
   "source": [
    "## Registration API"
   ]
  },
  {
   "cell_type": "code",
   "execution_count": null,
   "id": "63f00541-6375-4d66-b84d-06e7b26b6efa",
   "metadata": {
    "editable": true,
    "slideshow": {
     "slide_type": ""
    },
    "tags": []
   },
   "outputs": [],
   "source": [
    "import os\n",
    "import requests\n",
    "import json\n",
    "from pathlib import Path\n",
    "\n",
    "import sys\n",
    "sys.path.append('../')\n",
    "from modules.helpers import get_access_token, load_eoepca_state, test_cell, test_results"
   ]
  },
  {
   "cell_type": "markdown",
   "id": "e8165564-bede-48ee-b81b-857dfeb85ffb",
   "metadata": {
    "editable": true,
    "slideshow": {
     "slide_type": ""
    },
    "tags": []
   },
   "source": [
    "Load `eoepca state` environment"
   ]
  },
  {
   "cell_type": "code",
   "execution_count": null,
   "id": "9138ba4e-4103-41db-a8da-1d937036d5f3",
   "metadata": {
    "editable": true,
    "slideshow": {
     "slide_type": ""
    },
    "tags": []
   },
   "outputs": [],
   "source": [
    "load_eoepca_state()"
   ]
  },
  {
   "cell_type": "code",
   "execution_count": null,
   "id": "398ca795-5bd2-421e-90ad-860861793329",
   "metadata": {
    "editable": true,
    "slideshow": {
     "slide_type": ""
    },
    "tags": [
     "parameters"
    ]
   },
   "outputs": [],
   "source": [
    "platform_domain = os.environ.get(\"INGRESS_HOST\")\n",
    "resource_registration_domain = f'{os.environ.get(\"HTTP_SCHEME\")}://registration-api.{platform_domain}'\n",
    "\n",
    "print(f\"Resource Registration API: {resource_registration_domain}\")"
   ]
  },
  {
   "cell_type": "markdown",
   "id": "47259226",
   "metadata": {},
   "source": [
    "### Validate Resource Registration API Endpoints"
   ]
  },
  {
   "cell_type": "code",
   "execution_count": null,
   "id": "419f8011",
   "metadata": {},
   "outputs": [],
   "source": [
    "endpoints = [\n",
    "    (\"Landing Page\", resource_registration_domain),\n",
    "    (\"Swagger UI\", f\"{resource_registration_domain}/openapi?f=html\"),\n",
    "    (\"Conformance Declaration\", f\"{resource_registration_domain}/conformance\"),\n",
    "    (\"Processes List\", f\"{resource_registration_domain}/processes\"),\n",
    "    (\"Jobs Endpoint\", f\"{resource_registration_domain}/jobs\")\n",
    "]\n",
    "\n",
    "for name, url in endpoints:\n",
    "    response = requests.get(url)\n",
    "    print(f\"{name} ({url}): {response.status_code}\")"
   ]
  },
  {
   "cell_type": "markdown",
   "id": "82579158",
   "metadata": {},
   "source": [
    "### Inspect Available Processes"
   ]
  },
  {
   "cell_type": "code",
   "execution_count": null,
   "id": "cbd7774f",
   "metadata": {},
   "outputs": [],
   "source": [
    "processes_url = f\"{resource_registration_domain}/processes\"\n",
    "processes_response = requests.get(processes_url)\n",
    "processes = processes_response.json().get(\"processes\", [])\n",
    "print(f\"Found {len(processes)} processes.\")\n",
    "for idx, process in enumerate(processes, 1):\n",
    "    # print(idx, json.dumps(process, indent=2))\n",
    "    print(f\"{idx}: {process['id']:<20} {process['version']:<15} {process['title']}\")"
   ]
  },
  {
   "cell_type": "markdown",
   "id": "2156e883",
   "metadata": {},
   "source": [
    "### Registering Remote STAC Collection"
   ]
  },
  {
   "cell_type": "code",
   "execution_count": null,
   "id": "107601f7",
   "metadata": {},
   "outputs": [],
   "source": [
    "register_url = f\"{resource_registration_domain}/processes/register/execution\"\n",
    "\n",
    "payload = {\n",
    "    \"inputs\": {\n",
    "        \"type\": \"collection\",\n",
    "        \"source\": {\"rel\": \"collection\", \"href\": \"https://raw.githubusercontent.com/james-hinton/temp-data-store/refs/heads/main/stac-collection.json\"},\n",
    "        \"target\": {\"rel\": \"https://api.stacspec.org/v1.0.0/core\", \"href\": f\"https://resource-catalogue.{platform_domain}/stac\"}\n",
    "    }\n",
    "}\n",
    "response = requests.post(register_url, json=payload)\n",
    "registration_result = response.json()\n",
    "print(json.dumps(registration_result, indent=2))"
   ]
  },
  {
   "cell_type": "code",
   "execution_count": null,
   "id": "53a808aa",
   "metadata": {},
   "outputs": [],
   "source": [
    "# Confirm that the registration was successful\n",
    "collection_href = registration_result[\"resource-and-data-catalogue-link\"]['href']\n",
    "\n",
    "response = requests.get(collection_href)\n",
    "print(f\"Collection successfully registered at {collection_href}\")"
   ]
  },
  {
   "cell_type": "markdown",
   "id": "f88de447",
   "metadata": {},
   "source": [
    "### Verify Registration Job Status"
   ]
  },
  {
   "cell_type": "code",
   "execution_count": null,
   "id": "0b432578",
   "metadata": {},
   "outputs": [],
   "source": [
    "jobs_url = f\"{resource_registration_domain}/jobs\"\n",
    "response = requests.get(jobs_url)\n",
    "jobs = response.json()\n",
    "\n",
    "print(f\"Jobs listing status code: {response.status_code}\")\n",
    "latest_job = jobs[\"jobs\"][-1] if jobs.get(\"jobs\") else {}\n",
    "print(json.dumps(latest_job, indent=2))"
   ]
  },
  {
   "cell_type": "markdown",
   "id": "8b2d54eb",
   "metadata": {},
   "source": [
    "### Validate Registered Dataset in Resource Discovery"
   ]
  },
  {
   "cell_type": "code",
   "execution_count": null,
   "id": "5135f470",
   "metadata": {},
   "outputs": [],
   "source": [
    "resource_discovery_domain = f'{os.environ.get(\"HTTP_SCHEME\")}://resource-catalogue.{platform_domain}'\n",
    "metadata_items_url = f\"{resource_discovery_domain}/collections/metadata:main/items\"\n",
    "\n",
    "response = requests.get(metadata_items_url)\n",
    "items = response.json().get(\"features\", [])\n",
    "\n",
    "item_ids = [item.get(\"id\") for item in items]\n",
    "expected_item_id = \"S2MSI2A\"\n",
    "\n",
    "if expected_item_id in item_ids:\n",
    "    print(f\"✅ Dataset '{expected_item_id}' successfully registered and discoverable!\")\n",
    "    print(f\"View it here: {metadata_items_url}/{expected_item_id}\")\n",
    "else:\n",
    "    print(f\"❌ Dataset '{expected_item_id}' registration failed or item not discoverable.\")"
   ]
  },
  {
   "cell_type": "markdown",
   "id": "39168343",
   "metadata": {},
   "source": [
    "### Deregistering a STAC Collection"
   ]
  },
  {
   "cell_type": "code",
   "execution_count": null,
   "id": "6ae78775",
   "metadata": {},
   "outputs": [],
   "source": [
    "deregister_url = f\"{resource_registration_domain}/processes/deregister/execution\"\n",
    "payload = {\n",
    "    \"inputs\": {\n",
    "        \"id\": \"S2MSI2A\",\n",
    "        \"target\": {\n",
    "            \"rel\": \"https://api.stacspec.org/v1.0.0/core\",\n",
    "            \"href\": f\"https://resource-catalogue.{platform_domain}/stac\"\n",
    "        },\n",
    "        \"rel\": \"collection\"\n",
    "        \n",
    "    }\n",
    "}\n",
    "response = requests.post(deregister_url, json=payload)\n",
    "print(response.json())"
   ]
  },
  {
   "cell_type": "markdown",
   "id": "a646f4d5",
   "metadata": {},
   "source": [
    "### Processes"
   ]
  },
  {
   "cell_type": "markdown",
   "id": "d483fc0d",
   "metadata": {},
   "source": [
    "#### Detailed Inspection of `hello-world` Process"
   ]
  },
  {
   "cell_type": "code",
   "execution_count": null,
   "id": "6fb5b8cc",
   "metadata": {},
   "outputs": [],
   "source": [
    "hello_world_process_url = f\"{resource_registration_domain}/processes/hello-world\"\n",
    "response = requests.get(hello_world_process_url)\n",
    "print(json.dumps(response.json(), indent=2)[:500])"
   ]
  },
  {
   "cell_type": "markdown",
   "id": "56240f8a",
   "metadata": {},
   "source": [
    "#### Synchronous Execution of Hello-World Process"
   ]
  },
  {
   "cell_type": "code",
   "execution_count": null,
   "id": "85806605",
   "metadata": {},
   "outputs": [],
   "source": [
    "hello_world_exec_url = f\"{hello_world_process_url}/execution\"\n",
    "payload = {\n",
    "    \"inputs\": {\n",
    "        \"name\": \"EOEPCA User\",\n",
    "        \"message\": \"Testing synchronous execution\"\n",
    "    }\n",
    "}\n",
    "response = requests.post(hello_world_exec_url, json=payload)\n",
    "print(response.json())"
   ]
  },
  {
   "cell_type": "markdown",
   "id": "a3ccf27d",
   "metadata": {},
   "source": [
    "#### Asynchronous Execution of Hello-World Process"
   ]
  },
  {
   "cell_type": "code",
   "execution_count": null,
   "id": "f5762eaa",
   "metadata": {},
   "outputs": [],
   "source": [
    "headers = {\"Prefer\": \"respond-async\"}\n",
    "payload = {\n",
    "    \"inputs\": {\n",
    "        \"name\": \"EOEPCA User\",\n",
    "        \"message\": \"Testing asynchronous execution\"\n",
    "    }\n",
    "}\n",
    "response = requests.post(hello_world_exec_url, json=payload, headers=headers)\n",
    "job_location = response.headers.get('Location')\n",
    "print(f\"Job created asynchronously. Location: {job_location}\")"
   ]
  },
  {
   "cell_type": "markdown",
   "id": "c6fa4a8f",
   "metadata": {},
   "source": [
    "#### Check Status of Async Job"
   ]
  },
  {
   "cell_type": "code",
   "execution_count": null,
   "id": "af915f56",
   "metadata": {},
   "outputs": [],
   "source": [
    "response = requests.get(job_location)\n",
    "print(json.dumps(response.json(), indent=2))"
   ]
  },
  {
   "cell_type": "markdown",
   "id": "e1ddfd0f",
   "metadata": {},
   "source": [
    "#### Retrieve Results from Async Job"
   ]
  },
  {
   "cell_type": "code",
   "execution_count": null,
   "id": "640842bf",
   "metadata": {},
   "outputs": [],
   "source": [
    "job_results_url = f\"{job_location}/results\"\n",
    "response = requests.get(job_results_url, headers={\"Accept\": \"application/json\"})\n",
    "print(response.json())"
   ]
  },
  {
   "cell_type": "markdown",
   "id": "1bd01b99",
   "metadata": {},
   "source": [
    "## Registration Harvester"
   ]
  },
  {
   "cell_type": "code",
   "execution_count": null,
   "id": "6d2b597a",
   "metadata": {},
   "outputs": [],
   "source": [
    "flowable_domain = f'{os.environ.get(\"HTTP_SCHEME\")}://registration-harvester-api.{platform_domain}'\n",
    "flowable_docs_url = f\"{flowable_domain}/flowable-rest/docs/\"\n",
    "response = requests.get(flowable_docs_url)\n",
    "\n",
    "print(f\"Flowable Swagger UI status code: {response.status_code}\")\n",
    "response.url"
   ]
  },
  {
   "cell_type": "code",
   "execution_count": null,
   "id": "5407002e",
   "metadata": {},
   "outputs": [],
   "source": [
    "from requests import Session\n",
    "from requests.auth import HTTPBasicAuth\n",
    "import json\n",
    "import requests\n",
    "import os\n",
    "\n",
    "flowable_admin_user = os.environ.get(\"FLOWABLE_ADMIN_USER\", \"eoepca\")\n",
    "flowable_admin_password = os.environ.get(\"FLOWABLE_ADMIN_PASSWORD\", \"eoepca\")\n",
    "flowable_session = Session()\n",
    "flowable_session.auth = HTTPBasicAuth(flowable_admin_user, flowable_admin_password)"
   ]
  },
  {
   "cell_type": "markdown",
   "id": "ea6c46eb",
   "metadata": {},
   "source": [
    "### List Flowable Deployments"
   ]
  },
  {
   "cell_type": "code",
   "execution_count": null,
   "id": "a64901a8",
   "metadata": {},
   "outputs": [],
   "source": [
    "deployments_url = f\"{flowable_domain}/flowable-rest/service/repository/deployments\"\n",
    "response = flowable_session.get(deployments_url)\n",
    "deployments = response.json().get(\"data\", [])\n",
    "\n",
    "print(f\"Found {len(deployments)} deployments.\")\n",
    "\n",
    "if deployments:\n",
    "    latest_deployment = deployments[0]\n",
    "    deployment_id = latest_deployment.get(\"id\")\n",
    "    for idx, deployment in enumerate(deployments, 1):\n",
    "        print(\"%-2s %-25s deployed at: %-30s with id: %s\" % (idx, deployment['name'], deployment['deploymentTime'], deployment[\"id\"]))"
   ]
  },
  {
   "cell_type": "markdown",
   "id": "46774503",
   "metadata": {},
   "source": [
    "### Deploy Landsat Workflows"
   ]
  },
  {
   "cell_type": "code",
   "execution_count": null,
   "id": "42d95272",
   "metadata": {},
   "outputs": [],
   "source": [
    "landsat_bpmn_files = [\n",
    "    \"https://raw.githubusercontent.com/EOEPCA/registration-harvester/refs/heads/main/workflows/landsat.bpmn\", \n",
    "    \"https://raw.githubusercontent.com/EOEPCA/registration-harvester/refs/heads/main/workflows/landsat-scene-ingestion.bpmn\"\n",
    "]\n",
    "\n",
    "for bpmn in landsat_bpmn_files:\n",
    "    bpmn_file = {os.path.basename(bpmn): requests.get(bpmn).text}\n",
    "    response = flowable_session.post(deployments_url, files=bpmn_file)\n",
    "    print(f\"Sucessfully deployed workflow: {os.path.basename(bpmn)} with status code: {response.status_code}\")"
   ]
  },
  {
   "cell_type": "markdown",
   "id": "58fd1f0b",
   "metadata": {},
   "source": [
    "### List Flowable Deployed Processes"
   ]
  },
  {
   "cell_type": "code",
   "execution_count": null,
   "id": "18ec032f",
   "metadata": {},
   "outputs": [],
   "source": [
    "process_definitions_url = f\"{flowable_domain}/flowable-rest/service/repository/process-definitions\"\n",
    "print(f\"Flowable process definitions URL: {process_definitions_url}\")\n",
    "\n",
    "response = flowable_session.get(process_definitions_url)\n",
    "processes = response.json()[\"data\"]\n",
    "\n",
    "for idx, process in enumerate(processes, 1):\n",
    "    print(\"%-2s %-28s version: %-5s id: %s\" % (idx, process['name'], process['version'], process['id']))\n",
    "    if process[\"name\"] == \"Landsat Workflow\":\n",
    "        landsat_process_id = process[\"id\"]"
   ]
  },
  {
   "cell_type": "markdown",
   "id": "fb9171e7",
   "metadata": {},
   "source": [
    "### Execute `Landsat Workflow` Process"
   ]
  },
  {
   "cell_type": "code",
   "execution_count": null,
   "id": "05fa5a1d",
   "metadata": {},
   "outputs": [],
   "source": [
    "query = json.dumps({ \"created\": { \"gte\": \"2024-12-13T10:00:00.000000Z\", \"lt\": \"2024-12-13T11:00:00.000000Z\" } })\n",
    "variables = [\n",
    "    {\"name\": \"datetime_interval\", \"type\": \"string\", \"value\": \"2024-11-13T10:00:00Z/2024-11-13T11:00:00Z\"},    \n",
    "    {\"name\": \"collections\", \"type\": \"string\", \"value\": \"landsat-c2l2-sr\"},\n",
    "    {\"name\": \"bbox\", \"type\": \"string\", \"value\": \"-7,46,3,52\"},\n",
    "    # {\"name\": \"query\", \"type\": \"string\", \"value\": query},\n",
    "]\n",
    "\n",
    "# Create the JSON body for HTTP request which triggers the workflow\n",
    "body = {}\n",
    "body[\"processDefinitionId\"] = landsat_process_id\n",
    "body[\"variables\"] = variables\n",
    "\n",
    "process_instances_url = f\"{flowable_domain}/flowable-rest/service/runtime/process-instances\"\n",
    "response = flowable_session.post(process_instances_url, json=body)\n",
    "print(f\"POST {process_instances_url}\")\n",
    "print(json.dumps(response.json(), indent=2))"
   ]
  },
  {
   "cell_type": "markdown",
   "id": "dc128de5",
   "metadata": {},
   "source": [
    "### Check Process Instances"
   ]
  },
  {
   "cell_type": "code",
   "execution_count": null,
   "id": "8ba5409c",
   "metadata": {},
   "outputs": [],
   "source": [
    "process_instances_url = f\"{flowable_domain}/flowable-rest/service/runtime/process-instances\"\n",
    "print(f\"GET {process_instances_url}\")\n",
    "response = flowable_session.get(process_instances_url)\n",
    "\n",
    "process_instances = response.json().get(\"data\", [])\n",
    "print(f\"Found {len(process_instances)} workflow instances.\")\n",
    "for idx, process in enumerate(process_instances, 1):\n",
    "    print(f\"{idx} {process['processDefinitionName']:<25} started at: {process['startTime']:<25} id: {process['id']}\")"
   ]
  },
  {
   "cell_type": "markdown",
   "id": "18719bd9",
   "metadata": {},
   "source": [
    "### Delete Workflow Instances"
   ]
  },
  {
   "cell_type": "code",
   "execution_count": null,
   "id": "9071fb40",
   "metadata": {},
   "outputs": [],
   "source": [
    "process_instances_url = f\"{flowable_domain}/flowable-rest/service/runtime/process-instances\"\n",
    "print(f\"Fetch workflow instances: GET {process_instances_url}\")\n",
    "response = flowable_session.get(process_instances_url)\n",
    "process_instances = response.json().get(\"data\", [])\n",
    "print(f\"Found {len(process_instances)} workflow instances.\")\n",
    "for process in process_instances:\n",
    "    print(f'DELETE: {process[\"id\"]}: {process[\"url\"]}')    \n",
    "    flowable_session.delete(process[\"url\"])"
   ]
  },
  {
   "cell_type": "markdown",
   "id": "b270a3e1-cf76-46b7-85fe-e20094d60590",
   "metadata": {},
   "source": [
    "### Delete Deployments"
   ]
  },
  {
   "cell_type": "code",
   "execution_count": null,
   "id": "40eadf81-897d-4983-93a4-0b74d9e527f5",
   "metadata": {},
   "outputs": [],
   "source": [
    "print(f\"Fetch deployments: GET {deployments_url}\")\n",
    "response = flowable_session.get(deployments_url)\n",
    "deployments = response.json().get(\"data\", [])\n",
    "print(f\"Found {len(deployments)} deployments.\")\n",
    "for d in deployments:\n",
    "    if not d[\"name\"] == 'Demo processes':\n",
    "        print(f'DELETE: {d[\"id\"]}: {d[\"url\"]}')\n",
    "        flowable_session.delete(d[\"url\"])\n",
    "    else:\n",
    "        print(f'Retaining: {d[\"id\"]}: {d[\"url\"]}')        "
   ]
  }
 ],
 "metadata": {
  "kernelspec": {
   "display_name": "Python 3 (ipykernel)",
   "language": "python",
   "name": "python3"
  },
  "language_info": {
   "codemirror_mode": {
    "name": "ipython",
    "version": 3
   },
   "file_extension": ".py",
   "mimetype": "text/x-python",
   "name": "python",
   "nbconvert_exporter": "python",
   "pygments_lexer": "ipython3",
   "version": "3.12.9"
  }
 },
 "nbformat": 4,
 "nbformat_minor": 5
}
