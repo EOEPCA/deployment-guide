{
 "cells": [
  {
   "cell_type": "raw",
   "id": "c6a14aa9-b395-466f-8773-8258fef66891",
   "metadata": {
    "editable": true,
    "slideshow": {
     "slide_type": ""
    },
    "tags": [],
    "vscode": {
     "languageId": "raw"
    }
   },
   "source": [
    "# EOEPCA Resource Registration Validation and Usage Notebook"
   ]
  },
  {
   "cell_type": "markdown",
   "id": "fd364dc8-1b01-4a4c-abd5-185081cb3641",
   "metadata": {},
   "source": [
    "## Setup"
   ]
  },
  {
   "cell_type": "code",
   "execution_count": 1,
   "id": "63f00541-6375-4d66-b84d-06e7b26b6efa",
   "metadata": {
    "editable": true,
    "slideshow": {
     "slide_type": ""
    },
    "tags": []
   },
   "outputs": [],
   "source": [
    "import os\n",
    "import requests\n",
    "import json\n",
    "from pathlib import Path\n",
    "\n",
    "import sys\n",
    "sys.path.append('../')\n",
    "from modules.helpers import get_access_token, load_eoepca_state, test_cell, test_results"
   ]
  },
  {
   "cell_type": "markdown",
   "id": "e8165564-bede-48ee-b81b-857dfeb85ffb",
   "metadata": {
    "editable": true,
    "slideshow": {
     "slide_type": ""
    },
    "tags": []
   },
   "source": [
    "Load `eoepca state` environment"
   ]
  },
  {
   "cell_type": "code",
   "execution_count": 2,
   "id": "9138ba4e-4103-41db-a8da-1d937036d5f3",
   "metadata": {
    "editable": true,
    "slideshow": {
     "slide_type": ""
    },
    "tags": []
   },
   "outputs": [],
   "source": [
    "load_eoepca_state()"
   ]
  },
  {
   "cell_type": "code",
   "execution_count": 3,
   "id": "398ca795-5bd2-421e-90ad-860861793329",
   "metadata": {
    "editable": true,
    "slideshow": {
     "slide_type": ""
    },
    "tags": [
     "parameters"
    ]
   },
   "outputs": [
    {
     "name": "stdout",
     "output_type": "stream",
     "text": [
      "Resource Registration API: https://registration-api.notebook-test.develop.eoepca.org\n"
     ]
    }
   ],
   "source": [
    "platform_domain = os.environ.get(\"INGRESS_HOST\")\n",
    "resource_registration_domain = f'{os.environ.get(\"HTTP_SCHEME\")}://registration-api.{platform_domain}'\n",
    "\n",
    "print(f\"Resource Registration API: {resource_registration_domain}\")"
   ]
  },
  {
   "cell_type": "markdown",
   "id": "47259226",
   "metadata": {},
   "source": [
    "## Validate Resource Registration API Endpoints"
   ]
  },
  {
   "cell_type": "code",
   "execution_count": 5,
   "id": "419f8011",
   "metadata": {},
   "outputs": [
    {
     "name": "stdout",
     "output_type": "stream",
     "text": [
      "Landing Page (https://registration-api.notebook-test.develop.eoepca.org): 200\n",
      "Swagger UI (https://registration-api.notebook-test.develop.eoepca.org/openapi?f=html): 200\n",
      "Processes Endpoint (https://registration-api.notebook-test.develop.eoepca.org/processes): 200\n",
      "Jobs Endpoint (https://registration-api.notebook-test.develop.eoepca.org/jobs): 200\n"
     ]
    }
   ],
   "source": [
    "endpoints = [\n",
    "    (\"Landing Page\", resource_registration_domain),\n",
    "    (\"Swagger UI\", f\"{resource_registration_domain}/openapi?f=html\"),\n",
    "    (\"Processes Endpoint\", f\"{resource_registration_domain}/processes\"),\n",
    "    (\"Jobs Endpoint\", f\"{resource_registration_domain}/jobs\")\n",
    "]\n",
    "\n",
    "for name, url in endpoints:\n",
    "    response = requests.get(url)\n",
    "    print(f\"{name} ({url}): {response.status_code}\")"
   ]
  },
  {
   "cell_type": "markdown",
   "id": "45007822",
   "metadata": {},
   "source": [
    "## Testing a Simple Hello-World Process Execution"
   ]
  },
  {
   "cell_type": "code",
   "execution_count": 6,
   "id": "129eea9e",
   "metadata": {},
   "outputs": [
    {
     "name": "stdout",
     "output_type": "stream",
     "text": [
      "Hello-World execution status code: 200\n",
      "{'id': 'echo', 'value': 'Hello EOEPCA Tester! Validation of Hello-World Process'}\n"
     ]
    }
   ],
   "source": [
    "hello_world_url = f\"{resource_registration_domain}/processes/hello-world/execution\"\n",
    "\n",
    "payload = {\n",
    "    \"inputs\": {\n",
    "        \"name\": \"EOEPCA Tester\",\n",
    "        \"message\": \"Validation of Hello-World Process\"\n",
    "    }\n",
    "}\n",
    "\n",
    "response = requests.post(hello_world_url, json=payload)\n",
    "\n",
    "print(f\"Hello-World execution status code: {response.status_code}\")\n",
    "print(response.json())"
   ]
  },
  {
   "cell_type": "markdown",
   "id": "130be6f4",
   "metadata": {},
   "source": [
    "## Registering a Sample Dataset"
   ]
  },
  {
   "cell_type": "markdown",
   "id": "405b8049",
   "metadata": {},
   "source": [
    "### Prepare Sample STAC Item"
   ]
  },
  {
   "cell_type": "code",
   "execution_count": 7,
   "id": "10f5f293",
   "metadata": {},
   "outputs": [
    {
     "name": "stdout",
     "output_type": "stream",
     "text": [
      "{\n",
      "    \"stac_version\": \"1.1.0\",\n",
      "    \"stac_extensions\": [],\n",
      "    \"type\": \"Feature\",\n",
      "    \"id\": \"20201211_223832_CS2\",\n",
      "    \"bbox\": [\n",
      "      172.91173669923782,\n",
      "      1.3438851951615003,\n",
      "      172.95469614953714,\n",
      "      1.3690476620161975\n",
      "    ],\n",
      "    \"geometry\": {\n",
      "      \"type\": \"Polygon\",\n",
      "      \"coordinates\": [\n",
      "        [\n",
      "          [\n",
      "            172.91173669923782,\n",
      "            1.3438851951615003\n",
      "          ],\n",
      "          [\n",
      "            172.95469614953714,\n",
      "            1.3438851951615003\n",
      "          ],\n",
      "          \n"
     ]
    }
   ],
   "source": [
    "sample_stac_item_path = Path(\"simple-item.json\")\n",
    "\n",
    "if not sample_stac_item_path.exists():\n",
    "    stac_item_url = \"https://raw.githubusercontent.com/EOEPCA/deployment-guide/main/scripts/resource-registration/data/simple-item.json\"\n",
    "    response = requests.get(stac_item_url)\n",
    "    sample_stac_item_path.write_text(response.text)\n",
    "\n",
    "print(sample_stac_item_path.read_text()[:500])"
   ]
  },
  {
   "cell_type": "markdown",
   "id": "9c66629f",
   "metadata": {},
   "source": [
    "### Execute Resource Registration"
   ]
  },
  {
   "cell_type": "code",
   "execution_count": 8,
   "id": "e65526da",
   "metadata": {},
   "outputs": [
    {
     "name": "stdout",
     "output_type": "stream",
     "text": [
      "Dataset registration status code: 200\n"
     ]
    },
    {
     "data": {
      "text/plain": [
       "{'id': 'registrar',\n",
       " 'resource-and-data-catalogue-link': {'href': 'https://resource-catalogue.notebook-test.develop.eoepca.org/stac/collections/metadata:main/items/20201211_223832_CS2',\n",
       "  'rel': 'item',\n",
       "  'type': 'application/geo+json'}}"
      ]
     },
     "execution_count": 8,
     "metadata": {},
     "output_type": "execute_result"
    }
   ],
   "source": [
    "register_url = f\"{resource_registration_domain}/processes/register/execution\"\n",
    "\n",
    "payload = {\n",
    "    \"inputs\": {\n",
    "        \"type\": \"dataset\",\n",
    "        \"source\": stac_item_url,\n",
    "        \"target\": f\"https://resource-catalogue.{platform_domain}/stac\"\n",
    "    }\n",
    "}\n",
    "\n",
    "response = requests.post(register_url, json=payload)\n",
    "\n",
    "print(f\"Dataset registration status code: {response.status_code}\")\n",
    "registration_result = response.json()\n",
    "registration_result"
   ]
  },
  {
   "cell_type": "markdown",
   "id": "f88de447",
   "metadata": {},
   "source": [
    "## Verify Registration Job Status"
   ]
  },
  {
   "cell_type": "code",
   "execution_count": 9,
   "id": "0b432578",
   "metadata": {},
   "outputs": [
    {
     "name": "stdout",
     "output_type": "stream",
     "text": [
      "Jobs listing status code: 200\n",
      "{\n",
      "  \"type\": \"process\",\n",
      "  \"processID\": \"register\",\n",
      "  \"jobID\": \"15884148-066d-11f0-9103-422a2051c4ad\",\n",
      "  \"status\": \"successful\",\n",
      "  \"message\": \"Job complete\",\n",
      "  \"progress\": 100,\n",
      "  \"parameters\": null,\n",
      "  \"job_start_datetime\": \"2025-03-21T15:56:43.093950Z\",\n",
      "  \"job_end_datetime\": \"2025-03-21T15:56:47.093965Z\",\n",
      "  \"links\": [\n",
      "    {\n",
      "      \"href\": \"https://registration-api.notebook-test.develop.eoepca.org/jobs/15884148-066d-11f0-9103-422a2051c4ad/results?f=html\",\n",
      "      \"rel\": \"http://www.opengis.net/def/rel/ogc/1.0/results\",\n",
      "      \"type\": \"text/html\",\n",
      "      \"title\": \"Results of job as HTML\"\n",
      "    },\n",
      "    {\n",
      "      \"href\": \"https://registration-api.notebook-test.develop.eoepca.org/jobs/15884148-066d-11f0-9103-422a2051c4ad/results?f=json\",\n",
      "      \"rel\": \"http://www.opengis.net/def/rel/ogc/1.0/results\",\n",
      "      \"type\": \"application/json\",\n",
      "      \"title\": \"Results of job as JSON\"\n",
      "    }\n",
      "  ]\n",
      "}\n"
     ]
    }
   ],
   "source": [
    "jobs_url = f\"{resource_registration_domain}/jobs\"\n",
    "response = requests.get(jobs_url)\n",
    "jobs = response.json()\n",
    "\n",
    "print(f\"Jobs listing status code: {response.status_code}\")\n",
    "latest_job = jobs[\"jobs\"][0] if jobs.get(\"jobs\") else {}\n",
    "print(json.dumps(latest_job, indent=2))"
   ]
  },
  {
   "cell_type": "markdown",
   "id": "8b2d54eb",
   "metadata": {},
   "source": [
    "## Validate Registered Dataset in Resource Discovery"
   ]
  },
  {
   "cell_type": "code",
   "execution_count": 10,
   "id": "5135f470",
   "metadata": {},
   "outputs": [
    {
     "name": "stdout",
     "output_type": "stream",
     "text": [
      "✅ Dataset '20201211_223832_CS2' successfully registered and discoverable!\n"
     ]
    }
   ],
   "source": [
    "resource_discovery_domain = f'{os.environ.get(\"HTTP_SCHEME\")}://resource-catalogue.{platform_domain}'\n",
    "metadata_items_url = f\"{resource_discovery_domain}/collections/metadata:main/items\"\n",
    "\n",
    "response = requests.get(metadata_items_url)\n",
    "items = response.json().get(\"features\", [])\n",
    "\n",
    "item_ids = [item.get(\"id\") for item in items]\n",
    "expected_item_id = json.loads(sample_stac_item_path.read_text()).get(\"id\")\n",
    "\n",
    "if expected_item_id in item_ids:\n",
    "    print(f\"✅ Dataset '{expected_item_id}' successfully registered and discoverable!\")\n",
    "else:\n",
    "    print(f\"❌ Dataset '{expected_item_id}' registration failed or item not discoverable.\")"
   ]
  },
  {
   "cell_type": "markdown",
   "id": "1bd01b99",
   "metadata": {},
   "source": [
    "## Additional Validation - Flowable API Check"
   ]
  },
  {
   "cell_type": "code",
   "execution_count": 11,
   "id": "6d2b597a",
   "metadata": {},
   "outputs": [
    {
     "name": "stdout",
     "output_type": "stream",
     "text": [
      "Flowable Swagger UI status code: 200\n"
     ]
    },
    {
     "data": {
      "text/plain": [
       "'https://registration-harvester-api.notebook-test.develop.eoepca.org/flowable-rest/docs/'"
      ]
     },
     "execution_count": 11,
     "metadata": {},
     "output_type": "execute_result"
    }
   ],
   "source": [
    "flowable_domain = f'{os.environ.get(\"HTTP_SCHEME\")}://registration-harvester-api.{platform_domain}'\n",
    "flowable_docs_url = f\"{flowable_domain}/flowable-rest/docs\"\n",
    "response = requests.get(flowable_docs_url)\n",
    "\n",
    "print(f\"Flowable Swagger UI status code: {response.status_code}\")\n",
    "response.url"
   ]
  },
  {
   "cell_type": "markdown",
   "id": "6f41625b",
   "metadata": {},
   "source": [
    "## List Flowable Deployed Processes"
   ]
  },
  {
   "cell_type": "code",
   "execution_count": 12,
   "id": "99e42f58",
   "metadata": {},
   "outputs": [
    {
     "name": "stdout",
     "output_type": "stream",
     "text": [
      "Flowable process definitions status code: 200\n",
      "{\n",
      "  \"data\": [\n",
      "    {\n",
      "      \"id\": \"createTimersProcess:1:641b2360-066c-11f0-9621-dac2883c12fb\",\n",
      "      \"url\": \"https://registration-harvester-api.notebook-test.develop.eoepca.org/flowable-rest/service/repository/process-definitions/createTimersProcess:1:641b2360-066c-11f0-9621-dac2883c12fb\",\n",
      "      \"key\": \"createTimersProcess\",\n",
      "      \"version\": 1,\n",
      "      \"name\": \"Create timers process\",\n",
      "      \"description\": \"Test process to create a number of timers.\",\n",
      "      \"tenantId\": \"\",\n",
      "      \"deploymentId\": \"636540d0-066c-11f0-9621-dac2883c12fb\",\n",
      "      \"deploymentUrl\": \"https://registration-harvester-api.notebook-test.develop.eoepca.org/flowable-rest/service/repository/deployments/636540d0-066c-11f0-9621-dac2883c12fb\",\n",
      "      \"resource\": \"https://registration-harvester-api.notebook-test.develop.eoepca.org/flowable-rest/service/repository/deployments/636540d0-066c-11f0-9621-dac2883c12fb/resources/createTimersProcess.bpmn20.xml\",\n",
      "      \"diagramResource\": null,\n",
      "      \"category\": \"Examples\",\n",
      "      \"graphicalNotationDefined\": false,\n",
      "      \"suspended\": false,\n",
      "      \"startFormDefined\": false\n",
      "    },\n",
      "    {\n",
      "      \"id\": \"oneTaskProcess:1:641b235f-066c-11f0-9621-dac2883c12fb\",\n",
      "      \"url\": \"https://registration-harvester-api.notebook-test.develop.eoepca.org/flowable-rest/service/repository/process-definitions/oneTaskProcess:1:641b235f-066c-11f0-9621-dac2883c12fb\",\n",
      "      \"key\": \"oneTaskProcess\",\n",
      "      \"version\": 1,\n",
      "      \"name\": \"Famous One Task Process\",\n",
      "      \"description\": null,\n",
      "      \"tenantId\": \"\",\n",
      "      \"deploymentId\": \"636540d0-066c-11f0-9621-dac2883c12fb\",\n",
      "      \"deploymentUrl\": \"https://registration-harvester-api.notebook-test.develop.eoepca.org/flowable-rest/service/repository/deployments/636540d0-066c-11f0-9621-dac2883c12fb\",\n",
      "      \"resource\": \"https://registration-harvester-api.notebook-test.develop.eoepca.org/flowable-rest/service/repository/deployments/636540d0-066c-11f0-9621-dac2883c12fb/resources/oneTaskProcess.bpmn20.xml\",\n",
      "      \"diagramResource\": null,\n",
      "      \"category\": \"Examples\",\n",
      "      \"graphicalNotationDefined\": false,\n",
      "      \"suspended\": false,\n",
      "      \"startFormDefined\": false\n",
      "    },\n",
      "    {\n",
      "      \"id\": \"fixSystemFailure:1:641b235c-066c-11f0-9621-dac2883c12fb\",\n",
      "      \"url\": \"https://registration-harvester-api.notebook-test.develop.eoepca.org/flowable-rest/service/repository/process-definitions/fixSystemFailure:1:641b235c-066c-11f0-9621-dac2883c12fb\",\n",
      "      \"key\": \"fixSystemFailure\",\n",
      "      \"version\": 1,\n",
      "      \"name\": \"Fix system failure\",\n",
      "      \"description\": null,\n",
      "      \"tenantId\": \"\",\n",
      "      \"deploymentId\": \"636540d0-066c-11f0-9621-dac2883c12fb\",\n",
      "      \"deploymentUrl\": \"https://registration-harvester-api.notebook-test.develop.eoepca.org/flowable-rest/service/repository/deployments/636540d0-066c-11f0-9621-dac2883c12fb\",\n",
      "      \"resource\": \"https://registration-harvester-api.notebook-test.develop.eoepca.org/flowable-rest/service/repository/deployments/636540d0-066c-11f0-9621-dac2883c12fb/resources/FixSystemFailureProcess.bpmn20.xml\",\n",
      "      \"diagramResource\": \"https://registration-harvester-api.notebook-test.develop.eoepca.org/flowable-rest/service/repository/deployments/636540d0-066c-11f0-9621-dac2883c12fb/resources/FixSystemFailureProcess.png\",\n",
      "      \"category\": \"Examples\",\n",
      "      \"graphicalNotationDefined\": false,\n",
      "      \"suspended\": false,\n",
      "      \"startFormDefined\": false\n",
      "    },\n",
      "    {\n",
      "      \"id\": \"escalationExample:1:641b235e-066c-11f0-9621-dac2883c12fb\",\n",
      "      \"url\": \"https://registration-harvester-api.notebook-test.develop.eoepca.org/flowable-rest/service/repository/process-definitions/escalationExample:1:641b235e-066c-11f0-9621-dac2883c12fb\",\n",
      "      \"key\": \"escalationExample\",\n",
      "      \"version\": 1,\n",
      "      \"name\": \"Helpdesk process\",\n",
      "      \"description\": null,\n",
      "      \"tenantId\": \"\",\n",
      "      \"deploymentId\": \"636540d0-066c-11f0-9621-dac2883c12fb\",\n",
      "      \"deploymentUrl\": \"https://registration-harvester-api.notebook-test.develop.eoepca.org/flowable-rest/service/repository/deployments/636540d0-066c-11f0-9621-dac2883c12fb\",\n",
      "      \"resource\": \"https://registration-harvester-api.notebook-test.develop.eoepca.org/flowable-rest/service/repository/deployments/636540d0-066c-11f0-9621-dac2883c12fb/resources/Helpdesk.bpmn20.xml\",\n",
      "      \"diagramResource\": \"https://registration-harvester-api.notebook-test.develop.eoepca.org/flowable-rest/service/repository/deployments/636540d0-066c-11f0-9621-dac2883c12fb/resources/Helpdesk.png\",\n",
      "      \"category\": \"Examples\",\n",
      "      \"graphicalNotationDefined\": false,\n",
      "      \"suspended\": false,\n",
      "      \"startFormDefined\": false\n",
      "    },\n",
      "    {\n",
      "      \"id\": \"reviewSaledLead:1:641b235d-066c-11f0-9621-dac2883c12fb\",\n",
      "      \"url\": \"https://registration-harvester-api.notebook-test.develop.eoepca.org/flowable-rest/service/repository/process-definitions/reviewSaledLead:1:641b235d-066c-11f0-9621-dac2883c12fb\",\n",
      "      \"key\": \"reviewSaledLead\",\n",
      "      \"version\": 1,\n",
      "      \"name\": \"Review sales lead\",\n",
      "      \"description\": null,\n",
      "      \"tenantId\": \"\",\n",
      "      \"deploymentId\": \"636540d0-066c-11f0-9621-dac2883c12fb\",\n",
      "      \"deploymentUrl\": \"https://registration-harvester-api.notebook-test.develop.eoepca.org/flowable-rest/service/repository/deployments/636540d0-066c-11f0-9621-dac2883c12fb\",\n",
      "      \"resource\": \"https://registration-harvester-api.notebook-test.develop.eoepca.org/flowable-rest/service/repository/deployments/636540d0-066c-11f0-9621-dac2883c12fb/resources/reviewSalesLead.bpmn20.xml\",\n",
      "      \"diagramResource\": \"https://registration-harvester-api.notebook-test.develop.eoepca.org/flowable-rest/service/repository/deployments/636540d0-066c-11f0-9621-dac2883c12fb/resources/reviewSalesLead.reviewSaledLead.png\",\n",
      "      \"category\": \"Examples\",\n",
      "      \"graphicalNotationDefined\": true,\n",
      "      \"suspended\": false,\n",
      "      \"startFormDefined\": false\n",
      "    },\n",
      "    {\n",
      "      \"id\": \"vacationRequest:1:641aae2b-066c-11f0-9621-dac2883c12fb\",\n",
      "      \"url\": \"https://registration-harvester-api.notebook-test.develop.eoepca.org/flowable-rest/service/repository/process-definitions/vacationRequest:1:641aae2b-066c-11f0-9621-dac2883c12fb\",\n",
      "      \"key\": \"vacationRequest\",\n",
      "      \"version\": 1,\n",
      "      \"name\": \"Vacation request\",\n",
      "      \"description\": null,\n",
      "      \"tenantId\": \"\",\n",
      "      \"deploymentId\": \"636540d0-066c-11f0-9621-dac2883c12fb\",\n",
      "      \"deploymentUrl\": \"https://registration-harvester-api.notebook-test.develop.eoepca.org/flowable-rest/service/repository/deployments/636540d0-066c-11f0-9621-dac2883c12fb\",\n",
      "      \"resource\": \"https://registration-harvester-api.notebook-test.develop.eoepca.org/flowable-rest/service/repository/deployments/636540d0-066c-11f0-9621-dac2883c12fb/resources/VacationRequest.bpmn20.xml\",\n",
      "      \"diagramResource\": \"https://registration-harvester-api.notebook-test.develop.eoepca.org/flowable-rest/service/repository/deployments/636540d0-066c-11f0-9621-dac2883c12fb/resources/VacationRequest.png\",\n",
      "      \"category\": \"http://activiti.org/bpmn20\",\n",
      "      \"graphicalNotationDefined\": false,\n",
      "      \"suspended\": false,\n",
      "      \"startFormDefined\": false\n",
      "    }\n",
      "  ],\n",
      "  \"total\": 6,\n",
      "  \"start\": 0,\n",
      "  \"sort\": \"name\",\n",
      "  \"order\": \"asc\",\n",
      "  \"size\": 6\n",
      "}\n"
     ]
    }
   ],
   "source": [
    "flowable_admin_user = os.environ.get(\"FLOWABLE_ADMIN_USER\", \"eoepca\")\n",
    "flowable_admin_password = os.environ.get(\"FLOWABLE_ADMIN_PASSWORD\", \"eoepca\")\n",
    "\n",
    "process_definitions_url = f\"{flowable_domain}/flowable-rest/service/repository/process-definitions\"\n",
    "\n",
    "response = requests.get(process_definitions_url, auth=(flowable_admin_user, flowable_admin_password))\n",
    "\n",
    "print(f\"Flowable process definitions status code: {response.status_code}\")\n",
    "print(json.dumps(response.json(), indent=2))"
   ]
  }
 ],
 "metadata": {
  "kernelspec": {
   "display_name": "venv",
   "language": "python",
   "name": "python3"
  },
  "language_info": {
   "codemirror_mode": {
    "name": "ipython",
    "version": 3
   },
   "file_extension": ".py",
   "mimetype": "text/x-python",
   "name": "python",
   "nbconvert_exporter": "python",
   "pygments_lexer": "ipython3",
   "version": "3.10.12"
  }
 },
 "nbformat": 4,
 "nbformat_minor": 5
}
