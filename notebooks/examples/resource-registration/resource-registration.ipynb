{
 "cells": [
  {
   "cell_type": "raw",
   "id": "c6a14aa9-b395-466f-8773-8258fef66891",
   "metadata": {
    "editable": true,
    "slideshow": {
     "slide_type": ""
    },
    "tags": [],
    "vscode": {
     "languageId": "raw"
    }
   },
   "source": [
    "# EOEPCA Resource Registration Validation and Usage Notebook"
   ]
  },
  {
   "cell_type": "markdown",
   "id": "fd364dc8-1b01-4a4c-abd5-185081cb3641",
   "metadata": {},
   "source": [
    "## Setup"
   ]
  },
  {
   "cell_type": "code",
   "execution_count": 1,
   "id": "63f00541-6375-4d66-b84d-06e7b26b6efa",
   "metadata": {
    "editable": true,
    "slideshow": {
     "slide_type": ""
    },
    "tags": []
   },
   "outputs": [],
   "source": [
    "import os\n",
    "import requests\n",
    "import json\n",
    "from pathlib import Path\n",
    "\n",
    "import sys\n",
    "sys.path.append('../')\n",
    "from modules.helpers import get_access_token, load_eoepca_state, test_cell, test_results"
   ]
  },
  {
   "cell_type": "markdown",
   "id": "e8165564-bede-48ee-b81b-857dfeb85ffb",
   "metadata": {
    "editable": true,
    "slideshow": {
     "slide_type": ""
    },
    "tags": []
   },
   "source": [
    "Load `eoepca state` environment"
   ]
  },
  {
   "cell_type": "code",
   "execution_count": 2,
   "id": "9138ba4e-4103-41db-a8da-1d937036d5f3",
   "metadata": {
    "editable": true,
    "slideshow": {
     "slide_type": ""
    },
    "tags": []
   },
   "outputs": [],
   "source": [
    "load_eoepca_state()"
   ]
  },
  {
   "cell_type": "code",
   "execution_count": 3,
   "id": "398ca795-5bd2-421e-90ad-860861793329",
   "metadata": {
    "editable": true,
    "slideshow": {
     "slide_type": ""
    },
    "tags": [
     "parameters"
    ]
   },
   "outputs": [
    {
     "name": "stdout",
     "output_type": "stream",
     "text": [
      "Resource Registration API: https://registration-api.notebook-test.develop.eoepca.org\n"
     ]
    }
   ],
   "source": [
    "platform_domain = os.environ.get(\"INGRESS_HOST\")\n",
    "resource_registration_domain = f'{os.environ.get(\"HTTP_SCHEME\")}://registration-api.{platform_domain}'\n",
    "\n",
    "print(f\"Resource Registration API: {resource_registration_domain}\")"
   ]
  },
  {
   "cell_type": "markdown",
   "id": "47259226",
   "metadata": {},
   "source": [
    "## Validate Resource Registration API Endpoints"
   ]
  },
  {
   "cell_type": "code",
   "execution_count": 4,
   "id": "419f8011",
   "metadata": {},
   "outputs": [
    {
     "name": "stdout",
     "output_type": "stream",
     "text": [
      "Landing Page (https://registration-api.notebook-test.develop.eoepca.org): 200\n",
      "Swagger UI (https://registration-api.notebook-test.develop.eoepca.org/openapi?f=html): 200\n",
      "Conformance Declaration (https://registration-api.notebook-test.develop.eoepca.org/conformance): 200\n",
      "Processes List (https://registration-api.notebook-test.develop.eoepca.org/processes): 200\n",
      "Jobs Endpoint (https://registration-api.notebook-test.develop.eoepca.org/jobs): 200\n"
     ]
    }
   ],
   "source": [
    "endpoints = [\n",
    "    (\"Landing Page\", resource_registration_domain),\n",
    "    (\"Swagger UI\", f\"{resource_registration_domain}/openapi?f=html\"),\n",
    "    (\"Conformance Declaration\", f\"{resource_registration_domain}/conformance\"),\n",
    "    (\"Processes List\", f\"{resource_registration_domain}/processes\"),\n",
    "    (\"Jobs Endpoint\", f\"{resource_registration_domain}/jobs\")\n",
    "]\n",
    "\n",
    "for name, url in endpoints:\n",
    "    response = requests.get(url)\n",
    "    print(f\"{name} ({url}): {response.status_code}\")"
   ]
  },
  {
   "cell_type": "markdown",
   "id": "82579158",
   "metadata": {},
   "source": [
    "## Inspect Available Processes"
   ]
  },
  {
   "cell_type": "code",
   "execution_count": 5,
   "id": "cbd7774f",
   "metadata": {},
   "outputs": [
    {
     "name": "stdout",
     "output_type": "stream",
     "text": [
      "{\n",
      "  \"processes\": [\n",
      "    {\n",
      "      \"version\": \"0.1.0\",\n",
      "      \"id\": \"deregister\",\n",
      "      \"title\": \"Resource deregistration\",\n",
      "      \"description\": \"Resource deregistration\",\n",
      "      \"jobControlOptions\": [\n",
      "        \"sync-execute\",\n",
      "        \"async-execute\"\n",
      "      ],\n",
      "      \"keywords\": [\n",
      "        \"resource\",\n",
      "        \"deregistration\"\n",
      "      ],\n",
      "      \"links\": [\n",
      "        {\n",
      "          \"type\": \"text/html\",\n",
      "          \"rel\": \"about\",\n",
      "          \"title\": \"information\",\n",
      "          \"href\": \"https://eoepca.readthedocs.io/projec\n"
     ]
    }
   ],
   "source": [
    "processes_url = f\"{resource_registration_domain}/processes\"\n",
    "response = requests.get(processes_url)\n",
    "print(json.dumps(response.json(), indent=2)[:500])"
   ]
  },
  {
   "cell_type": "markdown",
   "id": "2156e883",
   "metadata": {},
   "source": [
    "## Registering Remote STAC Collection"
   ]
  },
  {
   "cell_type": "code",
   "execution_count": 11,
   "id": "107601f7",
   "metadata": {},
   "outputs": [
    {
     "name": "stdout",
     "output_type": "stream",
     "text": [
      "{'id': 'registrar', 'resource-and-data-catalogue-link': {'href': 'https://resource-catalogue.notebook-test.develop.eoepca.org/stac/collections/metadata:main/items/simple-collection', 'rel': 'item', 'type': 'application/geo+json'}}\n"
     ]
    }
   ],
   "source": [
    "register_url = f\"{resource_registration_domain}/processes/register/execution\"\n",
    "\n",
    "payload = {\n",
    "    \"inputs\": {\n",
    "        \"type\": \"collection\",\n",
    "        \"source\": \"https://raw.githubusercontent.com/radiantearth/stac-spec/master/examples/collection.json\",\n",
    "        \"target\": f\"https://resource-catalogue.{platform_domain}/stac\"\n",
    "    }\n",
    "}\n",
    "response = requests.post(register_url, json=payload)\n",
    "registration_result = response.json()\n",
    "print(registration_result)"
   ]
  },
  {
   "cell_type": "markdown",
   "id": "d6970ad6",
   "metadata": {},
   "source": [
    "## Deregistering a STAC Collection"
   ]
  },
  {
   "cell_type": "code",
   "execution_count": 24,
   "id": "5a5d3134",
   "metadata": {},
   "outputs": [
    {
     "name": "stdout",
     "output_type": "stream",
     "text": [
      "{'type': 'InvalidParameterValue', 'code': 'InvalidParameterValue', 'description': 'Error executing process: [\"$.target: {\\'href\\': \\'https://resource-catalogue.notebook-test.develop.eoepca.org\\', \\'rel\\': \\'https://api.stacspec.org/v1.0.0/core\\'} is not of type \\'string\\'\"]'}\n"
     ]
    }
   ],
   "source": [
    "deregister_url = f\"{resource_registration_domain}/processes/deregister/execution\"\n",
    "payload = {\n",
    "    \"inputs\": {\n",
    "        \"id\": \"simple-collection\",\n",
    "        \"target\": {\n",
    "            \"href\": f\"https://resource-catalogue.{platform_domain}\",\n",
    "            \"rel\": \"https://api.stacspec.org/v1.0.0/core\"\n",
    "        }\n",
    "    }\n",
    "}\n",
    "response = requests.post(deregister_url, json=payload)\n",
    "print(response.json())"
   ]
  },
  {
   "cell_type": "markdown",
   "id": "130be6f4",
   "metadata": {},
   "source": [
    "## Registering a Sample STAC Item"
   ]
  },
  {
   "cell_type": "code",
   "execution_count": 13,
   "id": "10f5f293",
   "metadata": {},
   "outputs": [],
   "source": [
    "stac_item_url = \"https://raw.githubusercontent.com/EOEPCA/deployment-guide/main/scripts/resource-registration/data/simple-item.json\"\n",
    "\n",
    "stac_item_json_data = requests.get(stac_item_url).json()"
   ]
  },
  {
   "cell_type": "markdown",
   "id": "9c66629f",
   "metadata": {},
   "source": [
    "### Execute Resource Registration"
   ]
  },
  {
   "cell_type": "code",
   "execution_count": 14,
   "id": "e65526da",
   "metadata": {},
   "outputs": [
    {
     "name": "stdout",
     "output_type": "stream",
     "text": [
      "Dataset registration status code: 200\n"
     ]
    },
    {
     "data": {
      "text/plain": [
       "{'id': 'registrar',\n",
       " 'resource-and-data-catalogue-link': {'href': 'https://resource-catalogue.notebook-test.develop.eoepca.org/stac/collections/metadata:main/items/20201211_223832_CS2',\n",
       "  'rel': 'item',\n",
       "  'type': 'application/geo+json'}}"
      ]
     },
     "execution_count": 14,
     "metadata": {},
     "output_type": "execute_result"
    }
   ],
   "source": [
    "register_url = f\"{resource_registration_domain}/processes/register/execution\"\n",
    "\n",
    "payload = {\n",
    "    \"inputs\": {\n",
    "        \"type\": \"dataset\",\n",
    "        \"source\": stac_item_url,\n",
    "        \"target\": f\"https://resource-catalogue.{platform_domain}/stac\"\n",
    "    }\n",
    "}\n",
    "\n",
    "response = requests.post(register_url, json=payload)\n",
    "\n",
    "print(f\"Dataset registration status code: {response.status_code}\")\n",
    "registration_result = response.json()\n",
    "registration_result"
   ]
  },
  {
   "cell_type": "markdown",
   "id": "f88de447",
   "metadata": {},
   "source": [
    "## Verify Registration Job Status"
   ]
  },
  {
   "cell_type": "code",
   "execution_count": 15,
   "id": "0b432578",
   "metadata": {},
   "outputs": [
    {
     "name": "stdout",
     "output_type": "stream",
     "text": [
      "Jobs listing status code: 200\n",
      "{\n",
      "  \"type\": \"process\",\n",
      "  \"processID\": \"register\",\n",
      "  \"jobID\": \"11452c90-0ee7-11f0-8330-422a2051c4ad\",\n",
      "  \"status\": \"failed\",\n",
      "  \"message\": \"InvalidParameterValue: Error executing process: [\\\"$: 'type' is a required property\\\", \\\"$.source: {'content': {'stac_version': '1.1.0', 'stac_extensions': [], 'type': 'Feature', 'id': '20201211_223832_CS2', 'bbox': [172.91173669923782, 1.3438851951615003, 172.95469614953714, 1.3690476620161975], 'geometry': {'type': 'Polygon', 'coordinates': [[[172.91173669923782, 1.3438851951615003], [172.95469614953714, 1.3438851951615003], [172.95469614953714, 1.3690476620161975], [172.91173669923782, 1.3690476620161975], [172.91173669923782, 1.3438851951615003]]]}, 'properties': {'datetime': '2020-12-11T22:38:32.125000Z'}, 'collection': 'simple-collection', 'links': [{'rel': 'collection', 'href': './collection.json', 'type': 'application/json', 'title': 'Simple Example Collection'}, {'rel': 'root', 'href': './collection.json', 'type': 'application/json', 'title': 'Simple Example Collection'}, {'rel': 'parent', 'href': './collection.json', 'type': 'application/json', 'title': 'Simple Example Collection'}], 'assets': {'visual': {'href': 'https://storage.googleapis.com/open-cogs/stac-examples/20201211_223832_CS2.tif', 'type': 'image/tiff; application=geotiff; profile=cloud-optimized', 'title': '3-Band Visual', 'roles': ['visual']}, 'thumbnail': {'href': 'https://storage.googleapis.com/open-cogs/stac-examples/20201211_223832_CS2.jpg', 'title': 'Thumbnail', 'type': 'image/jpeg', 'roles': ['thumbnail']}}}} is not valid under any of the given schemas\\\"]\",\n",
      "  \"progress\": 5,\n",
      "  \"parameters\": null,\n",
      "  \"job_start_datetime\": \"2025-04-01T10:50:03.846657Z\",\n",
      "  \"job_end_datetime\": \"2025-04-01T10:50:05.175752Z\"\n",
      "}\n"
     ]
    }
   ],
   "source": [
    "jobs_url = f\"{resource_registration_domain}/jobs\"\n",
    "response = requests.get(jobs_url)\n",
    "jobs = response.json()\n",
    "\n",
    "print(f\"Jobs listing status code: {response.status_code}\")\n",
    "latest_job = jobs[\"jobs\"][0] if jobs.get(\"jobs\") else {}\n",
    "print(json.dumps(latest_job, indent=2))"
   ]
  },
  {
   "cell_type": "markdown",
   "id": "8b2d54eb",
   "metadata": {},
   "source": [
    "## Validate Registered Dataset in Resource Discovery"
   ]
  },
  {
   "cell_type": "code",
   "execution_count": 16,
   "id": "5135f470",
   "metadata": {},
   "outputs": [
    {
     "name": "stdout",
     "output_type": "stream",
     "text": [
      "✅ Dataset '20201211_223832_CS2' successfully registered and discoverable!\n"
     ]
    }
   ],
   "source": [
    "resource_discovery_domain = f'{os.environ.get(\"HTTP_SCHEME\")}://resource-catalogue.{platform_domain}'\n",
    "metadata_items_url = f\"{resource_discovery_domain}/collections/metadata:main/items\"\n",
    "\n",
    "response = requests.get(metadata_items_url)\n",
    "items = response.json().get(\"features\", [])\n",
    "\n",
    "item_ids = [item.get(\"id\") for item in items]\n",
    "expected_item_id = stac_item_json_data.get(\"id\")\n",
    "\n",
    "if expected_item_id in item_ids:\n",
    "    print(f\"✅ Dataset '{expected_item_id}' successfully registered and discoverable!\")\n",
    "else:\n",
    "    print(f\"❌ Dataset '{expected_item_id}' registration failed or item not discoverable.\")"
   ]
  },
  {
   "cell_type": "markdown",
   "id": "d483fc0d",
   "metadata": {},
   "source": [
    "## Detailed Inspection of `hello-world` Process"
   ]
  },
  {
   "cell_type": "code",
   "execution_count": null,
   "id": "6fb5b8cc",
   "metadata": {},
   "outputs": [
    {
     "name": "stdout",
     "output_type": "stream",
     "text": [
      "{\n",
      "  \"version\": \"0.2.0\",\n",
      "  \"id\": \"hello-world\",\n",
      "  \"title\": \"Hello World\",\n",
      "  \"description\": \"An example process that takes a name as input, and echoes it back as output. Intended to demonstrate a simple process with a single literal input.\",\n",
      "  \"jobControlOptions\": [\n",
      "    \"sync-execute\",\n",
      "    \"async-execute\"\n",
      "  ],\n",
      "  \"keywords\": [\n",
      "    \"hello world\",\n",
      "    \"example\",\n",
      "    \"echo\"\n",
      "  ],\n",
      "  \"links\": [\n",
      "    {\n",
      "      \"type\": \"text/html\",\n",
      "      \"rel\": \"about\",\n",
      "      \"title\": \"information\",\n",
      "      \"href\": \"https://exa\n"
     ]
    }
   ],
   "source": [
    "hello_world_process_url = f\"{resource_registration_domain}/processes/hello-world\"\n",
    "response = requests.get(hello_world_process_url)\n",
    "print(json.dumps(response.json(), indent=2)[:500])"
   ]
  },
  {
   "cell_type": "markdown",
   "id": "56240f8a",
   "metadata": {},
   "source": [
    "## Synchronous Execution of Hello-World Process"
   ]
  },
  {
   "cell_type": "code",
   "execution_count": null,
   "id": "85806605",
   "metadata": {},
   "outputs": [
    {
     "name": "stdout",
     "output_type": "stream",
     "text": [
      "{'id': 'echo', 'value': 'Hello EOEPCA User! Testing synchronous execution'}\n"
     ]
    }
   ],
   "source": [
    "hello_world_exec_url = f\"{hello_world_process_url}/execution\"\n",
    "payload = {\n",
    "    \"inputs\": {\n",
    "        \"name\": \"EOEPCA User\",\n",
    "        \"message\": \"Testing synchronous execution\"\n",
    "    }\n",
    "}\n",
    "response = requests.post(hello_world_exec_url, json=payload)\n",
    "print(response.json())"
   ]
  },
  {
   "cell_type": "markdown",
   "id": "a3ccf27d",
   "metadata": {},
   "source": [
    "## Asynchronous Execution of Hello-World Process"
   ]
  },
  {
   "cell_type": "code",
   "execution_count": null,
   "id": "f5762eaa",
   "metadata": {},
   "outputs": [
    {
     "name": "stdout",
     "output_type": "stream",
     "text": [
      "Job created asynchronously. Location: https://registration-api.notebook-test.develop.eoepca.org/jobs/34980a74-1530-11f0-aa49-422a2051c4ad\n"
     ]
    }
   ],
   "source": [
    "headers = {\"Prefer\": \"respond-async\"}\n",
    "payload = {\n",
    "    \"inputs\": {\n",
    "        \"name\": \"EOEPCA User\",\n",
    "        \"message\": \"Testing asynchronous execution\"\n",
    "    }\n",
    "}\n",
    "response = requests.post(hello_world_exec_url, json=payload, headers=headers)\n",
    "job_location = response.headers.get('Location')\n",
    "print(f\"Job created asynchronously. Location: {job_location}\")"
   ]
  },
  {
   "cell_type": "markdown",
   "id": "c6fa4a8f",
   "metadata": {},
   "source": [
    "## Check Status of Async Job"
   ]
  },
  {
   "cell_type": "code",
   "execution_count": null,
   "id": "af915f56",
   "metadata": {},
   "outputs": [
    {
     "name": "stdout",
     "output_type": "stream",
     "text": [
      "{\n",
      "  \"type\": \"process\",\n",
      "  \"processID\": \"hello-world\",\n",
      "  \"jobID\": \"34980a74-1530-11f0-aa49-422a2051c4ad\",\n",
      "  \"status\": \"successful\",\n",
      "  \"message\": \"Job complete\",\n",
      "  \"progress\": 100,\n",
      "  \"parameters\": null,\n",
      "  \"job_start_datetime\": \"2025-04-09T10:48:43.347927Z\",\n",
      "  \"job_end_datetime\": \"2025-04-09T10:48:43.357530Z\",\n",
      "  \"links\": [\n",
      "    {\n",
      "      \"href\": \"https://registration-api.notebook-test.develop.eoepca.org/jobs/34980a74-1530-11f0-aa49-422a2051c4ad/results?f=html\",\n",
      "      \"rel\": \"http://www.opengis.net/def/rel/ogc/1.0/results\",\n",
      "      \"type\": \"text/html\",\n",
      "      \"title\": \"Results of job as HTML\"\n",
      "    },\n",
      "    {\n",
      "      \"href\": \"https://registration-api.notebook-test.develop.eoepca.org/jobs/34980a74-1530-11f0-aa49-422a2051c4ad/results?f=json\",\n",
      "      \"rel\": \"http://www.opengis.net/def/rel/ogc/1.0/results\",\n",
      "      \"type\": \"application/json\",\n",
      "      \"title\": \"Results of job as JSON\"\n",
      "    }\n",
      "  ]\n",
      "}\n"
     ]
    }
   ],
   "source": [
    "response = requests.get(job_location)\n",
    "print(json.dumps(response.json(), indent=2))"
   ]
  },
  {
   "cell_type": "markdown",
   "id": "e1ddfd0f",
   "metadata": {},
   "source": [
    "## Retrieve Results from Async Job"
   ]
  },
  {
   "cell_type": "code",
   "execution_count": null,
   "id": "640842bf",
   "metadata": {},
   "outputs": [
    {
     "name": "stdout",
     "output_type": "stream",
     "text": [
      "{'id': 'echo', 'value': 'Hello EOEPCA User! Testing asynchronous execution'}\n"
     ]
    }
   ],
   "source": [
    "job_results_url = f\"{job_location}/results\"\n",
    "response = requests.get(job_results_url, headers={\"Accept\": \"application/json\"})\n",
    "print(response.json())"
   ]
  },
  {
   "cell_type": "markdown",
   "id": "1bd01b99",
   "metadata": {},
   "source": [
    "## Additional Validation - Flowable API Check"
   ]
  },
  {
   "cell_type": "code",
   "execution_count": 29,
   "id": "6d2b597a",
   "metadata": {},
   "outputs": [
    {
     "name": "stdout",
     "output_type": "stream",
     "text": [
      "Flowable Swagger UI status code: 200\n"
     ]
    },
    {
     "data": {
      "text/plain": [
       "'https://registration-harvester-api.notebook-test.develop.eoepca.org/flowable-rest/docs/'"
      ]
     },
     "execution_count": 29,
     "metadata": {},
     "output_type": "execute_result"
    }
   ],
   "source": [
    "flowable_domain = f'{os.environ.get(\"HTTP_SCHEME\")}://registration-harvester-api.{platform_domain}'\n",
    "flowable_docs_url = f\"{flowable_domain}/flowable-rest/docs\"\n",
    "response = requests.get(flowable_docs_url)\n",
    "\n",
    "print(f\"Flowable Swagger UI status code: {response.status_code}\")\n",
    "response.url"
   ]
  },
  {
   "cell_type": "code",
   "execution_count": 31,
   "id": "5407002e",
   "metadata": {},
   "outputs": [],
   "source": [
    "from requests import Session\n",
    "from requests.auth import HTTPBasicAuth\n",
    "import json\n",
    "import requests\n",
    "import os\n",
    "\n",
    "flowable_admin_user = os.environ.get(\"FLOWABLE_ADMIN_USER\", \"eoepca\")\n",
    "flowable_admin_password = os.environ.get(\"FLOWABLE_ADMIN_PASSWORD\", \"eoepca\")\n",
    "flowable_session = Session()\n",
    "flowable_session.auth = HTTPBasicAuth(flowable_admin_user, flowable_admin_password)"
   ]
  },
  {
   "cell_type": "markdown",
   "id": "ea6c46eb",
   "metadata": {},
   "source": [
    "## List Flowable Deployments"
   ]
  },
  {
   "cell_type": "code",
   "execution_count": 55,
   "id": "a64901a8",
   "metadata": {},
   "outputs": [
    {
     "name": "stdout",
     "output_type": "stream",
     "text": [
      "Found 1 deployments.\n",
      "1  Demo processes            deployed at: 2025-03-21T15:51:44.230Z       with id: 636540d0-066c-11f0-9621-dac2883c12fb\n"
     ]
    }
   ],
   "source": [
    "deployments_url = f\"{flowable_domain}/flowable-rest/service/repository/deployments\"\n",
    "response = flowable_session.get(deployments_url)\n",
    "deployments = response.json().get(\"data\", [])\n",
    "\n",
    "print(f\"Found {len(deployments)} deployments.\")\n",
    "\n",
    "if deployments:\n",
    "    latest_deployment = deployments[0]\n",
    "    deployment_id = latest_deployment.get(\"id\")\n",
    "    for idx, deployment in enumerate(deployments, 1):\n",
    "        print(\"%-2s %-25s deployed at: %-30s with id: %s\" % (idx, deployment['name'], deployment['deploymentTime'], deployment[\"id\"]))"
   ]
  },
  {
   "cell_type": "markdown",
   "id": "46774503",
   "metadata": {},
   "source": [
    "## Deploy Landsat Workflow"
   ]
  },
  {
   "cell_type": "code",
   "execution_count": 56,
   "id": "42d95272",
   "metadata": {},
   "outputs": [
    {
     "name": "stdout",
     "output_type": "stream",
     "text": [
      "Sucessfully deployed workflow: {'landsat.bpmn': '<?xml version=\"1.0\" encoding=\"UTF-8\"?>\\n<definitions xmlns=\"http://www.omg.org/spec/BPMN/20100524/MODEL\" xmlns:xsi=\"http://www.w3.org/2001/XMLSchema-instance\" xmlns:bpmndi=\"http://www.omg.org/spec/BPMN/20100524/DI\" xmlns:omgdc=\"http://www.omg.org/spec/DD/20100524/DC\" xmlns:omgdi=\"http://www.omg.org/spec/DD/20100524/DI\" xmlns:xsd=\"http://www.w3.org/2001/XMLSchema\" xmlns:flowable=\"http://flowable.org/bpmn\" xmlns:design=\"http://flowable.org/design\" targetNamespace=\"http://flowable.org/test\" design:palette=\"flowable-work-process-palette\">\\n  <collaboration id=\"Collaboration\">\\n    <participant id=\"Pool_1\" name=\"Landsat Registration\" processRef=\"landsatRegistration\" />\\n  </collaboration>\\n  <process id=\"landsatRegistration\" name=\"Landsat Workflow\" isExecutable=\"true\" flowable:candidateStarterGroups=\"flowableUser\">\\n    <extensionElements>\\n      <design:stencilid>BPMNDiagram</design:stencilid>\\n      <design:creationdate>2024-12-02T11:03:29.560Z</design:creationdate>\\n      <design:modificationdate>2025-01-07T07:51:10.172Z</design:modificationdate>\\n    </extensionElements>\\n    <laneSet id=\"laneSet_landsatRegistration\">\\n      <lane id=\"Lane_2\">\\n        <flowNodeRef>ServiceTask_1</flowNodeRef>\\n        <flowNodeRef>CallActivity_4</flowNodeRef>\\n        <flowNodeRef>ExternalWorkerTask_4</flowNodeRef>\\n        <flowNodeRef>ExternalWorkerTask_5</flowNodeRef>\\n        <flowNodeRef>Exclusive_Databased_Gateway_2</flowNodeRef>\\n        <flowNodeRef>startnoneevent1</flowNodeRef>\\n        <flowNodeRef>StartTimerEvent_4</flowNodeRef>\\n        <flowNodeRef>EndNoneEvent_4</flowNodeRef>\\n        <flowNodeRef>SequenceFlow_3</flowNodeRef>\\n        <flowNodeRef>SequenceFlow_6</flowNodeRef>\\n        <flowNodeRef>SequenceFlow_8</flowNodeRef>\\n        <flowNodeRef>SequenceFlow_10</flowNodeRef>\\n        <flowNodeRef>SequenceFlow_5</flowNodeRef>\\n        <flowNodeRef>SequenceFlow_7</flowNodeRef>\\n        <flowNodeRef>SequenceFlow_2</flowNodeRef>\\n        <flowNodeRef>SequenceFlow_9</flowNodeRef>\\n      </lane>\\n    </laneSet>\\n    <serviceTask id=\"ServiceTask_1\" name=\"Discover Landsat Scenes\" flowable:type=\"external-worker\" flowable:topic=\"landsat_discover_data\">\\n      <extensionElements>\\n        <flowable:element-name>Discover Landsat Scenes</flowable:element-name>\\n        <design:stencilid>ExternalWorkerTask</design:stencilid>\\n        <design:stencilsuperid>Task</design:stencilsuperid>\\n      </extensionElements>\\n    </serviceTask>\\n    <callActivity id=\"CallActivity_4\" name=\"Landsat Scene Ingestion\" calledElement=\"landsatSceneIngestion\" flowable:fallbackToDefaultTenant=\"true\">\\n      <extensionElements>\\n        <flowable:in source=\"scene\" target=\"scene\" />\\n        <design:stencilid>CallActivity</design:stencilid>\\n      </extensionElements>\\n      <multiInstanceLoopCharacteristics flowable:collection=\"scenes\" flowable:elementVariable=\"scene\">\\n        <extensionElements />\\n      </multiInstanceLoopCharacteristics>\\n    </callActivity>\\n    <serviceTask id=\"ExternalWorkerTask_4\" name=\"Get Download URLs\" flowable:type=\"external-worker\" flowable:topic=\"landsat_get_download_urls\">\\n      <extensionElements>\\n        <design:stencilid>ExternalWorkerTask</design:stencilid>\\n        <design:stencilsuperid>Task</design:stencilsuperid>\\n      </extensionElements>\\n    </serviceTask>\\n    <serviceTask id=\"ExternalWorkerTask_5\" name=\"Continuous Discovery\" flowable:type=\"external-worker\" flowable:topic=\"landsat_continuous_data_discovery\">\\n      <extensionElements>\\n        <flowable:element-name>Continuous Discovery</flowable:element-name>\\n        <design:stencilid>ExternalWorkerTask</design:stencilid>\\n        <design:stencilsuperid>Task</design:stencilsuperid>\\n      </extensionElements>\\n    </serviceTask>\\n    <exclusiveGateway id=\"Exclusive_Databased_Gateway_2\">\\n      <extensionElements>\\n        <design:stencilid>Exclusive_Databased_Gateway</design:stencilid>\\n      </extensionElements>\\n    </exclusiveGateway>\\n    <startEvent id=\"startnoneevent1\" name=\"Start manually\" flowable:initiator=\"initiator\" flowable:formFieldValidation=\"false\">\\n      <extensionElements>\\n        <flowable:work-form-field-validation>false</flowable:work-form-field-validation>\\n        <design:stencilid>StartNoneEvent</design:stencilid>\\n        <design:display_ref_in_diagram>true</design:display_ref_in_diagram>\\n      </extensionElements>\\n    </startEvent>\\n    <startEvent id=\"StartTimerEvent_4\" name=\"Start every hour\" isInterrupting=\"false\" flowable:initiator=\"initiator\">\\n      <extensionElements>\\n        <flowable:work-form-field-validation>false</flowable:work-form-field-validation>\\n        <design:stencilid>StartTimerEvent</design:stencilid>\\n        <design:display_ref_in_diagram>true</design:display_ref_in_diagram>\\n      </extensionElements>\\n      <timerEventDefinition>\\n        <timeCycle>R/P0Y0M0DT1H0M0S</timeCycle>\\n      </timerEventDefinition>\\n    </startEvent>\\n    <endEvent id=\"EndNoneEvent_4\" name=\"Done\">\\n      <extensionElements>\\n        <design:stencilid>EndNoneEvent</design:stencilid>\\n        <design:display_ref_in_diagram>true</design:display_ref_in_diagram>\\n      </extensionElements>\\n    </endEvent>\\n    <sequenceFlow id=\"SequenceFlow_3\" sourceRef=\"ServiceTask_1\" targetRef=\"Exclusive_Databased_Gateway_2\">\\n      <extensionElements>\\n        <design:stencilid>SequenceFlow</design:stencilid>\\n      </extensionElements>\\n    </sequenceFlow>\\n    <sequenceFlow id=\"SequenceFlow_6\" sourceRef=\"CallActivity_4\" targetRef=\"EndNoneEvent_4\">\\n      <extensionElements>\\n        <design:stencilid>SequenceFlow</design:stencilid>\\n      </extensionElements>\\n    </sequenceFlow>\\n    <sequenceFlow id=\"SequenceFlow_8\" sourceRef=\"ExternalWorkerTask_4\" targetRef=\"CallActivity_4\">\\n      <extensionElements>\\n        <design:stencilid>SequenceFlow</design:stencilid>\\n      </extensionElements>\\n    </sequenceFlow>\\n    <sequenceFlow id=\"SequenceFlow_10\" sourceRef=\"ExternalWorkerTask_5\" targetRef=\"Exclusive_Databased_Gateway_2\">\\n      <extensionElements>\\n        <design:stencilid>SequenceFlow</design:stencilid>\\n      </extensionElements>\\n    </sequenceFlow>\\n    <sequenceFlow id=\"SequenceFlow_5\" name=\"scenes found\" sourceRef=\"Exclusive_Databased_Gateway_2\" targetRef=\"ExternalWorkerTask_4\">\\n      <extensionElements>\\n        <design:stencilid>SequenceFlow</design:stencilid>\\n        <design:display_ref_in_diagram>true</design:display_ref_in_diagram>\\n      </extensionElements>\\n      <conditionExpression xsi:type=\"tFormalExpression\">${var:isNotEmpty(scenes)}</conditionExpression>\\n    </sequenceFlow>\\n    <sequenceFlow id=\"SequenceFlow_7\" name=\"no scenes found\" sourceRef=\"Exclusive_Databased_Gateway_2\" targetRef=\"EndNoneEvent_4\">\\n      <extensionElements>\\n        <design:stencilid>SequenceFlow</design:stencilid>\\n        <design:display_ref_in_diagram>true</design:display_ref_in_diagram>\\n      </extensionElements>\\n      <conditionExpression xsi:type=\"tFormalExpression\">${var:isEmpty(scenes)}</conditionExpression>\\n    </sequenceFlow>\\n    <sequenceFlow id=\"SequenceFlow_2\" sourceRef=\"startnoneevent1\" targetRef=\"ServiceTask_1\">\\n      <extensionElements>\\n        <design:stencilid>SequenceFlow</design:stencilid>\\n      </extensionElements>\\n    </sequenceFlow>\\n    <sequenceFlow id=\"SequenceFlow_9\" sourceRef=\"StartTimerEvent_4\" targetRef=\"ExternalWorkerTask_5\">\\n      <extensionElements>\\n        <design:stencilid>SequenceFlow</design:stencilid>\\n      </extensionElements>\\n    </sequenceFlow>\\n  </process>\\n  <bpmndi:BPMNDiagram id=\"BPMNDiagram_Collaboration\">\\n    <bpmndi:BPMNPlane id=\"BPMNPlane_Collaboration\" bpmnElement=\"Collaboration\">\\n      <bpmndi:BPMNShape id=\"BPMNShape_Pool_1\" bpmnElement=\"Pool_1\">\\n        <omgdc:Bounds x=\"378\" y=\"-85\" width=\"987\" height=\"395\" />\\n      </bpmndi:BPMNShape>\\n      <bpmndi:BPMNShape id=\"BPMNShape_Lane_2\" bpmnElement=\"Lane_2\">\\n        <omgdc:Bounds x=\"408\" y=\"-85\" width=\"957\" height=\"395\" />\\n      </bpmndi:BPMNShape>\\n      <bpmndi:BPMNShape id=\"BPMNShape_ServiceTask_1\" bpmnElement=\"ServiceTask_1\">\\n        <omgdc:Bounds x=\"587\" y=\"101\" width=\"100\" height=\"80\" />\\n      </bpmndi:BPMNShape>\\n      <bpmndi:BPMNShape id=\"BPMNShape_CallActivity_4\" bpmnElement=\"CallActivity_4\">\\n        <omgdc:Bounds x=\"1071\" y=\"101\" width=\"100\" height=\"80\" />\\n      </bpmndi:BPMNShape>\\n      <bpmndi:BPMNShape id=\"BPMNShape_ExternalWorkerTask_4\" bpmnElement=\"ExternalWorkerTask_4\">\\n        <omgdc:Bounds x=\"906\" y=\"101\" width=\"100\" height=\"80\" />\\n      </bpmndi:BPMNShape>\\n      <bpmndi:BPMNShape id=\"BPMNShape_ExternalWorkerTask_5\" bpmnElement=\"ExternalWorkerTask_5\">\\n        <omgdc:Bounds x=\"587\" y=\"-33\" width=\"100\" height=\"80\" />\\n      </bpmndi:BPMNShape>\\n      <bpmndi:BPMNShape id=\"BPMNShape_Exclusive_Databased_Gateway_2\" bpmnElement=\"Exclusive_Databased_Gateway_2\" isMarkerVisible=\"true\">\\n        <omgdc:Bounds x=\"737\" y=\"121\" width=\"40\" height=\"40\" />\\n      </bpmndi:BPMNShape>\\n      <bpmndi:BPMNShape id=\"BPMNShape_startnoneevent1\" bpmnElement=\"startnoneevent1\">\\n        <omgdc:Bounds x=\"488\" y=\"126\" width=\"30\" height=\"30\" />\\n        <bpmndi:BPMNLabel>\\n          <omgdc:Bounds x=\"460.5\" y=\"165\" width=\"88\" height=\"18\" />\\n        </bpmndi:BPMNLabel>\\n      </bpmndi:BPMNShape>\\n      <bpmndi:BPMNShape id=\"BPMNShape_StartTimerEvent_4\" bpmnElement=\"StartTimerEvent_4\">\\n        <omgdc:Bounds x=\"488\" y=\"-8\" width=\"30\" height=\"30\" />\\n        <bpmndi:BPMNLabel>\\n          <omgdc:Bounds x=\"450.2\" y=\"26\" width=\"98\" height=\"18\" />\\n        </bpmndi:BPMNLabel>\\n      </bpmndi:BPMNShape>\\n      <bpmndi:BPMNShape id=\"BPMNShape_EndNoneEvent_4\" bpmnElement=\"EndNoneEvent_4\">\\n        <omgdc:Bounds x=\"1249\" y=\"127\" width=\"28\" height=\"28\" />\\n        <bpmndi:BPMNLabel>\\n          <omgdc:Bounds x=\"1245.8\" y=\"95\" width=\"32\" height=\"18\" />\\n        </bpmndi:BPMNLabel>\\n      </bpmndi:BPMNShape>\\n      <bpmndi:BPMNEdge id=\"BPMNEdge_SequenceFlow_3\" bpmnElement=\"SequenceFlow_3\" flowable:sourceDockerX=\"50.0\" flowable:sourceDockerY=\"40.0\" flowable:targetDockerX=\"20.0\" flowable:targetDockerY=\"20.0\">\\n        <omgdi:waypoint x=\"687\" y=\"141\" />\\n        <omgdi:waypoint x=\"737\" y=\"141\" />\\n      </bpmndi:BPMNEdge>\\n      <bpmndi:BPMNEdge id=\"BPMNEdge_SequenceFlow_6\" bpmnElement=\"SequenceFlow_6\" flowable:sourceDockerX=\"50.0\" flowable:sourceDockerY=\"40.0\" flowable:targetDockerX=\"14.0\" flowable:targetDockerY=\"14.0\">\\n        <omgdi:waypoint x=\"1171\" y=\"141\" />\\n        <omgdi:waypoint x=\"1249\" y=\"141\" />\\n      </bpmndi:BPMNEdge>\\n      <bpmndi:BPMNEdge id=\"BPMNEdge_SequenceFlow_8\" bpmnElement=\"SequenceFlow_8\" flowable:sourceDockerX=\"50.0\" flowable:sourceDockerY=\"40.0\" flowable:targetDockerX=\"50.0\" flowable:targetDockerY=\"40.0\">\\n        <omgdi:waypoint x=\"1006\" y=\"141\" />\\n        <omgdi:waypoint x=\"1071\" y=\"141\" />\\n      </bpmndi:BPMNEdge>\\n      <bpmndi:BPMNEdge id=\"BPMNEdge_SequenceFlow_10\" bpmnElement=\"SequenceFlow_10\" flowable:sourceDockerX=\"50.0\" flowable:sourceDockerY=\"40.0\" flowable:targetDockerX=\"20.0\" flowable:targetDockerY=\"20.0\">\\n        <omgdi:waypoint x=\"687\" y=\"7\" />\\n        <omgdi:waypoint x=\"757\" y=\"7\" />\\n        <omgdi:waypoint x=\"757\" y=\"121\" />\\n      </bpmndi:BPMNEdge>\\n      <bpmndi:BPMNEdge id=\"BPMNEdge_SequenceFlow_5\" bpmnElement=\"SequenceFlow_5\" flowable:sourceDockerX=\"20.0\" flowable:sourceDockerY=\"20.0\" flowable:targetDockerX=\"50.0\" flowable:targetDockerY=\"40.0\">\\n        <omgdi:waypoint x=\"777\" y=\"141\" />\\n        <omgdi:waypoint x=\"906\" y=\"141\" />\\n        <bpmndi:BPMNLabel>\\n          <omgdc:Bounds x=\"807\" y=\"123\" width=\"66\" height=\"14\" />\\n        </bpmndi:BPMNLabel>\\n      </bpmndi:BPMNEdge>\\n      <bpmndi:BPMNEdge id=\"BPMNEdge_SequenceFlow_7\" bpmnElement=\"SequenceFlow_7\" flowable:sourceDockerX=\"20.0\" flowable:sourceDockerY=\"20.0\" flowable:targetDockerX=\"14.0\" flowable:targetDockerY=\"14.0\">\\n        <omgdi:waypoint x=\"757\" y=\"161\" />\\n        <omgdi:waypoint x=\"757\" y=\"253\" />\\n        <omgdi:waypoint x=\"1263\" y=\"253\" />\\n        <omgdi:waypoint x=\"1263\" y=\"155\" />\\n        <bpmndi:BPMNLabel>\\n          <omgdc:Bounds x=\"949\" y=\"233\" width=\"81\" height=\"14\" />\\n        </bpmndi:BPMNLabel>\\n      </bpmndi:BPMNEdge>\\n      <bpmndi:BPMNEdge id=\"BPMNEdge_SequenceFlow_2\" bpmnElement=\"SequenceFlow_2\" flowable:sourceDockerX=\"15.0\" flowable:sourceDockerY=\"15.0\" flowable:targetDockerX=\"50.0\" flowable:targetDockerY=\"40.0\">\\n        <omgdi:waypoint x=\"518\" y=\"141\" />\\n        <omgdi:waypoint x=\"587\" y=\"141\" />\\n      </bpmndi:BPMNEdge>\\n      <bpmndi:BPMNEdge id=\"BPMNEdge_SequenceFlow_9\" bpmnElement=\"SequenceFlow_9\" flowable:sourceDockerX=\"15.0\" flowable:sourceDockerY=\"15.0\" flowable:targetDockerX=\"50.0\" flowable:targetDockerY=\"40.0\">\\n        <omgdi:waypoint x=\"518\" y=\"7\" />\\n        <omgdi:waypoint x=\"587\" y=\"7.000000000000007\" />\\n      </bpmndi:BPMNEdge>\\n    </bpmndi:BPMNPlane>\\n  </bpmndi:BPMNDiagram>\\n</definitions>\\n'} with status code: 201\n",
      "Sucessfully deployed workflow: {'landsat-scene-ingestion.bpmn': '<?xml version=\"1.0\" encoding=\"UTF-8\"?>\\n<definitions xmlns=\"http://www.omg.org/spec/BPMN/20100524/MODEL\" xmlns:xsi=\"http://www.w3.org/2001/XMLSchema-instance\" xmlns:bpmndi=\"http://www.omg.org/spec/BPMN/20100524/DI\" xmlns:omgdc=\"http://www.omg.org/spec/DD/20100524/DC\" xmlns:omgdi=\"http://www.omg.org/spec/DD/20100524/DI\" xmlns:xsd=\"http://www.w3.org/2001/XMLSchema\" xmlns:flowable=\"http://flowable.org/bpmn\" xmlns:design=\"http://flowable.org/design\" targetNamespace=\"http://flowable.org/test\" design:palette=\"flowable-work-process-palette\">\\n  <collaboration id=\"Collaboration\">\\n    <participant id=\"Pool_2\" name=\"Landsat Scene Ingestion\" processRef=\"landsatSceneIngestion\" />\\n  </collaboration>\\n  <process id=\"landsatSceneIngestion\" name=\"Landsat Scene Ingestion\" isExecutable=\"true\" flowable:candidateStarterGroups=\"flowableUser\">\\n    <extensionElements>\\n      <design:stencilid>BPMNDiagram</design:stencilid>\\n      <design:creationdate>2024-12-02T11:14:30.747Z</design:creationdate>\\n      <design:modificationdate>2024-12-02T11:27:04.613Z</design:modificationdate>\\n    </extensionElements>\\n    <laneSet id=\"laneSet_landsatSceneIngestion\">\\n      <lane id=\"Lane_3\">\\n        <flowNodeRef>ExternalWorkerTask_1</flowNodeRef>\\n        <flowNodeRef>ExternalWorkerTask_2</flowNodeRef>\\n        <flowNodeRef>ExternalWorkerTask_3</flowNodeRef>\\n        <flowNodeRef>ExternalWorkerTask_4</flowNodeRef>\\n        <flowNodeRef>startnoneevent1</flowNodeRef>\\n        <flowNodeRef>EndNoneEvent_4</flowNodeRef>\\n        <flowNodeRef>SequenceFlow_3</flowNodeRef>\\n        <flowNodeRef>SequenceFlow_4</flowNodeRef>\\n        <flowNodeRef>SequenceFlow_5</flowNodeRef>\\n        <flowNodeRef>SequenceFlow_6</flowNodeRef>\\n        <flowNodeRef>SequenceFlow_2</flowNodeRef>\\n      </lane>\\n    </laneSet>\\n    <serviceTask id=\"ExternalWorkerTask_1\" name=\"Download scene\" flowable:type=\"external-worker\" flowable:topic=\"landsat_download_data\">\\n      <extensionElements>\\n        <design:stencilid>ExternalWorkerTask</design:stencilid>\\n        <design:stencilsuperid>Task</design:stencilsuperid>\\n      </extensionElements>\\n    </serviceTask>\\n    <serviceTask id=\"ExternalWorkerTask_2\" name=\"Extract tar\" flowable:type=\"external-worker\" flowable:topic=\"landsat_untar\">\\n      <extensionElements>\\n        <design:stencilid>ExternalWorkerTask</design:stencilid>\\n        <design:stencilsuperid>Task</design:stencilsuperid>\\n      </extensionElements>\\n    </serviceTask>\\n    <serviceTask id=\"ExternalWorkerTask_3\" name=\"Extract Metadata\" flowable:type=\"external-worker\" flowable:topic=\"landsat_extract_metadata\">\\n      <extensionElements>\\n        <design:stencilid>ExternalWorkerTask</design:stencilid>\\n        <design:stencilsuperid>Task</design:stencilsuperid>\\n      </extensionElements>\\n    </serviceTask>\\n    <serviceTask id=\"ExternalWorkerTask_4\" name=\"Register Metadata\" flowable:type=\"external-worker\" flowable:topic=\"landsat_register_metadata\">\\n      <extensionElements>\\n        <design:stencilid>ExternalWorkerTask</design:stencilid>\\n        <design:stencilsuperid>Task</design:stencilsuperid>\\n      </extensionElements>\\n    </serviceTask>\\n    <startEvent id=\"startnoneevent1\" name=\"Start scene ingestion\" flowable:initiator=\"initiator\" flowable:formFieldValidation=\"false\">\\n      <extensionElements>\\n        <flowable:work-form-field-validation>false</flowable:work-form-field-validation>\\n        <design:stencilid>StartNoneEvent</design:stencilid>\\n        <design:display_ref_in_diagram>true</design:display_ref_in_diagram>\\n      </extensionElements>\\n    </startEvent>\\n    <endEvent id=\"EndNoneEvent_4\" name=\"Done\">\\n      <extensionElements>\\n        <design:stencilid>EndNoneEvent</design:stencilid>\\n        <design:display_ref_in_diagram>true</design:display_ref_in_diagram>\\n      </extensionElements>\\n    </endEvent>\\n    <sequenceFlow id=\"SequenceFlow_3\" sourceRef=\"ExternalWorkerTask_1\" targetRef=\"ExternalWorkerTask_2\">\\n      <extensionElements>\\n        <design:stencilid>SequenceFlow</design:stencilid>\\n      </extensionElements>\\n    </sequenceFlow>\\n    <sequenceFlow id=\"SequenceFlow_4\" sourceRef=\"ExternalWorkerTask_2\" targetRef=\"ExternalWorkerTask_3\">\\n      <extensionElements>\\n        <design:stencilid>SequenceFlow</design:stencilid>\\n      </extensionElements>\\n    </sequenceFlow>\\n    <sequenceFlow id=\"SequenceFlow_5\" sourceRef=\"ExternalWorkerTask_3\" targetRef=\"ExternalWorkerTask_4\">\\n      <extensionElements>\\n        <design:stencilid>SequenceFlow</design:stencilid>\\n      </extensionElements>\\n    </sequenceFlow>\\n    <sequenceFlow id=\"SequenceFlow_6\" sourceRef=\"ExternalWorkerTask_4\" targetRef=\"EndNoneEvent_4\">\\n      <extensionElements>\\n        <design:stencilid>SequenceFlow</design:stencilid>\\n      </extensionElements>\\n    </sequenceFlow>\\n    <sequenceFlow id=\"SequenceFlow_2\" sourceRef=\"startnoneevent1\" targetRef=\"ExternalWorkerTask_1\">\\n      <extensionElements>\\n        <design:stencilid>SequenceFlow</design:stencilid>\\n      </extensionElements>\\n    </sequenceFlow>\\n  </process>\\n  <bpmndi:BPMNDiagram id=\"BPMNDiagram_Collaboration\">\\n    <bpmndi:BPMNPlane id=\"BPMNPlane_Collaboration\" bpmnElement=\"Collaboration\">\\n      <bpmndi:BPMNShape id=\"BPMNShape_Pool_2\" bpmnElement=\"Pool_2\">\\n        <omgdc:Bounds x=\"365\" y=\"-44\" width=\"927\" height=\"204\" />\\n      </bpmndi:BPMNShape>\\n      <bpmndi:BPMNShape id=\"BPMNShape_Lane_3\" bpmnElement=\"Lane_3\">\\n        <omgdc:Bounds x=\"395\" y=\"-44\" width=\"897\" height=\"204\" />\\n      </bpmndi:BPMNShape>\\n      <bpmndi:BPMNShape id=\"BPMNShape_ExternalWorkerTask_1\" bpmnElement=\"ExternalWorkerTask_1\">\\n        <omgdc:Bounds x=\"587\" y=\"16\" width=\"100\" height=\"80\" />\\n      </bpmndi:BPMNShape>\\n      <bpmndi:BPMNShape id=\"BPMNShape_ExternalWorkerTask_2\" bpmnElement=\"ExternalWorkerTask_2\">\\n        <omgdc:Bounds x=\"737\" y=\"16\" width=\"100\" height=\"80\" />\\n      </bpmndi:BPMNShape>\\n      <bpmndi:BPMNShape id=\"BPMNShape_ExternalWorkerTask_3\" bpmnElement=\"ExternalWorkerTask_3\">\\n        <omgdc:Bounds x=\"887\" y=\"16\" width=\"100\" height=\"80\" />\\n      </bpmndi:BPMNShape>\\n      <bpmndi:BPMNShape id=\"BPMNShape_ExternalWorkerTask_4\" bpmnElement=\"ExternalWorkerTask_4\">\\n        <omgdc:Bounds x=\"1037\" y=\"16\" width=\"100\" height=\"80\" />\\n      </bpmndi:BPMNShape>\\n      <bpmndi:BPMNShape id=\"BPMNShape_startnoneevent1\" bpmnElement=\"startnoneevent1\">\\n        <omgdc:Bounds x=\"487\" y=\"41\" width=\"30\" height=\"30\" />\\n        <bpmndi:BPMNLabel>\\n          <omgdc:Bounds x=\"432.7\" y=\"75\" width=\"127\" height=\"18\" />\\n        </bpmndi:BPMNLabel>\\n      </bpmndi:BPMNShape>\\n      <bpmndi:BPMNShape id=\"BPMNShape_EndNoneEvent_4\" bpmnElement=\"EndNoneEvent_4\">\\n        <omgdc:Bounds x=\"1187\" y=\"42\" width=\"28\" height=\"28\" />\\n        <bpmndi:BPMNLabel>\\n          <omgdc:Bounds x=\"1187.8\" y=\"74\" width=\"32\" height=\"18\" />\\n        </bpmndi:BPMNLabel>\\n      </bpmndi:BPMNShape>\\n      <bpmndi:BPMNEdge id=\"BPMNEdge_SequenceFlow_3\" bpmnElement=\"SequenceFlow_3\" flowable:sourceDockerX=\"50.0\" flowable:sourceDockerY=\"40.0\" flowable:targetDockerX=\"50.0\" flowable:targetDockerY=\"40.0\">\\n        <omgdi:waypoint x=\"687\" y=\"56\" />\\n        <omgdi:waypoint x=\"737\" y=\"56\" />\\n      </bpmndi:BPMNEdge>\\n      <bpmndi:BPMNEdge id=\"BPMNEdge_SequenceFlow_4\" bpmnElement=\"SequenceFlow_4\" flowable:sourceDockerX=\"50.0\" flowable:sourceDockerY=\"40.0\" flowable:targetDockerX=\"50.0\" flowable:targetDockerY=\"40.0\">\\n        <omgdi:waypoint x=\"837\" y=\"56\" />\\n        <omgdi:waypoint x=\"887\" y=\"56\" />\\n      </bpmndi:BPMNEdge>\\n      <bpmndi:BPMNEdge id=\"BPMNEdge_SequenceFlow_5\" bpmnElement=\"SequenceFlow_5\" flowable:sourceDockerX=\"50.0\" flowable:sourceDockerY=\"40.0\" flowable:targetDockerX=\"50.0\" flowable:targetDockerY=\"40.0\">\\n        <omgdi:waypoint x=\"987\" y=\"56\" />\\n        <omgdi:waypoint x=\"1037\" y=\"56\" />\\n      </bpmndi:BPMNEdge>\\n      <bpmndi:BPMNEdge id=\"BPMNEdge_SequenceFlow_6\" bpmnElement=\"SequenceFlow_6\" flowable:sourceDockerX=\"50.0\" flowable:sourceDockerY=\"40.0\" flowable:targetDockerX=\"14.0\" flowable:targetDockerY=\"14.0\">\\n        <omgdi:waypoint x=\"1137\" y=\"56\" />\\n        <omgdi:waypoint x=\"1187\" y=\"56\" />\\n      </bpmndi:BPMNEdge>\\n      <bpmndi:BPMNEdge id=\"BPMNEdge_SequenceFlow_2\" bpmnElement=\"SequenceFlow_2\" flowable:sourceDockerX=\"15.0\" flowable:sourceDockerY=\"15.0\" flowable:targetDockerX=\"50.0\" flowable:targetDockerY=\"40.0\">\\n        <omgdi:waypoint x=\"517\" y=\"56\" />\\n        <omgdi:waypoint x=\"587\" y=\"56\" />\\n      </bpmndi:BPMNEdge>\\n    </bpmndi:BPMNPlane>\\n  </bpmndi:BPMNDiagram>\\n</definitions>\\n'} with status code: 201\n"
     ]
    }
   ],
   "source": [
    "landsat_bpmn_files = [\n",
    "    \"https://raw.githubusercontent.com/EOEPCA/registration-harvester/refs/heads/main/workflows/landsat.bpmn\", \n",
    "    \"https://raw.githubusercontent.com/EOEPCA/registration-harvester/refs/heads/main/workflows/landsat-scene-ingestion.bpmn\"\n",
    "]\n",
    "\n",
    "for bpmn in landsat_bpmn_files:\n",
    "    bpmn_file = {os.path.basename(bpmn): requests.get(bpmn).text}\n",
    "    response = flowable_session.post(deployments_url, files=bpmn_file)\n",
    "    print(f\"Sucessfully deployed workflow: {bpmn_file} with status code: {response.status_code}\")"
   ]
  },
  {
   "cell_type": "markdown",
   "id": "58fd1f0b",
   "metadata": {},
   "source": [
    "## List Flowable Deployed Processes"
   ]
  },
  {
   "cell_type": "code",
   "execution_count": 58,
   "id": "18ec032f",
   "metadata": {},
   "outputs": [
    {
     "name": "stdout",
     "output_type": "stream",
     "text": [
      "Flowable process definitions URL: https://registration-harvester-api.notebook-test.develop.eoepca.org/flowable-rest/service/repository/process-definitions\n",
      "1  Create timers process        version: 1     id: createTimersProcess:1:641b2360-066c-11f0-9621-dac2883c12fb\n",
      "2  Famous One Task Process      version: 1     id: oneTaskProcess:1:641b235f-066c-11f0-9621-dac2883c12fb\n",
      "3  Fix system failure           version: 1     id: fixSystemFailure:1:641b235c-066c-11f0-9621-dac2883c12fb\n",
      "4  Helpdesk process             version: 1     id: escalationExample:1:641b235e-066c-11f0-9621-dac2883c12fb\n",
      "5  Landsat Scene Ingestion      version: 1     id: landsatSceneIngestion:1:e6815fdc-153a-11f0-9621-dac2883c12fb\n",
      "6  Landsat Workflow             version: 1     id: landsatRegistration:1:e656a655-153a-11f0-9621-dac2883c12fb\n",
      "7  Review sales lead            version: 1     id: reviewSaledLead:1:641b235d-066c-11f0-9621-dac2883c12fb\n",
      "8  Vacation request             version: 1     id: vacationRequest:1:641aae2b-066c-11f0-9621-dac2883c12fb\n"
     ]
    }
   ],
   "source": [
    "process_definitions_url = f\"{flowable_domain}/flowable-rest/service/repository/process-definitions\"\n",
    "print(f\"Flowable process definitions URL: {process_definitions_url}\")\n",
    "\n",
    "response = flowable_session.get(process_definitions_url)\n",
    "processes = response.json()[\"data\"]\n",
    "\n",
    "for idx, process in enumerate(processes, 1):\n",
    "    print(\"%-2s %-28s version: %-5s id: %s\" % (idx, process['name'], process['version'], process['id']))\n",
    "    if process[\"name\"] == \"Landsat Workflow\":\n",
    "        landsat_process_id = process[\"id\"]"
   ]
  },
  {
   "cell_type": "markdown",
   "id": "fb9171e7",
   "metadata": {},
   "source": [
    "## Execute Landsat Workflow"
   ]
  },
  {
   "cell_type": "code",
   "execution_count": 73,
   "id": "05fa5a1d",
   "metadata": {},
   "outputs": [
    {
     "name": "stdout",
     "output_type": "stream",
     "text": [
      "POST https://registration-harvester-api.notebook-test.develop.eoepca.org/flowable-rest/service/runtime/process-instances\n",
      "{\"id\":\"5b705f4e-153b-11f0-9621-dac2883c12fb\",\"url\":\"https://registration-harvester-api.notebook-test.develop.eoepca.org/flowable-rest/service/runtime/process-instances/5b705f4e-153b-11f0-9621-dac2883c12fb\",\"name\":null,\"businessKey\":null,\"businessStatus\":null,\"suspended\":false,\"ended\":false,\"processDefinitionId\":\"landsatRegistration:1:e656a655-153a-11f0-9621-dac2883c12fb\",\"processDefinitionUrl\":\"https://registration-harvester-api.notebook-test.develop.eoepca.org/flowable-rest/service/repository/process-definitions/landsatRegistration:1:e656a655-153a-11f0-9621-dac2883c12fb\",\"processDefinitionName\":\"Landsat Workflow\",\"processDefinitionDescription\":null,\"activityId\":null,\"startUserId\":\"eoepca\",\"startTime\":\"2025-04-09T12:08:32.983Z\",\"superProcessInstanceId\":null,\"variables\":[{\"name\":\"collections\",\"type\":\"string\",\"value\":\"landsat-c2l2-sr\",\"scope\":\"local\"},{\"name\":\"initiator\",\"type\":\"string\",\"value\":\"eoepca\",\"scope\":\"local\"},{\"name\":\"bbox\",\"type\":\"string\",\"value\":\"8,40,18,60\",\"scope\":\"local\"},{\"name\":\"query\",\"type\":\"string\",\"value\":\"{\\\"created\\\": {\\\"gte\\\": \\\"2024-12-13T15:00:00.000000Z\\\", \\\"lt\\\": \\\"2024-12-13T16:00:00.000000Z\\\"}}\",\"scope\":\"local\"}],\"callbackId\":null,\"callbackType\":null,\"referenceId\":null,\"referenceType\":null,\"propagatedStageInstanceId\":null,\"tenantId\":\"\",\"completed\":false}\n"
     ]
    }
   ],
   "source": [
    "query = json.dumps({ \"created\": { \"gte\": \"2024-12-13T15:00:00.000000Z\", \"lt\": \"2024-12-13T16:00:00.000000Z\" } })\n",
    "variables = [\n",
    "    # {\"name\": \"datetime_interval\", \"type\": \"string\", \"value\": \"2024-11-12T15:00:00.000000Z/2024-11-12T16:00:00.000000Z\"},    \n",
    "    {\"name\": \"collections\", \"type\": \"string\", \"value\": \"landsat-c2l2-sr\"},\n",
    "    {\"name\": \"bbox\", \"type\": \"string\", \"value\": \"8,40,18,60\"},\n",
    "    {\"name\": \"query\", \"type\": \"string\", \"value\": query},\n",
    "]\n",
    "\n",
    "# Create the JSON body for HTTP request which triggers the workflow\n",
    "body = {}\n",
    "body[\"processDefinitionId\"] = landsat_process_id\n",
    "body[\"variables\"] = variables\n",
    "\n",
    "response = flowable_session.post(process_instances_url, json=body)\n",
    "print(f\"POST {process_instances_url}\")\n",
    "print(response.text)\n"
   ]
  },
  {
   "cell_type": "markdown",
   "id": "dc128de5",
   "metadata": {},
   "source": [
    "## Check Workflows"
   ]
  },
  {
   "cell_type": "code",
   "execution_count": 70,
   "id": "8ba5409c",
   "metadata": {},
   "outputs": [
    {
     "name": "stdout",
     "output_type": "stream",
     "text": [
      "GET https://registration-harvester-api.notebook-test.develop.eoepca.org/flowable-rest/service/runtime/process-instances\n",
      "{\"data\":[{\"id\":\"16a1521e-153b-11f0-9621-dac2883c12fb\",\"url\":\"https://registration-harvester-api.notebook-test.develop.eoepca.org/flowable-rest/service/runtime/process-instances/16a1521e-153b-11f0-9621-dac2883c12fb\",\"name\":null,\"businessKey\":null,\"businessStatus\":null,\"suspended\":false,\"ended\":false,\"processDefinitionId\":\"landsatRegistration:1:e656a655-153a-11f0-9621-dac2883c12fb\",\"processDefinitionUrl\":\"https://registration-harvester-api.notebook-test.develop.eoepca.org/flowable-rest/service/repository/process-definitions/landsatRegistration:1:e656a655-153a-11f0-9621-dac2883c12fb\",\"processDefinitionName\":\"Landsat Workflow\",\"processDefinitionDescription\":null,\"activityId\":null,\"startUserId\":\"eoepca\",\"startTime\":\"2025-04-09T12:06:37.541Z\",\"superProcessInstanceId\":null,\"variables\":[],\"callbackId\":null,\"callbackType\":null,\"referenceId\":null,\"referenceType\":null,\"propagatedStageInstanceId\":null,\"tenantId\":\"\",\"completed\":false},{\"id\":\"dd2e393d-0eec-11f0-9621-dac2883c12fb\",\"url\":\"https://registration-harvester-api.notebook-test.develop.eoepca.org/flowable-rest/service/runtime/process-instances/dd2e393d-0eec-11f0-9621-dac2883c12fb\",\"name\":null,\"businessKey\":null,\"businessStatus\":null,\"suspended\":false,\"ended\":false,\"processDefinitionId\":\"escalationExample:1:641b235e-066c-11f0-9621-dac2883c12fb\",\"processDefinitionUrl\":\"https://registration-harvester-api.notebook-test.develop.eoepca.org/flowable-rest/service/repository/process-definitions/escalationExample:1:641b235e-066c-11f0-9621-dac2883c12fb\",\"processDefinitionName\":\"Helpdesk process\",\"processDefinitionDescription\":null,\"activityId\":null,\"startUserId\":\"eoepca\",\"startTime\":\"2025-04-01T11:31:33.435Z\",\"superProcessInstanceId\":null,\"variables\":[],\"callbackId\":null,\"callbackType\":null,\"referenceId\":null,\"referenceType\":null,\"propagatedStageInstanceId\":null,\"tenantId\":\"\",\"completed\":false}],\"total\":2,\"start\":0,\"sort\":\"id\",\"order\":\"asc\",\"size\":2}\n",
      "1 Landsat Workflow          started at: 2025-04-09T12:06:37.541Z  id: 16a1521e-153b-11f0-9621-dac2883c12fb\n",
      "2 Helpdesk process          started at: 2025-04-01T11:31:33.435Z  id: dd2e393d-0eec-11f0-9621-dac2883c12fb\n"
     ]
    }
   ],
   "source": [
    "process_instances_url = f\"{flowable_domain}/flowable-rest/service/runtime/process-instances\"\n",
    "print(f\"GET {process_instances_url}\")\n",
    "response = flowable_session.get(process_instances_url)\n",
    "print(response.text)\n",
    "process_instances = response.json()[\"data\"]\n",
    "if len(process_instances) == 0:\n",
    "    print(\"No running workflows\")\n",
    "else:\n",
    "    for idx, process in enumerate(process_instances, 1):\n",
    "        print(\"%s %-25s started at: %-25s id: %s\" % (idx, process['processDefinitionName'], process['startTime'], process['id']))"
   ]
  },
  {
   "cell_type": "markdown",
   "id": "18719bd9",
   "metadata": {},
   "source": [
    "## Delete Workflows"
   ]
  },
  {
   "cell_type": "code",
   "execution_count": 72,
   "id": "9071fb40",
   "metadata": {},
   "outputs": [
    {
     "name": "stdout",
     "output_type": "stream",
     "text": [
      "Delete: https://registration-harvester-api.notebook-test.develop.eoepca.org/flowable-rest/service/repository/deployments/636540d0-066c-11f0-9621-dac2883c12fb\n",
      "Delete: https://registration-harvester-api.notebook-test.develop.eoepca.org/flowable-rest/service/repository/deployments/e6451a22-153a-11f0-9621-dac2883c12fb\n"
     ]
    }
   ],
   "source": [
    "response = flowable_session.get(deployments_url)\n",
    "deployments = response.json().get(\"data\", [])\n",
    "for idx, deployment in enumerate(deployments, 1):\n",
    "    print(f'Delete: {deployments_url}/{deployment[\"id\"]}')\n",
    "    flowable_session.delete(f\"{deployments_url}/{deployment['id']}\")"
   ]
  }
 ],
 "metadata": {
  "kernelspec": {
   "display_name": "venv",
   "language": "python",
   "name": "python3"
  },
  "language_info": {
   "codemirror_mode": {
    "name": "ipython",
    "version": 3
   },
   "file_extension": ".py",
   "mimetype": "text/x-python",
   "name": "python",
   "nbconvert_exporter": "python",
   "pygments_lexer": "ipython3",
   "version": "3.10.12"
  }
 },
 "nbformat": 4,
 "nbformat_minor": 5
}
