{
 "cells": [
  {
   "cell_type": "raw",
   "id": "c6a14aa9-b395-466f-8773-8258fef66891",
   "metadata": {
    "editable": true,
    "slideshow": {
     "slide_type": ""
    },
    "tags": [],
    "vscode": {
     "languageId": "raw"
    }
   },
   "source": [
    "# EOEPCA IAM Validation and Usage Notebook"
   ]
  },
  {
   "cell_type": "markdown",
   "id": "fd364dc8-1b01-4a4c-abd5-185081cb3641",
   "metadata": {},
   "source": [
    "## Setup"
   ]
  },
  {
   "cell_type": "code",
   "execution_count": null,
   "id": "63f00541-6375-4d66-b84d-06e7b26b6efa",
   "metadata": {
    "editable": true,
    "slideshow": {
     "slide_type": ""
    },
    "tags": []
   },
   "outputs": [],
   "source": [
    "import os\n",
    "import requests\n",
    "import json\n",
    "from pathlib import Path\n",
    "\n",
    "import sys\n",
    "sys.path.append('../')\n",
    "from modules.helpers import get_access_token, load_eoepca_state, test_cell, test_results"
   ]
  },
  {
   "cell_type": "markdown",
   "id": "e8165564-bede-48ee-b81b-857dfeb85ffb",
   "metadata": {
    "editable": true,
    "slideshow": {
     "slide_type": ""
    },
    "tags": []
   },
   "source": [
    "Load `eoepca state` environment"
   ]
  },
  {
   "cell_type": "code",
   "execution_count": null,
   "id": "9138ba4e-4103-41db-a8da-1d937036d5f3",
   "metadata": {
    "editable": true,
    "slideshow": {
     "slide_type": ""
    },
    "tags": []
   },
   "outputs": [],
   "source": [
    "load_eoepca_state()"
   ]
  },
  {
   "cell_type": "code",
   "execution_count": null,
   "id": "398ca795-5bd2-421e-90ad-860861793329",
   "metadata": {
    "editable": true,
    "slideshow": {
     "slide_type": ""
    },
    "tags": [
     "parameters"
    ]
   },
   "outputs": [],
   "source": [
    "platform_domain = os.environ.get(\"INGRESS_HOST\")\n",
    "iam_domain = f\"{os.environ.get('HTTP_SCHEME')}://{os.environ.get('KEYCLOAK_HOST')}\"\n",
    "iam_realm = os.environ.get(\"REALM\")\n",
    "\n",
    "temporary_user = os.environ.get(\"TEMPORARY_USER\", \"notebook_user\")\n",
    "temporary_user_password = os.environ.get(\"TEMPORARY_USER_PASSWORD\", \"notebook_user_password\")\n",
    "\n",
    "print(f\"IAM (Keycloak) URL: {iam_domain}\")"
   ]
  },
  {
   "cell_type": "markdown",
   "id": "47259226",
   "metadata": {},
   "source": [
    "## Validate Keycloak API Endpoints"
   ]
  },
  {
   "cell_type": "code",
   "execution_count": null,
   "id": "419f8011",
   "metadata": {},
   "outputs": [],
   "source": [
    "endpoints = [\n",
    "    (\"Keycloak Home\", iam_domain),\n",
    "    (\"OIDC Discovery\", f\"{iam_domain}/realms/{iam_realm}/.well-known/openid-configuration\"),\n",
    "    (\"OAuth2 Authorization\", f\"{iam_domain}/realms/{iam_realm}/protocol/openid-connect/auth\"),\n",
    "    (\"OAuth2 Token\", f\"{iam_domain}/realms/{iam_realm}/protocol/openid-connect/token\"),\n",
    "    (\"Admin Console\", f\"{iam_domain}/admin/\")\n",
    "]\n",
    "\n",
    "for name, url in endpoints:\n",
    "    response = requests.get(url)\n",
    "    print(f\"{name} ({url}): {response.status_code}\")"
   ]
  },
  {
   "cell_type": "markdown",
   "id": "82579158",
   "metadata": {},
   "source": [
    "## Obtain Admin Access Token"
   ]
  },
  {
   "cell_type": "code",
   "execution_count": null,
   "id": "cbd7774f",
   "metadata": {},
   "outputs": [],
   "source": [
    "KEYCLOAK_ADMIN_USER = os.environ.get(\"KEYCLOAK_ADMIN_USER\")\n",
    "KEYCLOAK_ADMIN_PASSWORD = os.environ.get(\"KEYCLOAK_ADMIN_PASSWORD\")\n",
    "\n",
    "token_url = f\"{iam_domain}/realms/master/protocol/openid-connect/token\"\n",
    "payload = {\n",
    "    \"username\": KEYCLOAK_ADMIN_USER,\n",
    "    \"password\": KEYCLOAK_ADMIN_PASSWORD,\n",
    "    \"grant_type\": \"password\",\n",
    "    \"client_id\": \"admin-cli\"\n",
    "}\n",
    "\n",
    "response = requests.post(token_url, data=payload)\n",
    "admin_token = response.json().get(\"access_token\")\n",
    "print(f\"Admin Token Retrieved: {admin_token[:50]}...\")"
   ]
  },
  {
   "cell_type": "markdown",
   "id": "0372e5f1",
   "metadata": {},
   "source": [
    "## Create and Validate a Test User"
   ]
  },
  {
   "cell_type": "code",
   "execution_count": null,
   "id": "17d2d052",
   "metadata": {},
   "outputs": [],
   "source": [
    "create_user_url = f\"{iam_domain}/admin/realms/{iam_realm}/users\"\n",
    "headers = {\"Authorization\": f\"Bearer {admin_token}\", \"Content-Type\": \"application/json\"}\n",
    "user_payload = {\n",
    "    \"username\": temporary_user,\n",
    "    \"enabled\": True,\n",
    "    \"credentials\": [{\"type\": \"password\", \"value\": temporary_user_password, \"temporary\": False}],\n",
    "    \"emailVerified\": True,\n",
    "    \"firstName\": \"Temporary\",\n",
    "    \"lastName\": \"User\",\n",
    "    \"email\": \"temporary@eoepca.org\"\n",
    "}\n",
    "\n",
    "response = requests.post(create_user_url, json=user_payload, headers=headers)\n",
    "print(f\"Create User Status: {response.status_code}\")\n",
    "print(response.text)"
   ]
  },
  {
   "cell_type": "markdown",
   "id": "45007822",
   "metadata": {},
   "source": [
    "## Authenticate as Test User"
   ]
  },
  {
   "cell_type": "code",
   "execution_count": null,
   "id": "129eea9e",
   "metadata": {},
   "outputs": [],
   "source": [
    "test_user_payload = {\n",
    "    \"username\": temporary_user,\n",
    "    \"password\": temporary_user_password,\n",
    "    \"grant_type\": \"password\",\n",
    "    \"client_id\": \"admin-cli\"\n",
    "}\n",
    "response = requests.post(token_url.replace(\"master\", \"eoepca\"), data=test_user_payload)\n",
    "test_user_token = response.json().get(\"access_token\")\n",
    "print(f\"Test User Token Retrieved: {test_user_token[:50]}...\")"
   ]
  }
 ],
 "metadata": {
  "kernelspec": {
   "display_name": "Python 3 (ipykernel)",
   "language": "python",
   "name": "python3"
  },
  "language_info": {
   "codemirror_mode": {
    "name": "ipython",
    "version": 3
   },
   "file_extension": ".py",
   "mimetype": "text/x-python",
   "name": "python",
   "nbconvert_exporter": "python",
   "pygments_lexer": "ipython3",
   "version": "3.12.9"
  }
 },
 "nbformat": 4,
 "nbformat_minor": 5
}
