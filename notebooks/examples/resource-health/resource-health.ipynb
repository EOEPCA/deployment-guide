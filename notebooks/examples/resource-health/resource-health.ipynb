{
 "cells": [
  {
   "cell_type": "raw",
   "id": "c6a14aa9-b395-466f-8773-8258fef66891",
   "metadata": {
    "editable": true,
    "slideshow": {
     "slide_type": ""
    },
    "tags": [],
    "vscode": {
     "languageId": "raw"
    }
   },
   "source": [
    "# EOEPCA Resource Health Usage Demonstration Notebook"
   ]
  },
  {
   "cell_type": "markdown",
   "id": "fd364dc8-1b01-4a4c-abd5-185081cb3641",
   "metadata": {},
   "source": [
    "## Setup"
   ]
  },
  {
   "cell_type": "code",
   "execution_count": 1,
   "id": "63f00541-6375-4d66-b84d-06e7b26b6efa",
   "metadata": {
    "editable": true,
    "slideshow": {
     "slide_type": ""
    },
    "tags": []
   },
   "outputs": [],
   "source": [
    "import os\n",
    "import requests\n",
    "import json\n",
    "from pathlib import Path\n",
    "\n",
    "import sys\n",
    "sys.path.append('../')\n",
    "from modules.helpers import get_access_token, load_eoepca_state, test_cell, test_results"
   ]
  },
  {
   "cell_type": "markdown",
   "id": "e8165564-bede-48ee-b81b-857dfeb85ffb",
   "metadata": {
    "editable": true,
    "slideshow": {
     "slide_type": ""
    },
    "tags": []
   },
   "source": [
    "Load `eoepca state` environment"
   ]
  },
  {
   "cell_type": "code",
   "execution_count": 2,
   "id": "9138ba4e-4103-41db-a8da-1d937036d5f3",
   "metadata": {
    "editable": true,
    "slideshow": {
     "slide_type": ""
    },
    "tags": []
   },
   "outputs": [],
   "source": [
    "load_eoepca_state()"
   ]
  },
  {
   "cell_type": "code",
   "execution_count": 3,
   "id": "398ca795-5bd2-421e-90ad-860861793329",
   "metadata": {
    "editable": true,
    "slideshow": {
     "slide_type": ""
    },
    "tags": [
     "parameters"
    ]
   },
   "outputs": [
    {
     "name": "stdout",
     "output_type": "stream",
     "text": [
      "Resource Health URL: https://resource-health.notebook-test.develop.eoepca.org\n"
     ]
    }
   ],
   "source": [
    "platform_domain = os.environ.get(\"INGRESS_HOST\")\n",
    "resource_health_domain = f'https://resource-health.{platform_domain}'\n",
    "print(f\"Resource Health URL: {resource_health_domain}\")"
   ]
  },
  {
   "cell_type": "markdown",
   "id": "da8f7460",
   "metadata": {},
   "source": [
    "## Validate Resource Health Web Dashboard"
   ]
  },
  {
   "cell_type": "code",
   "execution_count": 4,
   "id": "54c8dca2",
   "metadata": {},
   "outputs": [
    {
     "name": "stdout",
     "output_type": "stream",
     "text": [
      "✅ Resource Health Web dashboard accessible at: https://resource-health.notebook-test.develop.eoepca.org/\n"
     ]
    }
   ],
   "source": [
    "web_url = f\"{resource_health_domain}/\"\n",
    "response = requests.get(web_url)\n",
    "\n",
    "if response.status_code == 200:\n",
    "    print(f\"✅ Resource Health Web dashboard accessible at: {web_url}\")\n",
    "else:\n",
    "    print(f\"❌ Dashboard access failed: {response.status_code}\")"
   ]
  },
  {
   "cell_type": "markdown",
   "id": "162f7074",
   "metadata": {},
   "source": [
    "## Retrieve Existing Health Checks"
   ]
  },
  {
   "cell_type": "code",
   "execution_count": 9,
   "id": "fdd53f3d",
   "metadata": {},
   "outputs": [
    {
     "name": "stdout",
     "output_type": "stream",
     "text": [
      "- resource-health-healthchecks-cronjob-0 (Scheduled: */1 * * * *)\n"
     ]
    }
   ],
   "source": [
    "checks_url = f\"{resource_health_domain}/api/healthchecks/checks/\"\n",
    "response = requests.get(checks_url)\n",
    "\n",
    "checks = response.json()\n",
    "for check in checks:\n",
    "    print(f\"- {check['id']} (Scheduled: {check['schedule']})\")"
   ]
  },
  {
   "cell_type": "markdown",
   "id": "d2f6dcc9",
   "metadata": {},
   "source": [
    "## Create a New Health Check via API"
   ]
  },
  {
   "cell_type": "code",
   "execution_count": 16,
   "id": "b213338a",
   "metadata": {},
   "outputs": [
    {
     "name": "stdout",
     "output_type": "stream",
     "text": [
      "New check created: {\"id\":\"106b3233-41c3-4961-a9c6-92d59d77f6de\",\"metadata\":{\"template_id\":\"default_k8s_template\",\"template_args\":{\"script\":\"https://raw.githubusercontent.com/EOEPCA/resource-health/refs/tags/v0.1.0-demo/pytest-health/instrumentation/examples/mock_api_check.py\",\"requirements\":\"https://gist.githubusercontent.com/tilowiklundSensmetry/a9fefe2873b731b483f554607a82deaa/raw/1136a82ca3c8f28b1ad4d895871514185927dd1c/requirements.txt\",\"health_check.name\":\"from-notebook-automation\"}},\"schedule\":\"*/1 * * * *\",\"outcome_filter\":{\"resource_attributes\":{\"k8s.cronjob.name\":\"106b3233-41c3-4961-a9c6-92d59d77f6de\"}}}\n"
     ]
    }
   ],
   "source": [
    "new_check_payload = {\n",
    "    \"template_id\": \"default_k8s_template\",\n",
    "    \"template_args\": {\n",
    "        \"script\": \"https://raw.githubusercontent.com/EOEPCA/resource-health/refs/tags/v0.1.0-demo/pytest-health/instrumentation/examples/mock_api_check.py\",\n",
    "        \"requirements\": \"https://gist.githubusercontent.com/tilowiklundSensmetry/a9fefe2873b731b483f554607a82deaa/raw/1136a82ca3c8f28b1ad4d895871514185927dd1c/requirements.txt\",\n",
    "        \"health_check.name\": \"from-notebook-automation\"\n",
    "    },\n",
    "    \"schedule\": \"*/1 * * * *\",\n",
    "    \"withCredentials\": True\n",
    "}\n",
    "\n",
    "response = requests.post(checks_url, json=new_check_payload)\n",
    "\n",
    "print(f\"New check created: {response.text}\")"
   ]
  },
  {
   "cell_type": "markdown",
   "id": "78fb9f3b",
   "metadata": {},
   "source": [
    "## Check Telemetry Service Status"
   ]
  },
  {
   "cell_type": "code",
   "execution_count": null,
   "id": "30c6cfe2",
   "metadata": {},
   "outputs": [
    {
     "name": "stdout",
     "output_type": "stream",
     "text": [
      "❌ Telemetry service check failed: 200 - \"OK\"\n"
     ]
    }
   ],
   "source": [
    "telemetry_url = f\"{resource_health_domain}/api/telemetry/healthz\"\n",
    "response = requests.get(telemetry_url)\n",
    "\n",
    "print(f\"Telemetry health: {response.text}\")"
   ]
  }
 ],
 "metadata": {
  "kernelspec": {
   "display_name": "venv",
   "language": "python",
   "name": "python3"
  },
  "language_info": {
   "codemirror_mode": {
    "name": "ipython",
    "version": 3
   },
   "file_extension": ".py",
   "mimetype": "text/x-python",
   "name": "python",
   "nbconvert_exporter": "python",
   "pygments_lexer": "ipython3",
   "version": "3.10.12"
  }
 },
 "nbformat": 4,
 "nbformat_minor": 5
}
