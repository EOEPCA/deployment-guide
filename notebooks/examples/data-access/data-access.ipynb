{
 "cells": [
  {
   "cell_type": "markdown",
   "metadata": {},
   "source": [
    "# EOEPCA Data Access Validation and Usage Notebook"
   ]
  },
  {
   "cell_type": "markdown",
   "metadata": {},
   "source": [
    "## Setup"
   ]
  },
  {
   "cell_type": "code",
   "execution_count": 14,
   "metadata": {},
   "outputs": [],
   "source": [
    "import os\n",
    "import requests\n",
    "import json\n",
    "import matplotlib.pyplot as plt\n",
    "from PIL import Image\n",
    "from io import BytesIO\n",
    "\n",
    "import sys\n",
    "sys.path.append('../')\n",
    "from modules.helpers import get_access_token, load_eoepca_state, test_cell, test_results"
   ]
  },
  {
   "cell_type": "markdown",
   "metadata": {},
   "source": [
    "Load `eoepca state` environment"
   ]
  },
  {
   "cell_type": "code",
   "execution_count": 15,
   "metadata": {},
   "outputs": [],
   "source": [
    "load_eoepca_state()"
   ]
  },
  {
   "cell_type": "code",
   "execution_count": 16,
   "metadata": {},
   "outputs": [
    {
     "name": "stdout",
     "output_type": "stream",
     "text": [
      "Data Access API: https://eoapi.notebook-test.develop.eoepca.org\n"
     ]
    }
   ],
   "source": [
    "platform_domain = os.environ.get(\"INGRESS_HOST\")\n",
    "data_access_domain = f'{os.environ.get(\"HTTP_SCHEME\")}://eoapi.{platform_domain}'\n",
    "\n",
    "print(f\"Data Access API: {data_access_domain}\")"
   ]
  },
  {
   "cell_type": "markdown",
   "metadata": {},
   "source": [
    "## Validate Data Access API Endpoints"
   ]
  },
  {
   "cell_type": "code",
   "execution_count": 17,
   "metadata": {},
   "outputs": [
    {
     "name": "stdout",
     "output_type": "stream",
     "text": [
      "STAC API Landing Page (https://eoapi.notebook-test.develop.eoepca.org/stac/): 200\n",
      "STAC Swagger UI (https://eoapi.notebook-test.develop.eoepca.org/stac/api.html): 200\n",
      "Raster API Swagger UI (https://eoapi.notebook-test.develop.eoepca.org/raster/api.html): 200\n",
      "Vector API Swagger UI (https://eoapi.notebook-test.develop.eoepca.org/vector/api.html): 200\n"
     ]
    }
   ],
   "source": [
    "endpoints = [\n",
    "    (\"STAC API Landing Page\", f\"{data_access_domain}/stac/\"),\n",
    "    (\"STAC Swagger UI\", f\"{data_access_domain}/stac/api.html\"),\n",
    "    (\"Raster API Swagger UI\", f\"{data_access_domain}/raster/api.html\"),\n",
    "    (\"Vector API Swagger UI\", f\"{data_access_domain}/vector/api.html\")\n",
    "]\n",
    "\n",
    "for name, url in endpoints:\n",
    "    response = requests.get(url)\n",
    "    print(f\"{name} ({url}): {response.status_code}\")"
   ]
  },
  {
   "cell_type": "markdown",
   "metadata": {},
   "source": [
    "## STAC Collections and Items Inspection"
   ]
  },
  {
   "cell_type": "code",
   "execution_count": 18,
   "metadata": {},
   "outputs": [
    {
     "name": "stdout",
     "output_type": "stream",
     "text": [
      "Collections:\n",
      " - noaa-emergency-response\n",
      " - sentinel-2-iceland\n"
     ]
    }
   ],
   "source": [
    "collections_response = requests.get(f\"{data_access_domain}/stac/collections\")\n",
    "collections = collections_response.json()\n",
    "print(\"Collections:\")\n",
    "for collection in collections['collections']:\n",
    "    print(f\" - {collection['id']}\")"
   ]
  },
  {
   "cell_type": "markdown",
   "metadata": {},
   "source": [
    "## Load and Inspect Sample STAC Collection and Items"
   ]
  },
  {
   "cell_type": "markdown",
   "metadata": {},
   "source": [
    "TODO: Why doesn't resource registration register it in?"
   ]
  },
  {
   "cell_type": "code",
   "execution_count": 19,
   "metadata": {},
   "outputs": [],
   "source": [
    "collections_url = \"https://raw.githubusercontent.com/EOEPCA/deployment-guide/main/scripts/data-access/collections/sentinel-2-iceland/collections.json\"\n",
    "items_url = \"https://raw.githubusercontent.com/EOEPCA/deployment-guide/main/scripts/data-access/collections/sentinel-2-iceland/items.json\"\n",
    "\n",
    "collections_json = requests.get(collections_url).json()\n",
    "items_json = requests.get(items_url).json()"
   ]
  },
  {
   "cell_type": "markdown",
   "metadata": {},
   "source": [
    "## Ingestion of Sample Collection and Items"
   ]
  },
  {
   "cell_type": "code",
   "execution_count": 20,
   "metadata": {},
   "outputs": [
    {
     "name": "stdout",
     "output_type": "stream",
     "text": [
      "Collection ingestion status code: 409\n",
      "{'code': 'ConflictError', 'description': ''}\n",
      "Successfully ingested items: []\n",
      "Failed items: [('S2A_26WPS_20231109_0_L2A', '{\"code\":\"ConflictError\",\"description\":\"\"}'), ('S2B_27VWL_20231109_0_L2A', '{\"code\":\"ConflictError\",\"description\":\"\"}'), ('S2B_26WPS_20231108_0_L2A', '{\"code\":\"ConflictError\",\"description\":\"\"}'), ('S2B_26WNT_20231108_0_L2A', '{\"code\":\"ConflictError\",\"description\":\"\"}'), ('S2B_26WPT_20231108_0_L2A', '{\"code\":\"ConflictError\",\"description\":\"\"}')]\n"
     ]
    }
   ],
   "source": [
    "collections_endpoint = f\"{data_access_domain}/stac/collections\"\n",
    "ingested_collection = requests.post(collections_endpoint, json=collections_json)\n",
    "print(f\"Collection ingestion status code: {ingested_collection.status_code}\")\n",
    "print(ingested_collection.json())\n",
    "\n",
    "items_endpoint = f\"{data_access_domain}/stac/collections/{collections_json['id']}/items\"\n",
    "\n",
    "successful_items = []\n",
    "failed_items = []\n",
    "\n",
    "# only take first 5 items for testing\n",
    "items_json = items_json[:5]\n",
    "\n",
    "for item in items_json:\n",
    "    response = requests.post(items_endpoint, json=item)\n",
    "    if response.status_code == 200:\n",
    "        successful_items.append(item['id'])\n",
    "    else:\n",
    "        failed_items.append((item['id'], response.text))\n",
    "\n",
    "print(f\"Successfully ingested items: {successful_items}\")\n",
    "if failed_items:\n",
    "    print(f\"Failed items: {failed_items}\")"
   ]
  },
  {
   "cell_type": "markdown",
   "metadata": {},
   "source": [
    "## STAC Items Search and Visualization (Post-Ingestion)"
   ]
  },
  {
   "cell_type": "code",
   "execution_count": 21,
   "metadata": {},
   "outputs": [
    {
     "name": "stdout",
     "output_type": "stream",
     "text": [
      "Collection retrieval status: 200\n",
      "Items retrieval status: 200\n"
     ]
    }
   ],
   "source": [
    "collection_check = requests.get(f\"{collections_endpoint}/{collections_json['id']}\")\n",
    "print(f\"Collection retrieval status: {collection_check.status_code}\")\n",
    "\n",
    "items_check = requests.get(items_endpoint)\n",
    "print(f\"Items retrieval status: {items_check.status_code}\")"
   ]
  },
  {
   "cell_type": "code",
   "execution_count": 22,
   "metadata": {},
   "outputs": [
    {
     "name": "stdout",
     "output_type": "stream",
     "text": [
      "{\n",
      "  \"type\": \"FeatureCollection\",\n",
      "  \"links\": [\n",
      "    {\n",
      "      \"rel\": \"root\",\n",
      "      \"type\": \"application/\n"
     ]
    }
   ],
   "source": [
    "search_url = f\"{data_access_domain}/stac/search\"\n",
    "search_payload = {\n",
    "    \"bbox\": [-25, 63, -24, 65],\n",
    "    \"datetime\": \"2023-01-01T00:00:00Z/2024-01-01T00:00:00Z\",\n",
    "    \"limit\": 5\n",
    "}\n",
    "\n",
    "response = requests.post(search_url, json=search_payload)\n",
    "search_results = response.json()\n",
    "print(json.dumps(search_results, indent=2)[:100])"
   ]
  },
  {
   "cell_type": "code",
   "execution_count": 23,
   "metadata": {},
   "outputs": [
    {
     "name": "stdout",
     "output_type": "stream",
     "text": [
      "Visual asset URL: https://sentinel-cogs.s3.us-west-2.amazonaws.com/sentinel-s2-l2a-cogs/26/W/PS/2023/11/S2A_26WPS_20231109_0_L2A/TCI.tif\n"
     ]
    }
   ],
   "source": [
    "if search_results['features']:\n",
    "    stac_item = search_results['features'][0]\n",
    "    visual_asset_url = stac_item['assets']['visual']['href']\n",
    "    print(f\"Visual asset URL: {visual_asset_url}\")\n",
    "\n",
    "    # image_response = requests.get(visual_asset_url)\n",
    "    # img = Image.open(BytesIO(image_response.content))\n",
    "\n",
    "    # plt.figure(figsize=(8, 8))\n",
    "    # plt.imshow(img)\n",
    "    # plt.axis('off')\n",
    "    # plt.title(f\"Raster Visualization: {stac_item['id']}\")\n",
    "    # plt.show()\n",
    "else:\n",
    "    print(\"No STAC items found.\")"
   ]
  },
  {
   "cell_type": "markdown",
   "metadata": {},
   "source": [
    "## Raster and Vector API Availability Checks"
   ]
  },
  {
   "cell_type": "code",
   "execution_count": 24,
   "metadata": {},
   "outputs": [
    {
     "name": "stdout",
     "output_type": "stream",
     "text": [
      "Raster API Health Check: 200 - {\"database_online\":true}\n",
      "Vector API Health Check: 200 - {\"ping\":\"pong!\"}\n"
     ]
    }
   ],
   "source": [
    "raster_health_url = f\"{data_access_domain}/raster/healthz\"\n",
    "vector_health_url = f\"{data_access_domain}/vector/healthz\"\n",
    "\n",
    "raster_health = requests.get(raster_health_url)\n",
    "vector_health = requests.get(vector_health_url)\n",
    "\n",
    "print(f\"Raster API Health Check: {raster_health.status_code} - {raster_health.text}\")\n",
    "print(f\"Vector API Health Check: {vector_health.status_code} - {vector_health.text}\")\n"
   ]
  },
  {
   "cell_type": "markdown",
   "metadata": {},
   "source": [
    "## STAC Manager UI Check"
   ]
  },
  {
   "cell_type": "code",
   "execution_count": 25,
   "metadata": {},
   "outputs": [
    {
     "name": "stdout",
     "output_type": "stream",
     "text": [
      "STAC Manager UI status code: 200\n"
     ]
    },
    {
     "data": {
      "text/plain": [
       "'https://eoapi.notebook-test.develop.eoepca.org/'"
      ]
     },
     "execution_count": 25,
     "metadata": {},
     "output_type": "execute_result"
    }
   ],
   "source": [
    "stac_manager_ui_url = data_access_domain\n",
    "response = requests.get(stac_manager_ui_url)\n",
    "print(f\"STAC Manager UI status code: {response.status_code}\")\n",
    "response.url"
   ]
  }
 ],
 "metadata": {
  "kernelspec": {
   "display_name": "Python 3",
   "language": "python",
   "name": "python3"
  },
  "language_info": {
   "codemirror_mode": {
    "name": "ipython",
    "version": 3
   },
   "file_extension": ".py",
   "mimetype": "text/x-python",
   "name": "python",
   "nbconvert_exporter": "python",
   "pygments_lexer": "ipython3",
   "version": "3.10.12"
  }
 },
 "nbformat": 4,
 "nbformat_minor": 2
}
