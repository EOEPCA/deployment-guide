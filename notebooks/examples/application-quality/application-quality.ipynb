{
 "cells": [
  {
   "cell_type": "raw",
   "id": "c6a14aa9-b395-466f-8773-8258fef66891",
   "metadata": {
    "editable": true,
    "slideshow": {
     "slide_type": ""
    },
    "tags": [],
    "vscode": {
     "languageId": "raw"
    }
   },
   "source": [
    "# EOEPCA Application Quality Usage Demonstration Notebook"
   ]
  },
  {
   "cell_type": "markdown",
   "id": "fd364dc8-1b01-4a4c-abd5-185081cb3641",
   "metadata": {},
   "source": [
    "## Setup"
   ]
  },
  {
   "cell_type": "code",
   "execution_count": 1,
   "id": "63f00541-6375-4d66-b84d-06e7b26b6efa",
   "metadata": {
    "editable": true,
    "slideshow": {
     "slide_type": ""
    },
    "tags": []
   },
   "outputs": [],
   "source": [
    "import os\n",
    "import requests\n",
    "import json\n",
    "from pathlib import Path\n",
    "\n",
    "import sys\n",
    "sys.path.append('../')\n",
    "from modules.helpers import get_access_token, load_eoepca_state, test_cell, test_results"
   ]
  },
  {
   "cell_type": "markdown",
   "id": "e8165564-bede-48ee-b81b-857dfeb85ffb",
   "metadata": {
    "editable": true,
    "slideshow": {
     "slide_type": ""
    },
    "tags": []
   },
   "source": [
    "Load `eoepca state` environment"
   ]
  },
  {
   "cell_type": "code",
   "execution_count": 2,
   "id": "9138ba4e-4103-41db-a8da-1d937036d5f3",
   "metadata": {
    "editable": true,
    "slideshow": {
     "slide_type": ""
    },
    "tags": []
   },
   "outputs": [],
   "source": [
    "load_eoepca_state()"
   ]
  },
  {
   "cell_type": "code",
   "execution_count": null,
   "id": "398ca795-5bd2-421e-90ad-860861793329",
   "metadata": {
    "editable": true,
    "slideshow": {
     "slide_type": ""
    },
    "tags": [
     "parameters"
    ]
   },
   "outputs": [
    {
     "name": "stdout",
     "output_type": "stream",
     "text": [
      "Resource Health URL: https://resource-health.notebook-test.develop.eoepca.org\n"
     ]
    }
   ],
   "source": [
    "platform_domain = os.environ.get(\"INGRESS_HOST\")\n",
    "app_quality_domain = f'https://application-quality.{platform_domain}'\n",
    "oidc_client_id = \"application-quality\"\n",
    "\n",
    "username = os.environ.get(\"KEYCLOAK_TEST_USER\")\n",
    "password = os.environ.get(\"KEYCLOAK_TEST_PASSWORD\")"
   ]
  },
  {
   "cell_type": "markdown",
   "id": "eaa80292",
   "metadata": {},
   "source": [
    "## Authenticate with EOEPCA IAM"
   ]
  },
  {
   "cell_type": "code",
   "execution_count": null,
   "id": "41d76d7e",
   "metadata": {},
   "outputs": [],
   "source": [
    "username = os.environ.get(\"KEYCLOAK_TEST_USER\")\n",
    "password = os.environ.get(\"KEYCLOAK_TEST_PASSWORD\")\n",
    "\n",
    "access_token = get_access_token(username, password, oidc_client_id)\n",
    "headers = {\"Authorization\": f\"Bearer {access_token}\"}\n",
    "\n",
    "if access_token:\n",
    "    print(\"✅ Successfully authenticated.\")\n",
    "else:\n",
    "    print(\"❌ Authentication failed.\")"
   ]
  },
  {
   "cell_type": "markdown",
   "id": "5d302097",
   "metadata": {},
   "source": [
    "## Retrieve Available Pipelines"
   ]
  },
  {
   "cell_type": "code",
   "execution_count": null,
   "id": "f395526a",
   "metadata": {},
   "outputs": [],
   "source": [
    "pipelines_url = f\"{app_quality_domain}/api/pipelines\"\n",
    "response = requests.get(pipelines_url, headers=headers)\n",
    "\n",
    "if response.status_code == 200:\n",
    "    pipelines = response.json()\n",
    "    print(\"✅ Available Pipelines:\")\n",
    "    for pipeline in pipelines:\n",
    "        print(f\"- {pipeline['name']} (ID: {pipeline['id']})\")\n",
    "else:\n",
    "    print(f\"❌ Failed to retrieve pipelines. Status code: {response.status_code}\")"
   ]
  },
  {
   "cell_type": "markdown",
   "id": "11a5edcc",
   "metadata": {},
   "source": [
    "## Execute a Pipeline"
   ]
  },
  {
   "cell_type": "code",
   "execution_count": null,
   "id": "6dc9482c",
   "metadata": {},
   "outputs": [],
   "source": [
    "if pipelines:\n",
    "    selected_pipeline_id = pipelines[0]['id']\n",
    "    execute_url = f\"{pipelines_url}/{selected_pipeline_id}/execute\"\n",
    "\n",
    "    execution_payload = {\n",
    "        \"git_url\": \"https://github.com/example/repo.git\",\n",
    "        \"git_branch\": \"main\"\n",
    "    }\n",
    "\n",
    "    response = requests.post(execute_url, headers={**headers, \"Content-Type\": \"application/json\"}, json=execution_payload)\n",
    "\n",
    "    if response.status_code in [200, 201]:\n",
    "        execution_id = response.json().get(\"execution_id\")\n",
    "        print(f\"✅ Pipeline execution initiated. Execution ID: {execution_id}\")\n",
    "    else:\n",
    "        print(f\"❌ Failed to execute pipeline. Response: {response.text}\")\n",
    "else:\n",
    "    print(\"❌ No pipelines available for execution.\")"
   ]
  },
  {
   "cell_type": "markdown",
   "id": "d257cf2f",
   "metadata": {},
   "source": [
    "## Monitor Pipeline Execution"
   ]
  },
  {
   "cell_type": "code",
   "execution_count": null,
   "id": "4dcf37a5",
   "metadata": {},
   "outputs": [],
   "source": [
    "if execution_id:\n",
    "    execution_status_url = f\"{app_quality_domain}/api/executions/{execution_id}/status\"\n",
    "    response = requests.get(execution_status_url, headers=headers)\n",
    "\n",
    "    if response.status_code == 200:\n",
    "        status_info = response.json()\n",
    "        print(f\"✅ Pipeline Execution Status:\")\n",
    "        print(json.dumps(status_info, indent=2))\n",
    "    else:\n",
    "        print(f\"❌ Failed to retrieve execution status. Status code: {response.status_code}\")\n",
    "else:\n",
    "    print(\"⚠️ No execution ID available to monitor.\")"
   ]
  },
  {
   "cell_type": "markdown",
   "id": "92e551fb",
   "metadata": {},
   "source": [
    "## Retrieve and Display Execution Reports"
   ]
  },
  {
   "cell_type": "code",
   "execution_count": null,
   "id": "037224c1",
   "metadata": {},
   "outputs": [],
   "source": [
    "if execution_id:\n",
    "    reports_url = f\"{app_quality_domain}/api/executions/{execution_id}/reports\"\n",
    "    response = requests.get(reports_url, headers=headers)\n",
    "\n",
    "    if response.status_code == 200:\n",
    "        reports = response.json()\n",
    "        print(f\"✅ Execution Reports:\")\n",
    "        for report in reports:\n",
    "            tool_name = report.get(\"tool_name\", \"Unnamed Tool\")\n",
    "            findings = report.get(\"findings\", [])\n",
    "            print(f\"\\nTool: {tool_name}, Findings Count: {len(findings)}\")\n",
    "            for finding in findings[:5]:  # Display only first 5 findings\n",
    "                print(f\"- {finding.get('message', 'No detail available')}\")\n",
    "    else:\n",
    "        print(f\"❌ Failed to retrieve reports. Status code: {response.status_code}\")\n",
    "else:\n",
    "    print(\"⚠️ No execution ID available for retrieving reports.\")"
   ]
  }
 ],
 "metadata": {
  "kernelspec": {
   "display_name": "venv",
   "language": "python",
   "name": "python3"
  },
  "language_info": {
   "codemirror_mode": {
    "name": "ipython",
    "version": 3
   },
   "file_extension": ".py",
   "mimetype": "text/x-python",
   "name": "python",
   "nbconvert_exporter": "python",
   "pygments_lexer": "ipython3",
   "version": "3.10.12"
  }
 },
 "nbformat": 4,
 "nbformat_minor": 5
}
