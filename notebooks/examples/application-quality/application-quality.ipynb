{
 "cells": [
  {
   "cell_type": "raw",
   "id": "c6a14aa9-b395-466f-8773-8258fef66891",
   "metadata": {
    "editable": true,
    "slideshow": {
     "slide_type": ""
    },
    "tags": [],
    "vscode": {
     "languageId": "raw"
    }
   },
   "source": [
    "# EOEPCA Application Quality Usage Demonstration Notebook"
   ]
  },
  {
   "cell_type": "markdown",
   "id": "fd364dc8-1b01-4a4c-abd5-185081cb3641",
   "metadata": {},
   "source": [
    "## Setup"
   ]
  },
  {
   "cell_type": "code",
   "execution_count": 1,
   "id": "63f00541-6375-4d66-b84d-06e7b26b6efa",
   "metadata": {
    "editable": true,
    "slideshow": {
     "slide_type": ""
    },
    "tags": []
   },
   "outputs": [],
   "source": [
    "import os\n",
    "import requests\n",
    "import json\n",
    "from pathlib import Path\n",
    "\n",
    "import sys\n",
    "sys.path.append('../')\n",
    "from modules.helpers import get_access_token, load_eoepca_state, test_cell, test_results"
   ]
  },
  {
   "cell_type": "markdown",
   "id": "e8165564-bede-48ee-b81b-857dfeb85ffb",
   "metadata": {
    "editable": true,
    "slideshow": {
     "slide_type": ""
    },
    "tags": []
   },
   "source": [
    "Load `eoepca state` environment"
   ]
  },
  {
   "cell_type": "code",
   "execution_count": 2,
   "id": "9138ba4e-4103-41db-a8da-1d937036d5f3",
   "metadata": {
    "editable": true,
    "slideshow": {
     "slide_type": ""
    },
    "tags": []
   },
   "outputs": [],
   "source": [
    "load_eoepca_state()"
   ]
  },
  {
   "cell_type": "code",
   "execution_count": 3,
   "id": "398ca795-5bd2-421e-90ad-860861793329",
   "metadata": {
    "editable": true,
    "slideshow": {
     "slide_type": ""
    },
    "tags": [
     "parameters"
    ]
   },
   "outputs": [
    {
     "name": "stdout",
     "output_type": "stream",
     "text": [
      "App Quality domain: https://application-quality.notebook-test.develop.eoepca.org\n"
     ]
    }
   ],
   "source": [
    "platform_domain = os.environ.get(\"INGRESS_HOST\")\n",
    "app_quality_domain = f'https://application-quality.{platform_domain}'\n",
    "oidc_client_id = os.environ.get(\"APP_QUALITY_CLIENT_ID\")\n",
    "oidc_client_secret = os.environ.get(\"APP_QUALITY_CLIENT_SECRET\")\n",
    "\n",
    "username = os.environ.get(\"KEYCLOAK_TEST_USER\")\n",
    "password = os.environ.get(\"KEYCLOAK_TEST_PASSWORD\")\n",
    "\n",
    "print('App Quality domain:', app_quality_domain)\n"
   ]
  },
  {
   "cell_type": "markdown",
   "id": "eaa80292",
   "metadata": {},
   "source": [
    "## Authenticate with EOEPCA IAM"
   ]
  },
  {
   "cell_type": "code",
   "execution_count": 4,
   "id": "41d76d7e",
   "metadata": {},
   "outputs": [
    {
     "name": "stdout",
     "output_type": "stream",
     "text": [
      "eyJhbGciOiJSUzI1NiIs\n",
      "✅ Successfully authenticated.\n"
     ]
    }
   ],
   "source": [
    "access_token = get_access_token(username, password, oidc_client_id, oidc_client_secret)\n",
    "headers = {\"Authorization\": f\"Bearer {access_token}\"}\n",
    "\n",
    "if access_token:\n",
    "    print(access_token[0:20])\n",
    "    print(\"✅ Successfully authenticated.\")\n",
    "else:\n",
    "    print(\"❌ Authentication failed.\")"
   ]
  },
  {
   "cell_type": "markdown",
   "id": "5d302097",
   "metadata": {},
   "source": [
    "## Retrieve Available Pipelines"
   ]
  },
  {
   "cell_type": "code",
   "execution_count": 5,
   "id": "f395526a",
   "metadata": {},
   "outputs": [
    {
     "name": "stdout",
     "output_type": "stream",
     "text": [
      "Fetching pipelines... https://application-quality.notebook-test.develop.eoepca.org/api/pipelines/\n",
      "{\"detail\":\"Authentication credentials were not provided.\"}\n",
      "❌ Failed to retrieve pipelines. Status code: 403\n"
     ]
    }
   ],
   "source": [
    "# Application Quality API does not seem to accept tokens...\n",
    "\n",
    "pipelines_url = f\"{app_quality_domain}/api/pipelines/\"\n",
    "print(\"Fetching pipelines...\", pipelines_url)\n",
    "response = requests.get(pipelines_url, headers=headers)\n",
    "print(response.text)\n",
    "if response.status_code == 200:\n",
    "    pipelines = response.json()\n",
    "    print(\"✅ Available Pipelines:\")\n",
    "    for pipeline in pipelines:\n",
    "        print(f\"- {pipeline['name']} (ID: {pipeline['id']})\")\n",
    "else:\n",
    "    print(f\"❌ Failed to retrieve pipelines. Status code: {response.status_code}\")"
   ]
  }
 ],
 "metadata": {
  "kernelspec": {
   "display_name": "Python 3",
   "language": "python",
   "name": "python3"
  },
  "language_info": {
   "codemirror_mode": {
    "name": "ipython",
    "version": 3
   },
   "file_extension": ".py",
   "mimetype": "text/x-python",
   "name": "python",
   "nbconvert_exporter": "python",
   "pygments_lexer": "ipython3",
   "version": "3.10.12"
  }
 },
 "nbformat": 4,
 "nbformat_minor": 5
}
