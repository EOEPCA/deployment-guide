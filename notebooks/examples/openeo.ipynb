{
 "cells": [
  {
   "cell_type": "markdown",
   "id": "24313300-0027-4d0d-8635-a1d67f3bc0ea",
   "metadata": {
    "editable": true,
    "slideshow": {
     "slide_type": ""
    },
    "tags": []
   },
   "source": [
    "# openEO Demonstration"
   ]
  },
  {
   "cell_type": "markdown",
   "id": "db05d81e",
   "metadata": {},
   "source": [
    "This notebook can either be run through the Jupyter interface or run using the `papermill` command line tool.\n",
    "\n",
    "#### Jupyter\n",
    "\n",
    "Ensure that your `~/.eoepca/state` file is correctly filled, or the necessary environment variables are set before running the notebook.\n",
    "\n",
    "#### Papermill\n",
    "\n",
    "To run the notebook using `papermill`, use the following command:\n",
    "\n",
    "```bash\n",
    "papermill \\\n",
    "  -p openeo_backend \"openeo.notebook-test.develop.eoepca.org\" \\\n",
    "  -p authentication_method \"authorization-code\" \\\n",
    "  openeo.ipynb \\\n",
    "  openeo-output.ipynb \\\n",
    "  --log-output\n",
    "```\n",
    "\n",
    "This will run the notebook and save the output to `openeo-output.ipynb`.\n",
    "\n",
    "You can experiment with the different parameters e.g. to try with a different user you could do\n",
    "\n",
    "```bash\n",
    "papermill \\\n",
    "  -p openeo_backend \"openeo.notebook-test.develop.eoepca.org\" \\\n",
    "  -p authentication_method \"authorization-code\" \\\n",
    "  -p username \"differentuser\" \\\n",
    "  -p password \"differentpassword\" \\\n",
    "  openeo.ipynb \\\n",
    "  openeo-test.ipynb \\\n",
    "  --log-output\n",
    "```"
   ]
  },
  {
   "cell_type": "markdown",
   "id": "fd364dc8-1b01-4a4c-abd5-185081cb3641",
   "metadata": {},
   "source": [
    "## Setup"
   ]
  },
  {
   "cell_type": "code",
   "execution_count": null,
   "id": "63f00541-6375-4d66-b84d-06e7b26b6efa",
   "metadata": {
    "editable": true,
    "slideshow": {
     "slide_type": ""
    },
    "tags": []
   },
   "outputs": [],
   "source": [
    "import os\n",
    "import openeo\n",
    "import json\n",
    "import xarray\n",
    "import matplotlib.pyplot as pyplot\n",
    "\n",
    "from modules.helpers import get_access_token, load_eoepca_state, test_cell, test_results"
   ]
  },
  {
   "cell_type": "markdown",
   "id": "e8165564-bede-48ee-b81b-857dfeb85ffb",
   "metadata": {
    "editable": true,
    "slideshow": {
     "slide_type": ""
    },
    "tags": []
   },
   "source": [
    "Load `eoepca state` environment"
   ]
  },
  {
   "cell_type": "code",
   "execution_count": null,
   "id": "9138ba4e-4103-41db-a8da-1d937036d5f3",
   "metadata": {
    "editable": true,
    "slideshow": {
     "slide_type": ""
    },
    "tags": []
   },
   "outputs": [],
   "source": [
    "load_eoepca_state()"
   ]
  },
  {
   "cell_type": "code",
   "execution_count": 3,
   "id": "398ca795-5bd2-421e-90ad-860861793329",
   "metadata": {
    "editable": true,
    "slideshow": {
     "slide_type": ""
    },
    "tags": [
     "parameters"
    ]
   },
   "outputs": [],
   "source": [
    "platform_domain = os.environ.get(\"INGRESS_HOST\")\n",
    "\n",
    "openeo_backend = f\"openeo.{platform_domain}\"\n",
    "authentication_method = \"device-code-flow\" # or authorization-code\n",
    "\n",
    "username = os.environ.get(\"KEYCLOAK_TEST_USER\")\n",
    "password = os.environ.get(\"KEYCLOAK_TEST_PASSWORD\")\n",
    "client_id = os.environ.get(\"OPENEO_CLIENT_ID\")\n",
    "\n",
    "collection_id = \"TestCollection-LonLat16x16\"\n",
    "temporal_extent = \"2024-09\"\n",
    "spatial_extent = {\"west\": 3, \"south\": 51, \"east\": 5, \"north\": 53}\n",
    "\n",
    "log_output_file = \"openeo_log.json\""
   ]
  },
  {
   "cell_type": "code",
   "execution_count": 4,
   "id": "110d8c8c",
   "metadata": {},
   "outputs": [
    {
     "name": "stdout",
     "output_type": "stream",
     "text": [
      "Parameters:\n",
      "Platform domain: notebook-test.develop.eoepca.org\n",
      "OpenEO backend: openeo.notebook-test.develop.eoepca.org\n",
      "Authentication method: device-code-flow\n",
      "Collection ID: TestCollection-LonLat16x16\n",
      "Temporal extent: 2024-09\n",
      "Spatial extent: {'west': 3, 'south': 51, 'east': 5, 'north': 53}\n"
     ]
    }
   ],
   "source": [
    "print(f\"Parameters:\\n\"\n",
    "f\"Platform domain: {platform_domain}\\n\"\n",
    "f\"OpenEO backend: {openeo_backend}\\n\"\n",
    "f\"Authentication method: {authentication_method}\\n\"\n",
    "f\"Collection ID: {collection_id}\\n\"\n",
    "f\"Temporal extent: {temporal_extent}\\n\"\n",
    "f\"Spatial extent: {spatial_extent}\")"
   ]
  },
  {
   "cell_type": "markdown",
   "id": "d6517a3f-8a72-423f-a7ed-15647de94f0e",
   "metadata": {
    "editable": true,
    "slideshow": {
     "slide_type": ""
    },
    "tags": []
   },
   "source": [
    "## Connect to the openEO backend"
   ]
  },
  {
   "cell_type": "code",
   "execution_count": null,
   "id": "c99b8a38-c528-41b8-9174-03ff01ba0491",
   "metadata": {},
   "outputs": [
    {
     "data": {
      "text/html": [
       "Visit <a href=\"https://iam-auth.apx.develop.eoepca.org/realms/eoepca/device?user_code=DXTE-XHAF\" title=\"Authenticate at https://iam-auth.apx.develop.eoepca.org/realms/eoepca/device?user_code=DXTE-XHAF\" target=\"_blank\" rel=\"noopener noreferrer\">https://iam-auth.apx.develop.eoepca.org/realms/eoepca/device?user_code=DXTE-XHAF</a> <a href=\"#\" onclick=\"navigator.clipboard.writeText('https://iam-auth.apx.develop.eoepca.org/realms/eoepca/device?user_code=DXTE-XHAF');return false;\" title=\"Copy authentication URL to clipboard\">&#128203;</a> to authenticate."
      ]
     },
     "metadata": {},
     "output_type": "display_data"
    },
    {
     "data": {
      "text/html": [
       "✅ Authorized successfully"
      ]
     },
     "metadata": {},
     "output_type": "display_data"
    },
    {
     "name": "stdout",
     "output_type": "stream",
     "text": [
      "Authenticated using device code flow.\n"
     ]
    }
   ],
   "source": [
    "# authentication\n",
    "connection = openeo.connect(url=openeo_backend)\n",
    "if authentication_method == \"device-code-flow\":\n",
    "    connection.authenticate_oidc()\n",
    "elif authentication_method == \"authorization-code\":\n",
    "    access_token = get_access_token(username, password, client_id)\n",
    "    auth_token = f\"oidc/eoepca/{access_token}\"\n",
    "    connection.session.headers.update({\"Authorization\": f\"Bearer {auth_token}\"})"
   ]
  },
  {
   "cell_type": "code",
   "execution_count": 6,
   "id": "31538205-d59b-400d-a0db-027a763b577d",
   "metadata": {},
   "outputs": [
    {
     "name": "stdout",
     "output_type": "stream",
     "text": [
      "Visit this backend through Web Editor:\n",
      "https://editor.openeo.org/?server=https%3A%2F%2Fopeneo.notebook-test.develop.eoepca.org%2Fopeneo%2F1.2%2F&discover=1\n"
     ]
    }
   ],
   "source": [
    "if authentication_method == \"device-code-flow\":\n",
    "    print(\"Visit this backend through Web Editor:\\n\" + connection.web_editor(anonymous=True))"
   ]
  },
  {
   "cell_type": "markdown",
   "id": "bf9a32e4-99ab-4acc-a778-6f669c562ef3",
   "metadata": {},
   "source": [
    "## Exploration"
   ]
  },
  {
   "cell_type": "markdown",
   "id": "ae46f93d-9002-44c6-ad75-4ffa56be1e14",
   "metadata": {},
   "source": [
    "Available collections:"
   ]
  },
  {
   "cell_type": "code",
   "execution_count": 7,
   "id": "93778fb8-c167-446a-b58f-7c29260a5475",
   "metadata": {},
   "outputs": [],
   "source": [
    "# collection_exists\n",
    "available_collections = connection.list_collection_ids()\n",
    "assert collection_id in available_collections"
   ]
  },
  {
   "cell_type": "markdown",
   "id": "2418b3e2-c796-4c16-92db-36ed034df5a3",
   "metadata": {},
   "source": [
    "Available processes:"
   ]
  },
  {
   "cell_type": "code",
   "execution_count": 8,
   "id": "026f8eb1-4cad-4b3c-a594-eae993bd4ea9",
   "metadata": {},
   "outputs": [
    {
     "data": {
      "text/plain": [
       "['array_apply',\n",
       " 'arccos',\n",
       " 'arcosh',\n",
       " 'power',\n",
       " 'last',\n",
       " 'subtract',\n",
       " 'not',\n",
       " 'cosh',\n",
       " 'artanh',\n",
       " 'is_valid']"
      ]
     },
     "execution_count": 8,
     "metadata": {},
     "output_type": "execute_result"
    }
   ],
   "source": [
    "# list_processes\n",
    "[p[\"id\"] for p in connection.list_processes()[:10]]"
   ]
  },
  {
   "cell_type": "markdown",
   "id": "fa748b72-ceee-466a-9656-f6a1c8242931",
   "metadata": {},
   "source": [
    "## Simple processing"
   ]
  },
  {
   "cell_type": "code",
   "execution_count": 9,
   "id": "dff7a964-8f84-42eb-ae28-76bbd4ba858c",
   "metadata": {},
   "outputs": [],
   "source": [
    "# process_execution\n",
    "process_graph = {\n",
    "    \"add\": {\n",
    "        \"process_id\": \"add\",\n",
    "        \"arguments\": {\"x\": 3, \"y\": 5},\n",
    "        \"result\": True,\n",
    "    },\n",
    "}\n",
    "\n",
    "result = connection.execute(process_graph)"
   ]
  },
  {
   "cell_type": "markdown",
   "id": "aa585244-0ea0-457a-84d3-aa8bf3617a17",
   "metadata": {},
   "source": [
    "## Raster processing"
   ]
  },
  {
   "cell_type": "markdown",
   "id": "5a3ae39e-211d-4f59-ba7e-b9ff034fd488",
   "metadata": {},
   "source": [
    "Raster processing with built-in dummy collection (which does not require direct access to actual EO data)."
   ]
  },
  {
   "cell_type": "code",
   "execution_count": 13,
   "id": "1159098e-d7d4-4e34-893b-f2bdb1fb4687",
   "metadata": {},
   "outputs": [],
   "source": [
    "# data_loading\n",
    "cube = connection.load_collection(\n",
    "    collection_id=collection_id,\n",
    "    temporal_extent=temporal_extent,\n",
    "    spatial_extent=spatial_extent,\n",
    "    bands=[\"Longitude\", \"Latitude\", \"Day\"],\n",
    ")"
   ]
  },
  {
   "cell_type": "code",
   "execution_count": 14,
   "id": "3a63fd41-10bc-4f42-975c-163b29354681",
   "metadata": {},
   "outputs": [
    {
     "name": "stdout",
     "output_type": "stream",
     "text": [
      "CPU times: user 3.16 ms, sys: 2.65 ms, total: 5.81 ms\n",
      "Wall time: 705 ms\n"
     ]
    }
   ],
   "source": [
    "%%time\n",
    "cube.download(\"openeo-lonlat1616.nc\")"
   ]
  },
  {
   "cell_type": "markdown",
   "id": "080b9069-9edd-49ea-bba5-56e04dd7f6b5",
   "metadata": {},
   "source": [
    "Inspect downloaded results:"
   ]
  },
  {
   "cell_type": "code",
   "execution_count": 15,
   "id": "b1a7ab23-793f-4402-91b3-f0f0ffc0e8b4",
   "metadata": {},
   "outputs": [],
   "source": [
    "# raster_download\n",
    "ds = xarray.load_dataset(\"openeo-lonlat1616.nc\")\n",
    "ds;\n"
   ]
  },
  {
   "cell_type": "code",
   "execution_count": 16,
   "id": "03d4e1c0-455b-402e-a065-aa83dc4c2a96",
   "metadata": {},
   "outputs": [
    {
     "data": {
      "image/png": "[encoded data removed]",
      "text/plain": [
       "<Figure size 504x216 with 4 Axes>"
      ]
     },
     "metadata": {},
     "output_type": "display_data"
    }
   ],
   "source": [
    "fig, axes = pyplot.subplots(ncols=2, figsize=(7, 3), dpi=72, sharey=True)\n",
    "\n",
    "ds[\"Longitude\"].isel(t=0).plot.imshow(ax=axes[0])\n",
    "ds[\"Latitude\"].isel(t=0).plot.imshow(ax=axes[1]);"
   ]
  },
  {
   "cell_type": "markdown",
   "id": "4cbe2d04-0f0b-495f-812c-63d311e19365",
   "metadata": {},
   "source": [
    "## Real raster processing with `load_stac`"
   ]
  },
  {
   "cell_type": "markdown",
   "id": "e80c5de6-e4a3-4c46-a62b-6c197e53b0e5",
   "metadata": {},
   "source": [
    "`load_stac` is an standard openEO process that allows to load EO data that is hosted externally through the STAC standard."
   ]
  },
  {
   "cell_type": "code",
   "execution_count": 17,
   "id": "59d86a19-d795-49fd-8d04-9d8fdab3bc6d",
   "metadata": {},
   "outputs": [],
   "source": [
    "# raster_open\n",
    "stac_url = \"https://raw.githubusercontent.com/Open-EO/openeo-geopyspark-driver/refs/heads/master/docker/local_batch_job/example_stac_catalog/collection.json\"\n",
    "\n",
    "cube = connection.load_stac(\n",
    "    url=stac_url,\n",
    "    temporal_extent=[\"2023-06-01\", \"2023-06-09\"],\n",
    "    spatial_extent={\"west\": 5.07, \"south\": 51.215, \"east\": 5.08, \"north\": 51.22},\n",
    "    bands=[\"B04\", \"B03\", \"B02\"],\n",
    ")"
   ]
  },
  {
   "cell_type": "markdown",
   "id": "b640b513-71f2-4abb-834c-1737a43fe649",
   "metadata": {},
   "source": [
    "Simple \"band math\" based processing, to calculate some NDVI-like index:"
   ]
  },
  {
   "cell_type": "code",
   "execution_count": 18,
   "id": "b2f0f69a-5642-485d-905a-9e0dd7eea3e5",
   "metadata": {},
   "outputs": [],
   "source": [
    "# band_math\n",
    "b04 = cube.band(\"B04\")\n",
    "b02 = cube.band(\"B02\")\n",
    "n42 = (b04 - b02) / (b04 + b02)"
   ]
  },
  {
   "cell_type": "markdown",
   "id": "282c18dc-4714-417c-96f7-8f1fef7430d4",
   "metadata": {},
   "source": [
    "Trigger processing and download result synchronously:"
   ]
  },
  {
   "cell_type": "code",
   "execution_count": null,
   "id": "b98d3891-1dfb-4ca0-b37c-90c437ed1bfb",
   "metadata": {},
   "outputs": [
    {
     "name": "stderr",
     "output_type": "stream",
     "text": [
      "UsageError: Line magic function `%%time` not found.\n"
     ]
    }
   ],
   "source": [
    "# nc_download\n",
    "n42.download(\"openeo-load_stac-n42-sync.nc\")"
   ]
  },
  {
   "cell_type": "markdown",
   "id": "42e08bc6-449d-4c6a-b373-dfaa043c7192",
   "metadata": {},
   "source": [
    "Inspect result:"
   ]
  },
  {
   "cell_type": "code",
   "execution_count": null,
   "id": "df7d83d7-ee4f-434e-a993-fd5c3759a5b8",
   "metadata": {},
   "outputs": [
    {
     "name": "stdout",
     "output_type": "stream",
     "text": [
      "Dataset: <xarray.Dataset> Size: 52kB\n",
      "Dimensions:  (t: 3, x: 73, y: 58)\n",
      "Coordinates:\n",
      "  * t        (t) datetime64[ns] 24B 2023-06-01 2023-06-04 2023-06-06\n",
      "  * x        (x) float64 584B 6.446e+05 6.446e+05 ... 6.453e+05 6.453e+05\n",
      "  * y        (y) float64 464B 5.676e+06 5.676e+06 ... 5.676e+06 5.676e+06\n",
      "Data variables:\n",
      "    crs      |S1 1B b''\n",
      "    var      (t, y, x) float32 51kB 0.2153 0.2179 0.227 ... -0.03759 -0.1307\n",
      "Attributes:\n",
      "    Conventions:  CF-1.9\n",
      "    institution:  openEO platform\n"
     ]
    }
   ],
   "source": [
    "# xarray_load_dataset\n",
    "ds = xarray.load_dataset(\"openeo-load_stac-n42-sync.nc\")\n",
    "ds;"
   ]
  },
  {
   "cell_type": "code",
   "execution_count": null,
   "id": "b93d9b22-844c-456b-90c3-c71a8bc0954e",
   "metadata": {},
   "outputs": [
    {
     "data": {
      "image/png": "[encoded data removed]",
      "text/plain": [
       "<Figure size 375x375 with 2 Axes>"
      ]
     },
     "metadata": {},
     "output_type": "display_data"
    }
   ],
   "source": [
    "# plot_figure\n",
    "fig, ax = pyplot.subplots(dpi=75, figsize=(5, 5))\n",
    "# purposefully fail, divide by 0\n",
    "# will_fail = 1 / 0\n",
    "\n",
    "ds[\"var\"].isel(t=0).plot.imshow(ax=ax, cmap=\"viridis\");"
   ]
  },
  {
   "cell_type": "code",
   "execution_count": null,
   "id": "ef7d669d-0d56-4b09-9aed-11ff8f462d74",
   "metadata": {},
   "outputs": [],
   "source": [
    "for test, result in test_results.items():\n",
    "    print(f\"{test}: {result['status']} - {result['message']}\")\n",
    "json.dump(test_results, open(log_output_file, \"w\"), indent=2)"
   ]
  }
 ],
 "metadata": {
  "kernelspec": {
   "display_name": "venv",
   "language": "python",
   "name": "python3"
  },
  "language_info": {
   "codemirror_mode": {
    "name": "ipython",
    "version": 3
   },
   "file_extension": ".py",
   "mimetype": "text/x-python",
   "name": "python",
   "nbconvert_exporter": "python",
   "pygments_lexer": "ipython3",
   "version": "3.10.12"
  }
 },
 "nbformat": 4,
 "nbformat_minor": 5
}
