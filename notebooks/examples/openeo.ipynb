{
 "cells": [
  {
   "cell_type": "markdown",
   "id": "24313300-0027-4d0d-8635-a1d67f3bc0ea",
   "metadata": {},
   "source": [
    "# openEO Deployment Validation"
   ]
  },
  {
   "cell_type": "markdown",
   "id": "fd364dc8-1b01-4a4c-abd5-185081cb3641",
   "metadata": {},
   "source": [
    "## Setup"
   ]
  },
  {
   "cell_type": "code",
   "execution_count": null,
   "id": "72b1cb8f-f3af-4523-9b0d-20ad647c89e3",
   "metadata": {},
   "outputs": [],
   "source": [
    "import openeo\n",
    "import xarray\n",
    "import matplotlib.pyplot as pyplot"
   ]
  },
  {
   "cell_type": "markdown",
   "id": "d6517a3f-8a72-423f-a7ed-15647de94f0e",
   "metadata": {},
   "source": [
    "## Connect to the openEO backend"
   ]
  },
  {
   "cell_type": "code",
   "execution_count": null,
   "id": "c99b8a38-c528-41b8-9174-03ff01ba0491",
   "metadata": {},
   "outputs": [],
   "source": [
    "connection = openeo.connect(\n",
    "    url=\"openeo.test.eoepca.org\",\n",
    ")\n",
    "connection.authenticate_oidc();"
   ]
  },
  {
   "cell_type": "code",
   "execution_count": null,
   "id": "31538205-d59b-400d-a0db-027a763b577d",
   "metadata": {},
   "outputs": [],
   "source": [
    "print(\"Visit this backend through Web Editor:\\n\" + connection.web_editor(anonymous=True))"
   ]
  },
  {
   "cell_type": "markdown",
   "id": "bf9a32e4-99ab-4acc-a778-6f669c562ef3",
   "metadata": {},
   "source": [
    "## Exploration"
   ]
  },
  {
   "cell_type": "markdown",
   "id": "ae46f93d-9002-44c6-ad75-4ffa56be1e14",
   "metadata": {},
   "source": [
    "Available collections:"
   ]
  },
  {
   "cell_type": "code",
   "execution_count": null,
   "id": "93778fb8-c167-446a-b58f-7c29260a5475",
   "metadata": {},
   "outputs": [],
   "source": [
    "connection.list_collection_ids()[:10]"
   ]
  },
  {
   "cell_type": "markdown",
   "id": "2418b3e2-c796-4c16-92db-36ed034df5a3",
   "metadata": {},
   "source": [
    "Available processes:"
   ]
  },
  {
   "cell_type": "code",
   "execution_count": null,
   "id": "026f8eb1-4cad-4b3c-a594-eae993bd4ea9",
   "metadata": {},
   "outputs": [],
   "source": [
    "[p[\"id\"] for p in connection.list_processes()[:10]]"
   ]
  },
  {
   "cell_type": "markdown",
   "id": "fa748b72-ceee-466a-9656-f6a1c8242931",
   "metadata": {},
   "source": [
    "## Simple processing"
   ]
  },
  {
   "cell_type": "code",
   "execution_count": null,
   "id": "dff7a964-8f84-42eb-ae28-76bbd4ba858c",
   "metadata": {},
   "outputs": [],
   "source": [
    "process_graph = {\n",
    "    \"add\": {\n",
    "        \"process_id\": \"add\",\n",
    "        \"arguments\": {\"x\": 3, \"y\": 5},\n",
    "        \"result\": True,\n",
    "    },\n",
    "}\n",
    "connection.execute(process_graph)"
   ]
  },
  {
   "cell_type": "markdown",
   "id": "aa585244-0ea0-457a-84d3-aa8bf3617a17",
   "metadata": {},
   "source": [
    "## Raster processing"
   ]
  },
  {
   "cell_type": "markdown",
   "id": "5a3ae39e-211d-4f59-ba7e-b9ff034fd488",
   "metadata": {},
   "source": [
    "Raster processing with built-in dummy collection (which does not require direct access to actual EO data)."
   ]
  },
  {
   "cell_type": "code",
   "execution_count": null,
   "id": "1159098e-d7d4-4e34-893b-f2bdb1fb4687",
   "metadata": {},
   "outputs": [],
   "source": [
    "cube = connection.load_collection(\n",
    "    \"TestCollection-LonLat16x16\",\n",
    "    temporal_extent=\"2024-09\",\n",
    "    spatial_extent={\"west\": 3, \"south\": 51, \"east\": 5, \"north\": 53},\n",
    "    bands=[\"Longitude\", \"Latitude\", \"Day\"],\n",
    ")"
   ]
  },
  {
   "cell_type": "code",
   "execution_count": null,
   "id": "3a63fd41-10bc-4f42-975c-163b29354681",
   "metadata": {},
   "outputs": [],
   "source": [
    "%%time\n",
    "cube.download(\"openeo-lonlat1616.nc\")"
   ]
  },
  {
   "cell_type": "markdown",
   "id": "080b9069-9edd-49ea-bba5-56e04dd7f6b5",
   "metadata": {},
   "source": [
    "Inspect downloaded results:"
   ]
  },
  {
   "cell_type": "code",
   "execution_count": null,
   "id": "b1a7ab23-793f-4402-91b3-f0f0ffc0e8b4",
   "metadata": {},
   "outputs": [],
   "source": [
    "ds = xarray.load_dataset(\"openeo-lonlat1616.nc\")\n",
    "ds;"
   ]
  },
  {
   "cell_type": "code",
   "execution_count": null,
   "id": "03d4e1c0-455b-402e-a065-aa83dc4c2a96",
   "metadata": {},
   "outputs": [],
   "source": [
    "fig, axes = pyplot.subplots(ncols=2, figsize=(7, 3), dpi=75, sharey=True)\n",
    "\n",
    "ds[\"Longitude\"].isel(t=0).plot.imshow(ax=axes[0])\n",
    "ds[\"Latitude\"].isel(t=0).plot.imshow(ax=axes[1]);"
   ]
  },
  {
   "cell_type": "markdown",
   "id": "4cbe2d04-0f0b-495f-812c-63d311e19365",
   "metadata": {},
   "source": [
    "## Real raster processing with `load_stac`"
   ]
  },
  {
   "cell_type": "markdown",
   "id": "e80c5de6-e4a3-4c46-a62b-6c197e53b0e5",
   "metadata": {},
   "source": [
    "`load_stac` is an standard openEO process that allows to load EO data that is hosted externally through the STAC standard."
   ]
  },
  {
   "cell_type": "code",
   "execution_count": null,
   "id": "59d86a19-d795-49fd-8d04-9d8fdab3bc6d",
   "metadata": {},
   "outputs": [],
   "source": [
    "stac_url = \"https://raw.githubusercontent.com/Open-EO/openeo-geopyspark-driver/refs/heads/master/docker/local_batch_job/example_stac_catalog/collection.json\"\n",
    "\n",
    "cube = connection.load_stac(\n",
    "    url=stac_url,\n",
    "    temporal_extent=[\"2023-06-01\", \"2023-06-09\"],\n",
    "    spatial_extent={\"west\": 5.07, \"south\": 51.215, \"east\": 5.08, \"north\": 51.22},\n",
    "    bands=[\"B04\", \"B03\", \"B02\"],\n",
    ")"
   ]
  },
  {
   "cell_type": "markdown",
   "id": "b640b513-71f2-4abb-834c-1737a43fe649",
   "metadata": {},
   "source": [
    "Simple \"band math\" based processing, to calculate some NDVI-like index:"
   ]
  },
  {
   "cell_type": "code",
   "execution_count": null,
   "id": "b2f0f69a-5642-485d-905a-9e0dd7eea3e5",
   "metadata": {},
   "outputs": [],
   "source": [
    "b04 = cube.band(\"B04\")\n",
    "b02 = cube.band(\"B02\")\n",
    "n42 = (b04 - b02) / (b04 + b02)"
   ]
  },
  {
   "cell_type": "markdown",
   "id": "282c18dc-4714-417c-96f7-8f1fef7430d4",
   "metadata": {},
   "source": [
    "Trigger processing and download result synchronously:"
   ]
  },
  {
   "cell_type": "code",
   "execution_count": null,
   "id": "b98d3891-1dfb-4ca0-b37c-90c437ed1bfb",
   "metadata": {},
   "outputs": [],
   "source": [
    "%%time\n",
    "n42.download(\"openeo-load_stac-n42-sync.nc\")"
   ]
  },
  {
   "cell_type": "markdown",
   "id": "42e08bc6-449d-4c6a-b373-dfaa043c7192",
   "metadata": {},
   "source": [
    "Inspect result:"
   ]
  },
  {
   "cell_type": "code",
   "execution_count": null,
   "id": "df7d83d7-ee4f-434e-a993-fd5c3759a5b8",
   "metadata": {},
   "outputs": [],
   "source": [
    "ds = xarray.load_dataset(\"openeo-load_stac-n42-sync.nc\")\n",
    "ds;"
   ]
  },
  {
   "cell_type": "code",
   "execution_count": null,
   "id": "b93d9b22-844c-456b-90c3-c71a8bc0954e",
   "metadata": {},
   "outputs": [],
   "source": [
    "fig, ax = pyplot.subplots(dpi=75, figsize=(5, 5))\n",
    "ds[\"var\"].isel(t=0).plot.imshow(ax=ax, cmap=\"viridis\");"
   ]
  }
 ],
 "metadata": {
  "kernelspec": {
   "display_name": "Python 3 (ipykernel)",
   "language": "python",
   "name": "python3"
  },
  "language_info": {
   "codemirror_mode": {
    "name": "ipython",
    "version": 3
   },
   "file_extension": ".py",
   "mimetype": "text/x-python",
   "name": "python",
   "nbconvert_exporter": "python",
   "pygments_lexer": "ipython3",
   "version": "3.12.9"
  }
 },
 "nbformat": 4,
 "nbformat_minor": 5
}
